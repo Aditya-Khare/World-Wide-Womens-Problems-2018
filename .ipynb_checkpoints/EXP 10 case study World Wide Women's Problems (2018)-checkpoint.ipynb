{
 "cells": [
  {
   "cell_type": "code",
   "execution_count": 1,
   "metadata": {},
   "outputs": [],
   "source": [
    "# World Wide Women's Problems\n",
    "# In this we will investigate women's problems using Human Freedom Index dataset.\n",
    "\n",
    "# Human Freedom Index dataset is about: \n",
    "# \"A central purpose of The Human Freedom Index is to paint a broad but reasonably accurate picture of the extent of \n",
    "# overall freedom in the world. A larger purpose is to more carefully explore what we mean by freedom \n",
    "# and to better understand its relationship to any number of other social and economic phenomena.\"\n",
    "\n",
    "# From the dataset we will focus on women related datas related to countries and regions;\n",
    "# * Missing women,\n",
    "# * Inheritance rights,\n",
    "# * Women's security,\n",
    "# * Overall security and safety,\n",
    "# * Freedom of movement,\n",
    "# * Freedom of religion,\n",
    "# * Rule of Law,\n",
    "# * Economic freedom.\n",
    "\n",
    "# we will execute this from the dataset for the year 2018."
   ]
  },
  {
   "cell_type": "code",
   "execution_count": 2,
   "metadata": {},
   "outputs": [
    {
     "name": "stdout",
     "output_type": "stream",
     "text": [
      "Collecting wordcloud\n",
      "  Downloading https://files.pythonhosted.org/packages/a7/f0/f7384c323c1fc7149573455f9633ef063c7b4d85c64d419b711bbca9ed29/wordcloud-1.8.1-cp37-cp37m-win_amd64.whl (154kB)\n",
      "Requirement already satisfied: numpy>=1.6.1 in d:\\anaconda_folder\\lib\\site-packages (from wordcloud) (1.19.4)\n",
      "Requirement already satisfied: pillow in d:\\anaconda_folder\\lib\\site-packages (from wordcloud) (6.2.0)\n",
      "Requirement already satisfied: matplotlib in d:\\anaconda_folder\\lib\\site-packages (from wordcloud) (3.1.1)\n",
      "Requirement already satisfied: cycler>=0.10 in d:\\anaconda_folder\\lib\\site-packages (from matplotlib->wordcloud) (0.10.0)\n",
      "Requirement already satisfied: kiwisolver>=1.0.1 in d:\\anaconda_folder\\lib\\site-packages (from matplotlib->wordcloud) (1.1.0)\n",
      "Requirement already satisfied: pyparsing!=2.0.4,!=2.1.2,!=2.1.6,>=2.0.1 in d:\\anaconda_folder\\lib\\site-packages (from matplotlib->wordcloud) (2.4.2)\n",
      "Requirement already satisfied: python-dateutil>=2.1 in d:\\anaconda_folder\\lib\\site-packages (from matplotlib->wordcloud) (2.8.0)\n",
      "Requirement already satisfied: six in d:\\anaconda_folder\\lib\\site-packages (from cycler>=0.10->matplotlib->wordcloud) (1.15.0)\n",
      "Requirement already satisfied: setuptools in d:\\anaconda_folder\\lib\\site-packages (from kiwisolver>=1.0.1->matplotlib->wordcloud) (41.4.0)\n",
      "Installing collected packages: wordcloud\n",
      "Successfully installed wordcloud-1.8.1\n",
      "Note: you may need to restart the kernel to use updated packages.\n"
     ]
    }
   ],
   "source": [
    "pip install wordcloud"
   ]
  },
  {
   "cell_type": "code",
   "execution_count": 3,
   "metadata": {},
   "outputs": [
    {
     "data": {
      "text/html": [
       "        <script type=\"text/javascript\">\n",
       "        window.PlotlyConfig = {MathJaxConfig: 'local'};\n",
       "        if (window.MathJax) {MathJax.Hub.Config({SVG: {font: \"STIX-Web\"}});}\n",
       "        if (typeof require !== 'undefined') {\n",
       "        require.undef(\"plotly\");\n",
       "        requirejs.config({\n",
       "            paths: {\n",
       "                'plotly': ['https://cdn.plot.ly/plotly-latest.min']\n",
       "            }\n",
       "        });\n",
       "        require(['plotly'], function(Plotly) {\n",
       "            window._Plotly = Plotly;\n",
       "        });\n",
       "        }\n",
       "        </script>\n",
       "        "
      ]
     },
     "metadata": {},
     "output_type": "display_data"
    }
   ],
   "source": [
    "# This Python 3 environment comes with many helpful analytics libraries installed\n",
    "\n",
    "import numpy as np # linear algebra\n",
    "import pandas as pd # data processing, CSV file I/O (e.g. pd.read_csv)\n",
    "import matplotlib.pyplot as plt\n",
    "%matplotlib inline\n",
    "import plotly.offline as py\n",
    "\n",
    "import plotly.offline as py\n",
    "py.init_notebook_mode(connected=True)\n",
    "import plotly.graph_objs as go\n",
    "import plotly.tools as tls\n",
    "# word cloud library\n",
    "from wordcloud import WordCloud\n",
    "\n",
    "pd.options.mode.chained_assignment = None\n",
    "pd.options.display.max_columns = 999\n",
    "\n",
    "import os\n",
    "\n",
    "# Any results you write to the current directory are saved as output."
   ]
  },
  {
   "cell_type": "code",
   "execution_count": 4,
   "metadata": {},
   "outputs": [
    {
     "data": {
      "text/html": [
       "<div>\n",
       "<style scoped>\n",
       "    .dataframe tbody tr th:only-of-type {\n",
       "        vertical-align: middle;\n",
       "    }\n",
       "\n",
       "    .dataframe tbody tr th {\n",
       "        vertical-align: top;\n",
       "    }\n",
       "\n",
       "    .dataframe thead th {\n",
       "        text-align: right;\n",
       "    }\n",
       "</style>\n",
       "<table border=\"1\" class=\"dataframe\">\n",
       "  <thead>\n",
       "    <tr style=\"text-align: right;\">\n",
       "      <th></th>\n",
       "      <th>year</th>\n",
       "      <th>ISO_code</th>\n",
       "      <th>countries</th>\n",
       "      <th>region</th>\n",
       "      <th>pf_rol_procedural</th>\n",
       "      <th>pf_rol_civil</th>\n",
       "      <th>pf_rol_criminal</th>\n",
       "      <th>pf_rol</th>\n",
       "      <th>pf_ss_homicide</th>\n",
       "      <th>pf_ss_disappearances_disap</th>\n",
       "      <th>pf_ss_disappearances_violent</th>\n",
       "      <th>pf_ss_disappearances_organized</th>\n",
       "      <th>pf_ss_disappearances_fatalities</th>\n",
       "      <th>pf_ss_disappearances_injuries</th>\n",
       "      <th>pf_ss_disappearances</th>\n",
       "      <th>pf_ss_women_fgm</th>\n",
       "      <th>pf_ss_women_missing</th>\n",
       "      <th>pf_ss_women_inheritance_widows</th>\n",
       "      <th>pf_ss_women_inheritance_daughters</th>\n",
       "      <th>pf_ss_women_inheritance</th>\n",
       "      <th>pf_ss_women</th>\n",
       "      <th>pf_ss</th>\n",
       "      <th>pf_movement_domestic</th>\n",
       "      <th>pf_movement_foreign</th>\n",
       "      <th>pf_movement_women</th>\n",
       "      <th>pf_movement</th>\n",
       "      <th>pf_religion_estop_establish</th>\n",
       "      <th>pf_religion_estop_operate</th>\n",
       "      <th>pf_religion_estop</th>\n",
       "      <th>pf_religion_harassment</th>\n",
       "      <th>pf_religion_restrictions</th>\n",
       "      <th>pf_religion</th>\n",
       "      <th>pf_association_association</th>\n",
       "      <th>pf_association_assembly</th>\n",
       "      <th>pf_association_political_establish</th>\n",
       "      <th>pf_association_political_operate</th>\n",
       "      <th>pf_association_political</th>\n",
       "      <th>pf_association_prof_establish</th>\n",
       "      <th>pf_association_prof_operate</th>\n",
       "      <th>pf_association_prof</th>\n",
       "      <th>pf_association_sport_establish</th>\n",
       "      <th>pf_association_sport_operate</th>\n",
       "      <th>pf_association_sport</th>\n",
       "      <th>pf_association</th>\n",
       "      <th>pf_expression_killed</th>\n",
       "      <th>pf_expression_jailed</th>\n",
       "      <th>pf_expression_influence</th>\n",
       "      <th>pf_expression_control</th>\n",
       "      <th>pf_expression_cable</th>\n",
       "      <th>pf_expression_newspapers</th>\n",
       "      <th>pf_expression_internet</th>\n",
       "      <th>pf_expression</th>\n",
       "      <th>pf_identity_legal</th>\n",
       "      <th>pf_identity_parental_marriage</th>\n",
       "      <th>pf_identity_parental_divorce</th>\n",
       "      <th>pf_identity_parental</th>\n",
       "      <th>pf_identity_sex_male</th>\n",
       "      <th>pf_identity_sex_female</th>\n",
       "      <th>pf_identity_sex</th>\n",
       "      <th>pf_identity_divorce</th>\n",
       "      <th>pf_identity</th>\n",
       "      <th>pf_score</th>\n",
       "      <th>pf_rank</th>\n",
       "      <th>ef_government_consumption</th>\n",
       "      <th>ef_government_transfers</th>\n",
       "      <th>ef_government_enterprises</th>\n",
       "      <th>ef_government_tax_income</th>\n",
       "      <th>ef_government_tax_payroll</th>\n",
       "      <th>ef_government_tax</th>\n",
       "      <th>ef_government</th>\n",
       "      <th>ef_legal_judicial</th>\n",
       "      <th>ef_legal_courts</th>\n",
       "      <th>ef_legal_protection</th>\n",
       "      <th>ef_legal_military</th>\n",
       "      <th>ef_legal_integrity</th>\n",
       "      <th>ef_legal_enforcement</th>\n",
       "      <th>ef_legal_restrictions</th>\n",
       "      <th>ef_legal_police</th>\n",
       "      <th>ef_legal_crime</th>\n",
       "      <th>ef_legal_gender</th>\n",
       "      <th>ef_legal</th>\n",
       "      <th>ef_money_growth</th>\n",
       "      <th>ef_money_sd</th>\n",
       "      <th>ef_money_inflation</th>\n",
       "      <th>ef_money_currency</th>\n",
       "      <th>ef_money</th>\n",
       "      <th>ef_trade_tariffs_revenue</th>\n",
       "      <th>ef_trade_tariffs_mean</th>\n",
       "      <th>ef_trade_tariffs_sd</th>\n",
       "      <th>ef_trade_tariffs</th>\n",
       "      <th>ef_trade_regulatory_nontariff</th>\n",
       "      <th>ef_trade_regulatory_compliance</th>\n",
       "      <th>ef_trade_regulatory</th>\n",
       "      <th>ef_trade_black</th>\n",
       "      <th>ef_trade_movement_foreign</th>\n",
       "      <th>ef_trade_movement_capital</th>\n",
       "      <th>ef_trade_movement_visit</th>\n",
       "      <th>ef_trade_movement</th>\n",
       "      <th>ef_trade</th>\n",
       "      <th>ef_regulation_credit_ownership</th>\n",
       "      <th>ef_regulation_credit_private</th>\n",
       "      <th>ef_regulation_credit_interest</th>\n",
       "      <th>ef_regulation_credit</th>\n",
       "      <th>ef_regulation_labor_minwage</th>\n",
       "      <th>ef_regulation_labor_firing</th>\n",
       "      <th>ef_regulation_labor_bargain</th>\n",
       "      <th>ef_regulation_labor_hours</th>\n",
       "      <th>ef_regulation_labor_dismissal</th>\n",
       "      <th>ef_regulation_labor_conscription</th>\n",
       "      <th>ef_regulation_labor</th>\n",
       "      <th>ef_regulation_business_adm</th>\n",
       "      <th>ef_regulation_business_bureaucracy</th>\n",
       "      <th>ef_regulation_business_start</th>\n",
       "      <th>ef_regulation_business_bribes</th>\n",
       "      <th>ef_regulation_business_licensing</th>\n",
       "      <th>ef_regulation_business_compliance</th>\n",
       "      <th>ef_regulation_business</th>\n",
       "      <th>ef_regulation</th>\n",
       "      <th>ef_score</th>\n",
       "      <th>ef_rank</th>\n",
       "      <th>hf_score</th>\n",
       "      <th>hf_rank</th>\n",
       "      <th>hf_quartile</th>\n",
       "    </tr>\n",
       "  </thead>\n",
       "  <tbody>\n",
       "    <tr>\n",
       "      <td>0</td>\n",
       "      <td>2016</td>\n",
       "      <td>ALB</td>\n",
       "      <td>Albania</td>\n",
       "      <td>Eastern Europe</td>\n",
       "      <td>6.661503</td>\n",
       "      <td>4.547244</td>\n",
       "      <td>4.666508</td>\n",
       "      <td>5.291752</td>\n",
       "      <td>8.920429</td>\n",
       "      <td>10.0</td>\n",
       "      <td>10.00000</td>\n",
       "      <td>10.0</td>\n",
       "      <td>10.000000</td>\n",
       "      <td>10.000000</td>\n",
       "      <td>10.000000</td>\n",
       "      <td>10.0</td>\n",
       "      <td>7.5</td>\n",
       "      <td>5.0</td>\n",
       "      <td>5.0</td>\n",
       "      <td>5.0</td>\n",
       "      <td>7.500000</td>\n",
       "      <td>8.806810</td>\n",
       "      <td>5.0</td>\n",
       "      <td>10.0</td>\n",
       "      <td>5.0</td>\n",
       "      <td>6.666667</td>\n",
       "      <td>NaN</td>\n",
       "      <td>NaN</td>\n",
       "      <td>10.0</td>\n",
       "      <td>9.566667</td>\n",
       "      <td>8.011111</td>\n",
       "      <td>9.192593</td>\n",
       "      <td>10.0</td>\n",
       "      <td>10.0</td>\n",
       "      <td>NaN</td>\n",
       "      <td>NaN</td>\n",
       "      <td>10.0</td>\n",
       "      <td>NaN</td>\n",
       "      <td>NaN</td>\n",
       "      <td>10.0</td>\n",
       "      <td>NaN</td>\n",
       "      <td>NaN</td>\n",
       "      <td>10.0</td>\n",
       "      <td>10.0</td>\n",
       "      <td>10.0</td>\n",
       "      <td>10.0</td>\n",
       "      <td>5.000000</td>\n",
       "      <td>5.25</td>\n",
       "      <td>10.0</td>\n",
       "      <td>10.0</td>\n",
       "      <td>10.0</td>\n",
       "      <td>8.607143</td>\n",
       "      <td>0.0</td>\n",
       "      <td>10.0</td>\n",
       "      <td>10.0</td>\n",
       "      <td>10.0</td>\n",
       "      <td>10.0</td>\n",
       "      <td>10.0</td>\n",
       "      <td>10.0</td>\n",
       "      <td>5.0</td>\n",
       "      <td>6.250000</td>\n",
       "      <td>7.596281</td>\n",
       "      <td>57.0</td>\n",
       "      <td>8.232353</td>\n",
       "      <td>7.509902</td>\n",
       "      <td>8.0</td>\n",
       "      <td>9.0</td>\n",
       "      <td>7.0</td>\n",
       "      <td>8.0</td>\n",
       "      <td>7.935564</td>\n",
       "      <td>2.668222</td>\n",
       "      <td>3.145462</td>\n",
       "      <td>4.512228</td>\n",
       "      <td>8.333333</td>\n",
       "      <td>4.166667</td>\n",
       "      <td>4.387444</td>\n",
       "      <td>6.485287</td>\n",
       "      <td>6.933500</td>\n",
       "      <td>6.215401</td>\n",
       "      <td>0.948718</td>\n",
       "      <td>5.071814</td>\n",
       "      <td>8.986454</td>\n",
       "      <td>9.484575</td>\n",
       "      <td>9.74360</td>\n",
       "      <td>10.0</td>\n",
       "      <td>9.553657</td>\n",
       "      <td>9.626667</td>\n",
       "      <td>9.24</td>\n",
       "      <td>8.0240</td>\n",
       "      <td>8.963556</td>\n",
       "      <td>5.574481</td>\n",
       "      <td>9.405328</td>\n",
       "      <td>7.489905</td>\n",
       "      <td>10.00000</td>\n",
       "      <td>6.306106</td>\n",
       "      <td>4.615385</td>\n",
       "      <td>8.296923</td>\n",
       "      <td>6.406138</td>\n",
       "      <td>8.214900</td>\n",
       "      <td>5.0</td>\n",
       "      <td>7.295687</td>\n",
       "      <td>9.0</td>\n",
       "      <td>7.098562</td>\n",
       "      <td>5.566667</td>\n",
       "      <td>5.396399</td>\n",
       "      <td>6.234861</td>\n",
       "      <td>8.0</td>\n",
       "      <td>6.299741</td>\n",
       "      <td>10.0</td>\n",
       "      <td>6.916278</td>\n",
       "      <td>6.072172</td>\n",
       "      <td>6.000000</td>\n",
       "      <td>9.713864</td>\n",
       "      <td>4.050196</td>\n",
       "      <td>7.324582</td>\n",
       "      <td>7.074366</td>\n",
       "      <td>6.705863</td>\n",
       "      <td>6.906901</td>\n",
       "      <td>7.54</td>\n",
       "      <td>34.0</td>\n",
       "      <td>7.568140</td>\n",
       "      <td>48.0</td>\n",
       "      <td>2.0</td>\n",
       "    </tr>\n",
       "    <tr>\n",
       "      <td>1</td>\n",
       "      <td>2016</td>\n",
       "      <td>DZA</td>\n",
       "      <td>Algeria</td>\n",
       "      <td>Middle East &amp; North Africa</td>\n",
       "      <td>NaN</td>\n",
       "      <td>NaN</td>\n",
       "      <td>NaN</td>\n",
       "      <td>3.819566</td>\n",
       "      <td>9.456254</td>\n",
       "      <td>10.0</td>\n",
       "      <td>9.29403</td>\n",
       "      <td>5.0</td>\n",
       "      <td>9.926119</td>\n",
       "      <td>9.990149</td>\n",
       "      <td>8.842060</td>\n",
       "      <td>10.0</td>\n",
       "      <td>7.5</td>\n",
       "      <td>0.0</td>\n",
       "      <td>0.0</td>\n",
       "      <td>0.0</td>\n",
       "      <td>5.833333</td>\n",
       "      <td>8.043882</td>\n",
       "      <td>5.0</td>\n",
       "      <td>5.0</td>\n",
       "      <td>5.0</td>\n",
       "      <td>5.000000</td>\n",
       "      <td>NaN</td>\n",
       "      <td>NaN</td>\n",
       "      <td>5.0</td>\n",
       "      <td>6.873333</td>\n",
       "      <td>2.961111</td>\n",
       "      <td>4.944815</td>\n",
       "      <td>5.0</td>\n",
       "      <td>5.0</td>\n",
       "      <td>NaN</td>\n",
       "      <td>NaN</td>\n",
       "      <td>5.0</td>\n",
       "      <td>NaN</td>\n",
       "      <td>NaN</td>\n",
       "      <td>5.0</td>\n",
       "      <td>NaN</td>\n",
       "      <td>NaN</td>\n",
       "      <td>5.0</td>\n",
       "      <td>5.0</td>\n",
       "      <td>10.0</td>\n",
       "      <td>10.0</td>\n",
       "      <td>2.666667</td>\n",
       "      <td>4.00</td>\n",
       "      <td>10.0</td>\n",
       "      <td>7.5</td>\n",
       "      <td>7.5</td>\n",
       "      <td>7.380952</td>\n",
       "      <td>NaN</td>\n",
       "      <td>0.0</td>\n",
       "      <td>5.0</td>\n",
       "      <td>2.5</td>\n",
       "      <td>0.0</td>\n",
       "      <td>0.0</td>\n",
       "      <td>0.0</td>\n",
       "      <td>0.0</td>\n",
       "      <td>0.833333</td>\n",
       "      <td>5.281772</td>\n",
       "      <td>147.0</td>\n",
       "      <td>2.150000</td>\n",
       "      <td>7.817129</td>\n",
       "      <td>0.0</td>\n",
       "      <td>7.0</td>\n",
       "      <td>2.0</td>\n",
       "      <td>4.5</td>\n",
       "      <td>3.616782</td>\n",
       "      <td>4.186704</td>\n",
       "      <td>4.327113</td>\n",
       "      <td>4.689952</td>\n",
       "      <td>4.166667</td>\n",
       "      <td>5.000000</td>\n",
       "      <td>4.507538</td>\n",
       "      <td>6.626692</td>\n",
       "      <td>6.136845</td>\n",
       "      <td>6.737383</td>\n",
       "      <td>0.820513</td>\n",
       "      <td>4.690743</td>\n",
       "      <td>6.955962</td>\n",
       "      <td>8.339152</td>\n",
       "      <td>8.72046</td>\n",
       "      <td>5.0</td>\n",
       "      <td>7.253894</td>\n",
       "      <td>8.480000</td>\n",
       "      <td>6.22</td>\n",
       "      <td>5.9176</td>\n",
       "      <td>6.872533</td>\n",
       "      <td>4.962589</td>\n",
       "      <td>0.000000</td>\n",
       "      <td>2.481294</td>\n",
       "      <td>5.56391</td>\n",
       "      <td>3.664829</td>\n",
       "      <td>0.000000</td>\n",
       "      <td>1.106256</td>\n",
       "      <td>1.590362</td>\n",
       "      <td>4.127025</td>\n",
       "      <td>0.0</td>\n",
       "      <td>5.301526</td>\n",
       "      <td>10.0</td>\n",
       "      <td>5.100509</td>\n",
       "      <td>5.566667</td>\n",
       "      <td>3.896912</td>\n",
       "      <td>5.958321</td>\n",
       "      <td>6.0</td>\n",
       "      <td>7.755176</td>\n",
       "      <td>1.0</td>\n",
       "      <td>5.029513</td>\n",
       "      <td>3.722341</td>\n",
       "      <td>1.777778</td>\n",
       "      <td>9.243070</td>\n",
       "      <td>3.765515</td>\n",
       "      <td>8.523503</td>\n",
       "      <td>7.029528</td>\n",
       "      <td>5.676956</td>\n",
       "      <td>5.268992</td>\n",
       "      <td>4.99</td>\n",
       "      <td>159.0</td>\n",
       "      <td>5.135886</td>\n",
       "      <td>155.0</td>\n",
       "      <td>4.0</td>\n",
       "    </tr>\n",
       "    <tr>\n",
       "      <td>2</td>\n",
       "      <td>2016</td>\n",
       "      <td>AGO</td>\n",
       "      <td>Angola</td>\n",
       "      <td>Sub-Saharan Africa</td>\n",
       "      <td>NaN</td>\n",
       "      <td>NaN</td>\n",
       "      <td>NaN</td>\n",
       "      <td>3.451814</td>\n",
       "      <td>8.060260</td>\n",
       "      <td>5.0</td>\n",
       "      <td>10.00000</td>\n",
       "      <td>7.5</td>\n",
       "      <td>10.000000</td>\n",
       "      <td>10.000000</td>\n",
       "      <td>8.500000</td>\n",
       "      <td>10.0</td>\n",
       "      <td>10.0</td>\n",
       "      <td>5.0</td>\n",
       "      <td>5.0</td>\n",
       "      <td>5.0</td>\n",
       "      <td>8.333333</td>\n",
       "      <td>8.297865</td>\n",
       "      <td>0.0</td>\n",
       "      <td>5.0</td>\n",
       "      <td>10.0</td>\n",
       "      <td>5.000000</td>\n",
       "      <td>NaN</td>\n",
       "      <td>NaN</td>\n",
       "      <td>10.0</td>\n",
       "      <td>8.904444</td>\n",
       "      <td>7.455556</td>\n",
       "      <td>8.786667</td>\n",
       "      <td>2.5</td>\n",
       "      <td>2.5</td>\n",
       "      <td>NaN</td>\n",
       "      <td>NaN</td>\n",
       "      <td>2.5</td>\n",
       "      <td>NaN</td>\n",
       "      <td>NaN</td>\n",
       "      <td>5.0</td>\n",
       "      <td>NaN</td>\n",
       "      <td>NaN</td>\n",
       "      <td>7.5</td>\n",
       "      <td>4.0</td>\n",
       "      <td>10.0</td>\n",
       "      <td>10.0</td>\n",
       "      <td>2.666667</td>\n",
       "      <td>2.50</td>\n",
       "      <td>7.5</td>\n",
       "      <td>5.0</td>\n",
       "      <td>7.5</td>\n",
       "      <td>6.452381</td>\n",
       "      <td>10.0</td>\n",
       "      <td>10.0</td>\n",
       "      <td>10.0</td>\n",
       "      <td>10.0</td>\n",
       "      <td>0.0</td>\n",
       "      <td>0.0</td>\n",
       "      <td>0.0</td>\n",
       "      <td>10.0</td>\n",
       "      <td>7.500000</td>\n",
       "      <td>6.111324</td>\n",
       "      <td>117.0</td>\n",
       "      <td>7.600000</td>\n",
       "      <td>8.886739</td>\n",
       "      <td>0.0</td>\n",
       "      <td>10.0</td>\n",
       "      <td>9.0</td>\n",
       "      <td>9.5</td>\n",
       "      <td>6.496685</td>\n",
       "      <td>1.843129</td>\n",
       "      <td>1.974566</td>\n",
       "      <td>2.512364</td>\n",
       "      <td>3.333333</td>\n",
       "      <td>4.166667</td>\n",
       "      <td>2.302200</td>\n",
       "      <td>5.455882</td>\n",
       "      <td>3.016104</td>\n",
       "      <td>4.291197</td>\n",
       "      <td>0.846154</td>\n",
       "      <td>2.963635</td>\n",
       "      <td>9.385679</td>\n",
       "      <td>4.986742</td>\n",
       "      <td>3.05400</td>\n",
       "      <td>5.0</td>\n",
       "      <td>5.606605</td>\n",
       "      <td>8.993333</td>\n",
       "      <td>7.72</td>\n",
       "      <td>4.2544</td>\n",
       "      <td>6.989244</td>\n",
       "      <td>3.132738</td>\n",
       "      <td>0.917160</td>\n",
       "      <td>2.024949</td>\n",
       "      <td>10.00000</td>\n",
       "      <td>2.946919</td>\n",
       "      <td>3.076923</td>\n",
       "      <td>0.110626</td>\n",
       "      <td>2.044823</td>\n",
       "      <td>5.264754</td>\n",
       "      <td>8.0</td>\n",
       "      <td>9.194715</td>\n",
       "      <td>4.0</td>\n",
       "      <td>7.064905</td>\n",
       "      <td>8.900000</td>\n",
       "      <td>2.656198</td>\n",
       "      <td>5.172987</td>\n",
       "      <td>4.0</td>\n",
       "      <td>6.632764</td>\n",
       "      <td>0.0</td>\n",
       "      <td>4.560325</td>\n",
       "      <td>2.758428</td>\n",
       "      <td>1.333333</td>\n",
       "      <td>8.664627</td>\n",
       "      <td>1.945540</td>\n",
       "      <td>8.096776</td>\n",
       "      <td>6.782923</td>\n",
       "      <td>4.930271</td>\n",
       "      <td>5.518500</td>\n",
       "      <td>5.17</td>\n",
       "      <td>155.0</td>\n",
       "      <td>5.640662</td>\n",
       "      <td>142.0</td>\n",
       "      <td>4.0</td>\n",
       "    </tr>\n",
       "    <tr>\n",
       "      <td>3</td>\n",
       "      <td>2016</td>\n",
       "      <td>ARG</td>\n",
       "      <td>Argentina</td>\n",
       "      <td>Latin America &amp; the Caribbean</td>\n",
       "      <td>7.098483</td>\n",
       "      <td>5.791960</td>\n",
       "      <td>4.343930</td>\n",
       "      <td>5.744791</td>\n",
       "      <td>7.622974</td>\n",
       "      <td>10.0</td>\n",
       "      <td>10.00000</td>\n",
       "      <td>7.5</td>\n",
       "      <td>10.000000</td>\n",
       "      <td>9.990877</td>\n",
       "      <td>9.498175</td>\n",
       "      <td>10.0</td>\n",
       "      <td>10.0</td>\n",
       "      <td>10.0</td>\n",
       "      <td>10.0</td>\n",
       "      <td>10.0</td>\n",
       "      <td>10.000000</td>\n",
       "      <td>9.040383</td>\n",
       "      <td>10.0</td>\n",
       "      <td>10.0</td>\n",
       "      <td>10.0</td>\n",
       "      <td>10.000000</td>\n",
       "      <td>NaN</td>\n",
       "      <td>NaN</td>\n",
       "      <td>7.5</td>\n",
       "      <td>9.037778</td>\n",
       "      <td>6.850000</td>\n",
       "      <td>7.795926</td>\n",
       "      <td>7.5</td>\n",
       "      <td>10.0</td>\n",
       "      <td>NaN</td>\n",
       "      <td>NaN</td>\n",
       "      <td>5.0</td>\n",
       "      <td>NaN</td>\n",
       "      <td>NaN</td>\n",
       "      <td>7.5</td>\n",
       "      <td>NaN</td>\n",
       "      <td>NaN</td>\n",
       "      <td>7.5</td>\n",
       "      <td>7.5</td>\n",
       "      <td>10.0</td>\n",
       "      <td>10.0</td>\n",
       "      <td>5.666667</td>\n",
       "      <td>5.50</td>\n",
       "      <td>10.0</td>\n",
       "      <td>10.0</td>\n",
       "      <td>10.0</td>\n",
       "      <td>8.738095</td>\n",
       "      <td>10.0</td>\n",
       "      <td>10.0</td>\n",
       "      <td>10.0</td>\n",
       "      <td>10.0</td>\n",
       "      <td>10.0</td>\n",
       "      <td>10.0</td>\n",
       "      <td>10.0</td>\n",
       "      <td>10.0</td>\n",
       "      <td>10.000000</td>\n",
       "      <td>8.099696</td>\n",
       "      <td>42.0</td>\n",
       "      <td>5.335294</td>\n",
       "      <td>6.048930</td>\n",
       "      <td>6.0</td>\n",
       "      <td>7.0</td>\n",
       "      <td>1.0</td>\n",
       "      <td>4.0</td>\n",
       "      <td>5.346056</td>\n",
       "      <td>3.689690</td>\n",
       "      <td>2.930563</td>\n",
       "      <td>4.255995</td>\n",
       "      <td>7.500000</td>\n",
       "      <td>3.333333</td>\n",
       "      <td>3.632872</td>\n",
       "      <td>6.857195</td>\n",
       "      <td>3.385786</td>\n",
       "      <td>4.133832</td>\n",
       "      <td>0.769231</td>\n",
       "      <td>3.904030</td>\n",
       "      <td>5.233264</td>\n",
       "      <td>5.224079</td>\n",
       "      <td>2.00000</td>\n",
       "      <td>10.0</td>\n",
       "      <td>5.614336</td>\n",
       "      <td>6.060000</td>\n",
       "      <td>7.26</td>\n",
       "      <td>5.9448</td>\n",
       "      <td>6.421600</td>\n",
       "      <td>4.466582</td>\n",
       "      <td>5.155629</td>\n",
       "      <td>4.811105</td>\n",
       "      <td>0.00000</td>\n",
       "      <td>5.358169</td>\n",
       "      <td>0.769231</td>\n",
       "      <td>7.965046</td>\n",
       "      <td>4.697482</td>\n",
       "      <td>3.982547</td>\n",
       "      <td>5.0</td>\n",
       "      <td>4.259461</td>\n",
       "      <td>7.0</td>\n",
       "      <td>5.419820</td>\n",
       "      <td>2.766667</td>\n",
       "      <td>2.191898</td>\n",
       "      <td>3.432613</td>\n",
       "      <td>10.0</td>\n",
       "      <td>2.517254</td>\n",
       "      <td>10.0</td>\n",
       "      <td>5.151405</td>\n",
       "      <td>2.404211</td>\n",
       "      <td>6.666667</td>\n",
       "      <td>9.122357</td>\n",
       "      <td>3.260044</td>\n",
       "      <td>5.253411</td>\n",
       "      <td>6.508295</td>\n",
       "      <td>5.535831</td>\n",
       "      <td>5.369019</td>\n",
       "      <td>4.84</td>\n",
       "      <td>160.0</td>\n",
       "      <td>6.469848</td>\n",
       "      <td>107.0</td>\n",
       "      <td>3.0</td>\n",
       "    </tr>\n",
       "    <tr>\n",
       "      <td>4</td>\n",
       "      <td>2016</td>\n",
       "      <td>ARM</td>\n",
       "      <td>Armenia</td>\n",
       "      <td>Caucasus &amp; Central Asia</td>\n",
       "      <td>NaN</td>\n",
       "      <td>NaN</td>\n",
       "      <td>NaN</td>\n",
       "      <td>5.003205</td>\n",
       "      <td>8.808750</td>\n",
       "      <td>10.0</td>\n",
       "      <td>10.00000</td>\n",
       "      <td>7.5</td>\n",
       "      <td>9.316196</td>\n",
       "      <td>9.931620</td>\n",
       "      <td>9.349563</td>\n",
       "      <td>10.0</td>\n",
       "      <td>5.0</td>\n",
       "      <td>10.0</td>\n",
       "      <td>10.0</td>\n",
       "      <td>10.0</td>\n",
       "      <td>8.333333</td>\n",
       "      <td>8.830549</td>\n",
       "      <td>5.0</td>\n",
       "      <td>5.0</td>\n",
       "      <td>10.0</td>\n",
       "      <td>6.666667</td>\n",
       "      <td>NaN</td>\n",
       "      <td>NaN</td>\n",
       "      <td>5.0</td>\n",
       "      <td>8.577778</td>\n",
       "      <td>5.088889</td>\n",
       "      <td>6.222222</td>\n",
       "      <td>7.5</td>\n",
       "      <td>7.5</td>\n",
       "      <td>NaN</td>\n",
       "      <td>NaN</td>\n",
       "      <td>5.0</td>\n",
       "      <td>NaN</td>\n",
       "      <td>NaN</td>\n",
       "      <td>5.0</td>\n",
       "      <td>NaN</td>\n",
       "      <td>NaN</td>\n",
       "      <td>7.5</td>\n",
       "      <td>6.5</td>\n",
       "      <td>10.0</td>\n",
       "      <td>10.0</td>\n",
       "      <td>3.333333</td>\n",
       "      <td>4.25</td>\n",
       "      <td>7.5</td>\n",
       "      <td>7.5</td>\n",
       "      <td>7.5</td>\n",
       "      <td>7.154762</td>\n",
       "      <td>7.0</td>\n",
       "      <td>10.0</td>\n",
       "      <td>10.0</td>\n",
       "      <td>10.0</td>\n",
       "      <td>10.0</td>\n",
       "      <td>10.0</td>\n",
       "      <td>10.0</td>\n",
       "      <td>5.0</td>\n",
       "      <td>8.000000</td>\n",
       "      <td>6.912804</td>\n",
       "      <td>84.0</td>\n",
       "      <td>7.264706</td>\n",
       "      <td>7.748532</td>\n",
       "      <td>8.0</td>\n",
       "      <td>5.0</td>\n",
       "      <td>5.0</td>\n",
       "      <td>5.0</td>\n",
       "      <td>7.003310</td>\n",
       "      <td>3.867379</td>\n",
       "      <td>4.197569</td>\n",
       "      <td>5.664317</td>\n",
       "      <td>5.833333</td>\n",
       "      <td>5.000000</td>\n",
       "      <td>5.196693</td>\n",
       "      <td>9.801963</td>\n",
       "      <td>5.714028</td>\n",
       "      <td>7.007654</td>\n",
       "      <td>1.000000</td>\n",
       "      <td>5.809215</td>\n",
       "      <td>9.078264</td>\n",
       "      <td>9.263496</td>\n",
       "      <td>9.74600</td>\n",
       "      <td>10.0</td>\n",
       "      <td>9.521940</td>\n",
       "      <td>8.866667</td>\n",
       "      <td>8.76</td>\n",
       "      <td>8.0160</td>\n",
       "      <td>8.547556</td>\n",
       "      <td>5.922542</td>\n",
       "      <td>8.466279</td>\n",
       "      <td>7.194410</td>\n",
       "      <td>10.00000</td>\n",
       "      <td>5.108379</td>\n",
       "      <td>5.384615</td>\n",
       "      <td>10.000000</td>\n",
       "      <td>6.830998</td>\n",
       "      <td>8.143241</td>\n",
       "      <td>10.0</td>\n",
       "      <td>7.306138</td>\n",
       "      <td>10.0</td>\n",
       "      <td>9.102046</td>\n",
       "      <td>5.566667</td>\n",
       "      <td>5.766311</td>\n",
       "      <td>6.823076</td>\n",
       "      <td>10.0</td>\n",
       "      <td>9.251725</td>\n",
       "      <td>0.0</td>\n",
       "      <td>6.234630</td>\n",
       "      <td>4.552464</td>\n",
       "      <td>6.000000</td>\n",
       "      <td>9.846472</td>\n",
       "      <td>4.575152</td>\n",
       "      <td>9.319612</td>\n",
       "      <td>6.491481</td>\n",
       "      <td>6.797530</td>\n",
       "      <td>7.378069</td>\n",
       "      <td>7.57</td>\n",
       "      <td>29.0</td>\n",
       "      <td>7.241402</td>\n",
       "      <td>57.0</td>\n",
       "      <td>2.0</td>\n",
       "    </tr>\n",
       "  </tbody>\n",
       "</table>\n",
       "</div>"
      ],
      "text/plain": [
       "   year ISO_code  countries                         region  pf_rol_procedural  \\\n",
       "0  2016      ALB    Albania                 Eastern Europe           6.661503   \n",
       "1  2016      DZA    Algeria     Middle East & North Africa                NaN   \n",
       "2  2016      AGO     Angola             Sub-Saharan Africa                NaN   \n",
       "3  2016      ARG  Argentina  Latin America & the Caribbean           7.098483   \n",
       "4  2016      ARM    Armenia        Caucasus & Central Asia                NaN   \n",
       "\n",
       "   pf_rol_civil  pf_rol_criminal    pf_rol  pf_ss_homicide  \\\n",
       "0      4.547244         4.666508  5.291752        8.920429   \n",
       "1           NaN              NaN  3.819566        9.456254   \n",
       "2           NaN              NaN  3.451814        8.060260   \n",
       "3      5.791960         4.343930  5.744791        7.622974   \n",
       "4           NaN              NaN  5.003205        8.808750   \n",
       "\n",
       "   pf_ss_disappearances_disap  pf_ss_disappearances_violent  \\\n",
       "0                        10.0                      10.00000   \n",
       "1                        10.0                       9.29403   \n",
       "2                         5.0                      10.00000   \n",
       "3                        10.0                      10.00000   \n",
       "4                        10.0                      10.00000   \n",
       "\n",
       "   pf_ss_disappearances_organized  pf_ss_disappearances_fatalities  \\\n",
       "0                            10.0                        10.000000   \n",
       "1                             5.0                         9.926119   \n",
       "2                             7.5                        10.000000   \n",
       "3                             7.5                        10.000000   \n",
       "4                             7.5                         9.316196   \n",
       "\n",
       "   pf_ss_disappearances_injuries  pf_ss_disappearances  pf_ss_women_fgm  \\\n",
       "0                      10.000000             10.000000             10.0   \n",
       "1                       9.990149              8.842060             10.0   \n",
       "2                      10.000000              8.500000             10.0   \n",
       "3                       9.990877              9.498175             10.0   \n",
       "4                       9.931620              9.349563             10.0   \n",
       "\n",
       "   pf_ss_women_missing  pf_ss_women_inheritance_widows  \\\n",
       "0                  7.5                             5.0   \n",
       "1                  7.5                             0.0   \n",
       "2                 10.0                             5.0   \n",
       "3                 10.0                            10.0   \n",
       "4                  5.0                            10.0   \n",
       "\n",
       "   pf_ss_women_inheritance_daughters  pf_ss_women_inheritance  pf_ss_women  \\\n",
       "0                                5.0                      5.0     7.500000   \n",
       "1                                0.0                      0.0     5.833333   \n",
       "2                                5.0                      5.0     8.333333   \n",
       "3                               10.0                     10.0    10.000000   \n",
       "4                               10.0                     10.0     8.333333   \n",
       "\n",
       "      pf_ss  pf_movement_domestic  pf_movement_foreign  pf_movement_women  \\\n",
       "0  8.806810                   5.0                 10.0                5.0   \n",
       "1  8.043882                   5.0                  5.0                5.0   \n",
       "2  8.297865                   0.0                  5.0               10.0   \n",
       "3  9.040383                  10.0                 10.0               10.0   \n",
       "4  8.830549                   5.0                  5.0               10.0   \n",
       "\n",
       "   pf_movement  pf_religion_estop_establish  pf_religion_estop_operate  \\\n",
       "0     6.666667                          NaN                        NaN   \n",
       "1     5.000000                          NaN                        NaN   \n",
       "2     5.000000                          NaN                        NaN   \n",
       "3    10.000000                          NaN                        NaN   \n",
       "4     6.666667                          NaN                        NaN   \n",
       "\n",
       "   pf_religion_estop  pf_religion_harassment  pf_religion_restrictions  \\\n",
       "0               10.0                9.566667                  8.011111   \n",
       "1                5.0                6.873333                  2.961111   \n",
       "2               10.0                8.904444                  7.455556   \n",
       "3                7.5                9.037778                  6.850000   \n",
       "4                5.0                8.577778                  5.088889   \n",
       "\n",
       "   pf_religion  pf_association_association  pf_association_assembly  \\\n",
       "0     9.192593                        10.0                     10.0   \n",
       "1     4.944815                         5.0                      5.0   \n",
       "2     8.786667                         2.5                      2.5   \n",
       "3     7.795926                         7.5                     10.0   \n",
       "4     6.222222                         7.5                      7.5   \n",
       "\n",
       "   pf_association_political_establish  pf_association_political_operate  \\\n",
       "0                                 NaN                               NaN   \n",
       "1                                 NaN                               NaN   \n",
       "2                                 NaN                               NaN   \n",
       "3                                 NaN                               NaN   \n",
       "4                                 NaN                               NaN   \n",
       "\n",
       "   pf_association_political  pf_association_prof_establish  \\\n",
       "0                      10.0                            NaN   \n",
       "1                       5.0                            NaN   \n",
       "2                       2.5                            NaN   \n",
       "3                       5.0                            NaN   \n",
       "4                       5.0                            NaN   \n",
       "\n",
       "   pf_association_prof_operate  pf_association_prof  \\\n",
       "0                          NaN                 10.0   \n",
       "1                          NaN                  5.0   \n",
       "2                          NaN                  5.0   \n",
       "3                          NaN                  7.5   \n",
       "4                          NaN                  5.0   \n",
       "\n",
       "   pf_association_sport_establish  pf_association_sport_operate  \\\n",
       "0                             NaN                           NaN   \n",
       "1                             NaN                           NaN   \n",
       "2                             NaN                           NaN   \n",
       "3                             NaN                           NaN   \n",
       "4                             NaN                           NaN   \n",
       "\n",
       "   pf_association_sport  pf_association  pf_expression_killed  \\\n",
       "0                  10.0            10.0                  10.0   \n",
       "1                   5.0             5.0                  10.0   \n",
       "2                   7.5             4.0                  10.0   \n",
       "3                   7.5             7.5                  10.0   \n",
       "4                   7.5             6.5                  10.0   \n",
       "\n",
       "   pf_expression_jailed  pf_expression_influence  pf_expression_control  \\\n",
       "0                  10.0                 5.000000                   5.25   \n",
       "1                  10.0                 2.666667                   4.00   \n",
       "2                  10.0                 2.666667                   2.50   \n",
       "3                  10.0                 5.666667                   5.50   \n",
       "4                  10.0                 3.333333                   4.25   \n",
       "\n",
       "   pf_expression_cable  pf_expression_newspapers  pf_expression_internet  \\\n",
       "0                 10.0                      10.0                    10.0   \n",
       "1                 10.0                       7.5                     7.5   \n",
       "2                  7.5                       5.0                     7.5   \n",
       "3                 10.0                      10.0                    10.0   \n",
       "4                  7.5                       7.5                     7.5   \n",
       "\n",
       "   pf_expression  pf_identity_legal  pf_identity_parental_marriage  \\\n",
       "0       8.607143                0.0                           10.0   \n",
       "1       7.380952                NaN                            0.0   \n",
       "2       6.452381               10.0                           10.0   \n",
       "3       8.738095               10.0                           10.0   \n",
       "4       7.154762                7.0                           10.0   \n",
       "\n",
       "   pf_identity_parental_divorce  pf_identity_parental  pf_identity_sex_male  \\\n",
       "0                          10.0                  10.0                  10.0   \n",
       "1                           5.0                   2.5                   0.0   \n",
       "2                          10.0                  10.0                   0.0   \n",
       "3                          10.0                  10.0                  10.0   \n",
       "4                          10.0                  10.0                  10.0   \n",
       "\n",
       "   pf_identity_sex_female  pf_identity_sex  pf_identity_divorce  pf_identity  \\\n",
       "0                    10.0             10.0                  5.0     6.250000   \n",
       "1                     0.0              0.0                  0.0     0.833333   \n",
       "2                     0.0              0.0                 10.0     7.500000   \n",
       "3                    10.0             10.0                 10.0    10.000000   \n",
       "4                    10.0             10.0                  5.0     8.000000   \n",
       "\n",
       "   pf_score  pf_rank  ef_government_consumption  ef_government_transfers  \\\n",
       "0  7.596281     57.0                   8.232353                 7.509902   \n",
       "1  5.281772    147.0                   2.150000                 7.817129   \n",
       "2  6.111324    117.0                   7.600000                 8.886739   \n",
       "3  8.099696     42.0                   5.335294                 6.048930   \n",
       "4  6.912804     84.0                   7.264706                 7.748532   \n",
       "\n",
       "   ef_government_enterprises  ef_government_tax_income  \\\n",
       "0                        8.0                       9.0   \n",
       "1                        0.0                       7.0   \n",
       "2                        0.0                      10.0   \n",
       "3                        6.0                       7.0   \n",
       "4                        8.0                       5.0   \n",
       "\n",
       "   ef_government_tax_payroll  ef_government_tax  ef_government  \\\n",
       "0                        7.0                8.0       7.935564   \n",
       "1                        2.0                4.5       3.616782   \n",
       "2                        9.0                9.5       6.496685   \n",
       "3                        1.0                4.0       5.346056   \n",
       "4                        5.0                5.0       7.003310   \n",
       "\n",
       "   ef_legal_judicial  ef_legal_courts  ef_legal_protection  ef_legal_military  \\\n",
       "0           2.668222         3.145462             4.512228           8.333333   \n",
       "1           4.186704         4.327113             4.689952           4.166667   \n",
       "2           1.843129         1.974566             2.512364           3.333333   \n",
       "3           3.689690         2.930563             4.255995           7.500000   \n",
       "4           3.867379         4.197569             5.664317           5.833333   \n",
       "\n",
       "   ef_legal_integrity  ef_legal_enforcement  ef_legal_restrictions  \\\n",
       "0            4.166667              4.387444               6.485287   \n",
       "1            5.000000              4.507538               6.626692   \n",
       "2            4.166667              2.302200               5.455882   \n",
       "3            3.333333              3.632872               6.857195   \n",
       "4            5.000000              5.196693               9.801963   \n",
       "\n",
       "   ef_legal_police  ef_legal_crime  ef_legal_gender  ef_legal  \\\n",
       "0         6.933500        6.215401         0.948718  5.071814   \n",
       "1         6.136845        6.737383         0.820513  4.690743   \n",
       "2         3.016104        4.291197         0.846154  2.963635   \n",
       "3         3.385786        4.133832         0.769231  3.904030   \n",
       "4         5.714028        7.007654         1.000000  5.809215   \n",
       "\n",
       "   ef_money_growth  ef_money_sd  ef_money_inflation  ef_money_currency  \\\n",
       "0         8.986454     9.484575             9.74360               10.0   \n",
       "1         6.955962     8.339152             8.72046                5.0   \n",
       "2         9.385679     4.986742             3.05400                5.0   \n",
       "3         5.233264     5.224079             2.00000               10.0   \n",
       "4         9.078264     9.263496             9.74600               10.0   \n",
       "\n",
       "   ef_money  ef_trade_tariffs_revenue  ef_trade_tariffs_mean  \\\n",
       "0  9.553657                  9.626667                   9.24   \n",
       "1  7.253894                  8.480000                   6.22   \n",
       "2  5.606605                  8.993333                   7.72   \n",
       "3  5.614336                  6.060000                   7.26   \n",
       "4  9.521940                  8.866667                   8.76   \n",
       "\n",
       "   ef_trade_tariffs_sd  ef_trade_tariffs  ef_trade_regulatory_nontariff  \\\n",
       "0               8.0240          8.963556                       5.574481   \n",
       "1               5.9176          6.872533                       4.962589   \n",
       "2               4.2544          6.989244                       3.132738   \n",
       "3               5.9448          6.421600                       4.466582   \n",
       "4               8.0160          8.547556                       5.922542   \n",
       "\n",
       "   ef_trade_regulatory_compliance  ef_trade_regulatory  ef_trade_black  \\\n",
       "0                        9.405328             7.489905        10.00000   \n",
       "1                        0.000000             2.481294         5.56391   \n",
       "2                        0.917160             2.024949        10.00000   \n",
       "3                        5.155629             4.811105         0.00000   \n",
       "4                        8.466279             7.194410        10.00000   \n",
       "\n",
       "   ef_trade_movement_foreign  ef_trade_movement_capital  \\\n",
       "0                   6.306106                   4.615385   \n",
       "1                   3.664829                   0.000000   \n",
       "2                   2.946919                   3.076923   \n",
       "3                   5.358169                   0.769231   \n",
       "4                   5.108379                   5.384615   \n",
       "\n",
       "   ef_trade_movement_visit  ef_trade_movement  ef_trade  \\\n",
       "0                 8.296923           6.406138  8.214900   \n",
       "1                 1.106256           1.590362  4.127025   \n",
       "2                 0.110626           2.044823  5.264754   \n",
       "3                 7.965046           4.697482  3.982547   \n",
       "4                10.000000           6.830998  8.143241   \n",
       "\n",
       "   ef_regulation_credit_ownership  ef_regulation_credit_private  \\\n",
       "0                             5.0                      7.295687   \n",
       "1                             0.0                      5.301526   \n",
       "2                             8.0                      9.194715   \n",
       "3                             5.0                      4.259461   \n",
       "4                            10.0                      7.306138   \n",
       "\n",
       "   ef_regulation_credit_interest  ef_regulation_credit  \\\n",
       "0                            9.0              7.098562   \n",
       "1                           10.0              5.100509   \n",
       "2                            4.0              7.064905   \n",
       "3                            7.0              5.419820   \n",
       "4                           10.0              9.102046   \n",
       "\n",
       "   ef_regulation_labor_minwage  ef_regulation_labor_firing  \\\n",
       "0                     5.566667                    5.396399   \n",
       "1                     5.566667                    3.896912   \n",
       "2                     8.900000                    2.656198   \n",
       "3                     2.766667                    2.191898   \n",
       "4                     5.566667                    5.766311   \n",
       "\n",
       "   ef_regulation_labor_bargain  ef_regulation_labor_hours  \\\n",
       "0                     6.234861                        8.0   \n",
       "1                     5.958321                        6.0   \n",
       "2                     5.172987                        4.0   \n",
       "3                     3.432613                       10.0   \n",
       "4                     6.823076                       10.0   \n",
       "\n",
       "   ef_regulation_labor_dismissal  ef_regulation_labor_conscription  \\\n",
       "0                       6.299741                              10.0   \n",
       "1                       7.755176                               1.0   \n",
       "2                       6.632764                               0.0   \n",
       "3                       2.517254                              10.0   \n",
       "4                       9.251725                               0.0   \n",
       "\n",
       "   ef_regulation_labor  ef_regulation_business_adm  \\\n",
       "0             6.916278                    6.072172   \n",
       "1             5.029513                    3.722341   \n",
       "2             4.560325                    2.758428   \n",
       "3             5.151405                    2.404211   \n",
       "4             6.234630                    4.552464   \n",
       "\n",
       "   ef_regulation_business_bureaucracy  ef_regulation_business_start  \\\n",
       "0                            6.000000                      9.713864   \n",
       "1                            1.777778                      9.243070   \n",
       "2                            1.333333                      8.664627   \n",
       "3                            6.666667                      9.122357   \n",
       "4                            6.000000                      9.846472   \n",
       "\n",
       "   ef_regulation_business_bribes  ef_regulation_business_licensing  \\\n",
       "0                       4.050196                          7.324582   \n",
       "1                       3.765515                          8.523503   \n",
       "2                       1.945540                          8.096776   \n",
       "3                       3.260044                          5.253411   \n",
       "4                       4.575152                          9.319612   \n",
       "\n",
       "   ef_regulation_business_compliance  ef_regulation_business  ef_regulation  \\\n",
       "0                           7.074366                6.705863       6.906901   \n",
       "1                           7.029528                5.676956       5.268992   \n",
       "2                           6.782923                4.930271       5.518500   \n",
       "3                           6.508295                5.535831       5.369019   \n",
       "4                           6.491481                6.797530       7.378069   \n",
       "\n",
       "   ef_score  ef_rank  hf_score  hf_rank  hf_quartile  \n",
       "0      7.54     34.0  7.568140     48.0          2.0  \n",
       "1      4.99    159.0  5.135886    155.0          4.0  \n",
       "2      5.17    155.0  5.640662    142.0          4.0  \n",
       "3      4.84    160.0  6.469848    107.0          3.0  \n",
       "4      7.57     29.0  7.241402     57.0          2.0  "
      ]
     },
     "execution_count": 4,
     "metadata": {},
     "output_type": "execute_result"
    }
   ],
   "source": [
    "data = pd.read_csv('hfi_cc_2018.csv')\n",
    "data.head(5)"
   ]
  },
  {
   "cell_type": "code",
   "execution_count": 5,
   "metadata": {},
   "outputs": [
    {
     "data": {
      "text/html": [
       "<div>\n",
       "<style scoped>\n",
       "    .dataframe tbody tr th:only-of-type {\n",
       "        vertical-align: middle;\n",
       "    }\n",
       "\n",
       "    .dataframe tbody tr th {\n",
       "        vertical-align: top;\n",
       "    }\n",
       "\n",
       "    .dataframe thead th {\n",
       "        text-align: right;\n",
       "    }\n",
       "</style>\n",
       "<table border=\"1\" class=\"dataframe\">\n",
       "  <thead>\n",
       "    <tr style=\"text-align: right;\">\n",
       "      <th></th>\n",
       "      <th>year</th>\n",
       "      <th>ISO_code</th>\n",
       "      <th>countries</th>\n",
       "      <th>region</th>\n",
       "      <th>pf_rol_procedural</th>\n",
       "      <th>pf_rol_civil</th>\n",
       "      <th>pf_rol_criminal</th>\n",
       "      <th>pf_rol</th>\n",
       "      <th>pf_ss_homicide</th>\n",
       "      <th>pf_ss_disappearances_disap</th>\n",
       "      <th>pf_ss_disappearances_violent</th>\n",
       "      <th>pf_ss_disappearances_organized</th>\n",
       "      <th>pf_ss_disappearances_fatalities</th>\n",
       "      <th>pf_ss_disappearances_injuries</th>\n",
       "      <th>pf_ss_disappearances</th>\n",
       "      <th>pf_ss_women_fgm</th>\n",
       "      <th>pf_ss_women_missing</th>\n",
       "      <th>pf_ss_women_inheritance_widows</th>\n",
       "      <th>pf_ss_women_inheritance_daughters</th>\n",
       "      <th>pf_ss_women_inheritance</th>\n",
       "      <th>pf_ss_women</th>\n",
       "      <th>pf_ss</th>\n",
       "      <th>pf_movement_domestic</th>\n",
       "      <th>pf_movement_foreign</th>\n",
       "      <th>pf_movement_women</th>\n",
       "      <th>pf_movement</th>\n",
       "      <th>pf_religion_estop_establish</th>\n",
       "      <th>pf_religion_estop_operate</th>\n",
       "      <th>pf_religion_estop</th>\n",
       "      <th>pf_religion_harassment</th>\n",
       "      <th>pf_religion_restrictions</th>\n",
       "      <th>pf_religion</th>\n",
       "      <th>pf_association_association</th>\n",
       "      <th>pf_association_assembly</th>\n",
       "      <th>pf_association_political_establish</th>\n",
       "      <th>pf_association_political_operate</th>\n",
       "      <th>pf_association_political</th>\n",
       "      <th>pf_association_prof_establish</th>\n",
       "      <th>pf_association_prof_operate</th>\n",
       "      <th>pf_association_prof</th>\n",
       "      <th>pf_association_sport_establish</th>\n",
       "      <th>pf_association_sport_operate</th>\n",
       "      <th>pf_association_sport</th>\n",
       "      <th>pf_association</th>\n",
       "      <th>pf_expression_killed</th>\n",
       "      <th>pf_expression_jailed</th>\n",
       "      <th>pf_expression_influence</th>\n",
       "      <th>pf_expression_control</th>\n",
       "      <th>pf_expression_cable</th>\n",
       "      <th>pf_expression_newspapers</th>\n",
       "      <th>pf_expression_internet</th>\n",
       "      <th>pf_expression</th>\n",
       "      <th>pf_identity_legal</th>\n",
       "      <th>pf_identity_parental_marriage</th>\n",
       "      <th>pf_identity_parental_divorce</th>\n",
       "      <th>pf_identity_parental</th>\n",
       "      <th>pf_identity_sex_male</th>\n",
       "      <th>pf_identity_sex_female</th>\n",
       "      <th>pf_identity_sex</th>\n",
       "      <th>pf_identity_divorce</th>\n",
       "      <th>pf_identity</th>\n",
       "      <th>pf_score</th>\n",
       "      <th>pf_rank</th>\n",
       "      <th>ef_government_consumption</th>\n",
       "      <th>ef_government_transfers</th>\n",
       "      <th>ef_government_enterprises</th>\n",
       "      <th>ef_government_tax_income</th>\n",
       "      <th>ef_government_tax_payroll</th>\n",
       "      <th>ef_government_tax</th>\n",
       "      <th>ef_government</th>\n",
       "      <th>ef_legal_judicial</th>\n",
       "      <th>ef_legal_courts</th>\n",
       "      <th>ef_legal_protection</th>\n",
       "      <th>ef_legal_military</th>\n",
       "      <th>ef_legal_integrity</th>\n",
       "      <th>ef_legal_enforcement</th>\n",
       "      <th>ef_legal_restrictions</th>\n",
       "      <th>ef_legal_police</th>\n",
       "      <th>ef_legal_crime</th>\n",
       "      <th>ef_legal_gender</th>\n",
       "      <th>ef_legal</th>\n",
       "      <th>ef_money_growth</th>\n",
       "      <th>ef_money_sd</th>\n",
       "      <th>ef_money_inflation</th>\n",
       "      <th>ef_money_currency</th>\n",
       "      <th>ef_money</th>\n",
       "      <th>ef_trade_tariffs_revenue</th>\n",
       "      <th>ef_trade_tariffs_mean</th>\n",
       "      <th>ef_trade_tariffs_sd</th>\n",
       "      <th>ef_trade_tariffs</th>\n",
       "      <th>ef_trade_regulatory_nontariff</th>\n",
       "      <th>ef_trade_regulatory_compliance</th>\n",
       "      <th>ef_trade_regulatory</th>\n",
       "      <th>ef_trade_black</th>\n",
       "      <th>ef_trade_movement_foreign</th>\n",
       "      <th>ef_trade_movement_capital</th>\n",
       "      <th>ef_trade_movement_visit</th>\n",
       "      <th>ef_trade_movement</th>\n",
       "      <th>ef_trade</th>\n",
       "      <th>ef_regulation_credit_ownership</th>\n",
       "      <th>ef_regulation_credit_private</th>\n",
       "      <th>ef_regulation_credit_interest</th>\n",
       "      <th>ef_regulation_credit</th>\n",
       "      <th>ef_regulation_labor_minwage</th>\n",
       "      <th>ef_regulation_labor_firing</th>\n",
       "      <th>ef_regulation_labor_bargain</th>\n",
       "      <th>ef_regulation_labor_hours</th>\n",
       "      <th>ef_regulation_labor_dismissal</th>\n",
       "      <th>ef_regulation_labor_conscription</th>\n",
       "      <th>ef_regulation_labor</th>\n",
       "      <th>ef_regulation_business_adm</th>\n",
       "      <th>ef_regulation_business_bureaucracy</th>\n",
       "      <th>ef_regulation_business_start</th>\n",
       "      <th>ef_regulation_business_bribes</th>\n",
       "      <th>ef_regulation_business_licensing</th>\n",
       "      <th>ef_regulation_business_compliance</th>\n",
       "      <th>ef_regulation_business</th>\n",
       "      <th>ef_regulation</th>\n",
       "      <th>ef_score</th>\n",
       "      <th>ef_rank</th>\n",
       "      <th>hf_score</th>\n",
       "      <th>hf_rank</th>\n",
       "      <th>hf_quartile</th>\n",
       "    </tr>\n",
       "  </thead>\n",
       "  <tbody>\n",
       "    <tr>\n",
       "      <td>86</td>\n",
       "      <td>2016</td>\n",
       "      <td>LBY</td>\n",
       "      <td>Libya</td>\n",
       "      <td>Middle East &amp; North Africa</td>\n",
       "      <td>NaN</td>\n",
       "      <td>NaN</td>\n",
       "      <td>NaN</td>\n",
       "      <td>2.198018</td>\n",
       "      <td>8.998449</td>\n",
       "      <td>5.0</td>\n",
       "      <td>0.000000</td>\n",
       "      <td>0.0</td>\n",
       "      <td>0.000000</td>\n",
       "      <td>0.000000</td>\n",
       "      <td>1.000000</td>\n",
       "      <td>10.0</td>\n",
       "      <td>7.5</td>\n",
       "      <td>0.0</td>\n",
       "      <td>0.0</td>\n",
       "      <td>0.0</td>\n",
       "      <td>5.833333</td>\n",
       "      <td>5.277261</td>\n",
       "      <td>NaN</td>\n",
       "      <td>NaN</td>\n",
       "      <td>5.0</td>\n",
       "      <td>5.000000</td>\n",
       "      <td>NaN</td>\n",
       "      <td>NaN</td>\n",
       "      <td>7.5</td>\n",
       "      <td>7.533333</td>\n",
       "      <td>5.783333</td>\n",
       "      <td>6.938889</td>\n",
       "      <td>2.5</td>\n",
       "      <td>2.5</td>\n",
       "      <td>NaN</td>\n",
       "      <td>NaN</td>\n",
       "      <td>2.5</td>\n",
       "      <td>NaN</td>\n",
       "      <td>NaN</td>\n",
       "      <td>2.5</td>\n",
       "      <td>NaN</td>\n",
       "      <td>NaN</td>\n",
       "      <td>2.5</td>\n",
       "      <td>2.5</td>\n",
       "      <td>0.00000</td>\n",
       "      <td>10.000000</td>\n",
       "      <td>2.666667</td>\n",
       "      <td>1.25</td>\n",
       "      <td>7.5</td>\n",
       "      <td>7.5</td>\n",
       "      <td>5.0</td>\n",
       "      <td>4.845238</td>\n",
       "      <td>NaN</td>\n",
       "      <td>0.0</td>\n",
       "      <td>5.0</td>\n",
       "      <td>2.5</td>\n",
       "      <td>0.0</td>\n",
       "      <td>0.0</td>\n",
       "      <td>0.0</td>\n",
       "      <td>0.0</td>\n",
       "      <td>0.833333</td>\n",
       "      <td>3.880566</td>\n",
       "      <td>159.0</td>\n",
       "      <td>0.000000</td>\n",
       "      <td>NaN</td>\n",
       "      <td>NaN</td>\n",
       "      <td>10.0</td>\n",
       "      <td>9.0</td>\n",
       "      <td>9.5</td>\n",
       "      <td>4.750000</td>\n",
       "      <td>3.398277</td>\n",
       "      <td>2.332075</td>\n",
       "      <td>3.278082</td>\n",
       "      <td>5.000000</td>\n",
       "      <td>6.666667</td>\n",
       "      <td>3.623948</td>\n",
       "      <td>NaN</td>\n",
       "      <td>1.672884</td>\n",
       "      <td>2.451828</td>\n",
       "      <td>0.804878</td>\n",
       "      <td>3.206339</td>\n",
       "      <td>7.001157</td>\n",
       "      <td>1.058436</td>\n",
       "      <td>4.5800</td>\n",
       "      <td>10.0</td>\n",
       "      <td>5.659898</td>\n",
       "      <td>NaN</td>\n",
       "      <td>NaN</td>\n",
       "      <td>NaN</td>\n",
       "      <td>NaN</td>\n",
       "      <td>5.505607</td>\n",
       "      <td>4.258602</td>\n",
       "      <td>4.882105</td>\n",
       "      <td>7.372263</td>\n",
       "      <td>5.009764</td>\n",
       "      <td>0.769231</td>\n",
       "      <td>0.331877</td>\n",
       "      <td>2.036957</td>\n",
       "      <td>4.763775</td>\n",
       "      <td>0.0</td>\n",
       "      <td>10.000000</td>\n",
       "      <td>10.0</td>\n",
       "      <td>6.666667</td>\n",
       "      <td>7.233333</td>\n",
       "      <td>2.654694</td>\n",
       "      <td>5.387762</td>\n",
       "      <td>8.0</td>\n",
       "      <td>4.387940</td>\n",
       "      <td>10.0</td>\n",
       "      <td>6.277288</td>\n",
       "      <td>3.205259</td>\n",
       "      <td>0.000000</td>\n",
       "      <td>8.425078</td>\n",
       "      <td>3.132050</td>\n",
       "      <td>NaN</td>\n",
       "      <td>0.034909</td>\n",
       "      <td>2.959459</td>\n",
       "      <td>5.301138</td>\n",
       "      <td>4.74</td>\n",
       "      <td>161.0</td>\n",
       "      <td>4.310283</td>\n",
       "      <td>158.0</td>\n",
       "      <td>4.0</td>\n",
       "    </tr>\n",
       "    <tr>\n",
       "      <td>150</td>\n",
       "      <td>2016</td>\n",
       "      <td>TUR</td>\n",
       "      <td>Turkey</td>\n",
       "      <td>Middle East &amp; North Africa</td>\n",
       "      <td>3.579995</td>\n",
       "      <td>4.373414</td>\n",
       "      <td>3.970161</td>\n",
       "      <td>3.974523</td>\n",
       "      <td>8.274906</td>\n",
       "      <td>10.0</td>\n",
       "      <td>0.000000</td>\n",
       "      <td>2.5</td>\n",
       "      <td>5.791014</td>\n",
       "      <td>3.027505</td>\n",
       "      <td>4.263704</td>\n",
       "      <td>10.0</td>\n",
       "      <td>10.0</td>\n",
       "      <td>10.0</td>\n",
       "      <td>10.0</td>\n",
       "      <td>10.0</td>\n",
       "      <td>10.000000</td>\n",
       "      <td>7.512870</td>\n",
       "      <td>10.0</td>\n",
       "      <td>10.0</td>\n",
       "      <td>10.0</td>\n",
       "      <td>10.000000</td>\n",
       "      <td>NaN</td>\n",
       "      <td>NaN</td>\n",
       "      <td>2.5</td>\n",
       "      <td>7.048889</td>\n",
       "      <td>3.933333</td>\n",
       "      <td>4.494074</td>\n",
       "      <td>7.5</td>\n",
       "      <td>5.0</td>\n",
       "      <td>NaN</td>\n",
       "      <td>NaN</td>\n",
       "      <td>5.0</td>\n",
       "      <td>NaN</td>\n",
       "      <td>NaN</td>\n",
       "      <td>2.5</td>\n",
       "      <td>NaN</td>\n",
       "      <td>NaN</td>\n",
       "      <td>2.5</td>\n",
       "      <td>4.5</td>\n",
       "      <td>7.48467</td>\n",
       "      <td>0.000000</td>\n",
       "      <td>1.000000</td>\n",
       "      <td>1.75</td>\n",
       "      <td>5.0</td>\n",
       "      <td>7.5</td>\n",
       "      <td>5.0</td>\n",
       "      <td>3.962096</td>\n",
       "      <td>7.0</td>\n",
       "      <td>10.0</td>\n",
       "      <td>10.0</td>\n",
       "      <td>10.0</td>\n",
       "      <td>10.0</td>\n",
       "      <td>10.0</td>\n",
       "      <td>10.0</td>\n",
       "      <td>10.0</td>\n",
       "      <td>9.250000</td>\n",
       "      <td>6.092465</td>\n",
       "      <td>118.0</td>\n",
       "      <td>5.920588</td>\n",
       "      <td>6.385132</td>\n",
       "      <td>7.0</td>\n",
       "      <td>7.0</td>\n",
       "      <td>7.0</td>\n",
       "      <td>7.0</td>\n",
       "      <td>6.576430</td>\n",
       "      <td>3.437320</td>\n",
       "      <td>3.177842</td>\n",
       "      <td>5.590816</td>\n",
       "      <td>3.333333</td>\n",
       "      <td>5.000000</td>\n",
       "      <td>4.580553</td>\n",
       "      <td>8.881572</td>\n",
       "      <td>5.576923</td>\n",
       "      <td>5.755081</td>\n",
       "      <td>0.897436</td>\n",
       "      <td>4.778739</td>\n",
       "      <td>7.966541</td>\n",
       "      <td>9.640305</td>\n",
       "      <td>8.4450</td>\n",
       "      <td>10.0</td>\n",
       "      <td>9.012962</td>\n",
       "      <td>9.493333</td>\n",
       "      <td>7.82</td>\n",
       "      <td>0.5388</td>\n",
       "      <td>5.950711</td>\n",
       "      <td>6.030467</td>\n",
       "      <td>8.771009</td>\n",
       "      <td>7.400738</td>\n",
       "      <td>10.000000</td>\n",
       "      <td>5.844405</td>\n",
       "      <td>2.307692</td>\n",
       "      <td>8.407549</td>\n",
       "      <td>5.519882</td>\n",
       "      <td>7.217833</td>\n",
       "      <td>5.0</td>\n",
       "      <td>9.595257</td>\n",
       "      <td>10.0</td>\n",
       "      <td>8.198419</td>\n",
       "      <td>5.566667</td>\n",
       "      <td>4.197221</td>\n",
       "      <td>6.882368</td>\n",
       "      <td>8.0</td>\n",
       "      <td>2.517254</td>\n",
       "      <td>1.0</td>\n",
       "      <td>4.693918</td>\n",
       "      <td>4.078937</td>\n",
       "      <td>7.111111</td>\n",
       "      <td>9.631863</td>\n",
       "      <td>4.346272</td>\n",
       "      <td>9.232431</td>\n",
       "      <td>7.584390</td>\n",
       "      <td>6.997501</td>\n",
       "      <td>6.629946</td>\n",
       "      <td>6.84</td>\n",
       "      <td>86.0</td>\n",
       "      <td>6.466233</td>\n",
       "      <td>107.0</td>\n",
       "      <td>3.0</td>\n",
       "    </tr>\n",
       "    <tr>\n",
       "      <td>9</td>\n",
       "      <td>2016</td>\n",
       "      <td>BHR</td>\n",
       "      <td>Bahrain</td>\n",
       "      <td>Middle East &amp; North Africa</td>\n",
       "      <td>NaN</td>\n",
       "      <td>NaN</td>\n",
       "      <td>NaN</td>\n",
       "      <td>5.900339</td>\n",
       "      <td>9.790481</td>\n",
       "      <td>10.0</td>\n",
       "      <td>10.000000</td>\n",
       "      <td>2.5</td>\n",
       "      <td>9.766110</td>\n",
       "      <td>9.719332</td>\n",
       "      <td>8.397088</td>\n",
       "      <td>10.0</td>\n",
       "      <td>7.5</td>\n",
       "      <td>0.0</td>\n",
       "      <td>0.0</td>\n",
       "      <td>0.0</td>\n",
       "      <td>5.833333</td>\n",
       "      <td>8.006968</td>\n",
       "      <td>10.0</td>\n",
       "      <td>5.0</td>\n",
       "      <td>5.0</td>\n",
       "      <td>6.666667</td>\n",
       "      <td>NaN</td>\n",
       "      <td>NaN</td>\n",
       "      <td>10.0</td>\n",
       "      <td>8.362222</td>\n",
       "      <td>4.022222</td>\n",
       "      <td>7.461481</td>\n",
       "      <td>5.0</td>\n",
       "      <td>0.0</td>\n",
       "      <td>NaN</td>\n",
       "      <td>NaN</td>\n",
       "      <td>0.0</td>\n",
       "      <td>NaN</td>\n",
       "      <td>NaN</td>\n",
       "      <td>10.0</td>\n",
       "      <td>NaN</td>\n",
       "      <td>NaN</td>\n",
       "      <td>10.0</td>\n",
       "      <td>5.0</td>\n",
       "      <td>10.00000</td>\n",
       "      <td>0.000000</td>\n",
       "      <td>0.666667</td>\n",
       "      <td>0.75</td>\n",
       "      <td>7.5</td>\n",
       "      <td>7.5</td>\n",
       "      <td>2.5</td>\n",
       "      <td>4.130952</td>\n",
       "      <td>NaN</td>\n",
       "      <td>0.0</td>\n",
       "      <td>0.0</td>\n",
       "      <td>0.0</td>\n",
       "      <td>10.0</td>\n",
       "      <td>10.0</td>\n",
       "      <td>10.0</td>\n",
       "      <td>0.0</td>\n",
       "      <td>3.333333</td>\n",
       "      <td>6.136070</td>\n",
       "      <td>114.0</td>\n",
       "      <td>3.688235</td>\n",
       "      <td>9.581704</td>\n",
       "      <td>10.0</td>\n",
       "      <td>10.0</td>\n",
       "      <td>10.0</td>\n",
       "      <td>10.0</td>\n",
       "      <td>8.317485</td>\n",
       "      <td>6.822563</td>\n",
       "      <td>6.231401</td>\n",
       "      <td>7.435713</td>\n",
       "      <td>5.000000</td>\n",
       "      <td>7.500000</td>\n",
       "      <td>4.785814</td>\n",
       "      <td>8.855315</td>\n",
       "      <td>7.764706</td>\n",
       "      <td>7.287250</td>\n",
       "      <td>0.536585</td>\n",
       "      <td>5.265602</td>\n",
       "      <td>9.961596</td>\n",
       "      <td>8.215418</td>\n",
       "      <td>9.4404</td>\n",
       "      <td>10.0</td>\n",
       "      <td>9.404353</td>\n",
       "      <td>9.480000</td>\n",
       "      <td>9.06</td>\n",
       "      <td>7.0296</td>\n",
       "      <td>8.523200</td>\n",
       "      <td>6.712476</td>\n",
       "      <td>5.878713</td>\n",
       "      <td>6.295595</td>\n",
       "      <td>10.000000</td>\n",
       "      <td>7.456232</td>\n",
       "      <td>6.153846</td>\n",
       "      <td>0.774379</td>\n",
       "      <td>4.794819</td>\n",
       "      <td>7.403403</td>\n",
       "      <td>10.0</td>\n",
       "      <td>2.827501</td>\n",
       "      <td>10.0</td>\n",
       "      <td>7.609167</td>\n",
       "      <td>8.333333</td>\n",
       "      <td>5.687467</td>\n",
       "      <td>7.695706</td>\n",
       "      <td>8.0</td>\n",
       "      <td>0.000000</td>\n",
       "      <td>10.0</td>\n",
       "      <td>6.619418</td>\n",
       "      <td>6.084863</td>\n",
       "      <td>8.000000</td>\n",
       "      <td>9.675831</td>\n",
       "      <td>6.596745</td>\n",
       "      <td>8.074670</td>\n",
       "      <td>9.680534</td>\n",
       "      <td>8.018774</td>\n",
       "      <td>7.415786</td>\n",
       "      <td>7.56</td>\n",
       "      <td>30.0</td>\n",
       "      <td>6.848035</td>\n",
       "      <td>75.0</td>\n",
       "      <td>2.0</td>\n",
       "    </tr>\n",
       "    <tr>\n",
       "      <td>149</td>\n",
       "      <td>2016</td>\n",
       "      <td>TUN</td>\n",
       "      <td>Tunisia</td>\n",
       "      <td>Middle East &amp; North Africa</td>\n",
       "      <td>5.074037</td>\n",
       "      <td>4.903501</td>\n",
       "      <td>4.295872</td>\n",
       "      <td>4.757804</td>\n",
       "      <td>8.780159</td>\n",
       "      <td>10.0</td>\n",
       "      <td>7.895336</td>\n",
       "      <td>5.0</td>\n",
       "      <td>7.924568</td>\n",
       "      <td>9.543990</td>\n",
       "      <td>8.072779</td>\n",
       "      <td>10.0</td>\n",
       "      <td>7.5</td>\n",
       "      <td>0.0</td>\n",
       "      <td>0.0</td>\n",
       "      <td>0.0</td>\n",
       "      <td>5.833333</td>\n",
       "      <td>7.562090</td>\n",
       "      <td>10.0</td>\n",
       "      <td>10.0</td>\n",
       "      <td>5.0</td>\n",
       "      <td>8.333333</td>\n",
       "      <td>NaN</td>\n",
       "      <td>NaN</td>\n",
       "      <td>7.5</td>\n",
       "      <td>8.033333</td>\n",
       "      <td>3.838889</td>\n",
       "      <td>6.457407</td>\n",
       "      <td>7.5</td>\n",
       "      <td>7.5</td>\n",
       "      <td>NaN</td>\n",
       "      <td>NaN</td>\n",
       "      <td>7.5</td>\n",
       "      <td>NaN</td>\n",
       "      <td>NaN</td>\n",
       "      <td>7.5</td>\n",
       "      <td>NaN</td>\n",
       "      <td>NaN</td>\n",
       "      <td>10.0</td>\n",
       "      <td>8.0</td>\n",
       "      <td>10.00000</td>\n",
       "      <td>9.123057</td>\n",
       "      <td>4.000000</td>\n",
       "      <td>5.50</td>\n",
       "      <td>10.0</td>\n",
       "      <td>7.5</td>\n",
       "      <td>10.0</td>\n",
       "      <td>8.017580</td>\n",
       "      <td>NaN</td>\n",
       "      <td>5.0</td>\n",
       "      <td>0.0</td>\n",
       "      <td>2.5</td>\n",
       "      <td>0.0</td>\n",
       "      <td>0.0</td>\n",
       "      <td>0.0</td>\n",
       "      <td>10.0</td>\n",
       "      <td>4.166667</td>\n",
       "      <td>6.577472</td>\n",
       "      <td>98.0</td>\n",
       "      <td>5.311765</td>\n",
       "      <td>6.411152</td>\n",
       "      <td>7.0</td>\n",
       "      <td>7.0</td>\n",
       "      <td>2.0</td>\n",
       "      <td>4.5</td>\n",
       "      <td>5.805729</td>\n",
       "      <td>4.698957</td>\n",
       "      <td>4.116499</td>\n",
       "      <td>5.830284</td>\n",
       "      <td>6.666667</td>\n",
       "      <td>8.333333</td>\n",
       "      <td>4.881959</td>\n",
       "      <td>7.257791</td>\n",
       "      <td>5.566157</td>\n",
       "      <td>5.266135</td>\n",
       "      <td>0.804878</td>\n",
       "      <td>5.276038</td>\n",
       "      <td>9.343496</td>\n",
       "      <td>9.646036</td>\n",
       "      <td>9.2578</td>\n",
       "      <td>0.0</td>\n",
       "      <td>7.061833</td>\n",
       "      <td>8.833333</td>\n",
       "      <td>7.68</td>\n",
       "      <td>5.2672</td>\n",
       "      <td>7.260178</td>\n",
       "      <td>4.621747</td>\n",
       "      <td>7.256813</td>\n",
       "      <td>5.939280</td>\n",
       "      <td>9.243354</td>\n",
       "      <td>5.439816</td>\n",
       "      <td>0.769231</td>\n",
       "      <td>9.403180</td>\n",
       "      <td>5.204076</td>\n",
       "      <td>6.911722</td>\n",
       "      <td>5.0</td>\n",
       "      <td>6.671497</td>\n",
       "      <td>10.0</td>\n",
       "      <td>7.223832</td>\n",
       "      <td>6.100000</td>\n",
       "      <td>2.798030</td>\n",
       "      <td>4.488418</td>\n",
       "      <td>10.0</td>\n",
       "      <td>5.510352</td>\n",
       "      <td>3.0</td>\n",
       "      <td>5.316133</td>\n",
       "      <td>3.360776</td>\n",
       "      <td>5.111111</td>\n",
       "      <td>9.599498</td>\n",
       "      <td>3.979211</td>\n",
       "      <td>9.342649</td>\n",
       "      <td>8.374648</td>\n",
       "      <td>6.627982</td>\n",
       "      <td>6.389316</td>\n",
       "      <td>6.29</td>\n",
       "      <td>121.0</td>\n",
       "      <td>6.433736</td>\n",
       "      <td>109.0</td>\n",
       "      <td>3.0</td>\n",
       "    </tr>\n",
       "    <tr>\n",
       "      <td>79</td>\n",
       "      <td>2016</td>\n",
       "      <td>KWT</td>\n",
       "      <td>Kuwait</td>\n",
       "      <td>Middle East &amp; North Africa</td>\n",
       "      <td>NaN</td>\n",
       "      <td>NaN</td>\n",
       "      <td>NaN</td>\n",
       "      <td>5.222398</td>\n",
       "      <td>9.260432</td>\n",
       "      <td>10.0</td>\n",
       "      <td>10.000000</td>\n",
       "      <td>7.5</td>\n",
       "      <td>9.917748</td>\n",
       "      <td>9.950649</td>\n",
       "      <td>9.473679</td>\n",
       "      <td>10.0</td>\n",
       "      <td>7.5</td>\n",
       "      <td>0.0</td>\n",
       "      <td>0.0</td>\n",
       "      <td>0.0</td>\n",
       "      <td>5.833333</td>\n",
       "      <td>8.189148</td>\n",
       "      <td>10.0</td>\n",
       "      <td>0.0</td>\n",
       "      <td>5.0</td>\n",
       "      <td>5.000000</td>\n",
       "      <td>NaN</td>\n",
       "      <td>NaN</td>\n",
       "      <td>2.5</td>\n",
       "      <td>8.060000</td>\n",
       "      <td>3.377778</td>\n",
       "      <td>4.645926</td>\n",
       "      <td>7.5</td>\n",
       "      <td>7.5</td>\n",
       "      <td>NaN</td>\n",
       "      <td>NaN</td>\n",
       "      <td>0.0</td>\n",
       "      <td>NaN</td>\n",
       "      <td>NaN</td>\n",
       "      <td>2.5</td>\n",
       "      <td>NaN</td>\n",
       "      <td>NaN</td>\n",
       "      <td>2.5</td>\n",
       "      <td>4.0</td>\n",
       "      <td>10.00000</td>\n",
       "      <td>10.000000</td>\n",
       "      <td>3.000000</td>\n",
       "      <td>4.25</td>\n",
       "      <td>10.0</td>\n",
       "      <td>7.5</td>\n",
       "      <td>7.5</td>\n",
       "      <td>7.464286</td>\n",
       "      <td>NaN</td>\n",
       "      <td>0.0</td>\n",
       "      <td>0.0</td>\n",
       "      <td>0.0</td>\n",
       "      <td>0.0</td>\n",
       "      <td>10.0</td>\n",
       "      <td>5.0</td>\n",
       "      <td>0.0</td>\n",
       "      <td>1.666667</td>\n",
       "      <td>5.630574</td>\n",
       "      <td>133.0</td>\n",
       "      <td>1.052941</td>\n",
       "      <td>6.896331</td>\n",
       "      <td>7.0</td>\n",
       "      <td>10.0</td>\n",
       "      <td>10.0</td>\n",
       "      <td>10.0</td>\n",
       "      <td>6.237318</td>\n",
       "      <td>6.028138</td>\n",
       "      <td>4.866458</td>\n",
       "      <td>6.037734</td>\n",
       "      <td>8.333333</td>\n",
       "      <td>6.666667</td>\n",
       "      <td>5.068859</td>\n",
       "      <td>9.174171</td>\n",
       "      <td>6.659853</td>\n",
       "      <td>6.743341</td>\n",
       "      <td>0.487179</td>\n",
       "      <td>4.922445</td>\n",
       "      <td>9.357262</td>\n",
       "      <td>4.649800</td>\n",
       "      <td>9.3620</td>\n",
       "      <td>10.0</td>\n",
       "      <td>8.342266</td>\n",
       "      <td>9.380000</td>\n",
       "      <td>9.06</td>\n",
       "      <td>7.8944</td>\n",
       "      <td>8.778133</td>\n",
       "      <td>5.310666</td>\n",
       "      <td>3.585233</td>\n",
       "      <td>4.447949</td>\n",
       "      <td>10.000000</td>\n",
       "      <td>3.134716</td>\n",
       "      <td>3.076923</td>\n",
       "      <td>6.195036</td>\n",
       "      <td>4.135558</td>\n",
       "      <td>6.840410</td>\n",
       "      <td>10.0</td>\n",
       "      <td>10.000000</td>\n",
       "      <td>10.0</td>\n",
       "      <td>10.000000</td>\n",
       "      <td>10.000000</td>\n",
       "      <td>4.660026</td>\n",
       "      <td>6.412864</td>\n",
       "      <td>4.0</td>\n",
       "      <td>4.387940</td>\n",
       "      <td>10.0</td>\n",
       "      <td>6.576805</td>\n",
       "      <td>3.603682</td>\n",
       "      <td>2.000000</td>\n",
       "      <td>8.721639</td>\n",
       "      <td>3.998116</td>\n",
       "      <td>7.067899</td>\n",
       "      <td>8.901486</td>\n",
       "      <td>5.715470</td>\n",
       "      <td>7.430758</td>\n",
       "      <td>6.75</td>\n",
       "      <td>90.0</td>\n",
       "      <td>6.190287</td>\n",
       "      <td>124.0</td>\n",
       "      <td>4.0</td>\n",
       "    </tr>\n",
       "  </tbody>\n",
       "</table>\n",
       "</div>"
      ],
      "text/plain": [
       "     year ISO_code countries                      region  pf_rol_procedural  \\\n",
       "86   2016      LBY     Libya  Middle East & North Africa                NaN   \n",
       "150  2016      TUR    Turkey  Middle East & North Africa           3.579995   \n",
       "9    2016      BHR   Bahrain  Middle East & North Africa                NaN   \n",
       "149  2016      TUN   Tunisia  Middle East & North Africa           5.074037   \n",
       "79   2016      KWT    Kuwait  Middle East & North Africa                NaN   \n",
       "\n",
       "     pf_rol_civil  pf_rol_criminal    pf_rol  pf_ss_homicide  \\\n",
       "86            NaN              NaN  2.198018        8.998449   \n",
       "150      4.373414         3.970161  3.974523        8.274906   \n",
       "9             NaN              NaN  5.900339        9.790481   \n",
       "149      4.903501         4.295872  4.757804        8.780159   \n",
       "79            NaN              NaN  5.222398        9.260432   \n",
       "\n",
       "     pf_ss_disappearances_disap  pf_ss_disappearances_violent  \\\n",
       "86                          5.0                      0.000000   \n",
       "150                        10.0                      0.000000   \n",
       "9                          10.0                     10.000000   \n",
       "149                        10.0                      7.895336   \n",
       "79                         10.0                     10.000000   \n",
       "\n",
       "     pf_ss_disappearances_organized  pf_ss_disappearances_fatalities  \\\n",
       "86                              0.0                         0.000000   \n",
       "150                             2.5                         5.791014   \n",
       "9                               2.5                         9.766110   \n",
       "149                             5.0                         7.924568   \n",
       "79                              7.5                         9.917748   \n",
       "\n",
       "     pf_ss_disappearances_injuries  pf_ss_disappearances  pf_ss_women_fgm  \\\n",
       "86                        0.000000              1.000000             10.0   \n",
       "150                       3.027505              4.263704             10.0   \n",
       "9                         9.719332              8.397088             10.0   \n",
       "149                       9.543990              8.072779             10.0   \n",
       "79                        9.950649              9.473679             10.0   \n",
       "\n",
       "     pf_ss_women_missing  pf_ss_women_inheritance_widows  \\\n",
       "86                   7.5                             0.0   \n",
       "150                 10.0                            10.0   \n",
       "9                    7.5                             0.0   \n",
       "149                  7.5                             0.0   \n",
       "79                   7.5                             0.0   \n",
       "\n",
       "     pf_ss_women_inheritance_daughters  pf_ss_women_inheritance  pf_ss_women  \\\n",
       "86                                 0.0                      0.0     5.833333   \n",
       "150                               10.0                     10.0    10.000000   \n",
       "9                                  0.0                      0.0     5.833333   \n",
       "149                                0.0                      0.0     5.833333   \n",
       "79                                 0.0                      0.0     5.833333   \n",
       "\n",
       "        pf_ss  pf_movement_domestic  pf_movement_foreign  pf_movement_women  \\\n",
       "86   5.277261                   NaN                  NaN                5.0   \n",
       "150  7.512870                  10.0                 10.0               10.0   \n",
       "9    8.006968                  10.0                  5.0                5.0   \n",
       "149  7.562090                  10.0                 10.0                5.0   \n",
       "79   8.189148                  10.0                  0.0                5.0   \n",
       "\n",
       "     pf_movement  pf_religion_estop_establish  pf_religion_estop_operate  \\\n",
       "86      5.000000                          NaN                        NaN   \n",
       "150    10.000000                          NaN                        NaN   \n",
       "9       6.666667                          NaN                        NaN   \n",
       "149     8.333333                          NaN                        NaN   \n",
       "79      5.000000                          NaN                        NaN   \n",
       "\n",
       "     pf_religion_estop  pf_religion_harassment  pf_religion_restrictions  \\\n",
       "86                 7.5                7.533333                  5.783333   \n",
       "150                2.5                7.048889                  3.933333   \n",
       "9                 10.0                8.362222                  4.022222   \n",
       "149                7.5                8.033333                  3.838889   \n",
       "79                 2.5                8.060000                  3.377778   \n",
       "\n",
       "     pf_religion  pf_association_association  pf_association_assembly  \\\n",
       "86      6.938889                         2.5                      2.5   \n",
       "150     4.494074                         7.5                      5.0   \n",
       "9       7.461481                         5.0                      0.0   \n",
       "149     6.457407                         7.5                      7.5   \n",
       "79      4.645926                         7.5                      7.5   \n",
       "\n",
       "     pf_association_political_establish  pf_association_political_operate  \\\n",
       "86                                  NaN                               NaN   \n",
       "150                                 NaN                               NaN   \n",
       "9                                   NaN                               NaN   \n",
       "149                                 NaN                               NaN   \n",
       "79                                  NaN                               NaN   \n",
       "\n",
       "     pf_association_political  pf_association_prof_establish  \\\n",
       "86                        2.5                            NaN   \n",
       "150                       5.0                            NaN   \n",
       "9                         0.0                            NaN   \n",
       "149                       7.5                            NaN   \n",
       "79                        0.0                            NaN   \n",
       "\n",
       "     pf_association_prof_operate  pf_association_prof  \\\n",
       "86                           NaN                  2.5   \n",
       "150                          NaN                  2.5   \n",
       "9                            NaN                 10.0   \n",
       "149                          NaN                  7.5   \n",
       "79                           NaN                  2.5   \n",
       "\n",
       "     pf_association_sport_establish  pf_association_sport_operate  \\\n",
       "86                              NaN                           NaN   \n",
       "150                             NaN                           NaN   \n",
       "9                               NaN                           NaN   \n",
       "149                             NaN                           NaN   \n",
       "79                              NaN                           NaN   \n",
       "\n",
       "     pf_association_sport  pf_association  pf_expression_killed  \\\n",
       "86                    2.5             2.5               0.00000   \n",
       "150                   2.5             4.5               7.48467   \n",
       "9                    10.0             5.0              10.00000   \n",
       "149                  10.0             8.0              10.00000   \n",
       "79                    2.5             4.0              10.00000   \n",
       "\n",
       "     pf_expression_jailed  pf_expression_influence  pf_expression_control  \\\n",
       "86              10.000000                 2.666667                   1.25   \n",
       "150              0.000000                 1.000000                   1.75   \n",
       "9                0.000000                 0.666667                   0.75   \n",
       "149              9.123057                 4.000000                   5.50   \n",
       "79              10.000000                 3.000000                   4.25   \n",
       "\n",
       "     pf_expression_cable  pf_expression_newspapers  pf_expression_internet  \\\n",
       "86                   7.5                       7.5                     5.0   \n",
       "150                  5.0                       7.5                     5.0   \n",
       "9                    7.5                       7.5                     2.5   \n",
       "149                 10.0                       7.5                    10.0   \n",
       "79                  10.0                       7.5                     7.5   \n",
       "\n",
       "     pf_expression  pf_identity_legal  pf_identity_parental_marriage  \\\n",
       "86        4.845238                NaN                            0.0   \n",
       "150       3.962096                7.0                           10.0   \n",
       "9         4.130952                NaN                            0.0   \n",
       "149       8.017580                NaN                            5.0   \n",
       "79        7.464286                NaN                            0.0   \n",
       "\n",
       "     pf_identity_parental_divorce  pf_identity_parental  pf_identity_sex_male  \\\n",
       "86                            5.0                   2.5                   0.0   \n",
       "150                          10.0                  10.0                  10.0   \n",
       "9                             0.0                   0.0                  10.0   \n",
       "149                           0.0                   2.5                   0.0   \n",
       "79                            0.0                   0.0                   0.0   \n",
       "\n",
       "     pf_identity_sex_female  pf_identity_sex  pf_identity_divorce  \\\n",
       "86                      0.0              0.0                  0.0   \n",
       "150                    10.0             10.0                 10.0   \n",
       "9                      10.0             10.0                  0.0   \n",
       "149                     0.0              0.0                 10.0   \n",
       "79                     10.0              5.0                  0.0   \n",
       "\n",
       "     pf_identity  pf_score  pf_rank  ef_government_consumption  \\\n",
       "86      0.833333  3.880566    159.0                   0.000000   \n",
       "150     9.250000  6.092465    118.0                   5.920588   \n",
       "9       3.333333  6.136070    114.0                   3.688235   \n",
       "149     4.166667  6.577472     98.0                   5.311765   \n",
       "79      1.666667  5.630574    133.0                   1.052941   \n",
       "\n",
       "     ef_government_transfers  ef_government_enterprises  \\\n",
       "86                       NaN                        NaN   \n",
       "150                 6.385132                        7.0   \n",
       "9                   9.581704                       10.0   \n",
       "149                 6.411152                        7.0   \n",
       "79                  6.896331                        7.0   \n",
       "\n",
       "     ef_government_tax_income  ef_government_tax_payroll  ef_government_tax  \\\n",
       "86                       10.0                        9.0                9.5   \n",
       "150                       7.0                        7.0                7.0   \n",
       "9                        10.0                       10.0               10.0   \n",
       "149                       7.0                        2.0                4.5   \n",
       "79                       10.0                       10.0               10.0   \n",
       "\n",
       "     ef_government  ef_legal_judicial  ef_legal_courts  ef_legal_protection  \\\n",
       "86        4.750000           3.398277         2.332075             3.278082   \n",
       "150       6.576430           3.437320         3.177842             5.590816   \n",
       "9         8.317485           6.822563         6.231401             7.435713   \n",
       "149       5.805729           4.698957         4.116499             5.830284   \n",
       "79        6.237318           6.028138         4.866458             6.037734   \n",
       "\n",
       "     ef_legal_military  ef_legal_integrity  ef_legal_enforcement  \\\n",
       "86            5.000000            6.666667              3.623948   \n",
       "150           3.333333            5.000000              4.580553   \n",
       "9             5.000000            7.500000              4.785814   \n",
       "149           6.666667            8.333333              4.881959   \n",
       "79            8.333333            6.666667              5.068859   \n",
       "\n",
       "     ef_legal_restrictions  ef_legal_police  ef_legal_crime  ef_legal_gender  \\\n",
       "86                     NaN         1.672884        2.451828         0.804878   \n",
       "150               8.881572         5.576923        5.755081         0.897436   \n",
       "9                 8.855315         7.764706        7.287250         0.536585   \n",
       "149               7.257791         5.566157        5.266135         0.804878   \n",
       "79                9.174171         6.659853        6.743341         0.487179   \n",
       "\n",
       "     ef_legal  ef_money_growth  ef_money_sd  ef_money_inflation  \\\n",
       "86   3.206339         7.001157     1.058436              4.5800   \n",
       "150  4.778739         7.966541     9.640305              8.4450   \n",
       "9    5.265602         9.961596     8.215418              9.4404   \n",
       "149  5.276038         9.343496     9.646036              9.2578   \n",
       "79   4.922445         9.357262     4.649800              9.3620   \n",
       "\n",
       "     ef_money_currency  ef_money  ef_trade_tariffs_revenue  \\\n",
       "86                10.0  5.659898                       NaN   \n",
       "150               10.0  9.012962                  9.493333   \n",
       "9                 10.0  9.404353                  9.480000   \n",
       "149                0.0  7.061833                  8.833333   \n",
       "79                10.0  8.342266                  9.380000   \n",
       "\n",
       "     ef_trade_tariffs_mean  ef_trade_tariffs_sd  ef_trade_tariffs  \\\n",
       "86                     NaN                  NaN               NaN   \n",
       "150                   7.82               0.5388          5.950711   \n",
       "9                     9.06               7.0296          8.523200   \n",
       "149                   7.68               5.2672          7.260178   \n",
       "79                    9.06               7.8944          8.778133   \n",
       "\n",
       "     ef_trade_regulatory_nontariff  ef_trade_regulatory_compliance  \\\n",
       "86                        5.505607                        4.258602   \n",
       "150                       6.030467                        8.771009   \n",
       "9                         6.712476                        5.878713   \n",
       "149                       4.621747                        7.256813   \n",
       "79                        5.310666                        3.585233   \n",
       "\n",
       "     ef_trade_regulatory  ef_trade_black  ef_trade_movement_foreign  \\\n",
       "86              4.882105        7.372263                   5.009764   \n",
       "150             7.400738       10.000000                   5.844405   \n",
       "9               6.295595       10.000000                   7.456232   \n",
       "149             5.939280        9.243354                   5.439816   \n",
       "79              4.447949       10.000000                   3.134716   \n",
       "\n",
       "     ef_trade_movement_capital  ef_trade_movement_visit  ef_trade_movement  \\\n",
       "86                    0.769231                 0.331877           2.036957   \n",
       "150                   2.307692                 8.407549           5.519882   \n",
       "9                     6.153846                 0.774379           4.794819   \n",
       "149                   0.769231                 9.403180           5.204076   \n",
       "79                    3.076923                 6.195036           4.135558   \n",
       "\n",
       "     ef_trade  ef_regulation_credit_ownership  ef_regulation_credit_private  \\\n",
       "86   4.763775                             0.0                     10.000000   \n",
       "150  7.217833                             5.0                      9.595257   \n",
       "9    7.403403                            10.0                      2.827501   \n",
       "149  6.911722                             5.0                      6.671497   \n",
       "79   6.840410                            10.0                     10.000000   \n",
       "\n",
       "     ef_regulation_credit_interest  ef_regulation_credit  \\\n",
       "86                            10.0              6.666667   \n",
       "150                           10.0              8.198419   \n",
       "9                             10.0              7.609167   \n",
       "149                           10.0              7.223832   \n",
       "79                            10.0             10.000000   \n",
       "\n",
       "     ef_regulation_labor_minwage  ef_regulation_labor_firing  \\\n",
       "86                      7.233333                    2.654694   \n",
       "150                     5.566667                    4.197221   \n",
       "9                       8.333333                    5.687467   \n",
       "149                     6.100000                    2.798030   \n",
       "79                     10.000000                    4.660026   \n",
       "\n",
       "     ef_regulation_labor_bargain  ef_regulation_labor_hours  \\\n",
       "86                      5.387762                        8.0   \n",
       "150                     6.882368                        8.0   \n",
       "9                       7.695706                        8.0   \n",
       "149                     4.488418                       10.0   \n",
       "79                      6.412864                        4.0   \n",
       "\n",
       "     ef_regulation_labor_dismissal  ef_regulation_labor_conscription  \\\n",
       "86                        4.387940                              10.0   \n",
       "150                       2.517254                               1.0   \n",
       "9                         0.000000                              10.0   \n",
       "149                       5.510352                               3.0   \n",
       "79                        4.387940                              10.0   \n",
       "\n",
       "     ef_regulation_labor  ef_regulation_business_adm  \\\n",
       "86              6.277288                    3.205259   \n",
       "150             4.693918                    4.078937   \n",
       "9               6.619418                    6.084863   \n",
       "149             5.316133                    3.360776   \n",
       "79              6.576805                    3.603682   \n",
       "\n",
       "     ef_regulation_business_bureaucracy  ef_regulation_business_start  \\\n",
       "86                             0.000000                      8.425078   \n",
       "150                            7.111111                      9.631863   \n",
       "9                              8.000000                      9.675831   \n",
       "149                            5.111111                      9.599498   \n",
       "79                             2.000000                      8.721639   \n",
       "\n",
       "     ef_regulation_business_bribes  ef_regulation_business_licensing  \\\n",
       "86                        3.132050                               NaN   \n",
       "150                       4.346272                          9.232431   \n",
       "9                         6.596745                          8.074670   \n",
       "149                       3.979211                          9.342649   \n",
       "79                        3.998116                          7.067899   \n",
       "\n",
       "     ef_regulation_business_compliance  ef_regulation_business  ef_regulation  \\\n",
       "86                            0.034909                2.959459       5.301138   \n",
       "150                           7.584390                6.997501       6.629946   \n",
       "9                             9.680534                8.018774       7.415786   \n",
       "149                           8.374648                6.627982       6.389316   \n",
       "79                            8.901486                5.715470       7.430758   \n",
       "\n",
       "     ef_score  ef_rank  hf_score  hf_rank  hf_quartile  \n",
       "86       4.74    161.0  4.310283    158.0          4.0  \n",
       "150      6.84     86.0  6.466233    107.0          3.0  \n",
       "9        7.56     30.0  6.848035     75.0          2.0  \n",
       "149      6.29    121.0  6.433736    109.0          3.0  \n",
       "79       6.75     90.0  6.190287    124.0          4.0  "
      ]
     },
     "execution_count": 5,
     "metadata": {},
     "output_type": "execute_result"
    }
   ],
   "source": [
    "# 1. ANALYSE SECURITY AND FREEDOM OF MOVEMENT OF WOMEN IN MIDDLE EASTERN & NORTH AFRICAN COUNTRIES IN 2016\n",
    "# We start our analysis by investigating freedom of women's movement in Middle Eastern \n",
    "# and North African countries because of the unstable conditions of the region.\n",
    "# First of all we need to filter the data set for the year 2016 and for the Middle East and North African regions.\n",
    "\n",
    "# Filtering data to observe Middle Eastern and North Africaan Countries in the most recent year (2016) :\n",
    "filter01 = data.year == 2016\n",
    "filter02 = data.region == 'Middle East & North Africa'\n",
    "data01 = data[filter01 & filter02]\n",
    "data01.sample(5)"
   ]
  },
  {
   "cell_type": "code",
   "execution_count": 6,
   "metadata": {},
   "outputs": [
    {
     "data": {
      "application/vnd.plotly.v1+json": {
       "config": {
        "linkText": "Export to plot.ly",
        "plotlyServerURL": "https://plot.ly",
        "showLink": false
       },
       "data": [
        {
         "marker": {
          "color": "rgba(150, 20, 20, 0.5)"
         },
         "mode": "lines+markers",
         "name": "Security of Women",
         "text": [
          "Algeria",
          "Bahrain",
          "Egypt",
          "Iran",
          "Iraq",
          "Israel",
          "Jordan",
          "Kuwait",
          "Lebanon",
          "Libya",
          "Morocco",
          "Oman",
          "Qatar",
          "Saudi Arabia",
          "Syria",
          "Tunisia",
          "Turkey",
          "United Arab Emirates",
          "Yemen, Rep."
         ],
         "type": "scatter",
         "x": [
          "DZA",
          "BHR",
          "EGY",
          "IRN",
          "IRQ",
          "ISR",
          "JOR",
          "KWT",
          "LBN",
          "LBY",
          "MAR",
          "OMN",
          "QAT",
          "SAU",
          "SYR",
          "TUN",
          "TUR",
          "ARE",
          "YEM"
         ],
         "y": [
          5.833333333,
          5.833333333,
          2.8,
          5.833333333,
          5.833333333,
          10,
          5.833333333,
          5.833333333,
          6.666666667,
          5.833333333,
          6.666666667,
          5.833333333,
          5.833333333,
          5,
          5.833333333,
          5.833333333,
          10,
          5.833333333,
          4.566666667
         ]
        },
        {
         "marker": {
          "color": "rgba(20, 150, 20, 0.5)"
         },
         "mode": "lines+markers",
         "name": "Freedom of Movement",
         "text": [
          "Algeria",
          "Bahrain",
          "Egypt",
          "Iran",
          "Iraq",
          "Israel",
          "Jordan",
          "Kuwait",
          "Lebanon",
          "Libya",
          "Morocco",
          "Oman",
          "Qatar",
          "Saudi Arabia",
          "Syria",
          "Tunisia",
          "Turkey",
          "United Arab Emirates",
          "Yemen, Rep."
         ],
         "type": "scatter",
         "x": [
          "DZA",
          "BHR",
          "EGY",
          "IRN",
          "IRQ",
          "ISR",
          "JOR",
          "KWT",
          "LBN",
          "LBY",
          "MAR",
          "OMN",
          "QAT",
          "SAU",
          "SYR",
          "TUN",
          "TUR",
          "ARE",
          "YEM"
         ],
         "y": [
          5,
          5,
          0,
          0,
          0,
          5,
          5,
          5,
          5,
          5,
          10,
          0,
          0,
          0,
          0,
          5,
          10,
          0,
          0
         ]
        }
       ],
       "layout": {
        "template": {
         "data": {
          "bar": [
           {
            "error_x": {
             "color": "#2a3f5f"
            },
            "error_y": {
             "color": "#2a3f5f"
            },
            "marker": {
             "line": {
              "color": "#E5ECF6",
              "width": 0.5
             }
            },
            "type": "bar"
           }
          ],
          "barpolar": [
           {
            "marker": {
             "line": {
              "color": "#E5ECF6",
              "width": 0.5
             }
            },
            "type": "barpolar"
           }
          ],
          "carpet": [
           {
            "aaxis": {
             "endlinecolor": "#2a3f5f",
             "gridcolor": "white",
             "linecolor": "white",
             "minorgridcolor": "white",
             "startlinecolor": "#2a3f5f"
            },
            "baxis": {
             "endlinecolor": "#2a3f5f",
             "gridcolor": "white",
             "linecolor": "white",
             "minorgridcolor": "white",
             "startlinecolor": "#2a3f5f"
            },
            "type": "carpet"
           }
          ],
          "choropleth": [
           {
            "colorbar": {
             "outlinewidth": 0,
             "ticks": ""
            },
            "type": "choropleth"
           }
          ],
          "contour": [
           {
            "colorbar": {
             "outlinewidth": 0,
             "ticks": ""
            },
            "colorscale": [
             [
              0,
              "#0d0887"
             ],
             [
              0.1111111111111111,
              "#46039f"
             ],
             [
              0.2222222222222222,
              "#7201a8"
             ],
             [
              0.3333333333333333,
              "#9c179e"
             ],
             [
              0.4444444444444444,
              "#bd3786"
             ],
             [
              0.5555555555555556,
              "#d8576b"
             ],
             [
              0.6666666666666666,
              "#ed7953"
             ],
             [
              0.7777777777777778,
              "#fb9f3a"
             ],
             [
              0.8888888888888888,
              "#fdca26"
             ],
             [
              1,
              "#f0f921"
             ]
            ],
            "type": "contour"
           }
          ],
          "contourcarpet": [
           {
            "colorbar": {
             "outlinewidth": 0,
             "ticks": ""
            },
            "type": "contourcarpet"
           }
          ],
          "heatmap": [
           {
            "colorbar": {
             "outlinewidth": 0,
             "ticks": ""
            },
            "colorscale": [
             [
              0,
              "#0d0887"
             ],
             [
              0.1111111111111111,
              "#46039f"
             ],
             [
              0.2222222222222222,
              "#7201a8"
             ],
             [
              0.3333333333333333,
              "#9c179e"
             ],
             [
              0.4444444444444444,
              "#bd3786"
             ],
             [
              0.5555555555555556,
              "#d8576b"
             ],
             [
              0.6666666666666666,
              "#ed7953"
             ],
             [
              0.7777777777777778,
              "#fb9f3a"
             ],
             [
              0.8888888888888888,
              "#fdca26"
             ],
             [
              1,
              "#f0f921"
             ]
            ],
            "type": "heatmap"
           }
          ],
          "heatmapgl": [
           {
            "colorbar": {
             "outlinewidth": 0,
             "ticks": ""
            },
            "colorscale": [
             [
              0,
              "#0d0887"
             ],
             [
              0.1111111111111111,
              "#46039f"
             ],
             [
              0.2222222222222222,
              "#7201a8"
             ],
             [
              0.3333333333333333,
              "#9c179e"
             ],
             [
              0.4444444444444444,
              "#bd3786"
             ],
             [
              0.5555555555555556,
              "#d8576b"
             ],
             [
              0.6666666666666666,
              "#ed7953"
             ],
             [
              0.7777777777777778,
              "#fb9f3a"
             ],
             [
              0.8888888888888888,
              "#fdca26"
             ],
             [
              1,
              "#f0f921"
             ]
            ],
            "type": "heatmapgl"
           }
          ],
          "histogram": [
           {
            "marker": {
             "colorbar": {
              "outlinewidth": 0,
              "ticks": ""
             }
            },
            "type": "histogram"
           }
          ],
          "histogram2d": [
           {
            "colorbar": {
             "outlinewidth": 0,
             "ticks": ""
            },
            "colorscale": [
             [
              0,
              "#0d0887"
             ],
             [
              0.1111111111111111,
              "#46039f"
             ],
             [
              0.2222222222222222,
              "#7201a8"
             ],
             [
              0.3333333333333333,
              "#9c179e"
             ],
             [
              0.4444444444444444,
              "#bd3786"
             ],
             [
              0.5555555555555556,
              "#d8576b"
             ],
             [
              0.6666666666666666,
              "#ed7953"
             ],
             [
              0.7777777777777778,
              "#fb9f3a"
             ],
             [
              0.8888888888888888,
              "#fdca26"
             ],
             [
              1,
              "#f0f921"
             ]
            ],
            "type": "histogram2d"
           }
          ],
          "histogram2dcontour": [
           {
            "colorbar": {
             "outlinewidth": 0,
             "ticks": ""
            },
            "colorscale": [
             [
              0,
              "#0d0887"
             ],
             [
              0.1111111111111111,
              "#46039f"
             ],
             [
              0.2222222222222222,
              "#7201a8"
             ],
             [
              0.3333333333333333,
              "#9c179e"
             ],
             [
              0.4444444444444444,
              "#bd3786"
             ],
             [
              0.5555555555555556,
              "#d8576b"
             ],
             [
              0.6666666666666666,
              "#ed7953"
             ],
             [
              0.7777777777777778,
              "#fb9f3a"
             ],
             [
              0.8888888888888888,
              "#fdca26"
             ],
             [
              1,
              "#f0f921"
             ]
            ],
            "type": "histogram2dcontour"
           }
          ],
          "mesh3d": [
           {
            "colorbar": {
             "outlinewidth": 0,
             "ticks": ""
            },
            "type": "mesh3d"
           }
          ],
          "parcoords": [
           {
            "line": {
             "colorbar": {
              "outlinewidth": 0,
              "ticks": ""
             }
            },
            "type": "parcoords"
           }
          ],
          "pie": [
           {
            "automargin": true,
            "type": "pie"
           }
          ],
          "scatter": [
           {
            "marker": {
             "colorbar": {
              "outlinewidth": 0,
              "ticks": ""
             }
            },
            "type": "scatter"
           }
          ],
          "scatter3d": [
           {
            "line": {
             "colorbar": {
              "outlinewidth": 0,
              "ticks": ""
             }
            },
            "marker": {
             "colorbar": {
              "outlinewidth": 0,
              "ticks": ""
             }
            },
            "type": "scatter3d"
           }
          ],
          "scattercarpet": [
           {
            "marker": {
             "colorbar": {
              "outlinewidth": 0,
              "ticks": ""
             }
            },
            "type": "scattercarpet"
           }
          ],
          "scattergeo": [
           {
            "marker": {
             "colorbar": {
              "outlinewidth": 0,
              "ticks": ""
             }
            },
            "type": "scattergeo"
           }
          ],
          "scattergl": [
           {
            "marker": {
             "colorbar": {
              "outlinewidth": 0,
              "ticks": ""
             }
            },
            "type": "scattergl"
           }
          ],
          "scattermapbox": [
           {
            "marker": {
             "colorbar": {
              "outlinewidth": 0,
              "ticks": ""
             }
            },
            "type": "scattermapbox"
           }
          ],
          "scatterpolar": [
           {
            "marker": {
             "colorbar": {
              "outlinewidth": 0,
              "ticks": ""
             }
            },
            "type": "scatterpolar"
           }
          ],
          "scatterpolargl": [
           {
            "marker": {
             "colorbar": {
              "outlinewidth": 0,
              "ticks": ""
             }
            },
            "type": "scatterpolargl"
           }
          ],
          "scatterternary": [
           {
            "marker": {
             "colorbar": {
              "outlinewidth": 0,
              "ticks": ""
             }
            },
            "type": "scatterternary"
           }
          ],
          "surface": [
           {
            "colorbar": {
             "outlinewidth": 0,
             "ticks": ""
            },
            "colorscale": [
             [
              0,
              "#0d0887"
             ],
             [
              0.1111111111111111,
              "#46039f"
             ],
             [
              0.2222222222222222,
              "#7201a8"
             ],
             [
              0.3333333333333333,
              "#9c179e"
             ],
             [
              0.4444444444444444,
              "#bd3786"
             ],
             [
              0.5555555555555556,
              "#d8576b"
             ],
             [
              0.6666666666666666,
              "#ed7953"
             ],
             [
              0.7777777777777778,
              "#fb9f3a"
             ],
             [
              0.8888888888888888,
              "#fdca26"
             ],
             [
              1,
              "#f0f921"
             ]
            ],
            "type": "surface"
           }
          ],
          "table": [
           {
            "cells": {
             "fill": {
              "color": "#EBF0F8"
             },
             "line": {
              "color": "white"
             }
            },
            "header": {
             "fill": {
              "color": "#C8D4E3"
             },
             "line": {
              "color": "white"
             }
            },
            "type": "table"
           }
          ]
         },
         "layout": {
          "annotationdefaults": {
           "arrowcolor": "#2a3f5f",
           "arrowhead": 0,
           "arrowwidth": 1
          },
          "autotypenumbers": "strict",
          "coloraxis": {
           "colorbar": {
            "outlinewidth": 0,
            "ticks": ""
           }
          },
          "colorscale": {
           "diverging": [
            [
             0,
             "#8e0152"
            ],
            [
             0.1,
             "#c51b7d"
            ],
            [
             0.2,
             "#de77ae"
            ],
            [
             0.3,
             "#f1b6da"
            ],
            [
             0.4,
             "#fde0ef"
            ],
            [
             0.5,
             "#f7f7f7"
            ],
            [
             0.6,
             "#e6f5d0"
            ],
            [
             0.7,
             "#b8e186"
            ],
            [
             0.8,
             "#7fbc41"
            ],
            [
             0.9,
             "#4d9221"
            ],
            [
             1,
             "#276419"
            ]
           ],
           "sequential": [
            [
             0,
             "#0d0887"
            ],
            [
             0.1111111111111111,
             "#46039f"
            ],
            [
             0.2222222222222222,
             "#7201a8"
            ],
            [
             0.3333333333333333,
             "#9c179e"
            ],
            [
             0.4444444444444444,
             "#bd3786"
            ],
            [
             0.5555555555555556,
             "#d8576b"
            ],
            [
             0.6666666666666666,
             "#ed7953"
            ],
            [
             0.7777777777777778,
             "#fb9f3a"
            ],
            [
             0.8888888888888888,
             "#fdca26"
            ],
            [
             1,
             "#f0f921"
            ]
           ],
           "sequentialminus": [
            [
             0,
             "#0d0887"
            ],
            [
             0.1111111111111111,
             "#46039f"
            ],
            [
             0.2222222222222222,
             "#7201a8"
            ],
            [
             0.3333333333333333,
             "#9c179e"
            ],
            [
             0.4444444444444444,
             "#bd3786"
            ],
            [
             0.5555555555555556,
             "#d8576b"
            ],
            [
             0.6666666666666666,
             "#ed7953"
            ],
            [
             0.7777777777777778,
             "#fb9f3a"
            ],
            [
             0.8888888888888888,
             "#fdca26"
            ],
            [
             1,
             "#f0f921"
            ]
           ]
          },
          "colorway": [
           "#636efa",
           "#EF553B",
           "#00cc96",
           "#ab63fa",
           "#FFA15A",
           "#19d3f3",
           "#FF6692",
           "#B6E880",
           "#FF97FF",
           "#FECB52"
          ],
          "font": {
           "color": "#2a3f5f"
          },
          "geo": {
           "bgcolor": "white",
           "lakecolor": "white",
           "landcolor": "#E5ECF6",
           "showlakes": true,
           "showland": true,
           "subunitcolor": "white"
          },
          "hoverlabel": {
           "align": "left"
          },
          "hovermode": "closest",
          "mapbox": {
           "style": "light"
          },
          "paper_bgcolor": "white",
          "plot_bgcolor": "#E5ECF6",
          "polar": {
           "angularaxis": {
            "gridcolor": "white",
            "linecolor": "white",
            "ticks": ""
           },
           "bgcolor": "#E5ECF6",
           "radialaxis": {
            "gridcolor": "white",
            "linecolor": "white",
            "ticks": ""
           }
          },
          "scene": {
           "xaxis": {
            "backgroundcolor": "#E5ECF6",
            "gridcolor": "white",
            "gridwidth": 2,
            "linecolor": "white",
            "showbackground": true,
            "ticks": "",
            "zerolinecolor": "white"
           },
           "yaxis": {
            "backgroundcolor": "#E5ECF6",
            "gridcolor": "white",
            "gridwidth": 2,
            "linecolor": "white",
            "showbackground": true,
            "ticks": "",
            "zerolinecolor": "white"
           },
           "zaxis": {
            "backgroundcolor": "#E5ECF6",
            "gridcolor": "white",
            "gridwidth": 2,
            "linecolor": "white",
            "showbackground": true,
            "ticks": "",
            "zerolinecolor": "white"
           }
          },
          "shapedefaults": {
           "line": {
            "color": "#2a3f5f"
           }
          },
          "ternary": {
           "aaxis": {
            "gridcolor": "white",
            "linecolor": "white",
            "ticks": ""
           },
           "baxis": {
            "gridcolor": "white",
            "linecolor": "white",
            "ticks": ""
           },
           "bgcolor": "#E5ECF6",
           "caxis": {
            "gridcolor": "white",
            "linecolor": "white",
            "ticks": ""
           }
          },
          "title": {
           "x": 0.05
          },
          "xaxis": {
           "automargin": true,
           "gridcolor": "white",
           "linecolor": "white",
           "ticks": "",
           "title": {
            "standoff": 15
           },
           "zerolinecolor": "white",
           "zerolinewidth": 2
          },
          "yaxis": {
           "automargin": true,
           "gridcolor": "white",
           "linecolor": "white",
           "ticks": "",
           "title": {
            "standoff": 15
           },
           "zerolinecolor": "white",
           "zerolinewidth": 2
          }
         }
        },
        "title": {
         "text": "Security of Women and Freedom of Women Movement Comparison in Middle East and Northern Africa"
        },
        "xaxis": {
         "ticklen": 3,
         "title": {
          "text": "Countries"
         },
         "zeroline": false
        }
       }
      },
      "text/html": [
       "<div>                            <div id=\"7d454f24-a8b6-40ea-b519-25496d4cc782\" class=\"plotly-graph-div\" style=\"height:525px; width:100%;\"></div>            <script type=\"text/javascript\">                require([\"plotly\"], function(Plotly) {                    window.PLOTLYENV=window.PLOTLYENV || {};                                    if (document.getElementById(\"7d454f24-a8b6-40ea-b519-25496d4cc782\")) {                    Plotly.newPlot(                        \"7d454f24-a8b6-40ea-b519-25496d4cc782\",                        [{\"marker\": {\"color\": \"rgba(150, 20, 20, 0.5)\"}, \"mode\": \"lines+markers\", \"name\": \"Security of Women\", \"text\": [\"Algeria\", \"Bahrain\", \"Egypt\", \"Iran\", \"Iraq\", \"Israel\", \"Jordan\", \"Kuwait\", \"Lebanon\", \"Libya\", \"Morocco\", \"Oman\", \"Qatar\", \"Saudi Arabia\", \"Syria\", \"Tunisia\", \"Turkey\", \"United Arab Emirates\", \"Yemen, Rep.\"], \"type\": \"scatter\", \"x\": [\"DZA\", \"BHR\", \"EGY\", \"IRN\", \"IRQ\", \"ISR\", \"JOR\", \"KWT\", \"LBN\", \"LBY\", \"MAR\", \"OMN\", \"QAT\", \"SAU\", \"SYR\", \"TUN\", \"TUR\", \"ARE\", \"YEM\"], \"y\": [5.833333333, 5.833333333, 2.8, 5.833333333, 5.833333333, 10.0, 5.833333333, 5.833333333, 6.666666667, 5.833333333, 6.666666667, 5.833333333, 5.833333333, 5.0, 5.833333333, 5.833333333, 10.0, 5.833333333, 4.566666667]}, {\"marker\": {\"color\": \"rgba(20, 150, 20, 0.5)\"}, \"mode\": \"lines+markers\", \"name\": \"Freedom of Movement\", \"text\": [\"Algeria\", \"Bahrain\", \"Egypt\", \"Iran\", \"Iraq\", \"Israel\", \"Jordan\", \"Kuwait\", \"Lebanon\", \"Libya\", \"Morocco\", \"Oman\", \"Qatar\", \"Saudi Arabia\", \"Syria\", \"Tunisia\", \"Turkey\", \"United Arab Emirates\", \"Yemen, Rep.\"], \"type\": \"scatter\", \"x\": [\"DZA\", \"BHR\", \"EGY\", \"IRN\", \"IRQ\", \"ISR\", \"JOR\", \"KWT\", \"LBN\", \"LBY\", \"MAR\", \"OMN\", \"QAT\", \"SAU\", \"SYR\", \"TUN\", \"TUR\", \"ARE\", \"YEM\"], \"y\": [5.0, 5.0, 0.0, 0.0, 0.0, 5.0, 5.0, 5.0, 5.0, 5.0, 10.0, 0.0, 0.0, 0.0, 0.0, 5.0, 10.0, 0.0, 0.0]}],                        {\"template\": {\"data\": {\"bar\": [{\"error_x\": {\"color\": \"#2a3f5f\"}, \"error_y\": {\"color\": \"#2a3f5f\"}, \"marker\": {\"line\": {\"color\": \"#E5ECF6\", \"width\": 0.5}}, \"type\": \"bar\"}], \"barpolar\": [{\"marker\": {\"line\": {\"color\": \"#E5ECF6\", \"width\": 0.5}}, \"type\": \"barpolar\"}], \"carpet\": [{\"aaxis\": {\"endlinecolor\": \"#2a3f5f\", \"gridcolor\": \"white\", \"linecolor\": \"white\", \"minorgridcolor\": \"white\", \"startlinecolor\": \"#2a3f5f\"}, \"baxis\": {\"endlinecolor\": \"#2a3f5f\", \"gridcolor\": \"white\", \"linecolor\": \"white\", \"minorgridcolor\": \"white\", \"startlinecolor\": \"#2a3f5f\"}, \"type\": \"carpet\"}], \"choropleth\": [{\"colorbar\": {\"outlinewidth\": 0, \"ticks\": \"\"}, \"type\": \"choropleth\"}], \"contour\": [{\"colorbar\": {\"outlinewidth\": 0, \"ticks\": \"\"}, \"colorscale\": [[0.0, \"#0d0887\"], [0.1111111111111111, \"#46039f\"], [0.2222222222222222, \"#7201a8\"], [0.3333333333333333, \"#9c179e\"], [0.4444444444444444, \"#bd3786\"], [0.5555555555555556, \"#d8576b\"], [0.6666666666666666, \"#ed7953\"], [0.7777777777777778, \"#fb9f3a\"], [0.8888888888888888, \"#fdca26\"], [1.0, \"#f0f921\"]], \"type\": \"contour\"}], \"contourcarpet\": [{\"colorbar\": {\"outlinewidth\": 0, \"ticks\": \"\"}, \"type\": \"contourcarpet\"}], \"heatmap\": [{\"colorbar\": {\"outlinewidth\": 0, \"ticks\": \"\"}, \"colorscale\": [[0.0, \"#0d0887\"], [0.1111111111111111, \"#46039f\"], [0.2222222222222222, \"#7201a8\"], [0.3333333333333333, \"#9c179e\"], [0.4444444444444444, \"#bd3786\"], [0.5555555555555556, \"#d8576b\"], [0.6666666666666666, \"#ed7953\"], [0.7777777777777778, \"#fb9f3a\"], [0.8888888888888888, \"#fdca26\"], [1.0, \"#f0f921\"]], \"type\": \"heatmap\"}], \"heatmapgl\": [{\"colorbar\": {\"outlinewidth\": 0, \"ticks\": \"\"}, \"colorscale\": [[0.0, \"#0d0887\"], [0.1111111111111111, \"#46039f\"], [0.2222222222222222, \"#7201a8\"], [0.3333333333333333, \"#9c179e\"], [0.4444444444444444, \"#bd3786\"], [0.5555555555555556, \"#d8576b\"], [0.6666666666666666, \"#ed7953\"], [0.7777777777777778, \"#fb9f3a\"], [0.8888888888888888, \"#fdca26\"], [1.0, \"#f0f921\"]], \"type\": \"heatmapgl\"}], \"histogram\": [{\"marker\": {\"colorbar\": {\"outlinewidth\": 0, \"ticks\": \"\"}}, \"type\": \"histogram\"}], \"histogram2d\": [{\"colorbar\": {\"outlinewidth\": 0, \"ticks\": \"\"}, \"colorscale\": [[0.0, \"#0d0887\"], [0.1111111111111111, \"#46039f\"], [0.2222222222222222, \"#7201a8\"], [0.3333333333333333, \"#9c179e\"], [0.4444444444444444, \"#bd3786\"], [0.5555555555555556, \"#d8576b\"], [0.6666666666666666, \"#ed7953\"], [0.7777777777777778, \"#fb9f3a\"], [0.8888888888888888, \"#fdca26\"], [1.0, \"#f0f921\"]], \"type\": \"histogram2d\"}], \"histogram2dcontour\": [{\"colorbar\": {\"outlinewidth\": 0, \"ticks\": \"\"}, \"colorscale\": [[0.0, \"#0d0887\"], [0.1111111111111111, \"#46039f\"], [0.2222222222222222, \"#7201a8\"], [0.3333333333333333, \"#9c179e\"], [0.4444444444444444, \"#bd3786\"], [0.5555555555555556, \"#d8576b\"], [0.6666666666666666, \"#ed7953\"], [0.7777777777777778, \"#fb9f3a\"], [0.8888888888888888, \"#fdca26\"], [1.0, \"#f0f921\"]], \"type\": \"histogram2dcontour\"}], \"mesh3d\": [{\"colorbar\": {\"outlinewidth\": 0, \"ticks\": \"\"}, \"type\": \"mesh3d\"}], \"parcoords\": [{\"line\": {\"colorbar\": {\"outlinewidth\": 0, \"ticks\": \"\"}}, \"type\": \"parcoords\"}], \"pie\": [{\"automargin\": true, \"type\": \"pie\"}], \"scatter\": [{\"marker\": {\"colorbar\": {\"outlinewidth\": 0, \"ticks\": \"\"}}, \"type\": \"scatter\"}], \"scatter3d\": [{\"line\": {\"colorbar\": {\"outlinewidth\": 0, \"ticks\": \"\"}}, \"marker\": {\"colorbar\": {\"outlinewidth\": 0, \"ticks\": \"\"}}, \"type\": \"scatter3d\"}], \"scattercarpet\": [{\"marker\": {\"colorbar\": {\"outlinewidth\": 0, \"ticks\": \"\"}}, \"type\": \"scattercarpet\"}], \"scattergeo\": [{\"marker\": {\"colorbar\": {\"outlinewidth\": 0, \"ticks\": \"\"}}, \"type\": \"scattergeo\"}], \"scattergl\": [{\"marker\": {\"colorbar\": {\"outlinewidth\": 0, \"ticks\": \"\"}}, \"type\": \"scattergl\"}], \"scattermapbox\": [{\"marker\": {\"colorbar\": {\"outlinewidth\": 0, \"ticks\": \"\"}}, \"type\": \"scattermapbox\"}], \"scatterpolar\": [{\"marker\": {\"colorbar\": {\"outlinewidth\": 0, \"ticks\": \"\"}}, \"type\": \"scatterpolar\"}], \"scatterpolargl\": [{\"marker\": {\"colorbar\": {\"outlinewidth\": 0, \"ticks\": \"\"}}, \"type\": \"scatterpolargl\"}], \"scatterternary\": [{\"marker\": {\"colorbar\": {\"outlinewidth\": 0, \"ticks\": \"\"}}, \"type\": \"scatterternary\"}], \"surface\": [{\"colorbar\": {\"outlinewidth\": 0, \"ticks\": \"\"}, \"colorscale\": [[0.0, \"#0d0887\"], [0.1111111111111111, \"#46039f\"], [0.2222222222222222, \"#7201a8\"], [0.3333333333333333, \"#9c179e\"], [0.4444444444444444, \"#bd3786\"], [0.5555555555555556, \"#d8576b\"], [0.6666666666666666, \"#ed7953\"], [0.7777777777777778, \"#fb9f3a\"], [0.8888888888888888, \"#fdca26\"], [1.0, \"#f0f921\"]], \"type\": \"surface\"}], \"table\": [{\"cells\": {\"fill\": {\"color\": \"#EBF0F8\"}, \"line\": {\"color\": \"white\"}}, \"header\": {\"fill\": {\"color\": \"#C8D4E3\"}, \"line\": {\"color\": \"white\"}}, \"type\": \"table\"}]}, \"layout\": {\"annotationdefaults\": {\"arrowcolor\": \"#2a3f5f\", \"arrowhead\": 0, \"arrowwidth\": 1}, \"autotypenumbers\": \"strict\", \"coloraxis\": {\"colorbar\": {\"outlinewidth\": 0, \"ticks\": \"\"}}, \"colorscale\": {\"diverging\": [[0, \"#8e0152\"], [0.1, \"#c51b7d\"], [0.2, \"#de77ae\"], [0.3, \"#f1b6da\"], [0.4, \"#fde0ef\"], [0.5, \"#f7f7f7\"], [0.6, \"#e6f5d0\"], [0.7, \"#b8e186\"], [0.8, \"#7fbc41\"], [0.9, \"#4d9221\"], [1, \"#276419\"]], \"sequential\": [[0.0, \"#0d0887\"], [0.1111111111111111, \"#46039f\"], [0.2222222222222222, \"#7201a8\"], [0.3333333333333333, \"#9c179e\"], [0.4444444444444444, \"#bd3786\"], [0.5555555555555556, \"#d8576b\"], [0.6666666666666666, \"#ed7953\"], [0.7777777777777778, \"#fb9f3a\"], [0.8888888888888888, \"#fdca26\"], [1.0, \"#f0f921\"]], \"sequentialminus\": [[0.0, \"#0d0887\"], [0.1111111111111111, \"#46039f\"], [0.2222222222222222, \"#7201a8\"], [0.3333333333333333, \"#9c179e\"], [0.4444444444444444, \"#bd3786\"], [0.5555555555555556, \"#d8576b\"], [0.6666666666666666, \"#ed7953\"], [0.7777777777777778, \"#fb9f3a\"], [0.8888888888888888, \"#fdca26\"], [1.0, \"#f0f921\"]]}, \"colorway\": [\"#636efa\", \"#EF553B\", \"#00cc96\", \"#ab63fa\", \"#FFA15A\", \"#19d3f3\", \"#FF6692\", \"#B6E880\", \"#FF97FF\", \"#FECB52\"], \"font\": {\"color\": \"#2a3f5f\"}, \"geo\": {\"bgcolor\": \"white\", \"lakecolor\": \"white\", \"landcolor\": \"#E5ECF6\", \"showlakes\": true, \"showland\": true, \"subunitcolor\": \"white\"}, \"hoverlabel\": {\"align\": \"left\"}, \"hovermode\": \"closest\", \"mapbox\": {\"style\": \"light\"}, \"paper_bgcolor\": \"white\", \"plot_bgcolor\": \"#E5ECF6\", \"polar\": {\"angularaxis\": {\"gridcolor\": \"white\", \"linecolor\": \"white\", \"ticks\": \"\"}, \"bgcolor\": \"#E5ECF6\", \"radialaxis\": {\"gridcolor\": \"white\", \"linecolor\": \"white\", \"ticks\": \"\"}}, \"scene\": {\"xaxis\": {\"backgroundcolor\": \"#E5ECF6\", \"gridcolor\": \"white\", \"gridwidth\": 2, \"linecolor\": \"white\", \"showbackground\": true, \"ticks\": \"\", \"zerolinecolor\": \"white\"}, \"yaxis\": {\"backgroundcolor\": \"#E5ECF6\", \"gridcolor\": \"white\", \"gridwidth\": 2, \"linecolor\": \"white\", \"showbackground\": true, \"ticks\": \"\", \"zerolinecolor\": \"white\"}, \"zaxis\": {\"backgroundcolor\": \"#E5ECF6\", \"gridcolor\": \"white\", \"gridwidth\": 2, \"linecolor\": \"white\", \"showbackground\": true, \"ticks\": \"\", \"zerolinecolor\": \"white\"}}, \"shapedefaults\": {\"line\": {\"color\": \"#2a3f5f\"}}, \"ternary\": {\"aaxis\": {\"gridcolor\": \"white\", \"linecolor\": \"white\", \"ticks\": \"\"}, \"baxis\": {\"gridcolor\": \"white\", \"linecolor\": \"white\", \"ticks\": \"\"}, \"bgcolor\": \"#E5ECF6\", \"caxis\": {\"gridcolor\": \"white\", \"linecolor\": \"white\", \"ticks\": \"\"}}, \"title\": {\"x\": 0.05}, \"xaxis\": {\"automargin\": true, \"gridcolor\": \"white\", \"linecolor\": \"white\", \"ticks\": \"\", \"title\": {\"standoff\": 15}, \"zerolinecolor\": \"white\", \"zerolinewidth\": 2}, \"yaxis\": {\"automargin\": true, \"gridcolor\": \"white\", \"linecolor\": \"white\", \"ticks\": \"\", \"title\": {\"standoff\": 15}, \"zerolinecolor\": \"white\", \"zerolinewidth\": 2}}}, \"title\": {\"text\": \"Security of Women and Freedom of Women Movement Comparison in Middle East and Northern Africa\"}, \"xaxis\": {\"ticklen\": 3, \"title\": {\"text\": \"Countries\"}, \"zeroline\": false}},                        {\"responsive\": true}                    ).then(function(){\n",
       "                            \n",
       "var gd = document.getElementById('7d454f24-a8b6-40ea-b519-25496d4cc782');\n",
       "var x = new MutationObserver(function (mutations, observer) {{\n",
       "        var display = window.getComputedStyle(gd).display;\n",
       "        if (!display || display === 'none') {{\n",
       "            console.log([gd, 'removed!']);\n",
       "            Plotly.purge(gd);\n",
       "            observer.disconnect();\n",
       "        }}\n",
       "}});\n",
       "\n",
       "// Listen for the removal of the full notebook cells\n",
       "var notebookContainer = gd.closest('#notebook-container');\n",
       "if (notebookContainer) {{\n",
       "    x.observe(notebookContainer, {childList: true});\n",
       "}}\n",
       "\n",
       "// Listen for the clearing of the current output cell\n",
       "var outputEl = gd.closest('.output');\n",
       "if (outputEl) {{\n",
       "    x.observe(outputEl, {childList: true});\n",
       "}}\n",
       "\n",
       "                        })                };                });            </script>        </div>"
      ]
     },
     "metadata": {},
     "output_type": "display_data"
    }
   ],
   "source": [
    "# Now we can draw our scatter graphic. \n",
    "# First trace will show us Middle East and North African women's security level in 2016. \n",
    "# First trace of the graphic will be red. \n",
    "# Second trace will show us the women's freedom of movement in the same regions in 2016. Second trace will be green.\n",
    "\n",
    "# First trace will be security of women in 2016: \n",
    "trace01 = go.Scatter(\n",
    "                     x = data01['ISO_code'],\n",
    "                     y = data01['pf_ss_women'],\n",
    "                     mode = 'lines+markers',\n",
    "                     name = 'Security of Women',\n",
    "                     marker = dict(color = 'rgba(150, 20, 20, 0.5)'),\n",
    "                     text= data01['countries'])\n",
    "# Second trace will show us freedom of women movement in 2016:\n",
    "trace02 = go.Scatter(\n",
    "                     x = data01['ISO_code'],\n",
    "                     y = data01['pf_movement_women'],\n",
    "                     mode = 'lines+markers',\n",
    "                     name = 'Freedom of Movement',\n",
    "                     marker = dict(color = 'rgba(20, 150, 20, 0.5)'),\n",
    "                     text= data01['countries'])\n",
    "datanew = [trace01, trace02]\n",
    "layoutnew = dict(title = 'Security of Women and Freedom of Women Movement Comparison in Middle East and Northern Africa',\n",
    "                 xaxis = dict(title = 'Countries', ticklen = 3, zeroline = False))\n",
    "fig = dict(data=datanew, layout=layoutnew)\n",
    "py.iplot(fig)"
   ]
  },
  {
   "cell_type": "code",
   "execution_count": 7,
   "metadata": {},
   "outputs": [],
   "source": [
    "# From the graphic above one can see some country's women has less freedom of movement, \n",
    "# even the women's security level is high in the country. \n",
    "# This might be related by different conditions like; \n",
    "# religion, culture, women's role in the economy or the law system of the country"
   ]
  },
  {
   "cell_type": "code",
   "execution_count": 8,
   "metadata": {},
   "outputs": [
    {
     "data": {
      "application/vnd.plotly.v1+json": {
       "config": {
        "linkText": "Export to plot.ly",
        "plotlyServerURL": "https://plot.ly",
        "showLink": false
       },
       "data": [
        {
         "marker": {
          "color": "rgba(0,0,255,0.5)"
         },
         "mode": "markers",
         "name": "Women Security in 2008",
         "text": [
          "Argentina",
          "Bahamas",
          "Barbados",
          "Belize",
          "Bolivia",
          "Brazil",
          "Chile",
          "Colombia",
          "Costa Rica",
          "Dominican Rep.",
          "Ecuador",
          "El Salvador",
          "Guatemala",
          "Guyana",
          "Haiti",
          "Honduras",
          "Jamaica",
          "Mexico",
          "Nicaragua",
          "Panama",
          "Paraguay",
          "Peru",
          "Suriname",
          "Trinidad and Tobago",
          "Uruguay",
          "Venezuela"
         ],
         "type": "scatter",
         "x": [
          "ARG",
          "BHS",
          "BRD",
          "BLZ",
          "BOL",
          "BRA",
          "CHL",
          "COL",
          "CRI",
          "DOM",
          "ECU",
          "SLV",
          "GTM",
          "GUY",
          "HTI",
          "HND",
          "JAM",
          "MEX",
          "NIC",
          "PAN",
          "PRY",
          "PER",
          "SUR",
          "TTO",
          "URY",
          "VEN"
         ],
         "y": [
          10,
          10,
          10,
          10,
          10,
          10,
          10,
          10,
          10,
          10,
          10,
          10,
          10,
          10,
          8.333333332999999,
          10,
          10,
          9.833333332999999,
          10,
          9.75,
          10,
          9.833333332999999,
          null,
          7.5,
          10,
          10
         ]
        },
        {
         "marker": {
          "color": "rgba(0,255,0,0.5)"
         },
         "mode": "markers",
         "name": "Women Security in 2013",
         "text": [
          "Argentina",
          "Bahamas",
          "Barbados",
          "Belize",
          "Bolivia",
          "Brazil",
          "Chile",
          "Colombia",
          "Costa Rica",
          "Dominican Rep.",
          "Ecuador",
          "El Salvador",
          "Guatemala",
          "Guyana",
          "Haiti",
          "Honduras",
          "Jamaica",
          "Mexico",
          "Nicaragua",
          "Panama",
          "Paraguay",
          "Peru",
          "Suriname",
          "Trinidad and Tobago",
          "Uruguay",
          "Venezuela"
         ],
         "type": "scatter",
         "x": [
          "ARG",
          "BHS",
          "BRD",
          "BLZ",
          "BOL",
          "BRA",
          "CHL",
          "COL",
          "CRI",
          "DOM",
          "ECU",
          "SLV",
          "GTM",
          "GUY",
          "HTI",
          "HND",
          "JAM",
          "MEX",
          "NIC",
          "PAN",
          "PRY",
          "PER",
          "SUR",
          "TTO",
          "URY",
          "VEN"
         ],
         "y": [
          10,
          null,
          null,
          10,
          8.333333332999999,
          8.333333332999999,
          8.333333332999999,
          10,
          10,
          10,
          10,
          10,
          10,
          10,
          8.333333332999999,
          8.333333332999999,
          10,
          8.333333332999999,
          8.333333332999999,
          10,
          8.333333332999999,
          8.333333332999999,
          5,
          8.333333332999999,
          8.333333332999999,
          10
         ]
        },
        {
         "marker": {
          "color": "rgba(255,0,0,0.5)"
         },
         "mode": "markers",
         "name": "Women Security in 2016",
         "text": [
          "Argentina",
          "Bahamas",
          "Barbados",
          "Belize",
          "Bolivia",
          "Brazil",
          "Chile",
          "Colombia",
          "Costa Rica",
          "Dominican Rep.",
          "Ecuador",
          "El Salvador",
          "Guatemala",
          "Guyana",
          "Haiti",
          "Honduras",
          "Jamaica",
          "Mexico",
          "Nicaragua",
          "Panama",
          "Paraguay",
          "Peru",
          "Suriname",
          "Trinidad and Tobago",
          "Uruguay",
          "Venezuela"
         ],
         "type": "scatter",
         "x": [
          "ARG",
          "BHS",
          "BRD",
          "BLZ",
          "BOL",
          "BRA",
          "CHL",
          "COL",
          "CRI",
          "DOM",
          "ECU",
          "SLV",
          "GTM",
          "GUY",
          "HTI",
          "HND",
          "JAM",
          "MEX",
          "NIC",
          "PAN",
          "PRY",
          "PER",
          "SUR",
          "TTO",
          "URY",
          "VEN"
         ],
         "y": [
          10,
          null,
          null,
          10,
          8.333333332999999,
          8.333333332999999,
          8.333333332999999,
          10,
          10,
          10,
          10,
          10,
          10,
          10,
          8.333333332999999,
          8.333333332999999,
          10,
          8.333333332999999,
          8.333333332999999,
          10,
          8.333333332999999,
          8.333333332999999,
          5,
          8.333333332999999,
          8.333333332999999,
          10
         ]
        }
       ],
       "layout": {
        "template": {
         "data": {
          "bar": [
           {
            "error_x": {
             "color": "#2a3f5f"
            },
            "error_y": {
             "color": "#2a3f5f"
            },
            "marker": {
             "line": {
              "color": "#E5ECF6",
              "width": 0.5
             }
            },
            "type": "bar"
           }
          ],
          "barpolar": [
           {
            "marker": {
             "line": {
              "color": "#E5ECF6",
              "width": 0.5
             }
            },
            "type": "barpolar"
           }
          ],
          "carpet": [
           {
            "aaxis": {
             "endlinecolor": "#2a3f5f",
             "gridcolor": "white",
             "linecolor": "white",
             "minorgridcolor": "white",
             "startlinecolor": "#2a3f5f"
            },
            "baxis": {
             "endlinecolor": "#2a3f5f",
             "gridcolor": "white",
             "linecolor": "white",
             "minorgridcolor": "white",
             "startlinecolor": "#2a3f5f"
            },
            "type": "carpet"
           }
          ],
          "choropleth": [
           {
            "colorbar": {
             "outlinewidth": 0,
             "ticks": ""
            },
            "type": "choropleth"
           }
          ],
          "contour": [
           {
            "colorbar": {
             "outlinewidth": 0,
             "ticks": ""
            },
            "colorscale": [
             [
              0,
              "#0d0887"
             ],
             [
              0.1111111111111111,
              "#46039f"
             ],
             [
              0.2222222222222222,
              "#7201a8"
             ],
             [
              0.3333333333333333,
              "#9c179e"
             ],
             [
              0.4444444444444444,
              "#bd3786"
             ],
             [
              0.5555555555555556,
              "#d8576b"
             ],
             [
              0.6666666666666666,
              "#ed7953"
             ],
             [
              0.7777777777777778,
              "#fb9f3a"
             ],
             [
              0.8888888888888888,
              "#fdca26"
             ],
             [
              1,
              "#f0f921"
             ]
            ],
            "type": "contour"
           }
          ],
          "contourcarpet": [
           {
            "colorbar": {
             "outlinewidth": 0,
             "ticks": ""
            },
            "type": "contourcarpet"
           }
          ],
          "heatmap": [
           {
            "colorbar": {
             "outlinewidth": 0,
             "ticks": ""
            },
            "colorscale": [
             [
              0,
              "#0d0887"
             ],
             [
              0.1111111111111111,
              "#46039f"
             ],
             [
              0.2222222222222222,
              "#7201a8"
             ],
             [
              0.3333333333333333,
              "#9c179e"
             ],
             [
              0.4444444444444444,
              "#bd3786"
             ],
             [
              0.5555555555555556,
              "#d8576b"
             ],
             [
              0.6666666666666666,
              "#ed7953"
             ],
             [
              0.7777777777777778,
              "#fb9f3a"
             ],
             [
              0.8888888888888888,
              "#fdca26"
             ],
             [
              1,
              "#f0f921"
             ]
            ],
            "type": "heatmap"
           }
          ],
          "heatmapgl": [
           {
            "colorbar": {
             "outlinewidth": 0,
             "ticks": ""
            },
            "colorscale": [
             [
              0,
              "#0d0887"
             ],
             [
              0.1111111111111111,
              "#46039f"
             ],
             [
              0.2222222222222222,
              "#7201a8"
             ],
             [
              0.3333333333333333,
              "#9c179e"
             ],
             [
              0.4444444444444444,
              "#bd3786"
             ],
             [
              0.5555555555555556,
              "#d8576b"
             ],
             [
              0.6666666666666666,
              "#ed7953"
             ],
             [
              0.7777777777777778,
              "#fb9f3a"
             ],
             [
              0.8888888888888888,
              "#fdca26"
             ],
             [
              1,
              "#f0f921"
             ]
            ],
            "type": "heatmapgl"
           }
          ],
          "histogram": [
           {
            "marker": {
             "colorbar": {
              "outlinewidth": 0,
              "ticks": ""
             }
            },
            "type": "histogram"
           }
          ],
          "histogram2d": [
           {
            "colorbar": {
             "outlinewidth": 0,
             "ticks": ""
            },
            "colorscale": [
             [
              0,
              "#0d0887"
             ],
             [
              0.1111111111111111,
              "#46039f"
             ],
             [
              0.2222222222222222,
              "#7201a8"
             ],
             [
              0.3333333333333333,
              "#9c179e"
             ],
             [
              0.4444444444444444,
              "#bd3786"
             ],
             [
              0.5555555555555556,
              "#d8576b"
             ],
             [
              0.6666666666666666,
              "#ed7953"
             ],
             [
              0.7777777777777778,
              "#fb9f3a"
             ],
             [
              0.8888888888888888,
              "#fdca26"
             ],
             [
              1,
              "#f0f921"
             ]
            ],
            "type": "histogram2d"
           }
          ],
          "histogram2dcontour": [
           {
            "colorbar": {
             "outlinewidth": 0,
             "ticks": ""
            },
            "colorscale": [
             [
              0,
              "#0d0887"
             ],
             [
              0.1111111111111111,
              "#46039f"
             ],
             [
              0.2222222222222222,
              "#7201a8"
             ],
             [
              0.3333333333333333,
              "#9c179e"
             ],
             [
              0.4444444444444444,
              "#bd3786"
             ],
             [
              0.5555555555555556,
              "#d8576b"
             ],
             [
              0.6666666666666666,
              "#ed7953"
             ],
             [
              0.7777777777777778,
              "#fb9f3a"
             ],
             [
              0.8888888888888888,
              "#fdca26"
             ],
             [
              1,
              "#f0f921"
             ]
            ],
            "type": "histogram2dcontour"
           }
          ],
          "mesh3d": [
           {
            "colorbar": {
             "outlinewidth": 0,
             "ticks": ""
            },
            "type": "mesh3d"
           }
          ],
          "parcoords": [
           {
            "line": {
             "colorbar": {
              "outlinewidth": 0,
              "ticks": ""
             }
            },
            "type": "parcoords"
           }
          ],
          "pie": [
           {
            "automargin": true,
            "type": "pie"
           }
          ],
          "scatter": [
           {
            "marker": {
             "colorbar": {
              "outlinewidth": 0,
              "ticks": ""
             }
            },
            "type": "scatter"
           }
          ],
          "scatter3d": [
           {
            "line": {
             "colorbar": {
              "outlinewidth": 0,
              "ticks": ""
             }
            },
            "marker": {
             "colorbar": {
              "outlinewidth": 0,
              "ticks": ""
             }
            },
            "type": "scatter3d"
           }
          ],
          "scattercarpet": [
           {
            "marker": {
             "colorbar": {
              "outlinewidth": 0,
              "ticks": ""
             }
            },
            "type": "scattercarpet"
           }
          ],
          "scattergeo": [
           {
            "marker": {
             "colorbar": {
              "outlinewidth": 0,
              "ticks": ""
             }
            },
            "type": "scattergeo"
           }
          ],
          "scattergl": [
           {
            "marker": {
             "colorbar": {
              "outlinewidth": 0,
              "ticks": ""
             }
            },
            "type": "scattergl"
           }
          ],
          "scattermapbox": [
           {
            "marker": {
             "colorbar": {
              "outlinewidth": 0,
              "ticks": ""
             }
            },
            "type": "scattermapbox"
           }
          ],
          "scatterpolar": [
           {
            "marker": {
             "colorbar": {
              "outlinewidth": 0,
              "ticks": ""
             }
            },
            "type": "scatterpolar"
           }
          ],
          "scatterpolargl": [
           {
            "marker": {
             "colorbar": {
              "outlinewidth": 0,
              "ticks": ""
             }
            },
            "type": "scatterpolargl"
           }
          ],
          "scatterternary": [
           {
            "marker": {
             "colorbar": {
              "outlinewidth": 0,
              "ticks": ""
             }
            },
            "type": "scatterternary"
           }
          ],
          "surface": [
           {
            "colorbar": {
             "outlinewidth": 0,
             "ticks": ""
            },
            "colorscale": [
             [
              0,
              "#0d0887"
             ],
             [
              0.1111111111111111,
              "#46039f"
             ],
             [
              0.2222222222222222,
              "#7201a8"
             ],
             [
              0.3333333333333333,
              "#9c179e"
             ],
             [
              0.4444444444444444,
              "#bd3786"
             ],
             [
              0.5555555555555556,
              "#d8576b"
             ],
             [
              0.6666666666666666,
              "#ed7953"
             ],
             [
              0.7777777777777778,
              "#fb9f3a"
             ],
             [
              0.8888888888888888,
              "#fdca26"
             ],
             [
              1,
              "#f0f921"
             ]
            ],
            "type": "surface"
           }
          ],
          "table": [
           {
            "cells": {
             "fill": {
              "color": "#EBF0F8"
             },
             "line": {
              "color": "white"
             }
            },
            "header": {
             "fill": {
              "color": "#C8D4E3"
             },
             "line": {
              "color": "white"
             }
            },
            "type": "table"
           }
          ]
         },
         "layout": {
          "annotationdefaults": {
           "arrowcolor": "#2a3f5f",
           "arrowhead": 0,
           "arrowwidth": 1
          },
          "autotypenumbers": "strict",
          "coloraxis": {
           "colorbar": {
            "outlinewidth": 0,
            "ticks": ""
           }
          },
          "colorscale": {
           "diverging": [
            [
             0,
             "#8e0152"
            ],
            [
             0.1,
             "#c51b7d"
            ],
            [
             0.2,
             "#de77ae"
            ],
            [
             0.3,
             "#f1b6da"
            ],
            [
             0.4,
             "#fde0ef"
            ],
            [
             0.5,
             "#f7f7f7"
            ],
            [
             0.6,
             "#e6f5d0"
            ],
            [
             0.7,
             "#b8e186"
            ],
            [
             0.8,
             "#7fbc41"
            ],
            [
             0.9,
             "#4d9221"
            ],
            [
             1,
             "#276419"
            ]
           ],
           "sequential": [
            [
             0,
             "#0d0887"
            ],
            [
             0.1111111111111111,
             "#46039f"
            ],
            [
             0.2222222222222222,
             "#7201a8"
            ],
            [
             0.3333333333333333,
             "#9c179e"
            ],
            [
             0.4444444444444444,
             "#bd3786"
            ],
            [
             0.5555555555555556,
             "#d8576b"
            ],
            [
             0.6666666666666666,
             "#ed7953"
            ],
            [
             0.7777777777777778,
             "#fb9f3a"
            ],
            [
             0.8888888888888888,
             "#fdca26"
            ],
            [
             1,
             "#f0f921"
            ]
           ],
           "sequentialminus": [
            [
             0,
             "#0d0887"
            ],
            [
             0.1111111111111111,
             "#46039f"
            ],
            [
             0.2222222222222222,
             "#7201a8"
            ],
            [
             0.3333333333333333,
             "#9c179e"
            ],
            [
             0.4444444444444444,
             "#bd3786"
            ],
            [
             0.5555555555555556,
             "#d8576b"
            ],
            [
             0.6666666666666666,
             "#ed7953"
            ],
            [
             0.7777777777777778,
             "#fb9f3a"
            ],
            [
             0.8888888888888888,
             "#fdca26"
            ],
            [
             1,
             "#f0f921"
            ]
           ]
          },
          "colorway": [
           "#636efa",
           "#EF553B",
           "#00cc96",
           "#ab63fa",
           "#FFA15A",
           "#19d3f3",
           "#FF6692",
           "#B6E880",
           "#FF97FF",
           "#FECB52"
          ],
          "font": {
           "color": "#2a3f5f"
          },
          "geo": {
           "bgcolor": "white",
           "lakecolor": "white",
           "landcolor": "#E5ECF6",
           "showlakes": true,
           "showland": true,
           "subunitcolor": "white"
          },
          "hoverlabel": {
           "align": "left"
          },
          "hovermode": "closest",
          "mapbox": {
           "style": "light"
          },
          "paper_bgcolor": "white",
          "plot_bgcolor": "#E5ECF6",
          "polar": {
           "angularaxis": {
            "gridcolor": "white",
            "linecolor": "white",
            "ticks": ""
           },
           "bgcolor": "#E5ECF6",
           "radialaxis": {
            "gridcolor": "white",
            "linecolor": "white",
            "ticks": ""
           }
          },
          "scene": {
           "xaxis": {
            "backgroundcolor": "#E5ECF6",
            "gridcolor": "white",
            "gridwidth": 2,
            "linecolor": "white",
            "showbackground": true,
            "ticks": "",
            "zerolinecolor": "white"
           },
           "yaxis": {
            "backgroundcolor": "#E5ECF6",
            "gridcolor": "white",
            "gridwidth": 2,
            "linecolor": "white",
            "showbackground": true,
            "ticks": "",
            "zerolinecolor": "white"
           },
           "zaxis": {
            "backgroundcolor": "#E5ECF6",
            "gridcolor": "white",
            "gridwidth": 2,
            "linecolor": "white",
            "showbackground": true,
            "ticks": "",
            "zerolinecolor": "white"
           }
          },
          "shapedefaults": {
           "line": {
            "color": "#2a3f5f"
           }
          },
          "ternary": {
           "aaxis": {
            "gridcolor": "white",
            "linecolor": "white",
            "ticks": ""
           },
           "baxis": {
            "gridcolor": "white",
            "linecolor": "white",
            "ticks": ""
           },
           "bgcolor": "#E5ECF6",
           "caxis": {
            "gridcolor": "white",
            "linecolor": "white",
            "ticks": ""
           }
          },
          "title": {
           "x": 0.05
          },
          "xaxis": {
           "automargin": true,
           "gridcolor": "white",
           "linecolor": "white",
           "ticks": "",
           "title": {
            "standoff": 15
           },
           "zerolinecolor": "white",
           "zerolinewidth": 2
          },
          "yaxis": {
           "automargin": true,
           "gridcolor": "white",
           "linecolor": "white",
           "ticks": "",
           "title": {
            "standoff": 15
           },
           "zerolinecolor": "white",
           "zerolinewidth": 2
          }
         }
        },
        "title": {
         "text": "Security of Women in Latin America & the Caribbean Between 2008, 2013, 2016"
        },
        "xaxis": {
         "ticklen": 3,
         "title": {
          "text": "Countries"
         },
         "zeroline": false
        }
       }
      },
      "text/html": [
       "<div>                            <div id=\"06fb933f-7839-4d60-aba2-f9277ca99f6c\" class=\"plotly-graph-div\" style=\"height:525px; width:100%;\"></div>            <script type=\"text/javascript\">                require([\"plotly\"], function(Plotly) {                    window.PLOTLYENV=window.PLOTLYENV || {};                                    if (document.getElementById(\"06fb933f-7839-4d60-aba2-f9277ca99f6c\")) {                    Plotly.newPlot(                        \"06fb933f-7839-4d60-aba2-f9277ca99f6c\",                        [{\"marker\": {\"color\": \"rgba(0,0,255,0.5)\"}, \"mode\": \"markers\", \"name\": \"Women Security in 2008\", \"text\": [\"Argentina\", \"Bahamas\", \"Barbados\", \"Belize\", \"Bolivia\", \"Brazil\", \"Chile\", \"Colombia\", \"Costa Rica\", \"Dominican Rep.\", \"Ecuador\", \"El Salvador\", \"Guatemala\", \"Guyana\", \"Haiti\", \"Honduras\", \"Jamaica\", \"Mexico\", \"Nicaragua\", \"Panama\", \"Paraguay\", \"Peru\", \"Suriname\", \"Trinidad and Tobago\", \"Uruguay\", \"Venezuela\"], \"type\": \"scatter\", \"x\": [\"ARG\", \"BHS\", \"BRD\", \"BLZ\", \"BOL\", \"BRA\", \"CHL\", \"COL\", \"CRI\", \"DOM\", \"ECU\", \"SLV\", \"GTM\", \"GUY\", \"HTI\", \"HND\", \"JAM\", \"MEX\", \"NIC\", \"PAN\", \"PRY\", \"PER\", \"SUR\", \"TTO\", \"URY\", \"VEN\"], \"y\": [10.0, 10.0, 10.0, 10.0, 10.0, 10.0, 10.0, 10.0, 10.0, 10.0, 10.0, 10.0, 10.0, 10.0, 8.333333332999999, 10.0, 10.0, 9.833333332999999, 10.0, 9.75, 10.0, 9.833333332999999, null, 7.5, 10.0, 10.0]}, {\"marker\": {\"color\": \"rgba(0,255,0,0.5)\"}, \"mode\": \"markers\", \"name\": \"Women Security in 2013\", \"text\": [\"Argentina\", \"Bahamas\", \"Barbados\", \"Belize\", \"Bolivia\", \"Brazil\", \"Chile\", \"Colombia\", \"Costa Rica\", \"Dominican Rep.\", \"Ecuador\", \"El Salvador\", \"Guatemala\", \"Guyana\", \"Haiti\", \"Honduras\", \"Jamaica\", \"Mexico\", \"Nicaragua\", \"Panama\", \"Paraguay\", \"Peru\", \"Suriname\", \"Trinidad and Tobago\", \"Uruguay\", \"Venezuela\"], \"type\": \"scatter\", \"x\": [\"ARG\", \"BHS\", \"BRD\", \"BLZ\", \"BOL\", \"BRA\", \"CHL\", \"COL\", \"CRI\", \"DOM\", \"ECU\", \"SLV\", \"GTM\", \"GUY\", \"HTI\", \"HND\", \"JAM\", \"MEX\", \"NIC\", \"PAN\", \"PRY\", \"PER\", \"SUR\", \"TTO\", \"URY\", \"VEN\"], \"y\": [10.0, null, null, 10.0, 8.333333332999999, 8.333333332999999, 8.333333332999999, 10.0, 10.0, 10.0, 10.0, 10.0, 10.0, 10.0, 8.333333332999999, 8.333333332999999, 10.0, 8.333333332999999, 8.333333332999999, 10.0, 8.333333332999999, 8.333333332999999, 5.0, 8.333333332999999, 8.333333332999999, 10.0]}, {\"marker\": {\"color\": \"rgba(255,0,0,0.5)\"}, \"mode\": \"markers\", \"name\": \"Women Security in 2016\", \"text\": [\"Argentina\", \"Bahamas\", \"Barbados\", \"Belize\", \"Bolivia\", \"Brazil\", \"Chile\", \"Colombia\", \"Costa Rica\", \"Dominican Rep.\", \"Ecuador\", \"El Salvador\", \"Guatemala\", \"Guyana\", \"Haiti\", \"Honduras\", \"Jamaica\", \"Mexico\", \"Nicaragua\", \"Panama\", \"Paraguay\", \"Peru\", \"Suriname\", \"Trinidad and Tobago\", \"Uruguay\", \"Venezuela\"], \"type\": \"scatter\", \"x\": [\"ARG\", \"BHS\", \"BRD\", \"BLZ\", \"BOL\", \"BRA\", \"CHL\", \"COL\", \"CRI\", \"DOM\", \"ECU\", \"SLV\", \"GTM\", \"GUY\", \"HTI\", \"HND\", \"JAM\", \"MEX\", \"NIC\", \"PAN\", \"PRY\", \"PER\", \"SUR\", \"TTO\", \"URY\", \"VEN\"], \"y\": [10.0, null, null, 10.0, 8.333333332999999, 8.333333332999999, 8.333333332999999, 10.0, 10.0, 10.0, 10.0, 10.0, 10.0, 10.0, 8.333333332999999, 8.333333332999999, 10.0, 8.333333332999999, 8.333333332999999, 10.0, 8.333333332999999, 8.333333332999999, 5.0, 8.333333332999999, 8.333333332999999, 10.0]}],                        {\"template\": {\"data\": {\"bar\": [{\"error_x\": {\"color\": \"#2a3f5f\"}, \"error_y\": {\"color\": \"#2a3f5f\"}, \"marker\": {\"line\": {\"color\": \"#E5ECF6\", \"width\": 0.5}}, \"type\": \"bar\"}], \"barpolar\": [{\"marker\": {\"line\": {\"color\": \"#E5ECF6\", \"width\": 0.5}}, \"type\": \"barpolar\"}], \"carpet\": [{\"aaxis\": {\"endlinecolor\": \"#2a3f5f\", \"gridcolor\": \"white\", \"linecolor\": \"white\", \"minorgridcolor\": \"white\", \"startlinecolor\": \"#2a3f5f\"}, \"baxis\": {\"endlinecolor\": \"#2a3f5f\", \"gridcolor\": \"white\", \"linecolor\": \"white\", \"minorgridcolor\": \"white\", \"startlinecolor\": \"#2a3f5f\"}, \"type\": \"carpet\"}], \"choropleth\": [{\"colorbar\": {\"outlinewidth\": 0, \"ticks\": \"\"}, \"type\": \"choropleth\"}], \"contour\": [{\"colorbar\": {\"outlinewidth\": 0, \"ticks\": \"\"}, \"colorscale\": [[0.0, \"#0d0887\"], [0.1111111111111111, \"#46039f\"], [0.2222222222222222, \"#7201a8\"], [0.3333333333333333, \"#9c179e\"], [0.4444444444444444, \"#bd3786\"], [0.5555555555555556, \"#d8576b\"], [0.6666666666666666, \"#ed7953\"], [0.7777777777777778, \"#fb9f3a\"], [0.8888888888888888, \"#fdca26\"], [1.0, \"#f0f921\"]], \"type\": \"contour\"}], \"contourcarpet\": [{\"colorbar\": {\"outlinewidth\": 0, \"ticks\": \"\"}, \"type\": \"contourcarpet\"}], \"heatmap\": [{\"colorbar\": {\"outlinewidth\": 0, \"ticks\": \"\"}, \"colorscale\": [[0.0, \"#0d0887\"], [0.1111111111111111, \"#46039f\"], [0.2222222222222222, \"#7201a8\"], [0.3333333333333333, \"#9c179e\"], [0.4444444444444444, \"#bd3786\"], [0.5555555555555556, \"#d8576b\"], [0.6666666666666666, \"#ed7953\"], [0.7777777777777778, \"#fb9f3a\"], [0.8888888888888888, \"#fdca26\"], [1.0, \"#f0f921\"]], \"type\": \"heatmap\"}], \"heatmapgl\": [{\"colorbar\": {\"outlinewidth\": 0, \"ticks\": \"\"}, \"colorscale\": [[0.0, \"#0d0887\"], [0.1111111111111111, \"#46039f\"], [0.2222222222222222, \"#7201a8\"], [0.3333333333333333, \"#9c179e\"], [0.4444444444444444, \"#bd3786\"], [0.5555555555555556, \"#d8576b\"], [0.6666666666666666, \"#ed7953\"], [0.7777777777777778, \"#fb9f3a\"], [0.8888888888888888, \"#fdca26\"], [1.0, \"#f0f921\"]], \"type\": \"heatmapgl\"}], \"histogram\": [{\"marker\": {\"colorbar\": {\"outlinewidth\": 0, \"ticks\": \"\"}}, \"type\": \"histogram\"}], \"histogram2d\": [{\"colorbar\": {\"outlinewidth\": 0, \"ticks\": \"\"}, \"colorscale\": [[0.0, \"#0d0887\"], [0.1111111111111111, \"#46039f\"], [0.2222222222222222, \"#7201a8\"], [0.3333333333333333, \"#9c179e\"], [0.4444444444444444, \"#bd3786\"], [0.5555555555555556, \"#d8576b\"], [0.6666666666666666, \"#ed7953\"], [0.7777777777777778, \"#fb9f3a\"], [0.8888888888888888, \"#fdca26\"], [1.0, \"#f0f921\"]], \"type\": \"histogram2d\"}], \"histogram2dcontour\": [{\"colorbar\": {\"outlinewidth\": 0, \"ticks\": \"\"}, \"colorscale\": [[0.0, \"#0d0887\"], [0.1111111111111111, \"#46039f\"], [0.2222222222222222, \"#7201a8\"], [0.3333333333333333, \"#9c179e\"], [0.4444444444444444, \"#bd3786\"], [0.5555555555555556, \"#d8576b\"], [0.6666666666666666, \"#ed7953\"], [0.7777777777777778, \"#fb9f3a\"], [0.8888888888888888, \"#fdca26\"], [1.0, \"#f0f921\"]], \"type\": \"histogram2dcontour\"}], \"mesh3d\": [{\"colorbar\": {\"outlinewidth\": 0, \"ticks\": \"\"}, \"type\": \"mesh3d\"}], \"parcoords\": [{\"line\": {\"colorbar\": {\"outlinewidth\": 0, \"ticks\": \"\"}}, \"type\": \"parcoords\"}], \"pie\": [{\"automargin\": true, \"type\": \"pie\"}], \"scatter\": [{\"marker\": {\"colorbar\": {\"outlinewidth\": 0, \"ticks\": \"\"}}, \"type\": \"scatter\"}], \"scatter3d\": [{\"line\": {\"colorbar\": {\"outlinewidth\": 0, \"ticks\": \"\"}}, \"marker\": {\"colorbar\": {\"outlinewidth\": 0, \"ticks\": \"\"}}, \"type\": \"scatter3d\"}], \"scattercarpet\": [{\"marker\": {\"colorbar\": {\"outlinewidth\": 0, \"ticks\": \"\"}}, \"type\": \"scattercarpet\"}], \"scattergeo\": [{\"marker\": {\"colorbar\": {\"outlinewidth\": 0, \"ticks\": \"\"}}, \"type\": \"scattergeo\"}], \"scattergl\": [{\"marker\": {\"colorbar\": {\"outlinewidth\": 0, \"ticks\": \"\"}}, \"type\": \"scattergl\"}], \"scattermapbox\": [{\"marker\": {\"colorbar\": {\"outlinewidth\": 0, \"ticks\": \"\"}}, \"type\": \"scattermapbox\"}], \"scatterpolar\": [{\"marker\": {\"colorbar\": {\"outlinewidth\": 0, \"ticks\": \"\"}}, \"type\": \"scatterpolar\"}], \"scatterpolargl\": [{\"marker\": {\"colorbar\": {\"outlinewidth\": 0, \"ticks\": \"\"}}, \"type\": \"scatterpolargl\"}], \"scatterternary\": [{\"marker\": {\"colorbar\": {\"outlinewidth\": 0, \"ticks\": \"\"}}, \"type\": \"scatterternary\"}], \"surface\": [{\"colorbar\": {\"outlinewidth\": 0, \"ticks\": \"\"}, \"colorscale\": [[0.0, \"#0d0887\"], [0.1111111111111111, \"#46039f\"], [0.2222222222222222, \"#7201a8\"], [0.3333333333333333, \"#9c179e\"], [0.4444444444444444, \"#bd3786\"], [0.5555555555555556, \"#d8576b\"], [0.6666666666666666, \"#ed7953\"], [0.7777777777777778, \"#fb9f3a\"], [0.8888888888888888, \"#fdca26\"], [1.0, \"#f0f921\"]], \"type\": \"surface\"}], \"table\": [{\"cells\": {\"fill\": {\"color\": \"#EBF0F8\"}, \"line\": {\"color\": \"white\"}}, \"header\": {\"fill\": {\"color\": \"#C8D4E3\"}, \"line\": {\"color\": \"white\"}}, \"type\": \"table\"}]}, \"layout\": {\"annotationdefaults\": {\"arrowcolor\": \"#2a3f5f\", \"arrowhead\": 0, \"arrowwidth\": 1}, \"autotypenumbers\": \"strict\", \"coloraxis\": {\"colorbar\": {\"outlinewidth\": 0, \"ticks\": \"\"}}, \"colorscale\": {\"diverging\": [[0, \"#8e0152\"], [0.1, \"#c51b7d\"], [0.2, \"#de77ae\"], [0.3, \"#f1b6da\"], [0.4, \"#fde0ef\"], [0.5, \"#f7f7f7\"], [0.6, \"#e6f5d0\"], [0.7, \"#b8e186\"], [0.8, \"#7fbc41\"], [0.9, \"#4d9221\"], [1, \"#276419\"]], \"sequential\": [[0.0, \"#0d0887\"], [0.1111111111111111, \"#46039f\"], [0.2222222222222222, \"#7201a8\"], [0.3333333333333333, \"#9c179e\"], [0.4444444444444444, \"#bd3786\"], [0.5555555555555556, \"#d8576b\"], [0.6666666666666666, \"#ed7953\"], [0.7777777777777778, \"#fb9f3a\"], [0.8888888888888888, \"#fdca26\"], [1.0, \"#f0f921\"]], \"sequentialminus\": [[0.0, \"#0d0887\"], [0.1111111111111111, \"#46039f\"], [0.2222222222222222, \"#7201a8\"], [0.3333333333333333, \"#9c179e\"], [0.4444444444444444, \"#bd3786\"], [0.5555555555555556, \"#d8576b\"], [0.6666666666666666, \"#ed7953\"], [0.7777777777777778, \"#fb9f3a\"], [0.8888888888888888, \"#fdca26\"], [1.0, \"#f0f921\"]]}, \"colorway\": [\"#636efa\", \"#EF553B\", \"#00cc96\", \"#ab63fa\", \"#FFA15A\", \"#19d3f3\", \"#FF6692\", \"#B6E880\", \"#FF97FF\", \"#FECB52\"], \"font\": {\"color\": \"#2a3f5f\"}, \"geo\": {\"bgcolor\": \"white\", \"lakecolor\": \"white\", \"landcolor\": \"#E5ECF6\", \"showlakes\": true, \"showland\": true, \"subunitcolor\": \"white\"}, \"hoverlabel\": {\"align\": \"left\"}, \"hovermode\": \"closest\", \"mapbox\": {\"style\": \"light\"}, \"paper_bgcolor\": \"white\", \"plot_bgcolor\": \"#E5ECF6\", \"polar\": {\"angularaxis\": {\"gridcolor\": \"white\", \"linecolor\": \"white\", \"ticks\": \"\"}, \"bgcolor\": \"#E5ECF6\", \"radialaxis\": {\"gridcolor\": \"white\", \"linecolor\": \"white\", \"ticks\": \"\"}}, \"scene\": {\"xaxis\": {\"backgroundcolor\": \"#E5ECF6\", \"gridcolor\": \"white\", \"gridwidth\": 2, \"linecolor\": \"white\", \"showbackground\": true, \"ticks\": \"\", \"zerolinecolor\": \"white\"}, \"yaxis\": {\"backgroundcolor\": \"#E5ECF6\", \"gridcolor\": \"white\", \"gridwidth\": 2, \"linecolor\": \"white\", \"showbackground\": true, \"ticks\": \"\", \"zerolinecolor\": \"white\"}, \"zaxis\": {\"backgroundcolor\": \"#E5ECF6\", \"gridcolor\": \"white\", \"gridwidth\": 2, \"linecolor\": \"white\", \"showbackground\": true, \"ticks\": \"\", \"zerolinecolor\": \"white\"}}, \"shapedefaults\": {\"line\": {\"color\": \"#2a3f5f\"}}, \"ternary\": {\"aaxis\": {\"gridcolor\": \"white\", \"linecolor\": \"white\", \"ticks\": \"\"}, \"baxis\": {\"gridcolor\": \"white\", \"linecolor\": \"white\", \"ticks\": \"\"}, \"bgcolor\": \"#E5ECF6\", \"caxis\": {\"gridcolor\": \"white\", \"linecolor\": \"white\", \"ticks\": \"\"}}, \"title\": {\"x\": 0.05}, \"xaxis\": {\"automargin\": true, \"gridcolor\": \"white\", \"linecolor\": \"white\", \"ticks\": \"\", \"title\": {\"standoff\": 15}, \"zerolinecolor\": \"white\", \"zerolinewidth\": 2}, \"yaxis\": {\"automargin\": true, \"gridcolor\": \"white\", \"linecolor\": \"white\", \"ticks\": \"\", \"title\": {\"standoff\": 15}, \"zerolinecolor\": \"white\", \"zerolinewidth\": 2}}}, \"title\": {\"text\": \"Security of Women in Latin America & the Caribbean Between 2008, 2013, 2016\"}, \"xaxis\": {\"ticklen\": 3, \"title\": {\"text\": \"Countries\"}, \"zeroline\": false}},                        {\"responsive\": true}                    ).then(function(){\n",
       "                            \n",
       "var gd = document.getElementById('06fb933f-7839-4d60-aba2-f9277ca99f6c');\n",
       "var x = new MutationObserver(function (mutations, observer) {{\n",
       "        var display = window.getComputedStyle(gd).display;\n",
       "        if (!display || display === 'none') {{\n",
       "            console.log([gd, 'removed!']);\n",
       "            Plotly.purge(gd);\n",
       "            observer.disconnect();\n",
       "        }}\n",
       "}});\n",
       "\n",
       "// Listen for the removal of the full notebook cells\n",
       "var notebookContainer = gd.closest('#notebook-container');\n",
       "if (notebookContainer) {{\n",
       "    x.observe(notebookContainer, {childList: true});\n",
       "}}\n",
       "\n",
       "// Listen for the clearing of the current output cell\n",
       "var outputEl = gd.closest('.output');\n",
       "if (outputEl) {{\n",
       "    x.observe(outputEl, {childList: true});\n",
       "}}\n",
       "\n",
       "                        })                };                });            </script>        </div>"
      ]
     },
     "metadata": {},
     "output_type": "display_data"
    }
   ],
   "source": [
    "# 2. ANALYSE SECURITY OF WOMEN IN LATIN AMERICA AND THE CARIBBEAN BETWEEN 2008, 2013 AND 2016\n",
    "# Our second analysis will focus on women's security in Latin American and Caribbean Countries.\n",
    "# We will use three plots for 2008, 2013 and 2016 years in order to see security level difference in the region.\n",
    "\n",
    "# Filtering dataset to three different years (2008, 2013,2016)\n",
    "data2008 = data[data.year == 2008]\n",
    "data2008 = data2008[data2008.region == 'Latin America & the Caribbean']\n",
    "\n",
    "data2013 = data[data.year == 2013]\n",
    "data2013 = data2013[data2013.region == 'Latin America & the Caribbean']\n",
    "\n",
    "data2016 = data[data.year == 2016]\n",
    "data2016 = data2016[data2016.region == 'Latin America & the Caribbean']\n",
    "\n",
    "# First trace is security of women in 2008:\n",
    "trace2008 = go.Scatter(\n",
    "                        x = data2008['ISO_code'],\n",
    "                        y = data2008['pf_ss_women'],\n",
    "                        mode = 'markers',\n",
    "                        name = 'Women Security in 2008',\n",
    "                        marker = dict(color='rgba(0,0,255,0.5)'),\n",
    "                        text = data2008['countries'])\n",
    "\n",
    "# Second trace is security of women in 2013:\n",
    "trace2013 = go.Scatter(\n",
    "                        x = data2013['ISO_code'],\n",
    "                        y = data2013['pf_ss_women'],\n",
    "                        mode = 'markers',\n",
    "                        name = 'Women Security in 2013',\n",
    "                        marker = dict(color='rgba(0,255,0,0.5)'),\n",
    "                        text = data2013['countries'])\n",
    "\n",
    "# Third trace is security of women in 2016:\n",
    "trace2016 = go.Scatter(\n",
    "                        x = data2016['ISO_code'],\n",
    "                        y = data2016['pf_ss_women'],\n",
    "                        mode = 'markers',\n",
    "                        name = 'Women Security in 2016',\n",
    "                        marker = dict(color='rgba(255,0,0,0.5)'),\n",
    "                        text = data2016['countries'])\n",
    "datanew = [trace2008, trace2013, trace2016]\n",
    "layoutnew = dict(title = 'Security of Women in Latin America & the Caribbean Between 2008, 2013, 2016',\n",
    "                 xaxis = dict(title = 'Countries', ticklen = 3, zeroline = False))\n",
    "fig = dict(data=datanew, layout=layoutnew)\n",
    "py.iplot(fig)"
   ]
  },
  {
   "cell_type": "code",
   "execution_count": 9,
   "metadata": {},
   "outputs": [],
   "source": [
    "# From the graph above one can see in some countries women's security level decreases with years. \n",
    "# This analysis can give a clue if that country is in an unstable condition \n",
    "# or transition in their culturel/political/economic etc states."
   ]
  },
  {
   "cell_type": "code",
   "execution_count": 10,
   "metadata": {},
   "outputs": [
    {
     "data": {
      "application/vnd.plotly.v1+json": {
       "config": {
        "linkText": "Export to plot.ly",
        "plotlyServerURL": "https://plot.ly",
        "showLink": false
       },
       "data": [
        {
         "marker": {
          "color": "rgba(130, 35, 45, 0.5)",
          "line": {
           "color": "rgba(0,0,0)",
           "width": 0.5
          }
         },
         "name": "Missing Women",
         "text": [
          "Algeria",
          "Bahrain",
          "Egypt",
          "Iran",
          "Iraq",
          "Israel",
          "Jordan",
          "Kuwait",
          "Lebanon",
          "Libya",
          "Morocco",
          "Oman",
          "Qatar",
          "Saudi Arabia",
          "Syria",
          "Tunisia",
          "Turkey",
          "United Arab Emirates",
          "Yemen, Rep."
         ],
         "type": "bar",
         "x": [
          "DZA",
          "BHR",
          "EGY",
          "IRN",
          "IRQ",
          "ISR",
          "JOR",
          "KWT",
          "LBN",
          "LBY",
          "MAR",
          "OMN",
          "QAT",
          "SAU",
          "SYR",
          "TUN",
          "TUR",
          "ARE",
          "YEM"
         ],
         "y": [
          7.5,
          7.5,
          7.5,
          7.5,
          7.5,
          10,
          7.5,
          7.5,
          10,
          7.5,
          10,
          7.5,
          7.5,
          5,
          7.5,
          7.5,
          10,
          7.5,
          7.5
         ]
        },
        {
         "marker": {
          "color": "rgba(45, 35, 145, 0.5)",
          "line": {
           "color": "rgba(0,0,0)",
           "width": 0.5
          }
         },
         "name": "Security of the Country",
         "text": [
          "Algeria",
          "Bahrain",
          "Egypt",
          "Iran",
          "Iraq",
          "Israel",
          "Jordan",
          "Kuwait",
          "Lebanon",
          "Libya",
          "Morocco",
          "Oman",
          "Qatar",
          "Saudi Arabia",
          "Syria",
          "Tunisia",
          "Turkey",
          "United Arab Emirates",
          "Yemen, Rep."
         ],
         "type": "bar",
         "x": [
          "DZA",
          "BHR",
          "EGY",
          "IRN",
          "IRQ",
          "ISR",
          "JOR",
          "KWT",
          "LBN",
          "LBY",
          "MAR",
          "OMN",
          "QAT",
          "SAU",
          "SYR",
          "TUN",
          "TUR",
          "ARE",
          "YEM"
         ],
         "y": [
          8.043882199,
          8.006967709,
          5.808027922999999,
          7.102284246,
          3.96385016,
          9.170163569,
          7.984281664,
          8.189148142999999,
          7.599723612000001,
          5.27726086,
          8.390437217999999,
          8.356922801,
          8.560572432,
          7.442087097999999,
          4.984072935,
          7.562090498,
          7.51287008,
          7.9919362970000005,
          3.986708427
         ]
        }
       ],
       "layout": {
        "barmode": "group",
        "template": {
         "data": {
          "bar": [
           {
            "error_x": {
             "color": "#2a3f5f"
            },
            "error_y": {
             "color": "#2a3f5f"
            },
            "marker": {
             "line": {
              "color": "#E5ECF6",
              "width": 0.5
             }
            },
            "type": "bar"
           }
          ],
          "barpolar": [
           {
            "marker": {
             "line": {
              "color": "#E5ECF6",
              "width": 0.5
             }
            },
            "type": "barpolar"
           }
          ],
          "carpet": [
           {
            "aaxis": {
             "endlinecolor": "#2a3f5f",
             "gridcolor": "white",
             "linecolor": "white",
             "minorgridcolor": "white",
             "startlinecolor": "#2a3f5f"
            },
            "baxis": {
             "endlinecolor": "#2a3f5f",
             "gridcolor": "white",
             "linecolor": "white",
             "minorgridcolor": "white",
             "startlinecolor": "#2a3f5f"
            },
            "type": "carpet"
           }
          ],
          "choropleth": [
           {
            "colorbar": {
             "outlinewidth": 0,
             "ticks": ""
            },
            "type": "choropleth"
           }
          ],
          "contour": [
           {
            "colorbar": {
             "outlinewidth": 0,
             "ticks": ""
            },
            "colorscale": [
             [
              0,
              "#0d0887"
             ],
             [
              0.1111111111111111,
              "#46039f"
             ],
             [
              0.2222222222222222,
              "#7201a8"
             ],
             [
              0.3333333333333333,
              "#9c179e"
             ],
             [
              0.4444444444444444,
              "#bd3786"
             ],
             [
              0.5555555555555556,
              "#d8576b"
             ],
             [
              0.6666666666666666,
              "#ed7953"
             ],
             [
              0.7777777777777778,
              "#fb9f3a"
             ],
             [
              0.8888888888888888,
              "#fdca26"
             ],
             [
              1,
              "#f0f921"
             ]
            ],
            "type": "contour"
           }
          ],
          "contourcarpet": [
           {
            "colorbar": {
             "outlinewidth": 0,
             "ticks": ""
            },
            "type": "contourcarpet"
           }
          ],
          "heatmap": [
           {
            "colorbar": {
             "outlinewidth": 0,
             "ticks": ""
            },
            "colorscale": [
             [
              0,
              "#0d0887"
             ],
             [
              0.1111111111111111,
              "#46039f"
             ],
             [
              0.2222222222222222,
              "#7201a8"
             ],
             [
              0.3333333333333333,
              "#9c179e"
             ],
             [
              0.4444444444444444,
              "#bd3786"
             ],
             [
              0.5555555555555556,
              "#d8576b"
             ],
             [
              0.6666666666666666,
              "#ed7953"
             ],
             [
              0.7777777777777778,
              "#fb9f3a"
             ],
             [
              0.8888888888888888,
              "#fdca26"
             ],
             [
              1,
              "#f0f921"
             ]
            ],
            "type": "heatmap"
           }
          ],
          "heatmapgl": [
           {
            "colorbar": {
             "outlinewidth": 0,
             "ticks": ""
            },
            "colorscale": [
             [
              0,
              "#0d0887"
             ],
             [
              0.1111111111111111,
              "#46039f"
             ],
             [
              0.2222222222222222,
              "#7201a8"
             ],
             [
              0.3333333333333333,
              "#9c179e"
             ],
             [
              0.4444444444444444,
              "#bd3786"
             ],
             [
              0.5555555555555556,
              "#d8576b"
             ],
             [
              0.6666666666666666,
              "#ed7953"
             ],
             [
              0.7777777777777778,
              "#fb9f3a"
             ],
             [
              0.8888888888888888,
              "#fdca26"
             ],
             [
              1,
              "#f0f921"
             ]
            ],
            "type": "heatmapgl"
           }
          ],
          "histogram": [
           {
            "marker": {
             "colorbar": {
              "outlinewidth": 0,
              "ticks": ""
             }
            },
            "type": "histogram"
           }
          ],
          "histogram2d": [
           {
            "colorbar": {
             "outlinewidth": 0,
             "ticks": ""
            },
            "colorscale": [
             [
              0,
              "#0d0887"
             ],
             [
              0.1111111111111111,
              "#46039f"
             ],
             [
              0.2222222222222222,
              "#7201a8"
             ],
             [
              0.3333333333333333,
              "#9c179e"
             ],
             [
              0.4444444444444444,
              "#bd3786"
             ],
             [
              0.5555555555555556,
              "#d8576b"
             ],
             [
              0.6666666666666666,
              "#ed7953"
             ],
             [
              0.7777777777777778,
              "#fb9f3a"
             ],
             [
              0.8888888888888888,
              "#fdca26"
             ],
             [
              1,
              "#f0f921"
             ]
            ],
            "type": "histogram2d"
           }
          ],
          "histogram2dcontour": [
           {
            "colorbar": {
             "outlinewidth": 0,
             "ticks": ""
            },
            "colorscale": [
             [
              0,
              "#0d0887"
             ],
             [
              0.1111111111111111,
              "#46039f"
             ],
             [
              0.2222222222222222,
              "#7201a8"
             ],
             [
              0.3333333333333333,
              "#9c179e"
             ],
             [
              0.4444444444444444,
              "#bd3786"
             ],
             [
              0.5555555555555556,
              "#d8576b"
             ],
             [
              0.6666666666666666,
              "#ed7953"
             ],
             [
              0.7777777777777778,
              "#fb9f3a"
             ],
             [
              0.8888888888888888,
              "#fdca26"
             ],
             [
              1,
              "#f0f921"
             ]
            ],
            "type": "histogram2dcontour"
           }
          ],
          "mesh3d": [
           {
            "colorbar": {
             "outlinewidth": 0,
             "ticks": ""
            },
            "type": "mesh3d"
           }
          ],
          "parcoords": [
           {
            "line": {
             "colorbar": {
              "outlinewidth": 0,
              "ticks": ""
             }
            },
            "type": "parcoords"
           }
          ],
          "pie": [
           {
            "automargin": true,
            "type": "pie"
           }
          ],
          "scatter": [
           {
            "marker": {
             "colorbar": {
              "outlinewidth": 0,
              "ticks": ""
             }
            },
            "type": "scatter"
           }
          ],
          "scatter3d": [
           {
            "line": {
             "colorbar": {
              "outlinewidth": 0,
              "ticks": ""
             }
            },
            "marker": {
             "colorbar": {
              "outlinewidth": 0,
              "ticks": ""
             }
            },
            "type": "scatter3d"
           }
          ],
          "scattercarpet": [
           {
            "marker": {
             "colorbar": {
              "outlinewidth": 0,
              "ticks": ""
             }
            },
            "type": "scattercarpet"
           }
          ],
          "scattergeo": [
           {
            "marker": {
             "colorbar": {
              "outlinewidth": 0,
              "ticks": ""
             }
            },
            "type": "scattergeo"
           }
          ],
          "scattergl": [
           {
            "marker": {
             "colorbar": {
              "outlinewidth": 0,
              "ticks": ""
             }
            },
            "type": "scattergl"
           }
          ],
          "scattermapbox": [
           {
            "marker": {
             "colorbar": {
              "outlinewidth": 0,
              "ticks": ""
             }
            },
            "type": "scattermapbox"
           }
          ],
          "scatterpolar": [
           {
            "marker": {
             "colorbar": {
              "outlinewidth": 0,
              "ticks": ""
             }
            },
            "type": "scatterpolar"
           }
          ],
          "scatterpolargl": [
           {
            "marker": {
             "colorbar": {
              "outlinewidth": 0,
              "ticks": ""
             }
            },
            "type": "scatterpolargl"
           }
          ],
          "scatterternary": [
           {
            "marker": {
             "colorbar": {
              "outlinewidth": 0,
              "ticks": ""
             }
            },
            "type": "scatterternary"
           }
          ],
          "surface": [
           {
            "colorbar": {
             "outlinewidth": 0,
             "ticks": ""
            },
            "colorscale": [
             [
              0,
              "#0d0887"
             ],
             [
              0.1111111111111111,
              "#46039f"
             ],
             [
              0.2222222222222222,
              "#7201a8"
             ],
             [
              0.3333333333333333,
              "#9c179e"
             ],
             [
              0.4444444444444444,
              "#bd3786"
             ],
             [
              0.5555555555555556,
              "#d8576b"
             ],
             [
              0.6666666666666666,
              "#ed7953"
             ],
             [
              0.7777777777777778,
              "#fb9f3a"
             ],
             [
              0.8888888888888888,
              "#fdca26"
             ],
             [
              1,
              "#f0f921"
             ]
            ],
            "type": "surface"
           }
          ],
          "table": [
           {
            "cells": {
             "fill": {
              "color": "#EBF0F8"
             },
             "line": {
              "color": "white"
             }
            },
            "header": {
             "fill": {
              "color": "#C8D4E3"
             },
             "line": {
              "color": "white"
             }
            },
            "type": "table"
           }
          ]
         },
         "layout": {
          "annotationdefaults": {
           "arrowcolor": "#2a3f5f",
           "arrowhead": 0,
           "arrowwidth": 1
          },
          "autotypenumbers": "strict",
          "coloraxis": {
           "colorbar": {
            "outlinewidth": 0,
            "ticks": ""
           }
          },
          "colorscale": {
           "diverging": [
            [
             0,
             "#8e0152"
            ],
            [
             0.1,
             "#c51b7d"
            ],
            [
             0.2,
             "#de77ae"
            ],
            [
             0.3,
             "#f1b6da"
            ],
            [
             0.4,
             "#fde0ef"
            ],
            [
             0.5,
             "#f7f7f7"
            ],
            [
             0.6,
             "#e6f5d0"
            ],
            [
             0.7,
             "#b8e186"
            ],
            [
             0.8,
             "#7fbc41"
            ],
            [
             0.9,
             "#4d9221"
            ],
            [
             1,
             "#276419"
            ]
           ],
           "sequential": [
            [
             0,
             "#0d0887"
            ],
            [
             0.1111111111111111,
             "#46039f"
            ],
            [
             0.2222222222222222,
             "#7201a8"
            ],
            [
             0.3333333333333333,
             "#9c179e"
            ],
            [
             0.4444444444444444,
             "#bd3786"
            ],
            [
             0.5555555555555556,
             "#d8576b"
            ],
            [
             0.6666666666666666,
             "#ed7953"
            ],
            [
             0.7777777777777778,
             "#fb9f3a"
            ],
            [
             0.8888888888888888,
             "#fdca26"
            ],
            [
             1,
             "#f0f921"
            ]
           ],
           "sequentialminus": [
            [
             0,
             "#0d0887"
            ],
            [
             0.1111111111111111,
             "#46039f"
            ],
            [
             0.2222222222222222,
             "#7201a8"
            ],
            [
             0.3333333333333333,
             "#9c179e"
            ],
            [
             0.4444444444444444,
             "#bd3786"
            ],
            [
             0.5555555555555556,
             "#d8576b"
            ],
            [
             0.6666666666666666,
             "#ed7953"
            ],
            [
             0.7777777777777778,
             "#fb9f3a"
            ],
            [
             0.8888888888888888,
             "#fdca26"
            ],
            [
             1,
             "#f0f921"
            ]
           ]
          },
          "colorway": [
           "#636efa",
           "#EF553B",
           "#00cc96",
           "#ab63fa",
           "#FFA15A",
           "#19d3f3",
           "#FF6692",
           "#B6E880",
           "#FF97FF",
           "#FECB52"
          ],
          "font": {
           "color": "#2a3f5f"
          },
          "geo": {
           "bgcolor": "white",
           "lakecolor": "white",
           "landcolor": "#E5ECF6",
           "showlakes": true,
           "showland": true,
           "subunitcolor": "white"
          },
          "hoverlabel": {
           "align": "left"
          },
          "hovermode": "closest",
          "mapbox": {
           "style": "light"
          },
          "paper_bgcolor": "white",
          "plot_bgcolor": "#E5ECF6",
          "polar": {
           "angularaxis": {
            "gridcolor": "white",
            "linecolor": "white",
            "ticks": ""
           },
           "bgcolor": "#E5ECF6",
           "radialaxis": {
            "gridcolor": "white",
            "linecolor": "white",
            "ticks": ""
           }
          },
          "scene": {
           "xaxis": {
            "backgroundcolor": "#E5ECF6",
            "gridcolor": "white",
            "gridwidth": 2,
            "linecolor": "white",
            "showbackground": true,
            "ticks": "",
            "zerolinecolor": "white"
           },
           "yaxis": {
            "backgroundcolor": "#E5ECF6",
            "gridcolor": "white",
            "gridwidth": 2,
            "linecolor": "white",
            "showbackground": true,
            "ticks": "",
            "zerolinecolor": "white"
           },
           "zaxis": {
            "backgroundcolor": "#E5ECF6",
            "gridcolor": "white",
            "gridwidth": 2,
            "linecolor": "white",
            "showbackground": true,
            "ticks": "",
            "zerolinecolor": "white"
           }
          },
          "shapedefaults": {
           "line": {
            "color": "#2a3f5f"
           }
          },
          "ternary": {
           "aaxis": {
            "gridcolor": "white",
            "linecolor": "white",
            "ticks": ""
           },
           "baxis": {
            "gridcolor": "white",
            "linecolor": "white",
            "ticks": ""
           },
           "bgcolor": "#E5ECF6",
           "caxis": {
            "gridcolor": "white",
            "linecolor": "white",
            "ticks": ""
           }
          },
          "title": {
           "x": 0.05
          },
          "xaxis": {
           "automargin": true,
           "gridcolor": "white",
           "linecolor": "white",
           "ticks": "",
           "title": {
            "standoff": 15
           },
           "zerolinecolor": "white",
           "zerolinewidth": 2
          },
          "yaxis": {
           "automargin": true,
           "gridcolor": "white",
           "linecolor": "white",
           "ticks": "",
           "title": {
            "standoff": 15
           },
           "zerolinecolor": "white",
           "zerolinewidth": 2
          }
         }
        },
        "title": {
         "text": "Missing Women Comparison"
        }
       }
      },
      "text/html": [
       "<div>                            <div id=\"f226f993-e9c6-4f23-beef-7f8d0b0a7920\" class=\"plotly-graph-div\" style=\"height:525px; width:100%;\"></div>            <script type=\"text/javascript\">                require([\"plotly\"], function(Plotly) {                    window.PLOTLYENV=window.PLOTLYENV || {};                                    if (document.getElementById(\"f226f993-e9c6-4f23-beef-7f8d0b0a7920\")) {                    Plotly.newPlot(                        \"f226f993-e9c6-4f23-beef-7f8d0b0a7920\",                        [{\"marker\": {\"color\": \"rgba(130, 35, 45, 0.5)\", \"line\": {\"color\": \"rgba(0,0,0)\", \"width\": 0.5}}, \"name\": \"Missing Women\", \"text\": [\"Algeria\", \"Bahrain\", \"Egypt\", \"Iran\", \"Iraq\", \"Israel\", \"Jordan\", \"Kuwait\", \"Lebanon\", \"Libya\", \"Morocco\", \"Oman\", \"Qatar\", \"Saudi Arabia\", \"Syria\", \"Tunisia\", \"Turkey\", \"United Arab Emirates\", \"Yemen, Rep.\"], \"type\": \"bar\", \"x\": [\"DZA\", \"BHR\", \"EGY\", \"IRN\", \"IRQ\", \"ISR\", \"JOR\", \"KWT\", \"LBN\", \"LBY\", \"MAR\", \"OMN\", \"QAT\", \"SAU\", \"SYR\", \"TUN\", \"TUR\", \"ARE\", \"YEM\"], \"y\": [7.5, 7.5, 7.5, 7.5, 7.5, 10.0, 7.5, 7.5, 10.0, 7.5, 10.0, 7.5, 7.5, 5.0, 7.5, 7.5, 10.0, 7.5, 7.5]}, {\"marker\": {\"color\": \"rgba(45, 35, 145, 0.5)\", \"line\": {\"color\": \"rgba(0,0,0)\", \"width\": 0.5}}, \"name\": \"Security of the Country\", \"text\": [\"Algeria\", \"Bahrain\", \"Egypt\", \"Iran\", \"Iraq\", \"Israel\", \"Jordan\", \"Kuwait\", \"Lebanon\", \"Libya\", \"Morocco\", \"Oman\", \"Qatar\", \"Saudi Arabia\", \"Syria\", \"Tunisia\", \"Turkey\", \"United Arab Emirates\", \"Yemen, Rep.\"], \"type\": \"bar\", \"x\": [\"DZA\", \"BHR\", \"EGY\", \"IRN\", \"IRQ\", \"ISR\", \"JOR\", \"KWT\", \"LBN\", \"LBY\", \"MAR\", \"OMN\", \"QAT\", \"SAU\", \"SYR\", \"TUN\", \"TUR\", \"ARE\", \"YEM\"], \"y\": [8.043882199, 8.006967709, 5.808027922999999, 7.102284246, 3.96385016, 9.170163569, 7.984281664, 8.189148142999999, 7.599723612000001, 5.27726086, 8.390437217999999, 8.356922801, 8.560572432, 7.442087097999999, 4.984072935, 7.562090498, 7.51287008, 7.9919362970000005, 3.986708427]}],                        {\"barmode\": \"group\", \"template\": {\"data\": {\"bar\": [{\"error_x\": {\"color\": \"#2a3f5f\"}, \"error_y\": {\"color\": \"#2a3f5f\"}, \"marker\": {\"line\": {\"color\": \"#E5ECF6\", \"width\": 0.5}}, \"type\": \"bar\"}], \"barpolar\": [{\"marker\": {\"line\": {\"color\": \"#E5ECF6\", \"width\": 0.5}}, \"type\": \"barpolar\"}], \"carpet\": [{\"aaxis\": {\"endlinecolor\": \"#2a3f5f\", \"gridcolor\": \"white\", \"linecolor\": \"white\", \"minorgridcolor\": \"white\", \"startlinecolor\": \"#2a3f5f\"}, \"baxis\": {\"endlinecolor\": \"#2a3f5f\", \"gridcolor\": \"white\", \"linecolor\": \"white\", \"minorgridcolor\": \"white\", \"startlinecolor\": \"#2a3f5f\"}, \"type\": \"carpet\"}], \"choropleth\": [{\"colorbar\": {\"outlinewidth\": 0, \"ticks\": \"\"}, \"type\": \"choropleth\"}], \"contour\": [{\"colorbar\": {\"outlinewidth\": 0, \"ticks\": \"\"}, \"colorscale\": [[0.0, \"#0d0887\"], [0.1111111111111111, \"#46039f\"], [0.2222222222222222, \"#7201a8\"], [0.3333333333333333, \"#9c179e\"], [0.4444444444444444, \"#bd3786\"], [0.5555555555555556, \"#d8576b\"], [0.6666666666666666, \"#ed7953\"], [0.7777777777777778, \"#fb9f3a\"], [0.8888888888888888, \"#fdca26\"], [1.0, \"#f0f921\"]], \"type\": \"contour\"}], \"contourcarpet\": [{\"colorbar\": {\"outlinewidth\": 0, \"ticks\": \"\"}, \"type\": \"contourcarpet\"}], \"heatmap\": [{\"colorbar\": {\"outlinewidth\": 0, \"ticks\": \"\"}, \"colorscale\": [[0.0, \"#0d0887\"], [0.1111111111111111, \"#46039f\"], [0.2222222222222222, \"#7201a8\"], [0.3333333333333333, \"#9c179e\"], [0.4444444444444444, \"#bd3786\"], [0.5555555555555556, \"#d8576b\"], [0.6666666666666666, \"#ed7953\"], [0.7777777777777778, \"#fb9f3a\"], [0.8888888888888888, \"#fdca26\"], [1.0, \"#f0f921\"]], \"type\": \"heatmap\"}], \"heatmapgl\": [{\"colorbar\": {\"outlinewidth\": 0, \"ticks\": \"\"}, \"colorscale\": [[0.0, \"#0d0887\"], [0.1111111111111111, \"#46039f\"], [0.2222222222222222, \"#7201a8\"], [0.3333333333333333, \"#9c179e\"], [0.4444444444444444, \"#bd3786\"], [0.5555555555555556, \"#d8576b\"], [0.6666666666666666, \"#ed7953\"], [0.7777777777777778, \"#fb9f3a\"], [0.8888888888888888, \"#fdca26\"], [1.0, \"#f0f921\"]], \"type\": \"heatmapgl\"}], \"histogram\": [{\"marker\": {\"colorbar\": {\"outlinewidth\": 0, \"ticks\": \"\"}}, \"type\": \"histogram\"}], \"histogram2d\": [{\"colorbar\": {\"outlinewidth\": 0, \"ticks\": \"\"}, \"colorscale\": [[0.0, \"#0d0887\"], [0.1111111111111111, \"#46039f\"], [0.2222222222222222, \"#7201a8\"], [0.3333333333333333, \"#9c179e\"], [0.4444444444444444, \"#bd3786\"], [0.5555555555555556, \"#d8576b\"], [0.6666666666666666, \"#ed7953\"], [0.7777777777777778, \"#fb9f3a\"], [0.8888888888888888, \"#fdca26\"], [1.0, \"#f0f921\"]], \"type\": \"histogram2d\"}], \"histogram2dcontour\": [{\"colorbar\": {\"outlinewidth\": 0, \"ticks\": \"\"}, \"colorscale\": [[0.0, \"#0d0887\"], [0.1111111111111111, \"#46039f\"], [0.2222222222222222, \"#7201a8\"], [0.3333333333333333, \"#9c179e\"], [0.4444444444444444, \"#bd3786\"], [0.5555555555555556, \"#d8576b\"], [0.6666666666666666, \"#ed7953\"], [0.7777777777777778, \"#fb9f3a\"], [0.8888888888888888, \"#fdca26\"], [1.0, \"#f0f921\"]], \"type\": \"histogram2dcontour\"}], \"mesh3d\": [{\"colorbar\": {\"outlinewidth\": 0, \"ticks\": \"\"}, \"type\": \"mesh3d\"}], \"parcoords\": [{\"line\": {\"colorbar\": {\"outlinewidth\": 0, \"ticks\": \"\"}}, \"type\": \"parcoords\"}], \"pie\": [{\"automargin\": true, \"type\": \"pie\"}], \"scatter\": [{\"marker\": {\"colorbar\": {\"outlinewidth\": 0, \"ticks\": \"\"}}, \"type\": \"scatter\"}], \"scatter3d\": [{\"line\": {\"colorbar\": {\"outlinewidth\": 0, \"ticks\": \"\"}}, \"marker\": {\"colorbar\": {\"outlinewidth\": 0, \"ticks\": \"\"}}, \"type\": \"scatter3d\"}], \"scattercarpet\": [{\"marker\": {\"colorbar\": {\"outlinewidth\": 0, \"ticks\": \"\"}}, \"type\": \"scattercarpet\"}], \"scattergeo\": [{\"marker\": {\"colorbar\": {\"outlinewidth\": 0, \"ticks\": \"\"}}, \"type\": \"scattergeo\"}], \"scattergl\": [{\"marker\": {\"colorbar\": {\"outlinewidth\": 0, \"ticks\": \"\"}}, \"type\": \"scattergl\"}], \"scattermapbox\": [{\"marker\": {\"colorbar\": {\"outlinewidth\": 0, \"ticks\": \"\"}}, \"type\": \"scattermapbox\"}], \"scatterpolar\": [{\"marker\": {\"colorbar\": {\"outlinewidth\": 0, \"ticks\": \"\"}}, \"type\": \"scatterpolar\"}], \"scatterpolargl\": [{\"marker\": {\"colorbar\": {\"outlinewidth\": 0, \"ticks\": \"\"}}, \"type\": \"scatterpolargl\"}], \"scatterternary\": [{\"marker\": {\"colorbar\": {\"outlinewidth\": 0, \"ticks\": \"\"}}, \"type\": \"scatterternary\"}], \"surface\": [{\"colorbar\": {\"outlinewidth\": 0, \"ticks\": \"\"}, \"colorscale\": [[0.0, \"#0d0887\"], [0.1111111111111111, \"#46039f\"], [0.2222222222222222, \"#7201a8\"], [0.3333333333333333, \"#9c179e\"], [0.4444444444444444, \"#bd3786\"], [0.5555555555555556, \"#d8576b\"], [0.6666666666666666, \"#ed7953\"], [0.7777777777777778, \"#fb9f3a\"], [0.8888888888888888, \"#fdca26\"], [1.0, \"#f0f921\"]], \"type\": \"surface\"}], \"table\": [{\"cells\": {\"fill\": {\"color\": \"#EBF0F8\"}, \"line\": {\"color\": \"white\"}}, \"header\": {\"fill\": {\"color\": \"#C8D4E3\"}, \"line\": {\"color\": \"white\"}}, \"type\": \"table\"}]}, \"layout\": {\"annotationdefaults\": {\"arrowcolor\": \"#2a3f5f\", \"arrowhead\": 0, \"arrowwidth\": 1}, \"autotypenumbers\": \"strict\", \"coloraxis\": {\"colorbar\": {\"outlinewidth\": 0, \"ticks\": \"\"}}, \"colorscale\": {\"diverging\": [[0, \"#8e0152\"], [0.1, \"#c51b7d\"], [0.2, \"#de77ae\"], [0.3, \"#f1b6da\"], [0.4, \"#fde0ef\"], [0.5, \"#f7f7f7\"], [0.6, \"#e6f5d0\"], [0.7, \"#b8e186\"], [0.8, \"#7fbc41\"], [0.9, \"#4d9221\"], [1, \"#276419\"]], \"sequential\": [[0.0, \"#0d0887\"], [0.1111111111111111, \"#46039f\"], [0.2222222222222222, \"#7201a8\"], [0.3333333333333333, \"#9c179e\"], [0.4444444444444444, \"#bd3786\"], [0.5555555555555556, \"#d8576b\"], [0.6666666666666666, \"#ed7953\"], [0.7777777777777778, \"#fb9f3a\"], [0.8888888888888888, \"#fdca26\"], [1.0, \"#f0f921\"]], \"sequentialminus\": [[0.0, \"#0d0887\"], [0.1111111111111111, \"#46039f\"], [0.2222222222222222, \"#7201a8\"], [0.3333333333333333, \"#9c179e\"], [0.4444444444444444, \"#bd3786\"], [0.5555555555555556, \"#d8576b\"], [0.6666666666666666, \"#ed7953\"], [0.7777777777777778, \"#fb9f3a\"], [0.8888888888888888, \"#fdca26\"], [1.0, \"#f0f921\"]]}, \"colorway\": [\"#636efa\", \"#EF553B\", \"#00cc96\", \"#ab63fa\", \"#FFA15A\", \"#19d3f3\", \"#FF6692\", \"#B6E880\", \"#FF97FF\", \"#FECB52\"], \"font\": {\"color\": \"#2a3f5f\"}, \"geo\": {\"bgcolor\": \"white\", \"lakecolor\": \"white\", \"landcolor\": \"#E5ECF6\", \"showlakes\": true, \"showland\": true, \"subunitcolor\": \"white\"}, \"hoverlabel\": {\"align\": \"left\"}, \"hovermode\": \"closest\", \"mapbox\": {\"style\": \"light\"}, \"paper_bgcolor\": \"white\", \"plot_bgcolor\": \"#E5ECF6\", \"polar\": {\"angularaxis\": {\"gridcolor\": \"white\", \"linecolor\": \"white\", \"ticks\": \"\"}, \"bgcolor\": \"#E5ECF6\", \"radialaxis\": {\"gridcolor\": \"white\", \"linecolor\": \"white\", \"ticks\": \"\"}}, \"scene\": {\"xaxis\": {\"backgroundcolor\": \"#E5ECF6\", \"gridcolor\": \"white\", \"gridwidth\": 2, \"linecolor\": \"white\", \"showbackground\": true, \"ticks\": \"\", \"zerolinecolor\": \"white\"}, \"yaxis\": {\"backgroundcolor\": \"#E5ECF6\", \"gridcolor\": \"white\", \"gridwidth\": 2, \"linecolor\": \"white\", \"showbackground\": true, \"ticks\": \"\", \"zerolinecolor\": \"white\"}, \"zaxis\": {\"backgroundcolor\": \"#E5ECF6\", \"gridcolor\": \"white\", \"gridwidth\": 2, \"linecolor\": \"white\", \"showbackground\": true, \"ticks\": \"\", \"zerolinecolor\": \"white\"}}, \"shapedefaults\": {\"line\": {\"color\": \"#2a3f5f\"}}, \"ternary\": {\"aaxis\": {\"gridcolor\": \"white\", \"linecolor\": \"white\", \"ticks\": \"\"}, \"baxis\": {\"gridcolor\": \"white\", \"linecolor\": \"white\", \"ticks\": \"\"}, \"bgcolor\": \"#E5ECF6\", \"caxis\": {\"gridcolor\": \"white\", \"linecolor\": \"white\", \"ticks\": \"\"}}, \"title\": {\"x\": 0.05}, \"xaxis\": {\"automargin\": true, \"gridcolor\": \"white\", \"linecolor\": \"white\", \"ticks\": \"\", \"title\": {\"standoff\": 15}, \"zerolinecolor\": \"white\", \"zerolinewidth\": 2}, \"yaxis\": {\"automargin\": true, \"gridcolor\": \"white\", \"linecolor\": \"white\", \"ticks\": \"\", \"title\": {\"standoff\": 15}, \"zerolinecolor\": \"white\", \"zerolinewidth\": 2}}}, \"title\": {\"text\": \"Missing Women Comparison\"}},                        {\"responsive\": true}                    ).then(function(){\n",
       "                            \n",
       "var gd = document.getElementById('f226f993-e9c6-4f23-beef-7f8d0b0a7920');\n",
       "var x = new MutationObserver(function (mutations, observer) {{\n",
       "        var display = window.getComputedStyle(gd).display;\n",
       "        if (!display || display === 'none') {{\n",
       "            console.log([gd, 'removed!']);\n",
       "            Plotly.purge(gd);\n",
       "            observer.disconnect();\n",
       "        }}\n",
       "}});\n",
       "\n",
       "// Listen for the removal of the full notebook cells\n",
       "var notebookContainer = gd.closest('#notebook-container');\n",
       "if (notebookContainer) {{\n",
       "    x.observe(notebookContainer, {childList: true});\n",
       "}}\n",
       "\n",
       "// Listen for the clearing of the current output cell\n",
       "var outputEl = gd.closest('.output');\n",
       "if (outputEl) {{\n",
       "    x.observe(outputEl, {childList: true});\n",
       "}}\n",
       "\n",
       "                        })                };                });            </script>        </div>"
      ]
     },
     "metadata": {},
     "output_type": "display_data"
    }
   ],
   "source": [
    "# 3. INVESTIGATE RELATIONSHIP BETWEEN MISSING WOMEN AND SECURITY LEVEL IN MIDDLE EASTERN AND NORTH AFRICAN COUNTRIES\n",
    "# Because of conflicts, wars and immigration issues in Middle Eastern and North African countries, \n",
    "# We wantted to investigate missing women in the region.\n",
    "# In order to do that, We compared missing women and security level datas of the countries.\n",
    "\n",
    "# Missing women in Middle East and North Africa:\n",
    "trace01 = go.Bar(\n",
    "                 x = data01['ISO_code'],\n",
    "                 y = data01['pf_ss_women_missing'],\n",
    "                 name = 'Missing Women',\n",
    "                 marker = dict(color='rgba(130, 35, 45, 0.5)',\n",
    "                              line = dict(color='rgba(0,0,0)', width=0.5)),\n",
    "                 text = data01.countries)\n",
    "# Security Level of the Country:\n",
    "trace02 = go.Bar(\n",
    "                 x = data01['ISO_code'],\n",
    "                 y = data01['pf_ss'],\n",
    "                 name = 'Security of the Country',\n",
    "                 marker = dict(color='rgba(45, 35, 145, 0.5)',\n",
    "                              line = dict(color='rgba(0,0,0)', width=0.5)),\n",
    "                 text = data01.countries)\n",
    "datanew = [trace01, trace02]\n",
    "layoutnew = go.Layout(barmode='group', title='Missing Women Comparison')\n",
    "fig = go.Figure(data=datanew, layout=layoutnew)\n",
    "py.iplot(fig)"
   ]
  },
  {
   "cell_type": "code",
   "execution_count": 11,
   "metadata": {},
   "outputs": [],
   "source": [
    "# From the graph above one can easly see that, there is a missing women problem even the country's security level is high \n",
    "#(like Israel, Lebanon, Morrocco, Turkey)."
   ]
  },
  {
   "cell_type": "code",
   "execution_count": 12,
   "metadata": {},
   "outputs": [
    {
     "data": {
      "application/vnd.plotly.v1+json": {
       "config": {
        "linkText": "Export to plot.ly",
        "plotlyServerURL": "https://plot.ly",
        "showLink": false
       },
       "data": [
        {
         "domain": {
          "x": [
           0,
           1
          ]
         },
         "hole": 0.3,
         "hoverinfo": "label+percent+name",
         "labels": [
          "Algeria",
          "Bahrain",
          "Egypt",
          "Iran",
          "Iraq",
          "Israel",
          "Jordan",
          "Kuwait",
          "Lebanon",
          "Libya",
          "Morocco",
          "Oman",
          "Qatar",
          "Saudi Arabia",
          "Syria",
          "Tunisia",
          "Turkey",
          "United Arab Emirates",
          "Yemen, Rep."
         ],
         "name": "Security for Women",
         "type": "pie",
         "values": [
          5.833333333,
          5.833333333,
          2.8,
          5.833333333,
          5.833333333,
          10,
          5.833333333,
          5.833333333,
          6.666666667,
          5.833333333,
          6.666666667,
          5.833333333,
          5.833333333,
          5,
          5.833333333,
          5.833333333,
          10,
          5.833333333,
          4.566666667
         ]
        }
       ],
       "layout": {
        "annotations": [
         {
          "font": {
           "size": 20
          },
          "showarrow": false,
          "text": " ",
          "x": 0.2,
          "y": 1
         }
        ],
        "template": {
         "data": {
          "bar": [
           {
            "error_x": {
             "color": "#2a3f5f"
            },
            "error_y": {
             "color": "#2a3f5f"
            },
            "marker": {
             "line": {
              "color": "#E5ECF6",
              "width": 0.5
             }
            },
            "type": "bar"
           }
          ],
          "barpolar": [
           {
            "marker": {
             "line": {
              "color": "#E5ECF6",
              "width": 0.5
             }
            },
            "type": "barpolar"
           }
          ],
          "carpet": [
           {
            "aaxis": {
             "endlinecolor": "#2a3f5f",
             "gridcolor": "white",
             "linecolor": "white",
             "minorgridcolor": "white",
             "startlinecolor": "#2a3f5f"
            },
            "baxis": {
             "endlinecolor": "#2a3f5f",
             "gridcolor": "white",
             "linecolor": "white",
             "minorgridcolor": "white",
             "startlinecolor": "#2a3f5f"
            },
            "type": "carpet"
           }
          ],
          "choropleth": [
           {
            "colorbar": {
             "outlinewidth": 0,
             "ticks": ""
            },
            "type": "choropleth"
           }
          ],
          "contour": [
           {
            "colorbar": {
             "outlinewidth": 0,
             "ticks": ""
            },
            "colorscale": [
             [
              0,
              "#0d0887"
             ],
             [
              0.1111111111111111,
              "#46039f"
             ],
             [
              0.2222222222222222,
              "#7201a8"
             ],
             [
              0.3333333333333333,
              "#9c179e"
             ],
             [
              0.4444444444444444,
              "#bd3786"
             ],
             [
              0.5555555555555556,
              "#d8576b"
             ],
             [
              0.6666666666666666,
              "#ed7953"
             ],
             [
              0.7777777777777778,
              "#fb9f3a"
             ],
             [
              0.8888888888888888,
              "#fdca26"
             ],
             [
              1,
              "#f0f921"
             ]
            ],
            "type": "contour"
           }
          ],
          "contourcarpet": [
           {
            "colorbar": {
             "outlinewidth": 0,
             "ticks": ""
            },
            "type": "contourcarpet"
           }
          ],
          "heatmap": [
           {
            "colorbar": {
             "outlinewidth": 0,
             "ticks": ""
            },
            "colorscale": [
             [
              0,
              "#0d0887"
             ],
             [
              0.1111111111111111,
              "#46039f"
             ],
             [
              0.2222222222222222,
              "#7201a8"
             ],
             [
              0.3333333333333333,
              "#9c179e"
             ],
             [
              0.4444444444444444,
              "#bd3786"
             ],
             [
              0.5555555555555556,
              "#d8576b"
             ],
             [
              0.6666666666666666,
              "#ed7953"
             ],
             [
              0.7777777777777778,
              "#fb9f3a"
             ],
             [
              0.8888888888888888,
              "#fdca26"
             ],
             [
              1,
              "#f0f921"
             ]
            ],
            "type": "heatmap"
           }
          ],
          "heatmapgl": [
           {
            "colorbar": {
             "outlinewidth": 0,
             "ticks": ""
            },
            "colorscale": [
             [
              0,
              "#0d0887"
             ],
             [
              0.1111111111111111,
              "#46039f"
             ],
             [
              0.2222222222222222,
              "#7201a8"
             ],
             [
              0.3333333333333333,
              "#9c179e"
             ],
             [
              0.4444444444444444,
              "#bd3786"
             ],
             [
              0.5555555555555556,
              "#d8576b"
             ],
             [
              0.6666666666666666,
              "#ed7953"
             ],
             [
              0.7777777777777778,
              "#fb9f3a"
             ],
             [
              0.8888888888888888,
              "#fdca26"
             ],
             [
              1,
              "#f0f921"
             ]
            ],
            "type": "heatmapgl"
           }
          ],
          "histogram": [
           {
            "marker": {
             "colorbar": {
              "outlinewidth": 0,
              "ticks": ""
             }
            },
            "type": "histogram"
           }
          ],
          "histogram2d": [
           {
            "colorbar": {
             "outlinewidth": 0,
             "ticks": ""
            },
            "colorscale": [
             [
              0,
              "#0d0887"
             ],
             [
              0.1111111111111111,
              "#46039f"
             ],
             [
              0.2222222222222222,
              "#7201a8"
             ],
             [
              0.3333333333333333,
              "#9c179e"
             ],
             [
              0.4444444444444444,
              "#bd3786"
             ],
             [
              0.5555555555555556,
              "#d8576b"
             ],
             [
              0.6666666666666666,
              "#ed7953"
             ],
             [
              0.7777777777777778,
              "#fb9f3a"
             ],
             [
              0.8888888888888888,
              "#fdca26"
             ],
             [
              1,
              "#f0f921"
             ]
            ],
            "type": "histogram2d"
           }
          ],
          "histogram2dcontour": [
           {
            "colorbar": {
             "outlinewidth": 0,
             "ticks": ""
            },
            "colorscale": [
             [
              0,
              "#0d0887"
             ],
             [
              0.1111111111111111,
              "#46039f"
             ],
             [
              0.2222222222222222,
              "#7201a8"
             ],
             [
              0.3333333333333333,
              "#9c179e"
             ],
             [
              0.4444444444444444,
              "#bd3786"
             ],
             [
              0.5555555555555556,
              "#d8576b"
             ],
             [
              0.6666666666666666,
              "#ed7953"
             ],
             [
              0.7777777777777778,
              "#fb9f3a"
             ],
             [
              0.8888888888888888,
              "#fdca26"
             ],
             [
              1,
              "#f0f921"
             ]
            ],
            "type": "histogram2dcontour"
           }
          ],
          "mesh3d": [
           {
            "colorbar": {
             "outlinewidth": 0,
             "ticks": ""
            },
            "type": "mesh3d"
           }
          ],
          "parcoords": [
           {
            "line": {
             "colorbar": {
              "outlinewidth": 0,
              "ticks": ""
             }
            },
            "type": "parcoords"
           }
          ],
          "pie": [
           {
            "automargin": true,
            "type": "pie"
           }
          ],
          "scatter": [
           {
            "marker": {
             "colorbar": {
              "outlinewidth": 0,
              "ticks": ""
             }
            },
            "type": "scatter"
           }
          ],
          "scatter3d": [
           {
            "line": {
             "colorbar": {
              "outlinewidth": 0,
              "ticks": ""
             }
            },
            "marker": {
             "colorbar": {
              "outlinewidth": 0,
              "ticks": ""
             }
            },
            "type": "scatter3d"
           }
          ],
          "scattercarpet": [
           {
            "marker": {
             "colorbar": {
              "outlinewidth": 0,
              "ticks": ""
             }
            },
            "type": "scattercarpet"
           }
          ],
          "scattergeo": [
           {
            "marker": {
             "colorbar": {
              "outlinewidth": 0,
              "ticks": ""
             }
            },
            "type": "scattergeo"
           }
          ],
          "scattergl": [
           {
            "marker": {
             "colorbar": {
              "outlinewidth": 0,
              "ticks": ""
             }
            },
            "type": "scattergl"
           }
          ],
          "scattermapbox": [
           {
            "marker": {
             "colorbar": {
              "outlinewidth": 0,
              "ticks": ""
             }
            },
            "type": "scattermapbox"
           }
          ],
          "scatterpolar": [
           {
            "marker": {
             "colorbar": {
              "outlinewidth": 0,
              "ticks": ""
             }
            },
            "type": "scatterpolar"
           }
          ],
          "scatterpolargl": [
           {
            "marker": {
             "colorbar": {
              "outlinewidth": 0,
              "ticks": ""
             }
            },
            "type": "scatterpolargl"
           }
          ],
          "scatterternary": [
           {
            "marker": {
             "colorbar": {
              "outlinewidth": 0,
              "ticks": ""
             }
            },
            "type": "scatterternary"
           }
          ],
          "surface": [
           {
            "colorbar": {
             "outlinewidth": 0,
             "ticks": ""
            },
            "colorscale": [
             [
              0,
              "#0d0887"
             ],
             [
              0.1111111111111111,
              "#46039f"
             ],
             [
              0.2222222222222222,
              "#7201a8"
             ],
             [
              0.3333333333333333,
              "#9c179e"
             ],
             [
              0.4444444444444444,
              "#bd3786"
             ],
             [
              0.5555555555555556,
              "#d8576b"
             ],
             [
              0.6666666666666666,
              "#ed7953"
             ],
             [
              0.7777777777777778,
              "#fb9f3a"
             ],
             [
              0.8888888888888888,
              "#fdca26"
             ],
             [
              1,
              "#f0f921"
             ]
            ],
            "type": "surface"
           }
          ],
          "table": [
           {
            "cells": {
             "fill": {
              "color": "#EBF0F8"
             },
             "line": {
              "color": "white"
             }
            },
            "header": {
             "fill": {
              "color": "#C8D4E3"
             },
             "line": {
              "color": "white"
             }
            },
            "type": "table"
           }
          ]
         },
         "layout": {
          "annotationdefaults": {
           "arrowcolor": "#2a3f5f",
           "arrowhead": 0,
           "arrowwidth": 1
          },
          "autotypenumbers": "strict",
          "coloraxis": {
           "colorbar": {
            "outlinewidth": 0,
            "ticks": ""
           }
          },
          "colorscale": {
           "diverging": [
            [
             0,
             "#8e0152"
            ],
            [
             0.1,
             "#c51b7d"
            ],
            [
             0.2,
             "#de77ae"
            ],
            [
             0.3,
             "#f1b6da"
            ],
            [
             0.4,
             "#fde0ef"
            ],
            [
             0.5,
             "#f7f7f7"
            ],
            [
             0.6,
             "#e6f5d0"
            ],
            [
             0.7,
             "#b8e186"
            ],
            [
             0.8,
             "#7fbc41"
            ],
            [
             0.9,
             "#4d9221"
            ],
            [
             1,
             "#276419"
            ]
           ],
           "sequential": [
            [
             0,
             "#0d0887"
            ],
            [
             0.1111111111111111,
             "#46039f"
            ],
            [
             0.2222222222222222,
             "#7201a8"
            ],
            [
             0.3333333333333333,
             "#9c179e"
            ],
            [
             0.4444444444444444,
             "#bd3786"
            ],
            [
             0.5555555555555556,
             "#d8576b"
            ],
            [
             0.6666666666666666,
             "#ed7953"
            ],
            [
             0.7777777777777778,
             "#fb9f3a"
            ],
            [
             0.8888888888888888,
             "#fdca26"
            ],
            [
             1,
             "#f0f921"
            ]
           ],
           "sequentialminus": [
            [
             0,
             "#0d0887"
            ],
            [
             0.1111111111111111,
             "#46039f"
            ],
            [
             0.2222222222222222,
             "#7201a8"
            ],
            [
             0.3333333333333333,
             "#9c179e"
            ],
            [
             0.4444444444444444,
             "#bd3786"
            ],
            [
             0.5555555555555556,
             "#d8576b"
            ],
            [
             0.6666666666666666,
             "#ed7953"
            ],
            [
             0.7777777777777778,
             "#fb9f3a"
            ],
            [
             0.8888888888888888,
             "#fdca26"
            ],
            [
             1,
             "#f0f921"
            ]
           ]
          },
          "colorway": [
           "#636efa",
           "#EF553B",
           "#00cc96",
           "#ab63fa",
           "#FFA15A",
           "#19d3f3",
           "#FF6692",
           "#B6E880",
           "#FF97FF",
           "#FECB52"
          ],
          "font": {
           "color": "#2a3f5f"
          },
          "geo": {
           "bgcolor": "white",
           "lakecolor": "white",
           "landcolor": "#E5ECF6",
           "showlakes": true,
           "showland": true,
           "subunitcolor": "white"
          },
          "hoverlabel": {
           "align": "left"
          },
          "hovermode": "closest",
          "mapbox": {
           "style": "light"
          },
          "paper_bgcolor": "white",
          "plot_bgcolor": "#E5ECF6",
          "polar": {
           "angularaxis": {
            "gridcolor": "white",
            "linecolor": "white",
            "ticks": ""
           },
           "bgcolor": "#E5ECF6",
           "radialaxis": {
            "gridcolor": "white",
            "linecolor": "white",
            "ticks": ""
           }
          },
          "scene": {
           "xaxis": {
            "backgroundcolor": "#E5ECF6",
            "gridcolor": "white",
            "gridwidth": 2,
            "linecolor": "white",
            "showbackground": true,
            "ticks": "",
            "zerolinecolor": "white"
           },
           "yaxis": {
            "backgroundcolor": "#E5ECF6",
            "gridcolor": "white",
            "gridwidth": 2,
            "linecolor": "white",
            "showbackground": true,
            "ticks": "",
            "zerolinecolor": "white"
           },
           "zaxis": {
            "backgroundcolor": "#E5ECF6",
            "gridcolor": "white",
            "gridwidth": 2,
            "linecolor": "white",
            "showbackground": true,
            "ticks": "",
            "zerolinecolor": "white"
           }
          },
          "shapedefaults": {
           "line": {
            "color": "#2a3f5f"
           }
          },
          "ternary": {
           "aaxis": {
            "gridcolor": "white",
            "linecolor": "white",
            "ticks": ""
           },
           "baxis": {
            "gridcolor": "white",
            "linecolor": "white",
            "ticks": ""
           },
           "bgcolor": "#E5ECF6",
           "caxis": {
            "gridcolor": "white",
            "linecolor": "white",
            "ticks": ""
           }
          },
          "title": {
           "x": 0.05
          },
          "xaxis": {
           "automargin": true,
           "gridcolor": "white",
           "linecolor": "white",
           "ticks": "",
           "title": {
            "standoff": 15
           },
           "zerolinecolor": "white",
           "zerolinewidth": 2
          },
          "yaxis": {
           "automargin": true,
           "gridcolor": "white",
           "linecolor": "white",
           "ticks": "",
           "title": {
            "standoff": 15
           },
           "zerolinecolor": "white",
           "zerolinewidth": 2
          }
         }
        },
        "title": {
         "text": "Security of Women Among Middle East and N.Africa"
        }
       }
      },
      "text/html": [
       "<div>                            <div id=\"d269b584-1661-4a21-b761-e68f9b3ebd85\" class=\"plotly-graph-div\" style=\"height:525px; width:100%;\"></div>            <script type=\"text/javascript\">                require([\"plotly\"], function(Plotly) {                    window.PLOTLYENV=window.PLOTLYENV || {};                                    if (document.getElementById(\"d269b584-1661-4a21-b761-e68f9b3ebd85\")) {                    Plotly.newPlot(                        \"d269b584-1661-4a21-b761-e68f9b3ebd85\",                        [{\"domain\": {\"x\": [0, 1]}, \"hole\": 0.3, \"hoverinfo\": \"label+percent+name\", \"labels\": [\"Algeria\", \"Bahrain\", \"Egypt\", \"Iran\", \"Iraq\", \"Israel\", \"Jordan\", \"Kuwait\", \"Lebanon\", \"Libya\", \"Morocco\", \"Oman\", \"Qatar\", \"Saudi Arabia\", \"Syria\", \"Tunisia\", \"Turkey\", \"United Arab Emirates\", \"Yemen, Rep.\"], \"name\": \"Security for Women\", \"type\": \"pie\", \"values\": [5.833333333, 5.833333333, 2.8, 5.833333333, 5.833333333, 10.0, 5.833333333, 5.833333333, 6.666666667, 5.833333333, 6.666666667, 5.833333333, 5.833333333, 5.0, 5.833333333, 5.833333333, 10.0, 5.833333333, 4.566666667]}],                        {\"annotations\": [{\"font\": {\"size\": 20}, \"showarrow\": false, \"text\": \" \", \"x\": 0.2, \"y\": 1}], \"template\": {\"data\": {\"bar\": [{\"error_x\": {\"color\": \"#2a3f5f\"}, \"error_y\": {\"color\": \"#2a3f5f\"}, \"marker\": {\"line\": {\"color\": \"#E5ECF6\", \"width\": 0.5}}, \"type\": \"bar\"}], \"barpolar\": [{\"marker\": {\"line\": {\"color\": \"#E5ECF6\", \"width\": 0.5}}, \"type\": \"barpolar\"}], \"carpet\": [{\"aaxis\": {\"endlinecolor\": \"#2a3f5f\", \"gridcolor\": \"white\", \"linecolor\": \"white\", \"minorgridcolor\": \"white\", \"startlinecolor\": \"#2a3f5f\"}, \"baxis\": {\"endlinecolor\": \"#2a3f5f\", \"gridcolor\": \"white\", \"linecolor\": \"white\", \"minorgridcolor\": \"white\", \"startlinecolor\": \"#2a3f5f\"}, \"type\": \"carpet\"}], \"choropleth\": [{\"colorbar\": {\"outlinewidth\": 0, \"ticks\": \"\"}, \"type\": \"choropleth\"}], \"contour\": [{\"colorbar\": {\"outlinewidth\": 0, \"ticks\": \"\"}, \"colorscale\": [[0.0, \"#0d0887\"], [0.1111111111111111, \"#46039f\"], [0.2222222222222222, \"#7201a8\"], [0.3333333333333333, \"#9c179e\"], [0.4444444444444444, \"#bd3786\"], [0.5555555555555556, \"#d8576b\"], [0.6666666666666666, \"#ed7953\"], [0.7777777777777778, \"#fb9f3a\"], [0.8888888888888888, \"#fdca26\"], [1.0, \"#f0f921\"]], \"type\": \"contour\"}], \"contourcarpet\": [{\"colorbar\": {\"outlinewidth\": 0, \"ticks\": \"\"}, \"type\": \"contourcarpet\"}], \"heatmap\": [{\"colorbar\": {\"outlinewidth\": 0, \"ticks\": \"\"}, \"colorscale\": [[0.0, \"#0d0887\"], [0.1111111111111111, \"#46039f\"], [0.2222222222222222, \"#7201a8\"], [0.3333333333333333, \"#9c179e\"], [0.4444444444444444, \"#bd3786\"], [0.5555555555555556, \"#d8576b\"], [0.6666666666666666, \"#ed7953\"], [0.7777777777777778, \"#fb9f3a\"], [0.8888888888888888, \"#fdca26\"], [1.0, \"#f0f921\"]], \"type\": \"heatmap\"}], \"heatmapgl\": [{\"colorbar\": {\"outlinewidth\": 0, \"ticks\": \"\"}, \"colorscale\": [[0.0, \"#0d0887\"], [0.1111111111111111, \"#46039f\"], [0.2222222222222222, \"#7201a8\"], [0.3333333333333333, \"#9c179e\"], [0.4444444444444444, \"#bd3786\"], [0.5555555555555556, \"#d8576b\"], [0.6666666666666666, \"#ed7953\"], [0.7777777777777778, \"#fb9f3a\"], [0.8888888888888888, \"#fdca26\"], [1.0, \"#f0f921\"]], \"type\": \"heatmapgl\"}], \"histogram\": [{\"marker\": {\"colorbar\": {\"outlinewidth\": 0, \"ticks\": \"\"}}, \"type\": \"histogram\"}], \"histogram2d\": [{\"colorbar\": {\"outlinewidth\": 0, \"ticks\": \"\"}, \"colorscale\": [[0.0, \"#0d0887\"], [0.1111111111111111, \"#46039f\"], [0.2222222222222222, \"#7201a8\"], [0.3333333333333333, \"#9c179e\"], [0.4444444444444444, \"#bd3786\"], [0.5555555555555556, \"#d8576b\"], [0.6666666666666666, \"#ed7953\"], [0.7777777777777778, \"#fb9f3a\"], [0.8888888888888888, \"#fdca26\"], [1.0, \"#f0f921\"]], \"type\": \"histogram2d\"}], \"histogram2dcontour\": [{\"colorbar\": {\"outlinewidth\": 0, \"ticks\": \"\"}, \"colorscale\": [[0.0, \"#0d0887\"], [0.1111111111111111, \"#46039f\"], [0.2222222222222222, \"#7201a8\"], [0.3333333333333333, \"#9c179e\"], [0.4444444444444444, \"#bd3786\"], [0.5555555555555556, \"#d8576b\"], [0.6666666666666666, \"#ed7953\"], [0.7777777777777778, \"#fb9f3a\"], [0.8888888888888888, \"#fdca26\"], [1.0, \"#f0f921\"]], \"type\": \"histogram2dcontour\"}], \"mesh3d\": [{\"colorbar\": {\"outlinewidth\": 0, \"ticks\": \"\"}, \"type\": \"mesh3d\"}], \"parcoords\": [{\"line\": {\"colorbar\": {\"outlinewidth\": 0, \"ticks\": \"\"}}, \"type\": \"parcoords\"}], \"pie\": [{\"automargin\": true, \"type\": \"pie\"}], \"scatter\": [{\"marker\": {\"colorbar\": {\"outlinewidth\": 0, \"ticks\": \"\"}}, \"type\": \"scatter\"}], \"scatter3d\": [{\"line\": {\"colorbar\": {\"outlinewidth\": 0, \"ticks\": \"\"}}, \"marker\": {\"colorbar\": {\"outlinewidth\": 0, \"ticks\": \"\"}}, \"type\": \"scatter3d\"}], \"scattercarpet\": [{\"marker\": {\"colorbar\": {\"outlinewidth\": 0, \"ticks\": \"\"}}, \"type\": \"scattercarpet\"}], \"scattergeo\": [{\"marker\": {\"colorbar\": {\"outlinewidth\": 0, \"ticks\": \"\"}}, \"type\": \"scattergeo\"}], \"scattergl\": [{\"marker\": {\"colorbar\": {\"outlinewidth\": 0, \"ticks\": \"\"}}, \"type\": \"scattergl\"}], \"scattermapbox\": [{\"marker\": {\"colorbar\": {\"outlinewidth\": 0, \"ticks\": \"\"}}, \"type\": \"scattermapbox\"}], \"scatterpolar\": [{\"marker\": {\"colorbar\": {\"outlinewidth\": 0, \"ticks\": \"\"}}, \"type\": \"scatterpolar\"}], \"scatterpolargl\": [{\"marker\": {\"colorbar\": {\"outlinewidth\": 0, \"ticks\": \"\"}}, \"type\": \"scatterpolargl\"}], \"scatterternary\": [{\"marker\": {\"colorbar\": {\"outlinewidth\": 0, \"ticks\": \"\"}}, \"type\": \"scatterternary\"}], \"surface\": [{\"colorbar\": {\"outlinewidth\": 0, \"ticks\": \"\"}, \"colorscale\": [[0.0, \"#0d0887\"], [0.1111111111111111, \"#46039f\"], [0.2222222222222222, \"#7201a8\"], [0.3333333333333333, \"#9c179e\"], [0.4444444444444444, \"#bd3786\"], [0.5555555555555556, \"#d8576b\"], [0.6666666666666666, \"#ed7953\"], [0.7777777777777778, \"#fb9f3a\"], [0.8888888888888888, \"#fdca26\"], [1.0, \"#f0f921\"]], \"type\": \"surface\"}], \"table\": [{\"cells\": {\"fill\": {\"color\": \"#EBF0F8\"}, \"line\": {\"color\": \"white\"}}, \"header\": {\"fill\": {\"color\": \"#C8D4E3\"}, \"line\": {\"color\": \"white\"}}, \"type\": \"table\"}]}, \"layout\": {\"annotationdefaults\": {\"arrowcolor\": \"#2a3f5f\", \"arrowhead\": 0, \"arrowwidth\": 1}, \"autotypenumbers\": \"strict\", \"coloraxis\": {\"colorbar\": {\"outlinewidth\": 0, \"ticks\": \"\"}}, \"colorscale\": {\"diverging\": [[0, \"#8e0152\"], [0.1, \"#c51b7d\"], [0.2, \"#de77ae\"], [0.3, \"#f1b6da\"], [0.4, \"#fde0ef\"], [0.5, \"#f7f7f7\"], [0.6, \"#e6f5d0\"], [0.7, \"#b8e186\"], [0.8, \"#7fbc41\"], [0.9, \"#4d9221\"], [1, \"#276419\"]], \"sequential\": [[0.0, \"#0d0887\"], [0.1111111111111111, \"#46039f\"], [0.2222222222222222, \"#7201a8\"], [0.3333333333333333, \"#9c179e\"], [0.4444444444444444, \"#bd3786\"], [0.5555555555555556, \"#d8576b\"], [0.6666666666666666, \"#ed7953\"], [0.7777777777777778, \"#fb9f3a\"], [0.8888888888888888, \"#fdca26\"], [1.0, \"#f0f921\"]], \"sequentialminus\": [[0.0, \"#0d0887\"], [0.1111111111111111, \"#46039f\"], [0.2222222222222222, \"#7201a8\"], [0.3333333333333333, \"#9c179e\"], [0.4444444444444444, \"#bd3786\"], [0.5555555555555556, \"#d8576b\"], [0.6666666666666666, \"#ed7953\"], [0.7777777777777778, \"#fb9f3a\"], [0.8888888888888888, \"#fdca26\"], [1.0, \"#f0f921\"]]}, \"colorway\": [\"#636efa\", \"#EF553B\", \"#00cc96\", \"#ab63fa\", \"#FFA15A\", \"#19d3f3\", \"#FF6692\", \"#B6E880\", \"#FF97FF\", \"#FECB52\"], \"font\": {\"color\": \"#2a3f5f\"}, \"geo\": {\"bgcolor\": \"white\", \"lakecolor\": \"white\", \"landcolor\": \"#E5ECF6\", \"showlakes\": true, \"showland\": true, \"subunitcolor\": \"white\"}, \"hoverlabel\": {\"align\": \"left\"}, \"hovermode\": \"closest\", \"mapbox\": {\"style\": \"light\"}, \"paper_bgcolor\": \"white\", \"plot_bgcolor\": \"#E5ECF6\", \"polar\": {\"angularaxis\": {\"gridcolor\": \"white\", \"linecolor\": \"white\", \"ticks\": \"\"}, \"bgcolor\": \"#E5ECF6\", \"radialaxis\": {\"gridcolor\": \"white\", \"linecolor\": \"white\", \"ticks\": \"\"}}, \"scene\": {\"xaxis\": {\"backgroundcolor\": \"#E5ECF6\", \"gridcolor\": \"white\", \"gridwidth\": 2, \"linecolor\": \"white\", \"showbackground\": true, \"ticks\": \"\", \"zerolinecolor\": \"white\"}, \"yaxis\": {\"backgroundcolor\": \"#E5ECF6\", \"gridcolor\": \"white\", \"gridwidth\": 2, \"linecolor\": \"white\", \"showbackground\": true, \"ticks\": \"\", \"zerolinecolor\": \"white\"}, \"zaxis\": {\"backgroundcolor\": \"#E5ECF6\", \"gridcolor\": \"white\", \"gridwidth\": 2, \"linecolor\": \"white\", \"showbackground\": true, \"ticks\": \"\", \"zerolinecolor\": \"white\"}}, \"shapedefaults\": {\"line\": {\"color\": \"#2a3f5f\"}}, \"ternary\": {\"aaxis\": {\"gridcolor\": \"white\", \"linecolor\": \"white\", \"ticks\": \"\"}, \"baxis\": {\"gridcolor\": \"white\", \"linecolor\": \"white\", \"ticks\": \"\"}, \"bgcolor\": \"#E5ECF6\", \"caxis\": {\"gridcolor\": \"white\", \"linecolor\": \"white\", \"ticks\": \"\"}}, \"title\": {\"x\": 0.05}, \"xaxis\": {\"automargin\": true, \"gridcolor\": \"white\", \"linecolor\": \"white\", \"ticks\": \"\", \"title\": {\"standoff\": 15}, \"zerolinecolor\": \"white\", \"zerolinewidth\": 2}, \"yaxis\": {\"automargin\": true, \"gridcolor\": \"white\", \"linecolor\": \"white\", \"ticks\": \"\", \"title\": {\"standoff\": 15}, \"zerolinecolor\": \"white\", \"zerolinewidth\": 2}}}, \"title\": {\"text\": \"Security of Women Among Middle East and N.Africa\"}},                        {\"responsive\": true}                    ).then(function(){\n",
       "                            \n",
       "var gd = document.getElementById('d269b584-1661-4a21-b761-e68f9b3ebd85');\n",
       "var x = new MutationObserver(function (mutations, observer) {{\n",
       "        var display = window.getComputedStyle(gd).display;\n",
       "        if (!display || display === 'none') {{\n",
       "            console.log([gd, 'removed!']);\n",
       "            Plotly.purge(gd);\n",
       "            observer.disconnect();\n",
       "        }}\n",
       "}});\n",
       "\n",
       "// Listen for the removal of the full notebook cells\n",
       "var notebookContainer = gd.closest('#notebook-container');\n",
       "if (notebookContainer) {{\n",
       "    x.observe(notebookContainer, {childList: true});\n",
       "}}\n",
       "\n",
       "// Listen for the clearing of the current output cell\n",
       "var outputEl = gd.closest('.output');\n",
       "if (outputEl) {{\n",
       "    x.observe(outputEl, {childList: true});\n",
       "}}\n",
       "\n",
       "                        })                };                });            </script>        </div>"
      ]
     },
     "metadata": {},
     "output_type": "display_data"
    }
   ],
   "source": [
    "# 4. ANALYSE SECURITY OF WOMEN AMONG MIDDLE EASTERN AND NORTH AFRICAN COUNTRIES\n",
    "# One can see an overall comparison of the women's security level in Middle Eastern and North African countries.\n",
    "\n",
    "# Analysing security of women among Middle East and North African Countries:\n",
    "fig = {\n",
    "        'data': [ \n",
    "             {\n",
    "                'values' : data01['pf_ss_women'],\n",
    "                'labels' : data01['countries'],\n",
    "                'domain' : {'x': [0, 1]},\n",
    "                'name' : 'Security for Women',\n",
    "                'hoverinfo' : 'label+percent+name',\n",
    "                'hole' : 0.3,\n",
    "                'type' : 'pie'\n",
    "              },\n",
    "             ],\n",
    "         'layout' : {\n",
    "                     'title' : 'Security of Women Among Middle East and N.Africa',\n",
    "                     'annotations' : [\n",
    "                                        { 'font' : {'size' : 20},\n",
    "                                          'showarrow' : False,\n",
    "                                          'text' : ' ',\n",
    "                                          'x' : 0.20,\n",
    "                                          'y' : 1\n",
    "                                         },\n",
    "                                      ]    \n",
    "                     }\n",
    "        }\n",
    "py.iplot(fig)"
   ]
  },
  {
   "cell_type": "code",
   "execution_count": 13,
   "metadata": {},
   "outputs": [
    {
     "name": "stderr",
     "output_type": "stream",
     "text": [
      "D:\\anaconda_folder\\lib\\site-packages\\pandas\\core\\computation\\expressions.py:194: UserWarning:\n",
      "\n",
      "evaluating in Python space because the '+' operator is not supported by numexpr for the bool dtype, use '|' instead\n",
      "\n"
     ]
    },
    {
     "data": {
      "text/html": [
       "<div>\n",
       "<style scoped>\n",
       "    .dataframe tbody tr th:only-of-type {\n",
       "        vertical-align: middle;\n",
       "    }\n",
       "\n",
       "    .dataframe tbody tr th {\n",
       "        vertical-align: top;\n",
       "    }\n",
       "\n",
       "    .dataframe thead th {\n",
       "        text-align: right;\n",
       "    }\n",
       "</style>\n",
       "<table border=\"1\" class=\"dataframe\">\n",
       "  <thead>\n",
       "    <tr style=\"text-align: right;\">\n",
       "      <th></th>\n",
       "      <th>year</th>\n",
       "      <th>ISO_code</th>\n",
       "      <th>countries</th>\n",
       "      <th>region</th>\n",
       "      <th>pf_rol_procedural</th>\n",
       "      <th>pf_rol_civil</th>\n",
       "      <th>pf_rol_criminal</th>\n",
       "      <th>pf_rol</th>\n",
       "      <th>pf_ss_homicide</th>\n",
       "      <th>pf_ss_disappearances_disap</th>\n",
       "      <th>pf_ss_disappearances_violent</th>\n",
       "      <th>pf_ss_disappearances_organized</th>\n",
       "      <th>pf_ss_disappearances_fatalities</th>\n",
       "      <th>pf_ss_disappearances_injuries</th>\n",
       "      <th>pf_ss_disappearances</th>\n",
       "      <th>pf_ss_women_fgm</th>\n",
       "      <th>pf_ss_women_missing</th>\n",
       "      <th>pf_ss_women_inheritance_widows</th>\n",
       "      <th>pf_ss_women_inheritance_daughters</th>\n",
       "      <th>pf_ss_women_inheritance</th>\n",
       "      <th>pf_ss_women</th>\n",
       "      <th>pf_ss</th>\n",
       "      <th>pf_movement_domestic</th>\n",
       "      <th>pf_movement_foreign</th>\n",
       "      <th>pf_movement_women</th>\n",
       "      <th>pf_movement</th>\n",
       "      <th>pf_religion_estop_establish</th>\n",
       "      <th>pf_religion_estop_operate</th>\n",
       "      <th>pf_religion_estop</th>\n",
       "      <th>pf_religion_harassment</th>\n",
       "      <th>pf_religion_restrictions</th>\n",
       "      <th>pf_religion</th>\n",
       "      <th>pf_association_association</th>\n",
       "      <th>pf_association_assembly</th>\n",
       "      <th>pf_association_political_establish</th>\n",
       "      <th>pf_association_political_operate</th>\n",
       "      <th>pf_association_political</th>\n",
       "      <th>pf_association_prof_establish</th>\n",
       "      <th>pf_association_prof_operate</th>\n",
       "      <th>pf_association_prof</th>\n",
       "      <th>pf_association_sport_establish</th>\n",
       "      <th>pf_association_sport_operate</th>\n",
       "      <th>pf_association_sport</th>\n",
       "      <th>pf_association</th>\n",
       "      <th>pf_expression_killed</th>\n",
       "      <th>pf_expression_jailed</th>\n",
       "      <th>pf_expression_influence</th>\n",
       "      <th>pf_expression_control</th>\n",
       "      <th>pf_expression_cable</th>\n",
       "      <th>pf_expression_newspapers</th>\n",
       "      <th>pf_expression_internet</th>\n",
       "      <th>pf_expression</th>\n",
       "      <th>pf_identity_legal</th>\n",
       "      <th>pf_identity_parental_marriage</th>\n",
       "      <th>pf_identity_parental_divorce</th>\n",
       "      <th>pf_identity_parental</th>\n",
       "      <th>pf_identity_sex_male</th>\n",
       "      <th>pf_identity_sex_female</th>\n",
       "      <th>pf_identity_sex</th>\n",
       "      <th>pf_identity_divorce</th>\n",
       "      <th>pf_identity</th>\n",
       "      <th>pf_score</th>\n",
       "      <th>pf_rank</th>\n",
       "      <th>ef_government_consumption</th>\n",
       "      <th>ef_government_transfers</th>\n",
       "      <th>ef_government_enterprises</th>\n",
       "      <th>ef_government_tax_income</th>\n",
       "      <th>ef_government_tax_payroll</th>\n",
       "      <th>ef_government_tax</th>\n",
       "      <th>ef_government</th>\n",
       "      <th>ef_legal_judicial</th>\n",
       "      <th>ef_legal_courts</th>\n",
       "      <th>ef_legal_protection</th>\n",
       "      <th>ef_legal_military</th>\n",
       "      <th>ef_legal_integrity</th>\n",
       "      <th>ef_legal_enforcement</th>\n",
       "      <th>ef_legal_restrictions</th>\n",
       "      <th>ef_legal_police</th>\n",
       "      <th>ef_legal_crime</th>\n",
       "      <th>ef_legal_gender</th>\n",
       "      <th>ef_legal</th>\n",
       "      <th>ef_money_growth</th>\n",
       "      <th>ef_money_sd</th>\n",
       "      <th>ef_money_inflation</th>\n",
       "      <th>ef_money_currency</th>\n",
       "      <th>ef_money</th>\n",
       "      <th>ef_trade_tariffs_revenue</th>\n",
       "      <th>ef_trade_tariffs_mean</th>\n",
       "      <th>ef_trade_tariffs_sd</th>\n",
       "      <th>ef_trade_tariffs</th>\n",
       "      <th>ef_trade_regulatory_nontariff</th>\n",
       "      <th>ef_trade_regulatory_compliance</th>\n",
       "      <th>ef_trade_regulatory</th>\n",
       "      <th>ef_trade_black</th>\n",
       "      <th>ef_trade_movement_foreign</th>\n",
       "      <th>ef_trade_movement_capital</th>\n",
       "      <th>ef_trade_movement_visit</th>\n",
       "      <th>ef_trade_movement</th>\n",
       "      <th>ef_trade</th>\n",
       "      <th>ef_regulation_credit_ownership</th>\n",
       "      <th>ef_regulation_credit_private</th>\n",
       "      <th>ef_regulation_credit_interest</th>\n",
       "      <th>ef_regulation_credit</th>\n",
       "      <th>ef_regulation_labor_minwage</th>\n",
       "      <th>ef_regulation_labor_firing</th>\n",
       "      <th>ef_regulation_labor_bargain</th>\n",
       "      <th>ef_regulation_labor_hours</th>\n",
       "      <th>ef_regulation_labor_dismissal</th>\n",
       "      <th>ef_regulation_labor_conscription</th>\n",
       "      <th>ef_regulation_labor</th>\n",
       "      <th>ef_regulation_business_adm</th>\n",
       "      <th>ef_regulation_business_bureaucracy</th>\n",
       "      <th>ef_regulation_business_start</th>\n",
       "      <th>ef_regulation_business_bribes</th>\n",
       "      <th>ef_regulation_business_licensing</th>\n",
       "      <th>ef_regulation_business_compliance</th>\n",
       "      <th>ef_regulation_business</th>\n",
       "      <th>ef_regulation</th>\n",
       "      <th>ef_score</th>\n",
       "      <th>ef_rank</th>\n",
       "      <th>hf_score</th>\n",
       "      <th>hf_rank</th>\n",
       "      <th>hf_quartile</th>\n",
       "    </tr>\n",
       "  </thead>\n",
       "  <tbody>\n",
       "    <tr>\n",
       "      <td>154</td>\n",
       "      <td>2016</td>\n",
       "      <td>GBR</td>\n",
       "      <td>United Kingdom</td>\n",
       "      <td>Western Europe</td>\n",
       "      <td>8.227729</td>\n",
       "      <td>7.512237</td>\n",
       "      <td>7.409705</td>\n",
       "      <td>7.716557</td>\n",
       "      <td>9.519036</td>\n",
       "      <td>10.0</td>\n",
       "      <td>10.0</td>\n",
       "      <td>10.0</td>\n",
       "      <td>9.954265</td>\n",
       "      <td>9.939020</td>\n",
       "      <td>9.978657</td>\n",
       "      <td>10.0</td>\n",
       "      <td>10.0</td>\n",
       "      <td>10.0</td>\n",
       "      <td>10.0</td>\n",
       "      <td>10.0</td>\n",
       "      <td>10.000000</td>\n",
       "      <td>9.832564</td>\n",
       "      <td>10.0</td>\n",
       "      <td>10.0</td>\n",
       "      <td>10.0</td>\n",
       "      <td>10.000000</td>\n",
       "      <td>NaN</td>\n",
       "      <td>NaN</td>\n",
       "      <td>10.0</td>\n",
       "      <td>7.573333</td>\n",
       "      <td>5.183333</td>\n",
       "      <td>7.585556</td>\n",
       "      <td>10.0</td>\n",
       "      <td>10.0</td>\n",
       "      <td>NaN</td>\n",
       "      <td>NaN</td>\n",
       "      <td>10.0</td>\n",
       "      <td>NaN</td>\n",
       "      <td>NaN</td>\n",
       "      <td>10.0</td>\n",
       "      <td>NaN</td>\n",
       "      <td>NaN</td>\n",
       "      <td>10.0</td>\n",
       "      <td>10.0</td>\n",
       "      <td>10.0</td>\n",
       "      <td>10.0</td>\n",
       "      <td>7.000000</td>\n",
       "      <td>7.75</td>\n",
       "      <td>10.0</td>\n",
       "      <td>10.0</td>\n",
       "      <td>10.0</td>\n",
       "      <td>9.250000</td>\n",
       "      <td>7.0</td>\n",
       "      <td>10.0</td>\n",
       "      <td>10.0</td>\n",
       "      <td>10.0</td>\n",
       "      <td>10.0</td>\n",
       "      <td>10.0</td>\n",
       "      <td>10.0</td>\n",
       "      <td>10.0</td>\n",
       "      <td>9.25</td>\n",
       "      <td>8.995836</td>\n",
       "      <td>18.0</td>\n",
       "      <td>5.211765</td>\n",
       "      <td>5.445781</td>\n",
       "      <td>8.0</td>\n",
       "      <td>6.0</td>\n",
       "      <td>2.0</td>\n",
       "      <td>4.0</td>\n",
       "      <td>5.664386</td>\n",
       "      <td>8.910224</td>\n",
       "      <td>7.134579</td>\n",
       "      <td>8.829254</td>\n",
       "      <td>10.000000</td>\n",
       "      <td>8.333333</td>\n",
       "      <td>4.394428</td>\n",
       "      <td>8.015852</td>\n",
       "      <td>8.351080</td>\n",
       "      <td>6.675237</td>\n",
       "      <td>1.000000</td>\n",
       "      <td>7.849332</td>\n",
       "      <td>9.765756</td>\n",
       "      <td>9.736825</td>\n",
       "      <td>9.87168</td>\n",
       "      <td>10.0</td>\n",
       "      <td>9.843565</td>\n",
       "      <td>9.000000</td>\n",
       "      <td>8.96</td>\n",
       "      <td>6.8384</td>\n",
       "      <td>8.266133</td>\n",
       "      <td>7.013774</td>\n",
       "      <td>9.313022</td>\n",
       "      <td>8.163398</td>\n",
       "      <td>10.0</td>\n",
       "      <td>8.293683</td>\n",
       "      <td>4.615385</td>\n",
       "      <td>9.071303</td>\n",
       "      <td>7.326790</td>\n",
       "      <td>8.439080</td>\n",
       "      <td>10.0</td>\n",
       "      <td>6.497309</td>\n",
       "      <td>8.0</td>\n",
       "      <td>8.165770</td>\n",
       "      <td>8.900000</td>\n",
       "      <td>6.901307</td>\n",
       "      <td>8.054078</td>\n",
       "      <td>8.0</td>\n",
       "      <td>8.532231</td>\n",
       "      <td>10.0</td>\n",
       "      <td>8.397936</td>\n",
       "      <td>4.935642</td>\n",
       "      <td>8.444444</td>\n",
       "      <td>9.855926</td>\n",
       "      <td>7.165796</td>\n",
       "      <td>9.515201</td>\n",
       "      <td>8.766974</td>\n",
       "      <td>8.113997</td>\n",
       "      <td>8.225901</td>\n",
       "      <td>8.00</td>\n",
       "      <td>9.0</td>\n",
       "      <td>8.497918</td>\n",
       "      <td>8.0</td>\n",
       "      <td>1.0</td>\n",
       "    </tr>\n",
       "    <tr>\n",
       "      <td>22</td>\n",
       "      <td>2016</td>\n",
       "      <td>BGR</td>\n",
       "      <td>Bulgaria</td>\n",
       "      <td>Eastern Europe</td>\n",
       "      <td>4.984199</td>\n",
       "      <td>5.631897</td>\n",
       "      <td>4.058021</td>\n",
       "      <td>4.891372</td>\n",
       "      <td>9.545583</td>\n",
       "      <td>10.0</td>\n",
       "      <td>10.0</td>\n",
       "      <td>10.0</td>\n",
       "      <td>10.000000</td>\n",
       "      <td>9.971941</td>\n",
       "      <td>9.994388</td>\n",
       "      <td>10.0</td>\n",
       "      <td>10.0</td>\n",
       "      <td>10.0</td>\n",
       "      <td>10.0</td>\n",
       "      <td>10.0</td>\n",
       "      <td>10.000000</td>\n",
       "      <td>9.846657</td>\n",
       "      <td>10.0</td>\n",
       "      <td>10.0</td>\n",
       "      <td>10.0</td>\n",
       "      <td>10.000000</td>\n",
       "      <td>NaN</td>\n",
       "      <td>NaN</td>\n",
       "      <td>7.5</td>\n",
       "      <td>8.088889</td>\n",
       "      <td>5.827778</td>\n",
       "      <td>7.138889</td>\n",
       "      <td>10.0</td>\n",
       "      <td>10.0</td>\n",
       "      <td>NaN</td>\n",
       "      <td>NaN</td>\n",
       "      <td>7.5</td>\n",
       "      <td>NaN</td>\n",
       "      <td>NaN</td>\n",
       "      <td>10.0</td>\n",
       "      <td>NaN</td>\n",
       "      <td>NaN</td>\n",
       "      <td>10.0</td>\n",
       "      <td>9.5</td>\n",
       "      <td>10.0</td>\n",
       "      <td>10.0</td>\n",
       "      <td>6.000000</td>\n",
       "      <td>5.75</td>\n",
       "      <td>10.0</td>\n",
       "      <td>10.0</td>\n",
       "      <td>10.0</td>\n",
       "      <td>8.821429</td>\n",
       "      <td>7.0</td>\n",
       "      <td>10.0</td>\n",
       "      <td>10.0</td>\n",
       "      <td>10.0</td>\n",
       "      <td>10.0</td>\n",
       "      <td>10.0</td>\n",
       "      <td>10.0</td>\n",
       "      <td>10.0</td>\n",
       "      <td>9.25</td>\n",
       "      <td>8.155539</td>\n",
       "      <td>41.0</td>\n",
       "      <td>5.747059</td>\n",
       "      <td>5.846512</td>\n",
       "      <td>8.0</td>\n",
       "      <td>10.0</td>\n",
       "      <td>7.0</td>\n",
       "      <td>8.5</td>\n",
       "      <td>7.023393</td>\n",
       "      <td>3.325276</td>\n",
       "      <td>3.326449</td>\n",
       "      <td>4.183210</td>\n",
       "      <td>8.333333</td>\n",
       "      <td>5.000000</td>\n",
       "      <td>5.083932</td>\n",
       "      <td>8.687652</td>\n",
       "      <td>4.260773</td>\n",
       "      <td>4.903685</td>\n",
       "      <td>0.846154</td>\n",
       "      <td>4.831211</td>\n",
       "      <td>8.462608</td>\n",
       "      <td>9.454487</td>\n",
       "      <td>9.84030</td>\n",
       "      <td>10.0</td>\n",
       "      <td>9.439349</td>\n",
       "      <td>9.000000</td>\n",
       "      <td>8.96</td>\n",
       "      <td>6.8384</td>\n",
       "      <td>8.266133</td>\n",
       "      <td>5.369019</td>\n",
       "      <td>9.839054</td>\n",
       "      <td>7.604036</td>\n",
       "      <td>10.0</td>\n",
       "      <td>5.301504</td>\n",
       "      <td>6.923077</td>\n",
       "      <td>7.633169</td>\n",
       "      <td>6.619250</td>\n",
       "      <td>8.122355</td>\n",
       "      <td>10.0</td>\n",
       "      <td>8.831715</td>\n",
       "      <td>10.0</td>\n",
       "      <td>9.610572</td>\n",
       "      <td>5.566667</td>\n",
       "      <td>4.577230</td>\n",
       "      <td>6.818471</td>\n",
       "      <td>6.0</td>\n",
       "      <td>9.251725</td>\n",
       "      <td>10.0</td>\n",
       "      <td>7.035682</td>\n",
       "      <td>3.909035</td>\n",
       "      <td>6.222222</td>\n",
       "      <td>9.251014</td>\n",
       "      <td>3.517540</td>\n",
       "      <td>9.329954</td>\n",
       "      <td>4.922175</td>\n",
       "      <td>6.191990</td>\n",
       "      <td>7.612748</td>\n",
       "      <td>7.41</td>\n",
       "      <td>46.0</td>\n",
       "      <td>7.782770</td>\n",
       "      <td>41.0</td>\n",
       "      <td>1.0</td>\n",
       "    </tr>\n",
       "    <tr>\n",
       "      <td>140</td>\n",
       "      <td>2016</td>\n",
       "      <td>CHE</td>\n",
       "      <td>Switzerland</td>\n",
       "      <td>Western Europe</td>\n",
       "      <td>NaN</td>\n",
       "      <td>NaN</td>\n",
       "      <td>NaN</td>\n",
       "      <td>8.249290</td>\n",
       "      <td>9.785457</td>\n",
       "      <td>10.0</td>\n",
       "      <td>10.0</td>\n",
       "      <td>10.0</td>\n",
       "      <td>10.000000</td>\n",
       "      <td>10.000000</td>\n",
       "      <td>10.000000</td>\n",
       "      <td>10.0</td>\n",
       "      <td>10.0</td>\n",
       "      <td>10.0</td>\n",
       "      <td>5.0</td>\n",
       "      <td>7.5</td>\n",
       "      <td>9.166667</td>\n",
       "      <td>9.650708</td>\n",
       "      <td>10.0</td>\n",
       "      <td>10.0</td>\n",
       "      <td>10.0</td>\n",
       "      <td>10.000000</td>\n",
       "      <td>NaN</td>\n",
       "      <td>NaN</td>\n",
       "      <td>10.0</td>\n",
       "      <td>7.715556</td>\n",
       "      <td>6.850000</td>\n",
       "      <td>8.188519</td>\n",
       "      <td>10.0</td>\n",
       "      <td>10.0</td>\n",
       "      <td>NaN</td>\n",
       "      <td>NaN</td>\n",
       "      <td>10.0</td>\n",
       "      <td>NaN</td>\n",
       "      <td>NaN</td>\n",
       "      <td>10.0</td>\n",
       "      <td>NaN</td>\n",
       "      <td>NaN</td>\n",
       "      <td>10.0</td>\n",
       "      <td>10.0</td>\n",
       "      <td>10.0</td>\n",
       "      <td>10.0</td>\n",
       "      <td>8.666667</td>\n",
       "      <td>9.00</td>\n",
       "      <td>10.0</td>\n",
       "      <td>10.0</td>\n",
       "      <td>10.0</td>\n",
       "      <td>9.666667</td>\n",
       "      <td>7.0</td>\n",
       "      <td>10.0</td>\n",
       "      <td>10.0</td>\n",
       "      <td>10.0</td>\n",
       "      <td>10.0</td>\n",
       "      <td>10.0</td>\n",
       "      <td>10.0</td>\n",
       "      <td>10.0</td>\n",
       "      <td>9.25</td>\n",
       "      <td>9.185518</td>\n",
       "      <td>10.0</td>\n",
       "      <td>6.400000</td>\n",
       "      <td>6.302265</td>\n",
       "      <td>10.0</td>\n",
       "      <td>8.0</td>\n",
       "      <td>6.0</td>\n",
       "      <td>7.0</td>\n",
       "      <td>7.425566</td>\n",
       "      <td>9.191307</td>\n",
       "      <td>7.759735</td>\n",
       "      <td>9.234495</td>\n",
       "      <td>10.000000</td>\n",
       "      <td>8.333333</td>\n",
       "      <td>5.162788</td>\n",
       "      <td>9.598999</td>\n",
       "      <td>9.269528</td>\n",
       "      <td>7.925752</td>\n",
       "      <td>1.000000</td>\n",
       "      <td>8.497326</td>\n",
       "      <td>9.921561</td>\n",
       "      <td>9.853986</td>\n",
       "      <td>9.91320</td>\n",
       "      <td>10.0</td>\n",
       "      <td>9.922187</td>\n",
       "      <td>9.906667</td>\n",
       "      <td>8.74</td>\n",
       "      <td>0.0000</td>\n",
       "      <td>6.215556</td>\n",
       "      <td>6.392989</td>\n",
       "      <td>9.889941</td>\n",
       "      <td>8.141465</td>\n",
       "      <td>10.0</td>\n",
       "      <td>7.751827</td>\n",
       "      <td>3.076923</td>\n",
       "      <td>7.743795</td>\n",
       "      <td>6.190848</td>\n",
       "      <td>7.636967</td>\n",
       "      <td>8.0</td>\n",
       "      <td>9.931736</td>\n",
       "      <td>10.0</td>\n",
       "      <td>9.310579</td>\n",
       "      <td>10.000000</td>\n",
       "      <td>7.704854</td>\n",
       "      <td>8.366624</td>\n",
       "      <td>6.0</td>\n",
       "      <td>10.000000</td>\n",
       "      <td>5.0</td>\n",
       "      <td>7.845246</td>\n",
       "      <td>6.334347</td>\n",
       "      <td>8.000000</td>\n",
       "      <td>9.572401</td>\n",
       "      <td>8.045174</td>\n",
       "      <td>8.373754</td>\n",
       "      <td>9.293812</td>\n",
       "      <td>8.269915</td>\n",
       "      <td>8.475247</td>\n",
       "      <td>8.39</td>\n",
       "      <td>4.0</td>\n",
       "      <td>8.787759</td>\n",
       "      <td>2.0</td>\n",
       "      <td>1.0</td>\n",
       "    </tr>\n",
       "    <tr>\n",
       "      <td>0</td>\n",
       "      <td>2016</td>\n",
       "      <td>ALB</td>\n",
       "      <td>Albania</td>\n",
       "      <td>Eastern Europe</td>\n",
       "      <td>6.661503</td>\n",
       "      <td>4.547244</td>\n",
       "      <td>4.666508</td>\n",
       "      <td>5.291752</td>\n",
       "      <td>8.920429</td>\n",
       "      <td>10.0</td>\n",
       "      <td>10.0</td>\n",
       "      <td>10.0</td>\n",
       "      <td>10.000000</td>\n",
       "      <td>10.000000</td>\n",
       "      <td>10.000000</td>\n",
       "      <td>10.0</td>\n",
       "      <td>7.5</td>\n",
       "      <td>5.0</td>\n",
       "      <td>5.0</td>\n",
       "      <td>5.0</td>\n",
       "      <td>7.500000</td>\n",
       "      <td>8.806810</td>\n",
       "      <td>5.0</td>\n",
       "      <td>10.0</td>\n",
       "      <td>5.0</td>\n",
       "      <td>6.666667</td>\n",
       "      <td>NaN</td>\n",
       "      <td>NaN</td>\n",
       "      <td>10.0</td>\n",
       "      <td>9.566667</td>\n",
       "      <td>8.011111</td>\n",
       "      <td>9.192593</td>\n",
       "      <td>10.0</td>\n",
       "      <td>10.0</td>\n",
       "      <td>NaN</td>\n",
       "      <td>NaN</td>\n",
       "      <td>10.0</td>\n",
       "      <td>NaN</td>\n",
       "      <td>NaN</td>\n",
       "      <td>10.0</td>\n",
       "      <td>NaN</td>\n",
       "      <td>NaN</td>\n",
       "      <td>10.0</td>\n",
       "      <td>10.0</td>\n",
       "      <td>10.0</td>\n",
       "      <td>10.0</td>\n",
       "      <td>5.000000</td>\n",
       "      <td>5.25</td>\n",
       "      <td>10.0</td>\n",
       "      <td>10.0</td>\n",
       "      <td>10.0</td>\n",
       "      <td>8.607143</td>\n",
       "      <td>0.0</td>\n",
       "      <td>10.0</td>\n",
       "      <td>10.0</td>\n",
       "      <td>10.0</td>\n",
       "      <td>10.0</td>\n",
       "      <td>10.0</td>\n",
       "      <td>10.0</td>\n",
       "      <td>5.0</td>\n",
       "      <td>6.25</td>\n",
       "      <td>7.596281</td>\n",
       "      <td>57.0</td>\n",
       "      <td>8.232353</td>\n",
       "      <td>7.509902</td>\n",
       "      <td>8.0</td>\n",
       "      <td>9.0</td>\n",
       "      <td>7.0</td>\n",
       "      <td>8.0</td>\n",
       "      <td>7.935564</td>\n",
       "      <td>2.668222</td>\n",
       "      <td>3.145462</td>\n",
       "      <td>4.512228</td>\n",
       "      <td>8.333333</td>\n",
       "      <td>4.166667</td>\n",
       "      <td>4.387444</td>\n",
       "      <td>6.485287</td>\n",
       "      <td>6.933500</td>\n",
       "      <td>6.215401</td>\n",
       "      <td>0.948718</td>\n",
       "      <td>5.071814</td>\n",
       "      <td>8.986454</td>\n",
       "      <td>9.484575</td>\n",
       "      <td>9.74360</td>\n",
       "      <td>10.0</td>\n",
       "      <td>9.553657</td>\n",
       "      <td>9.626667</td>\n",
       "      <td>9.24</td>\n",
       "      <td>8.0240</td>\n",
       "      <td>8.963556</td>\n",
       "      <td>5.574481</td>\n",
       "      <td>9.405328</td>\n",
       "      <td>7.489905</td>\n",
       "      <td>10.0</td>\n",
       "      <td>6.306106</td>\n",
       "      <td>4.615385</td>\n",
       "      <td>8.296923</td>\n",
       "      <td>6.406138</td>\n",
       "      <td>8.214900</td>\n",
       "      <td>5.0</td>\n",
       "      <td>7.295687</td>\n",
       "      <td>9.0</td>\n",
       "      <td>7.098562</td>\n",
       "      <td>5.566667</td>\n",
       "      <td>5.396399</td>\n",
       "      <td>6.234861</td>\n",
       "      <td>8.0</td>\n",
       "      <td>6.299741</td>\n",
       "      <td>10.0</td>\n",
       "      <td>6.916278</td>\n",
       "      <td>6.072172</td>\n",
       "      <td>6.000000</td>\n",
       "      <td>9.713864</td>\n",
       "      <td>4.050196</td>\n",
       "      <td>7.324582</td>\n",
       "      <td>7.074366</td>\n",
       "      <td>6.705863</td>\n",
       "      <td>6.906901</td>\n",
       "      <td>7.54</td>\n",
       "      <td>34.0</td>\n",
       "      <td>7.568140</td>\n",
       "      <td>48.0</td>\n",
       "      <td>2.0</td>\n",
       "    </tr>\n",
       "    <tr>\n",
       "      <td>13</td>\n",
       "      <td>2016</td>\n",
       "      <td>BEL</td>\n",
       "      <td>Belgium</td>\n",
       "      <td>Western Europe</td>\n",
       "      <td>8.669067</td>\n",
       "      <td>7.343872</td>\n",
       "      <td>7.240364</td>\n",
       "      <td>7.751101</td>\n",
       "      <td>9.220407</td>\n",
       "      <td>10.0</td>\n",
       "      <td>10.0</td>\n",
       "      <td>10.0</td>\n",
       "      <td>8.941657</td>\n",
       "      <td>5.131621</td>\n",
       "      <td>8.814656</td>\n",
       "      <td>10.0</td>\n",
       "      <td>10.0</td>\n",
       "      <td>10.0</td>\n",
       "      <td>10.0</td>\n",
       "      <td>10.0</td>\n",
       "      <td>10.000000</td>\n",
       "      <td>9.345021</td>\n",
       "      <td>10.0</td>\n",
       "      <td>10.0</td>\n",
       "      <td>10.0</td>\n",
       "      <td>10.000000</td>\n",
       "      <td>NaN</td>\n",
       "      <td>NaN</td>\n",
       "      <td>10.0</td>\n",
       "      <td>8.333333</td>\n",
       "      <td>6.061111</td>\n",
       "      <td>8.131481</td>\n",
       "      <td>10.0</td>\n",
       "      <td>10.0</td>\n",
       "      <td>NaN</td>\n",
       "      <td>NaN</td>\n",
       "      <td>10.0</td>\n",
       "      <td>NaN</td>\n",
       "      <td>NaN</td>\n",
       "      <td>10.0</td>\n",
       "      <td>NaN</td>\n",
       "      <td>NaN</td>\n",
       "      <td>10.0</td>\n",
       "      <td>10.0</td>\n",
       "      <td>10.0</td>\n",
       "      <td>10.0</td>\n",
       "      <td>9.000000</td>\n",
       "      <td>9.25</td>\n",
       "      <td>10.0</td>\n",
       "      <td>10.0</td>\n",
       "      <td>10.0</td>\n",
       "      <td>9.750000</td>\n",
       "      <td>7.0</td>\n",
       "      <td>10.0</td>\n",
       "      <td>10.0</td>\n",
       "      <td>10.0</td>\n",
       "      <td>10.0</td>\n",
       "      <td>10.0</td>\n",
       "      <td>10.0</td>\n",
       "      <td>10.0</td>\n",
       "      <td>9.25</td>\n",
       "      <td>8.987179</td>\n",
       "      <td>19.0</td>\n",
       "      <td>2.491176</td>\n",
       "      <td>2.010416</td>\n",
       "      <td>10.0</td>\n",
       "      <td>2.0</td>\n",
       "      <td>0.0</td>\n",
       "      <td>1.0</td>\n",
       "      <td>3.875398</td>\n",
       "      <td>7.683749</td>\n",
       "      <td>5.396706</td>\n",
       "      <td>7.907518</td>\n",
       "      <td>10.000000</td>\n",
       "      <td>8.333333</td>\n",
       "      <td>5.565038</td>\n",
       "      <td>4.767010</td>\n",
       "      <td>7.667312</td>\n",
       "      <td>6.278736</td>\n",
       "      <td>1.000000</td>\n",
       "      <td>7.066600</td>\n",
       "      <td>8.094897</td>\n",
       "      <td>9.808967</td>\n",
       "      <td>9.60560</td>\n",
       "      <td>10.0</td>\n",
       "      <td>9.377366</td>\n",
       "      <td>9.000000</td>\n",
       "      <td>8.96</td>\n",
       "      <td>6.8384</td>\n",
       "      <td>8.266133</td>\n",
       "      <td>6.151284</td>\n",
       "      <td>9.963314</td>\n",
       "      <td>8.057299</td>\n",
       "      <td>10.0</td>\n",
       "      <td>7.854414</td>\n",
       "      <td>3.846154</td>\n",
       "      <td>7.743795</td>\n",
       "      <td>6.481454</td>\n",
       "      <td>8.201222</td>\n",
       "      <td>10.0</td>\n",
       "      <td>8.818197</td>\n",
       "      <td>10.0</td>\n",
       "      <td>9.606066</td>\n",
       "      <td>8.900000</td>\n",
       "      <td>3.646230</td>\n",
       "      <td>5.418867</td>\n",
       "      <td>6.0</td>\n",
       "      <td>10.000000</td>\n",
       "      <td>10.0</td>\n",
       "      <td>7.327516</td>\n",
       "      <td>3.417021</td>\n",
       "      <td>8.666667</td>\n",
       "      <td>9.758030</td>\n",
       "      <td>6.469409</td>\n",
       "      <td>7.459620</td>\n",
       "      <td>8.475532</td>\n",
       "      <td>7.374380</td>\n",
       "      <td>8.102654</td>\n",
       "      <td>7.32</td>\n",
       "      <td>52.0</td>\n",
       "      <td>8.153589</td>\n",
       "      <td>27.0</td>\n",
       "      <td>1.0</td>\n",
       "    </tr>\n",
       "  </tbody>\n",
       "</table>\n",
       "</div>"
      ],
      "text/plain": [
       "     year ISO_code       countries          region  pf_rol_procedural  \\\n",
       "154  2016      GBR  United Kingdom  Western Europe           8.227729   \n",
       "22   2016      BGR        Bulgaria  Eastern Europe           4.984199   \n",
       "140  2016      CHE     Switzerland  Western Europe                NaN   \n",
       "0    2016      ALB         Albania  Eastern Europe           6.661503   \n",
       "13   2016      BEL         Belgium  Western Europe           8.669067   \n",
       "\n",
       "     pf_rol_civil  pf_rol_criminal    pf_rol  pf_ss_homicide  \\\n",
       "154      7.512237         7.409705  7.716557        9.519036   \n",
       "22       5.631897         4.058021  4.891372        9.545583   \n",
       "140           NaN              NaN  8.249290        9.785457   \n",
       "0        4.547244         4.666508  5.291752        8.920429   \n",
       "13       7.343872         7.240364  7.751101        9.220407   \n",
       "\n",
       "     pf_ss_disappearances_disap  pf_ss_disappearances_violent  \\\n",
       "154                        10.0                          10.0   \n",
       "22                         10.0                          10.0   \n",
       "140                        10.0                          10.0   \n",
       "0                          10.0                          10.0   \n",
       "13                         10.0                          10.0   \n",
       "\n",
       "     pf_ss_disappearances_organized  pf_ss_disappearances_fatalities  \\\n",
       "154                            10.0                         9.954265   \n",
       "22                             10.0                        10.000000   \n",
       "140                            10.0                        10.000000   \n",
       "0                              10.0                        10.000000   \n",
       "13                             10.0                         8.941657   \n",
       "\n",
       "     pf_ss_disappearances_injuries  pf_ss_disappearances  pf_ss_women_fgm  \\\n",
       "154                       9.939020              9.978657             10.0   \n",
       "22                        9.971941              9.994388             10.0   \n",
       "140                      10.000000             10.000000             10.0   \n",
       "0                        10.000000             10.000000             10.0   \n",
       "13                        5.131621              8.814656             10.0   \n",
       "\n",
       "     pf_ss_women_missing  pf_ss_women_inheritance_widows  \\\n",
       "154                 10.0                            10.0   \n",
       "22                  10.0                            10.0   \n",
       "140                 10.0                            10.0   \n",
       "0                    7.5                             5.0   \n",
       "13                  10.0                            10.0   \n",
       "\n",
       "     pf_ss_women_inheritance_daughters  pf_ss_women_inheritance  pf_ss_women  \\\n",
       "154                               10.0                     10.0    10.000000   \n",
       "22                                10.0                     10.0    10.000000   \n",
       "140                                5.0                      7.5     9.166667   \n",
       "0                                  5.0                      5.0     7.500000   \n",
       "13                                10.0                     10.0    10.000000   \n",
       "\n",
       "        pf_ss  pf_movement_domestic  pf_movement_foreign  pf_movement_women  \\\n",
       "154  9.832564                  10.0                 10.0               10.0   \n",
       "22   9.846657                  10.0                 10.0               10.0   \n",
       "140  9.650708                  10.0                 10.0               10.0   \n",
       "0    8.806810                   5.0                 10.0                5.0   \n",
       "13   9.345021                  10.0                 10.0               10.0   \n",
       "\n",
       "     pf_movement  pf_religion_estop_establish  pf_religion_estop_operate  \\\n",
       "154    10.000000                          NaN                        NaN   \n",
       "22     10.000000                          NaN                        NaN   \n",
       "140    10.000000                          NaN                        NaN   \n",
       "0       6.666667                          NaN                        NaN   \n",
       "13     10.000000                          NaN                        NaN   \n",
       "\n",
       "     pf_religion_estop  pf_religion_harassment  pf_religion_restrictions  \\\n",
       "154               10.0                7.573333                  5.183333   \n",
       "22                 7.5                8.088889                  5.827778   \n",
       "140               10.0                7.715556                  6.850000   \n",
       "0                 10.0                9.566667                  8.011111   \n",
       "13                10.0                8.333333                  6.061111   \n",
       "\n",
       "     pf_religion  pf_association_association  pf_association_assembly  \\\n",
       "154     7.585556                        10.0                     10.0   \n",
       "22      7.138889                        10.0                     10.0   \n",
       "140     8.188519                        10.0                     10.0   \n",
       "0       9.192593                        10.0                     10.0   \n",
       "13      8.131481                        10.0                     10.0   \n",
       "\n",
       "     pf_association_political_establish  pf_association_political_operate  \\\n",
       "154                                 NaN                               NaN   \n",
       "22                                  NaN                               NaN   \n",
       "140                                 NaN                               NaN   \n",
       "0                                   NaN                               NaN   \n",
       "13                                  NaN                               NaN   \n",
       "\n",
       "     pf_association_political  pf_association_prof_establish  \\\n",
       "154                      10.0                            NaN   \n",
       "22                        7.5                            NaN   \n",
       "140                      10.0                            NaN   \n",
       "0                        10.0                            NaN   \n",
       "13                       10.0                            NaN   \n",
       "\n",
       "     pf_association_prof_operate  pf_association_prof  \\\n",
       "154                          NaN                 10.0   \n",
       "22                           NaN                 10.0   \n",
       "140                          NaN                 10.0   \n",
       "0                            NaN                 10.0   \n",
       "13                           NaN                 10.0   \n",
       "\n",
       "     pf_association_sport_establish  pf_association_sport_operate  \\\n",
       "154                             NaN                           NaN   \n",
       "22                              NaN                           NaN   \n",
       "140                             NaN                           NaN   \n",
       "0                               NaN                           NaN   \n",
       "13                              NaN                           NaN   \n",
       "\n",
       "     pf_association_sport  pf_association  pf_expression_killed  \\\n",
       "154                  10.0            10.0                  10.0   \n",
       "22                   10.0             9.5                  10.0   \n",
       "140                  10.0            10.0                  10.0   \n",
       "0                    10.0            10.0                  10.0   \n",
       "13                   10.0            10.0                  10.0   \n",
       "\n",
       "     pf_expression_jailed  pf_expression_influence  pf_expression_control  \\\n",
       "154                  10.0                 7.000000                   7.75   \n",
       "22                   10.0                 6.000000                   5.75   \n",
       "140                  10.0                 8.666667                   9.00   \n",
       "0                    10.0                 5.000000                   5.25   \n",
       "13                   10.0                 9.000000                   9.25   \n",
       "\n",
       "     pf_expression_cable  pf_expression_newspapers  pf_expression_internet  \\\n",
       "154                 10.0                      10.0                    10.0   \n",
       "22                  10.0                      10.0                    10.0   \n",
       "140                 10.0                      10.0                    10.0   \n",
       "0                   10.0                      10.0                    10.0   \n",
       "13                  10.0                      10.0                    10.0   \n",
       "\n",
       "     pf_expression  pf_identity_legal  pf_identity_parental_marriage  \\\n",
       "154       9.250000                7.0                           10.0   \n",
       "22        8.821429                7.0                           10.0   \n",
       "140       9.666667                7.0                           10.0   \n",
       "0         8.607143                0.0                           10.0   \n",
       "13        9.750000                7.0                           10.0   \n",
       "\n",
       "     pf_identity_parental_divorce  pf_identity_parental  pf_identity_sex_male  \\\n",
       "154                          10.0                  10.0                  10.0   \n",
       "22                           10.0                  10.0                  10.0   \n",
       "140                          10.0                  10.0                  10.0   \n",
       "0                            10.0                  10.0                  10.0   \n",
       "13                           10.0                  10.0                  10.0   \n",
       "\n",
       "     pf_identity_sex_female  pf_identity_sex  pf_identity_divorce  \\\n",
       "154                    10.0             10.0                 10.0   \n",
       "22                     10.0             10.0                 10.0   \n",
       "140                    10.0             10.0                 10.0   \n",
       "0                      10.0             10.0                  5.0   \n",
       "13                     10.0             10.0                 10.0   \n",
       "\n",
       "     pf_identity  pf_score  pf_rank  ef_government_consumption  \\\n",
       "154         9.25  8.995836     18.0                   5.211765   \n",
       "22          9.25  8.155539     41.0                   5.747059   \n",
       "140         9.25  9.185518     10.0                   6.400000   \n",
       "0           6.25  7.596281     57.0                   8.232353   \n",
       "13          9.25  8.987179     19.0                   2.491176   \n",
       "\n",
       "     ef_government_transfers  ef_government_enterprises  \\\n",
       "154                 5.445781                        8.0   \n",
       "22                  5.846512                        8.0   \n",
       "140                 6.302265                       10.0   \n",
       "0                   7.509902                        8.0   \n",
       "13                  2.010416                       10.0   \n",
       "\n",
       "     ef_government_tax_income  ef_government_tax_payroll  ef_government_tax  \\\n",
       "154                       6.0                        2.0                4.0   \n",
       "22                       10.0                        7.0                8.5   \n",
       "140                       8.0                        6.0                7.0   \n",
       "0                         9.0                        7.0                8.0   \n",
       "13                        2.0                        0.0                1.0   \n",
       "\n",
       "     ef_government  ef_legal_judicial  ef_legal_courts  ef_legal_protection  \\\n",
       "154       5.664386           8.910224         7.134579             8.829254   \n",
       "22        7.023393           3.325276         3.326449             4.183210   \n",
       "140       7.425566           9.191307         7.759735             9.234495   \n",
       "0         7.935564           2.668222         3.145462             4.512228   \n",
       "13        3.875398           7.683749         5.396706             7.907518   \n",
       "\n",
       "     ef_legal_military  ef_legal_integrity  ef_legal_enforcement  \\\n",
       "154          10.000000            8.333333              4.394428   \n",
       "22            8.333333            5.000000              5.083932   \n",
       "140          10.000000            8.333333              5.162788   \n",
       "0             8.333333            4.166667              4.387444   \n",
       "13           10.000000            8.333333              5.565038   \n",
       "\n",
       "     ef_legal_restrictions  ef_legal_police  ef_legal_crime  ef_legal_gender  \\\n",
       "154               8.015852         8.351080        6.675237         1.000000   \n",
       "22                8.687652         4.260773        4.903685         0.846154   \n",
       "140               9.598999         9.269528        7.925752         1.000000   \n",
       "0                 6.485287         6.933500        6.215401         0.948718   \n",
       "13                4.767010         7.667312        6.278736         1.000000   \n",
       "\n",
       "     ef_legal  ef_money_growth  ef_money_sd  ef_money_inflation  \\\n",
       "154  7.849332         9.765756     9.736825             9.87168   \n",
       "22   4.831211         8.462608     9.454487             9.84030   \n",
       "140  8.497326         9.921561     9.853986             9.91320   \n",
       "0    5.071814         8.986454     9.484575             9.74360   \n",
       "13   7.066600         8.094897     9.808967             9.60560   \n",
       "\n",
       "     ef_money_currency  ef_money  ef_trade_tariffs_revenue  \\\n",
       "154               10.0  9.843565                  9.000000   \n",
       "22                10.0  9.439349                  9.000000   \n",
       "140               10.0  9.922187                  9.906667   \n",
       "0                 10.0  9.553657                  9.626667   \n",
       "13                10.0  9.377366                  9.000000   \n",
       "\n",
       "     ef_trade_tariffs_mean  ef_trade_tariffs_sd  ef_trade_tariffs  \\\n",
       "154                   8.96               6.8384          8.266133   \n",
       "22                    8.96               6.8384          8.266133   \n",
       "140                   8.74               0.0000          6.215556   \n",
       "0                     9.24               8.0240          8.963556   \n",
       "13                    8.96               6.8384          8.266133   \n",
       "\n",
       "     ef_trade_regulatory_nontariff  ef_trade_regulatory_compliance  \\\n",
       "154                       7.013774                        9.313022   \n",
       "22                        5.369019                        9.839054   \n",
       "140                       6.392989                        9.889941   \n",
       "0                         5.574481                        9.405328   \n",
       "13                        6.151284                        9.963314   \n",
       "\n",
       "     ef_trade_regulatory  ef_trade_black  ef_trade_movement_foreign  \\\n",
       "154             8.163398            10.0                   8.293683   \n",
       "22              7.604036            10.0                   5.301504   \n",
       "140             8.141465            10.0                   7.751827   \n",
       "0               7.489905            10.0                   6.306106   \n",
       "13              8.057299            10.0                   7.854414   \n",
       "\n",
       "     ef_trade_movement_capital  ef_trade_movement_visit  ef_trade_movement  \\\n",
       "154                   4.615385                 9.071303           7.326790   \n",
       "22                    6.923077                 7.633169           6.619250   \n",
       "140                   3.076923                 7.743795           6.190848   \n",
       "0                     4.615385                 8.296923           6.406138   \n",
       "13                    3.846154                 7.743795           6.481454   \n",
       "\n",
       "     ef_trade  ef_regulation_credit_ownership  ef_regulation_credit_private  \\\n",
       "154  8.439080                            10.0                      6.497309   \n",
       "22   8.122355                            10.0                      8.831715   \n",
       "140  7.636967                             8.0                      9.931736   \n",
       "0    8.214900                             5.0                      7.295687   \n",
       "13   8.201222                            10.0                      8.818197   \n",
       "\n",
       "     ef_regulation_credit_interest  ef_regulation_credit  \\\n",
       "154                            8.0              8.165770   \n",
       "22                            10.0              9.610572   \n",
       "140                           10.0              9.310579   \n",
       "0                              9.0              7.098562   \n",
       "13                            10.0              9.606066   \n",
       "\n",
       "     ef_regulation_labor_minwage  ef_regulation_labor_firing  \\\n",
       "154                     8.900000                    6.901307   \n",
       "22                      5.566667                    4.577230   \n",
       "140                    10.000000                    7.704854   \n",
       "0                       5.566667                    5.396399   \n",
       "13                      8.900000                    3.646230   \n",
       "\n",
       "     ef_regulation_labor_bargain  ef_regulation_labor_hours  \\\n",
       "154                     8.054078                        8.0   \n",
       "22                      6.818471                        6.0   \n",
       "140                     8.366624                        6.0   \n",
       "0                       6.234861                        8.0   \n",
       "13                      5.418867                        6.0   \n",
       "\n",
       "     ef_regulation_labor_dismissal  ef_regulation_labor_conscription  \\\n",
       "154                       8.532231                              10.0   \n",
       "22                        9.251725                              10.0   \n",
       "140                      10.000000                               5.0   \n",
       "0                         6.299741                              10.0   \n",
       "13                       10.000000                              10.0   \n",
       "\n",
       "     ef_regulation_labor  ef_regulation_business_adm  \\\n",
       "154             8.397936                    4.935642   \n",
       "22              7.035682                    3.909035   \n",
       "140             7.845246                    6.334347   \n",
       "0               6.916278                    6.072172   \n",
       "13              7.327516                    3.417021   \n",
       "\n",
       "     ef_regulation_business_bureaucracy  ef_regulation_business_start  \\\n",
       "154                            8.444444                      9.855926   \n",
       "22                             6.222222                      9.251014   \n",
       "140                            8.000000                      9.572401   \n",
       "0                              6.000000                      9.713864   \n",
       "13                             8.666667                      9.758030   \n",
       "\n",
       "     ef_regulation_business_bribes  ef_regulation_business_licensing  \\\n",
       "154                       7.165796                          9.515201   \n",
       "22                        3.517540                          9.329954   \n",
       "140                       8.045174                          8.373754   \n",
       "0                         4.050196                          7.324582   \n",
       "13                        6.469409                          7.459620   \n",
       "\n",
       "     ef_regulation_business_compliance  ef_regulation_business  ef_regulation  \\\n",
       "154                           8.766974                8.113997       8.225901   \n",
       "22                            4.922175                6.191990       7.612748   \n",
       "140                           9.293812                8.269915       8.475247   \n",
       "0                             7.074366                6.705863       6.906901   \n",
       "13                            8.475532                7.374380       8.102654   \n",
       "\n",
       "     ef_score  ef_rank  hf_score  hf_rank  hf_quartile  \n",
       "154      8.00      9.0  8.497918      8.0          1.0  \n",
       "22       7.41     46.0  7.782770     41.0          1.0  \n",
       "140      8.39      4.0  8.787759      2.0          1.0  \n",
       "0        7.54     34.0  7.568140     48.0          2.0  \n",
       "13       7.32     52.0  8.153589     27.0          1.0  "
      ]
     },
     "execution_count": 13,
     "metadata": {},
     "output_type": "execute_result"
    }
   ],
   "source": [
    "# 5. COMPARE RELATIONSHIP BETWEEN SECURITY OF WOMEN & RULE OF LAW & FREEDOM OF RELIGION IN EUROPEAN COUNTIRES\n",
    "# In this analysis I focues on European countries by comparing security of women, rule of law and freedom of religion datas.\n",
    "\n",
    "# Filtering data to see only European Countries informations in 2016:\n",
    "dataE = data[data.year == 2016]\n",
    "dataEU = dataE[(dataE.region == 'Western Europe') + (dataE.region == 'Eastern Europe')]\n",
    "dataEU = dataEU.dropna(subset=['pf_ss_women_missing'])\n",
    "dataEU.sample(5)"
   ]
  },
  {
   "cell_type": "code",
   "execution_count": 14,
   "metadata": {},
   "outputs": [
    {
     "data": {
      "application/vnd.plotly.v1+json": {
       "config": {
        "linkText": "Export to plot.ly",
        "plotlyServerURL": "https://plot.ly",
        "showLink": false
       },
       "data": [
        {
         "marker": {
          "color": [
           7.5,
           10,
           10,
           10,
           8.333333332999999,
           10,
           10,
           10,
           10,
           10,
           10,
           10,
           10,
           10,
           8.333333332999999,
           10,
           10,
           10,
           10,
           10,
           10,
           10,
           7.5,
           10,
           8.333333332999999,
           10,
           10,
           10,
           10,
           10,
           10,
           9.166666667000001,
           10,
           10,
           9.166666667000001,
           10,
           9.166666667000001,
           9.166666667000001,
           10
          ],
          "showscale": true,
          "size": [
           7.5,
           10,
           10,
           10,
           8.333333332999999,
           10,
           10,
           10,
           10,
           10,
           10,
           10,
           10,
           10,
           8.333333332999999,
           10,
           10,
           10,
           10,
           10,
           10,
           10,
           7.5,
           10,
           8.333333332999999,
           10,
           10,
           10,
           10,
           10,
           10,
           9.166666667000001,
           10,
           10,
           9.166666667000001,
           10,
           9.166666667000001,
           9.166666667000001,
           10
          ]
         },
         "mode": "markers",
         "text": [
          "Albania",
          "Austria",
          "Belarus",
          "Belgium",
          "Bosnia and Herzegovina",
          "Bulgaria",
          "Croatia",
          "Cyprus",
          "Czech Rep.",
          "Denmark",
          "Estonia",
          "Finland",
          "France",
          "Germany",
          "Greece",
          "Hungary",
          "Iceland",
          "Ireland",
          "Italy",
          "Latvia",
          "Lithuania",
          "Luxembourg",
          "Macedonia",
          "Malta",
          "Moldova",
          "Netherlands",
          "Norway",
          "Poland",
          "Portugal",
          "Romania",
          "Russia",
          "Serbia",
          "Slovak Rep.",
          "Slovenia",
          "Spain",
          "Sweden",
          "Switzerland",
          "Ukraine",
          "United Kingdom"
         ],
         "type": "scatter",
         "x": [
          5.291751647,
          8.171748815,
          5.128924941,
          7.751100945,
          5.470080395,
          4.891372196,
          5.700537868,
          6.327701936,
          7.786692219,
          8.687100828,
          7.801085558,
          8.639248324,
          6.771264767000001,
          8.303209527,
          5.789790663,
          5.439017665,
          7.572814721,
          7.614721658,
          6.503838352000001,
          6.681684163,
          6.79590086,
          7.897751196000001,
          4.994404463,
          6.880670013,
          4.451422898,
          8.524550808999999,
          8.556487979,
          6.382863045,
          7.165608272,
          6.328473866,
          3.995194231,
          4.399686544,
          6.275760683,
          6.450622608,
          7.01186382,
          8.539644459,
          8.249290426,
          4.546373559,
          7.716556989
         ],
         "y": [
          9.192592592999999,
          7.925185185,
          5.153333333,
          8.131481481,
          8.515185185,
          7.1388888889999995,
          8.051481481,
          7.159259259,
          7.764444444,
          7.7022222220000005,
          8.32962963,
          7.901481481,
          7.253703703999999,
          7.697777778,
          7.324074073999999,
          7.284444444,
          8.122222222000001,
          9.082962963,
          8.049259259,
          8.546296296,
          8.472592593,
          9.140740741,
          8.334814815,
          8.44962963,
          6.046296296,
          8.894444444,
          7.407407407000001,
          6.3459259260000005,
          9.425555556,
          7.877407407000001,
          4.596296296,
          8.27037037,
          7.727777777999999,
          9,
          7.996666667,
          8.884814815,
          8.188518519,
          5.857777777999999,
          7.585555556
         ]
        }
       ],
       "layout": {
        "template": {
         "data": {
          "bar": [
           {
            "error_x": {
             "color": "#2a3f5f"
            },
            "error_y": {
             "color": "#2a3f5f"
            },
            "marker": {
             "line": {
              "color": "#E5ECF6",
              "width": 0.5
             }
            },
            "type": "bar"
           }
          ],
          "barpolar": [
           {
            "marker": {
             "line": {
              "color": "#E5ECF6",
              "width": 0.5
             }
            },
            "type": "barpolar"
           }
          ],
          "carpet": [
           {
            "aaxis": {
             "endlinecolor": "#2a3f5f",
             "gridcolor": "white",
             "linecolor": "white",
             "minorgridcolor": "white",
             "startlinecolor": "#2a3f5f"
            },
            "baxis": {
             "endlinecolor": "#2a3f5f",
             "gridcolor": "white",
             "linecolor": "white",
             "minorgridcolor": "white",
             "startlinecolor": "#2a3f5f"
            },
            "type": "carpet"
           }
          ],
          "choropleth": [
           {
            "colorbar": {
             "outlinewidth": 0,
             "ticks": ""
            },
            "type": "choropleth"
           }
          ],
          "contour": [
           {
            "colorbar": {
             "outlinewidth": 0,
             "ticks": ""
            },
            "colorscale": [
             [
              0,
              "#0d0887"
             ],
             [
              0.1111111111111111,
              "#46039f"
             ],
             [
              0.2222222222222222,
              "#7201a8"
             ],
             [
              0.3333333333333333,
              "#9c179e"
             ],
             [
              0.4444444444444444,
              "#bd3786"
             ],
             [
              0.5555555555555556,
              "#d8576b"
             ],
             [
              0.6666666666666666,
              "#ed7953"
             ],
             [
              0.7777777777777778,
              "#fb9f3a"
             ],
             [
              0.8888888888888888,
              "#fdca26"
             ],
             [
              1,
              "#f0f921"
             ]
            ],
            "type": "contour"
           }
          ],
          "contourcarpet": [
           {
            "colorbar": {
             "outlinewidth": 0,
             "ticks": ""
            },
            "type": "contourcarpet"
           }
          ],
          "heatmap": [
           {
            "colorbar": {
             "outlinewidth": 0,
             "ticks": ""
            },
            "colorscale": [
             [
              0,
              "#0d0887"
             ],
             [
              0.1111111111111111,
              "#46039f"
             ],
             [
              0.2222222222222222,
              "#7201a8"
             ],
             [
              0.3333333333333333,
              "#9c179e"
             ],
             [
              0.4444444444444444,
              "#bd3786"
             ],
             [
              0.5555555555555556,
              "#d8576b"
             ],
             [
              0.6666666666666666,
              "#ed7953"
             ],
             [
              0.7777777777777778,
              "#fb9f3a"
             ],
             [
              0.8888888888888888,
              "#fdca26"
             ],
             [
              1,
              "#f0f921"
             ]
            ],
            "type": "heatmap"
           }
          ],
          "heatmapgl": [
           {
            "colorbar": {
             "outlinewidth": 0,
             "ticks": ""
            },
            "colorscale": [
             [
              0,
              "#0d0887"
             ],
             [
              0.1111111111111111,
              "#46039f"
             ],
             [
              0.2222222222222222,
              "#7201a8"
             ],
             [
              0.3333333333333333,
              "#9c179e"
             ],
             [
              0.4444444444444444,
              "#bd3786"
             ],
             [
              0.5555555555555556,
              "#d8576b"
             ],
             [
              0.6666666666666666,
              "#ed7953"
             ],
             [
              0.7777777777777778,
              "#fb9f3a"
             ],
             [
              0.8888888888888888,
              "#fdca26"
             ],
             [
              1,
              "#f0f921"
             ]
            ],
            "type": "heatmapgl"
           }
          ],
          "histogram": [
           {
            "marker": {
             "colorbar": {
              "outlinewidth": 0,
              "ticks": ""
             }
            },
            "type": "histogram"
           }
          ],
          "histogram2d": [
           {
            "colorbar": {
             "outlinewidth": 0,
             "ticks": ""
            },
            "colorscale": [
             [
              0,
              "#0d0887"
             ],
             [
              0.1111111111111111,
              "#46039f"
             ],
             [
              0.2222222222222222,
              "#7201a8"
             ],
             [
              0.3333333333333333,
              "#9c179e"
             ],
             [
              0.4444444444444444,
              "#bd3786"
             ],
             [
              0.5555555555555556,
              "#d8576b"
             ],
             [
              0.6666666666666666,
              "#ed7953"
             ],
             [
              0.7777777777777778,
              "#fb9f3a"
             ],
             [
              0.8888888888888888,
              "#fdca26"
             ],
             [
              1,
              "#f0f921"
             ]
            ],
            "type": "histogram2d"
           }
          ],
          "histogram2dcontour": [
           {
            "colorbar": {
             "outlinewidth": 0,
             "ticks": ""
            },
            "colorscale": [
             [
              0,
              "#0d0887"
             ],
             [
              0.1111111111111111,
              "#46039f"
             ],
             [
              0.2222222222222222,
              "#7201a8"
             ],
             [
              0.3333333333333333,
              "#9c179e"
             ],
             [
              0.4444444444444444,
              "#bd3786"
             ],
             [
              0.5555555555555556,
              "#d8576b"
             ],
             [
              0.6666666666666666,
              "#ed7953"
             ],
             [
              0.7777777777777778,
              "#fb9f3a"
             ],
             [
              0.8888888888888888,
              "#fdca26"
             ],
             [
              1,
              "#f0f921"
             ]
            ],
            "type": "histogram2dcontour"
           }
          ],
          "mesh3d": [
           {
            "colorbar": {
             "outlinewidth": 0,
             "ticks": ""
            },
            "type": "mesh3d"
           }
          ],
          "parcoords": [
           {
            "line": {
             "colorbar": {
              "outlinewidth": 0,
              "ticks": ""
             }
            },
            "type": "parcoords"
           }
          ],
          "pie": [
           {
            "automargin": true,
            "type": "pie"
           }
          ],
          "scatter": [
           {
            "marker": {
             "colorbar": {
              "outlinewidth": 0,
              "ticks": ""
             }
            },
            "type": "scatter"
           }
          ],
          "scatter3d": [
           {
            "line": {
             "colorbar": {
              "outlinewidth": 0,
              "ticks": ""
             }
            },
            "marker": {
             "colorbar": {
              "outlinewidth": 0,
              "ticks": ""
             }
            },
            "type": "scatter3d"
           }
          ],
          "scattercarpet": [
           {
            "marker": {
             "colorbar": {
              "outlinewidth": 0,
              "ticks": ""
             }
            },
            "type": "scattercarpet"
           }
          ],
          "scattergeo": [
           {
            "marker": {
             "colorbar": {
              "outlinewidth": 0,
              "ticks": ""
             }
            },
            "type": "scattergeo"
           }
          ],
          "scattergl": [
           {
            "marker": {
             "colorbar": {
              "outlinewidth": 0,
              "ticks": ""
             }
            },
            "type": "scattergl"
           }
          ],
          "scattermapbox": [
           {
            "marker": {
             "colorbar": {
              "outlinewidth": 0,
              "ticks": ""
             }
            },
            "type": "scattermapbox"
           }
          ],
          "scatterpolar": [
           {
            "marker": {
             "colorbar": {
              "outlinewidth": 0,
              "ticks": ""
             }
            },
            "type": "scatterpolar"
           }
          ],
          "scatterpolargl": [
           {
            "marker": {
             "colorbar": {
              "outlinewidth": 0,
              "ticks": ""
             }
            },
            "type": "scatterpolargl"
           }
          ],
          "scatterternary": [
           {
            "marker": {
             "colorbar": {
              "outlinewidth": 0,
              "ticks": ""
             }
            },
            "type": "scatterternary"
           }
          ],
          "surface": [
           {
            "colorbar": {
             "outlinewidth": 0,
             "ticks": ""
            },
            "colorscale": [
             [
              0,
              "#0d0887"
             ],
             [
              0.1111111111111111,
              "#46039f"
             ],
             [
              0.2222222222222222,
              "#7201a8"
             ],
             [
              0.3333333333333333,
              "#9c179e"
             ],
             [
              0.4444444444444444,
              "#bd3786"
             ],
             [
              0.5555555555555556,
              "#d8576b"
             ],
             [
              0.6666666666666666,
              "#ed7953"
             ],
             [
              0.7777777777777778,
              "#fb9f3a"
             ],
             [
              0.8888888888888888,
              "#fdca26"
             ],
             [
              1,
              "#f0f921"
             ]
            ],
            "type": "surface"
           }
          ],
          "table": [
           {
            "cells": {
             "fill": {
              "color": "#EBF0F8"
             },
             "line": {
              "color": "white"
             }
            },
            "header": {
             "fill": {
              "color": "#C8D4E3"
             },
             "line": {
              "color": "white"
             }
            },
            "type": "table"
           }
          ]
         },
         "layout": {
          "annotationdefaults": {
           "arrowcolor": "#2a3f5f",
           "arrowhead": 0,
           "arrowwidth": 1
          },
          "autotypenumbers": "strict",
          "coloraxis": {
           "colorbar": {
            "outlinewidth": 0,
            "ticks": ""
           }
          },
          "colorscale": {
           "diverging": [
            [
             0,
             "#8e0152"
            ],
            [
             0.1,
             "#c51b7d"
            ],
            [
             0.2,
             "#de77ae"
            ],
            [
             0.3,
             "#f1b6da"
            ],
            [
             0.4,
             "#fde0ef"
            ],
            [
             0.5,
             "#f7f7f7"
            ],
            [
             0.6,
             "#e6f5d0"
            ],
            [
             0.7,
             "#b8e186"
            ],
            [
             0.8,
             "#7fbc41"
            ],
            [
             0.9,
             "#4d9221"
            ],
            [
             1,
             "#276419"
            ]
           ],
           "sequential": [
            [
             0,
             "#0d0887"
            ],
            [
             0.1111111111111111,
             "#46039f"
            ],
            [
             0.2222222222222222,
             "#7201a8"
            ],
            [
             0.3333333333333333,
             "#9c179e"
            ],
            [
             0.4444444444444444,
             "#bd3786"
            ],
            [
             0.5555555555555556,
             "#d8576b"
            ],
            [
             0.6666666666666666,
             "#ed7953"
            ],
            [
             0.7777777777777778,
             "#fb9f3a"
            ],
            [
             0.8888888888888888,
             "#fdca26"
            ],
            [
             1,
             "#f0f921"
            ]
           ],
           "sequentialminus": [
            [
             0,
             "#0d0887"
            ],
            [
             0.1111111111111111,
             "#46039f"
            ],
            [
             0.2222222222222222,
             "#7201a8"
            ],
            [
             0.3333333333333333,
             "#9c179e"
            ],
            [
             0.4444444444444444,
             "#bd3786"
            ],
            [
             0.5555555555555556,
             "#d8576b"
            ],
            [
             0.6666666666666666,
             "#ed7953"
            ],
            [
             0.7777777777777778,
             "#fb9f3a"
            ],
            [
             0.8888888888888888,
             "#fdca26"
            ],
            [
             1,
             "#f0f921"
            ]
           ]
          },
          "colorway": [
           "#636efa",
           "#EF553B",
           "#00cc96",
           "#ab63fa",
           "#FFA15A",
           "#19d3f3",
           "#FF6692",
           "#B6E880",
           "#FF97FF",
           "#FECB52"
          ],
          "font": {
           "color": "#2a3f5f"
          },
          "geo": {
           "bgcolor": "white",
           "lakecolor": "white",
           "landcolor": "#E5ECF6",
           "showlakes": true,
           "showland": true,
           "subunitcolor": "white"
          },
          "hoverlabel": {
           "align": "left"
          },
          "hovermode": "closest",
          "mapbox": {
           "style": "light"
          },
          "paper_bgcolor": "white",
          "plot_bgcolor": "#E5ECF6",
          "polar": {
           "angularaxis": {
            "gridcolor": "white",
            "linecolor": "white",
            "ticks": ""
           },
           "bgcolor": "#E5ECF6",
           "radialaxis": {
            "gridcolor": "white",
            "linecolor": "white",
            "ticks": ""
           }
          },
          "scene": {
           "xaxis": {
            "backgroundcolor": "#E5ECF6",
            "gridcolor": "white",
            "gridwidth": 2,
            "linecolor": "white",
            "showbackground": true,
            "ticks": "",
            "zerolinecolor": "white"
           },
           "yaxis": {
            "backgroundcolor": "#E5ECF6",
            "gridcolor": "white",
            "gridwidth": 2,
            "linecolor": "white",
            "showbackground": true,
            "ticks": "",
            "zerolinecolor": "white"
           },
           "zaxis": {
            "backgroundcolor": "#E5ECF6",
            "gridcolor": "white",
            "gridwidth": 2,
            "linecolor": "white",
            "showbackground": true,
            "ticks": "",
            "zerolinecolor": "white"
           }
          },
          "shapedefaults": {
           "line": {
            "color": "#2a3f5f"
           }
          },
          "ternary": {
           "aaxis": {
            "gridcolor": "white",
            "linecolor": "white",
            "ticks": ""
           },
           "baxis": {
            "gridcolor": "white",
            "linecolor": "white",
            "ticks": ""
           },
           "bgcolor": "#E5ECF6",
           "caxis": {
            "gridcolor": "white",
            "linecolor": "white",
            "ticks": ""
           }
          },
          "title": {
           "x": 0.05
          },
          "xaxis": {
           "automargin": true,
           "gridcolor": "white",
           "linecolor": "white",
           "ticks": "",
           "title": {
            "standoff": 15
           },
           "zerolinecolor": "white",
           "zerolinewidth": 2
          },
          "yaxis": {
           "automargin": true,
           "gridcolor": "white",
           "linecolor": "white",
           "ticks": "",
           "title": {
            "standoff": 15
           },
           "zerolinecolor": "white",
           "zerolinewidth": 2
          }
         }
        },
        "title": {
         "text": "Relationship Between Security of Women & Rule of Law & Freedom of Religion"
        },
        "xaxis": {
         "ticklen": 4,
         "title": {
          "text": "Rule of Law Index"
         },
         "zeroline": false
        },
        "yaxis": {
         "ticklen": 4,
         "title": {
          "text": "Freedom of Religion Index"
         },
         "zeroline": false
        }
       }
      },
      "text/html": [
       "<div>                            <div id=\"4319d019-a013-4237-a6f7-03baf33b2f95\" class=\"plotly-graph-div\" style=\"height:525px; width:100%;\"></div>            <script type=\"text/javascript\">                require([\"plotly\"], function(Plotly) {                    window.PLOTLYENV=window.PLOTLYENV || {};                                    if (document.getElementById(\"4319d019-a013-4237-a6f7-03baf33b2f95\")) {                    Plotly.newPlot(                        \"4319d019-a013-4237-a6f7-03baf33b2f95\",                        [{\"marker\": {\"color\": [7.5, 10.0, 10.0, 10.0, 8.333333332999999, 10.0, 10.0, 10.0, 10.0, 10.0, 10.0, 10.0, 10.0, 10.0, 8.333333332999999, 10.0, 10.0, 10.0, 10.0, 10.0, 10.0, 10.0, 7.5, 10.0, 8.333333332999999, 10.0, 10.0, 10.0, 10.0, 10.0, 10.0, 9.166666667000001, 10.0, 10.0, 9.166666667000001, 10.0, 9.166666667000001, 9.166666667000001, 10.0], \"showscale\": true, \"size\": [7.5, 10.0, 10.0, 10.0, 8.333333332999999, 10.0, 10.0, 10.0, 10.0, 10.0, 10.0, 10.0, 10.0, 10.0, 8.333333332999999, 10.0, 10.0, 10.0, 10.0, 10.0, 10.0, 10.0, 7.5, 10.0, 8.333333332999999, 10.0, 10.0, 10.0, 10.0, 10.0, 10.0, 9.166666667000001, 10.0, 10.0, 9.166666667000001, 10.0, 9.166666667000001, 9.166666667000001, 10.0]}, \"mode\": \"markers\", \"text\": [\"Albania\", \"Austria\", \"Belarus\", \"Belgium\", \"Bosnia and Herzegovina\", \"Bulgaria\", \"Croatia\", \"Cyprus\", \"Czech Rep.\", \"Denmark\", \"Estonia\", \"Finland\", \"France\", \"Germany\", \"Greece\", \"Hungary\", \"Iceland\", \"Ireland\", \"Italy\", \"Latvia\", \"Lithuania\", \"Luxembourg\", \"Macedonia\", \"Malta\", \"Moldova\", \"Netherlands\", \"Norway\", \"Poland\", \"Portugal\", \"Romania\", \"Russia\", \"Serbia\", \"Slovak Rep.\", \"Slovenia\", \"Spain\", \"Sweden\", \"Switzerland\", \"Ukraine\", \"United Kingdom\"], \"type\": \"scatter\", \"x\": [5.291751647, 8.171748815, 5.128924941, 7.751100945, 5.470080395, 4.891372196, 5.700537868, 6.327701936, 7.786692219, 8.687100828, 7.801085558, 8.639248324, 6.771264767000001, 8.303209527, 5.789790663, 5.439017665, 7.572814721, 7.614721658, 6.503838352000001, 6.681684163, 6.79590086, 7.897751196000001, 4.994404463, 6.880670013, 4.451422898, 8.524550808999999, 8.556487979, 6.382863045, 7.165608272, 6.328473866, 3.995194231, 4.399686544, 6.275760683, 6.450622608, 7.01186382, 8.539644459, 8.249290426, 4.546373559, 7.716556989], \"y\": [9.192592592999999, 7.925185185, 5.153333333, 8.131481481, 8.515185185, 7.1388888889999995, 8.051481481, 7.159259259, 7.764444444, 7.7022222220000005, 8.32962963, 7.901481481, 7.253703703999999, 7.697777778, 7.324074073999999, 7.284444444, 8.122222222000001, 9.082962963, 8.049259259, 8.546296296, 8.472592593, 9.140740741, 8.334814815, 8.44962963, 6.046296296, 8.894444444, 7.407407407000001, 6.3459259260000005, 9.425555556, 7.877407407000001, 4.596296296, 8.27037037, 7.727777777999999, 9.0, 7.996666667, 8.884814815, 8.188518519, 5.857777777999999, 7.585555556]}],                        {\"template\": {\"data\": {\"bar\": [{\"error_x\": {\"color\": \"#2a3f5f\"}, \"error_y\": {\"color\": \"#2a3f5f\"}, \"marker\": {\"line\": {\"color\": \"#E5ECF6\", \"width\": 0.5}}, \"type\": \"bar\"}], \"barpolar\": [{\"marker\": {\"line\": {\"color\": \"#E5ECF6\", \"width\": 0.5}}, \"type\": \"barpolar\"}], \"carpet\": [{\"aaxis\": {\"endlinecolor\": \"#2a3f5f\", \"gridcolor\": \"white\", \"linecolor\": \"white\", \"minorgridcolor\": \"white\", \"startlinecolor\": \"#2a3f5f\"}, \"baxis\": {\"endlinecolor\": \"#2a3f5f\", \"gridcolor\": \"white\", \"linecolor\": \"white\", \"minorgridcolor\": \"white\", \"startlinecolor\": \"#2a3f5f\"}, \"type\": \"carpet\"}], \"choropleth\": [{\"colorbar\": {\"outlinewidth\": 0, \"ticks\": \"\"}, \"type\": \"choropleth\"}], \"contour\": [{\"colorbar\": {\"outlinewidth\": 0, \"ticks\": \"\"}, \"colorscale\": [[0.0, \"#0d0887\"], [0.1111111111111111, \"#46039f\"], [0.2222222222222222, \"#7201a8\"], [0.3333333333333333, \"#9c179e\"], [0.4444444444444444, \"#bd3786\"], [0.5555555555555556, \"#d8576b\"], [0.6666666666666666, \"#ed7953\"], [0.7777777777777778, \"#fb9f3a\"], [0.8888888888888888, \"#fdca26\"], [1.0, \"#f0f921\"]], \"type\": \"contour\"}], \"contourcarpet\": [{\"colorbar\": {\"outlinewidth\": 0, \"ticks\": \"\"}, \"type\": \"contourcarpet\"}], \"heatmap\": [{\"colorbar\": {\"outlinewidth\": 0, \"ticks\": \"\"}, \"colorscale\": [[0.0, \"#0d0887\"], [0.1111111111111111, \"#46039f\"], [0.2222222222222222, \"#7201a8\"], [0.3333333333333333, \"#9c179e\"], [0.4444444444444444, \"#bd3786\"], [0.5555555555555556, \"#d8576b\"], [0.6666666666666666, \"#ed7953\"], [0.7777777777777778, \"#fb9f3a\"], [0.8888888888888888, \"#fdca26\"], [1.0, \"#f0f921\"]], \"type\": \"heatmap\"}], \"heatmapgl\": [{\"colorbar\": {\"outlinewidth\": 0, \"ticks\": \"\"}, \"colorscale\": [[0.0, \"#0d0887\"], [0.1111111111111111, \"#46039f\"], [0.2222222222222222, \"#7201a8\"], [0.3333333333333333, \"#9c179e\"], [0.4444444444444444, \"#bd3786\"], [0.5555555555555556, \"#d8576b\"], [0.6666666666666666, \"#ed7953\"], [0.7777777777777778, \"#fb9f3a\"], [0.8888888888888888, \"#fdca26\"], [1.0, \"#f0f921\"]], \"type\": \"heatmapgl\"}], \"histogram\": [{\"marker\": {\"colorbar\": {\"outlinewidth\": 0, \"ticks\": \"\"}}, \"type\": \"histogram\"}], \"histogram2d\": [{\"colorbar\": {\"outlinewidth\": 0, \"ticks\": \"\"}, \"colorscale\": [[0.0, \"#0d0887\"], [0.1111111111111111, \"#46039f\"], [0.2222222222222222, \"#7201a8\"], [0.3333333333333333, \"#9c179e\"], [0.4444444444444444, \"#bd3786\"], [0.5555555555555556, \"#d8576b\"], [0.6666666666666666, \"#ed7953\"], [0.7777777777777778, \"#fb9f3a\"], [0.8888888888888888, \"#fdca26\"], [1.0, \"#f0f921\"]], \"type\": \"histogram2d\"}], \"histogram2dcontour\": [{\"colorbar\": {\"outlinewidth\": 0, \"ticks\": \"\"}, \"colorscale\": [[0.0, \"#0d0887\"], [0.1111111111111111, \"#46039f\"], [0.2222222222222222, \"#7201a8\"], [0.3333333333333333, \"#9c179e\"], [0.4444444444444444, \"#bd3786\"], [0.5555555555555556, \"#d8576b\"], [0.6666666666666666, \"#ed7953\"], [0.7777777777777778, \"#fb9f3a\"], [0.8888888888888888, \"#fdca26\"], [1.0, \"#f0f921\"]], \"type\": \"histogram2dcontour\"}], \"mesh3d\": [{\"colorbar\": {\"outlinewidth\": 0, \"ticks\": \"\"}, \"type\": \"mesh3d\"}], \"parcoords\": [{\"line\": {\"colorbar\": {\"outlinewidth\": 0, \"ticks\": \"\"}}, \"type\": \"parcoords\"}], \"pie\": [{\"automargin\": true, \"type\": \"pie\"}], \"scatter\": [{\"marker\": {\"colorbar\": {\"outlinewidth\": 0, \"ticks\": \"\"}}, \"type\": \"scatter\"}], \"scatter3d\": [{\"line\": {\"colorbar\": {\"outlinewidth\": 0, \"ticks\": \"\"}}, \"marker\": {\"colorbar\": {\"outlinewidth\": 0, \"ticks\": \"\"}}, \"type\": \"scatter3d\"}], \"scattercarpet\": [{\"marker\": {\"colorbar\": {\"outlinewidth\": 0, \"ticks\": \"\"}}, \"type\": \"scattercarpet\"}], \"scattergeo\": [{\"marker\": {\"colorbar\": {\"outlinewidth\": 0, \"ticks\": \"\"}}, \"type\": \"scattergeo\"}], \"scattergl\": [{\"marker\": {\"colorbar\": {\"outlinewidth\": 0, \"ticks\": \"\"}}, \"type\": \"scattergl\"}], \"scattermapbox\": [{\"marker\": {\"colorbar\": {\"outlinewidth\": 0, \"ticks\": \"\"}}, \"type\": \"scattermapbox\"}], \"scatterpolar\": [{\"marker\": {\"colorbar\": {\"outlinewidth\": 0, \"ticks\": \"\"}}, \"type\": \"scatterpolar\"}], \"scatterpolargl\": [{\"marker\": {\"colorbar\": {\"outlinewidth\": 0, \"ticks\": \"\"}}, \"type\": \"scatterpolargl\"}], \"scatterternary\": [{\"marker\": {\"colorbar\": {\"outlinewidth\": 0, \"ticks\": \"\"}}, \"type\": \"scatterternary\"}], \"surface\": [{\"colorbar\": {\"outlinewidth\": 0, \"ticks\": \"\"}, \"colorscale\": [[0.0, \"#0d0887\"], [0.1111111111111111, \"#46039f\"], [0.2222222222222222, \"#7201a8\"], [0.3333333333333333, \"#9c179e\"], [0.4444444444444444, \"#bd3786\"], [0.5555555555555556, \"#d8576b\"], [0.6666666666666666, \"#ed7953\"], [0.7777777777777778, \"#fb9f3a\"], [0.8888888888888888, \"#fdca26\"], [1.0, \"#f0f921\"]], \"type\": \"surface\"}], \"table\": [{\"cells\": {\"fill\": {\"color\": \"#EBF0F8\"}, \"line\": {\"color\": \"white\"}}, \"header\": {\"fill\": {\"color\": \"#C8D4E3\"}, \"line\": {\"color\": \"white\"}}, \"type\": \"table\"}]}, \"layout\": {\"annotationdefaults\": {\"arrowcolor\": \"#2a3f5f\", \"arrowhead\": 0, \"arrowwidth\": 1}, \"autotypenumbers\": \"strict\", \"coloraxis\": {\"colorbar\": {\"outlinewidth\": 0, \"ticks\": \"\"}}, \"colorscale\": {\"diverging\": [[0, \"#8e0152\"], [0.1, \"#c51b7d\"], [0.2, \"#de77ae\"], [0.3, \"#f1b6da\"], [0.4, \"#fde0ef\"], [0.5, \"#f7f7f7\"], [0.6, \"#e6f5d0\"], [0.7, \"#b8e186\"], [0.8, \"#7fbc41\"], [0.9, \"#4d9221\"], [1, \"#276419\"]], \"sequential\": [[0.0, \"#0d0887\"], [0.1111111111111111, \"#46039f\"], [0.2222222222222222, \"#7201a8\"], [0.3333333333333333, \"#9c179e\"], [0.4444444444444444, \"#bd3786\"], [0.5555555555555556, \"#d8576b\"], [0.6666666666666666, \"#ed7953\"], [0.7777777777777778, \"#fb9f3a\"], [0.8888888888888888, \"#fdca26\"], [1.0, \"#f0f921\"]], \"sequentialminus\": [[0.0, \"#0d0887\"], [0.1111111111111111, \"#46039f\"], [0.2222222222222222, \"#7201a8\"], [0.3333333333333333, \"#9c179e\"], [0.4444444444444444, \"#bd3786\"], [0.5555555555555556, \"#d8576b\"], [0.6666666666666666, \"#ed7953\"], [0.7777777777777778, \"#fb9f3a\"], [0.8888888888888888, \"#fdca26\"], [1.0, \"#f0f921\"]]}, \"colorway\": [\"#636efa\", \"#EF553B\", \"#00cc96\", \"#ab63fa\", \"#FFA15A\", \"#19d3f3\", \"#FF6692\", \"#B6E880\", \"#FF97FF\", \"#FECB52\"], \"font\": {\"color\": \"#2a3f5f\"}, \"geo\": {\"bgcolor\": \"white\", \"lakecolor\": \"white\", \"landcolor\": \"#E5ECF6\", \"showlakes\": true, \"showland\": true, \"subunitcolor\": \"white\"}, \"hoverlabel\": {\"align\": \"left\"}, \"hovermode\": \"closest\", \"mapbox\": {\"style\": \"light\"}, \"paper_bgcolor\": \"white\", \"plot_bgcolor\": \"#E5ECF6\", \"polar\": {\"angularaxis\": {\"gridcolor\": \"white\", \"linecolor\": \"white\", \"ticks\": \"\"}, \"bgcolor\": \"#E5ECF6\", \"radialaxis\": {\"gridcolor\": \"white\", \"linecolor\": \"white\", \"ticks\": \"\"}}, \"scene\": {\"xaxis\": {\"backgroundcolor\": \"#E5ECF6\", \"gridcolor\": \"white\", \"gridwidth\": 2, \"linecolor\": \"white\", \"showbackground\": true, \"ticks\": \"\", \"zerolinecolor\": \"white\"}, \"yaxis\": {\"backgroundcolor\": \"#E5ECF6\", \"gridcolor\": \"white\", \"gridwidth\": 2, \"linecolor\": \"white\", \"showbackground\": true, \"ticks\": \"\", \"zerolinecolor\": \"white\"}, \"zaxis\": {\"backgroundcolor\": \"#E5ECF6\", \"gridcolor\": \"white\", \"gridwidth\": 2, \"linecolor\": \"white\", \"showbackground\": true, \"ticks\": \"\", \"zerolinecolor\": \"white\"}}, \"shapedefaults\": {\"line\": {\"color\": \"#2a3f5f\"}}, \"ternary\": {\"aaxis\": {\"gridcolor\": \"white\", \"linecolor\": \"white\", \"ticks\": \"\"}, \"baxis\": {\"gridcolor\": \"white\", \"linecolor\": \"white\", \"ticks\": \"\"}, \"bgcolor\": \"#E5ECF6\", \"caxis\": {\"gridcolor\": \"white\", \"linecolor\": \"white\", \"ticks\": \"\"}}, \"title\": {\"x\": 0.05}, \"xaxis\": {\"automargin\": true, \"gridcolor\": \"white\", \"linecolor\": \"white\", \"ticks\": \"\", \"title\": {\"standoff\": 15}, \"zerolinecolor\": \"white\", \"zerolinewidth\": 2}, \"yaxis\": {\"automargin\": true, \"gridcolor\": \"white\", \"linecolor\": \"white\", \"ticks\": \"\", \"title\": {\"standoff\": 15}, \"zerolinecolor\": \"white\", \"zerolinewidth\": 2}}}, \"title\": {\"text\": \"Relationship Between Security of Women & Rule of Law & Freedom of Religion\"}, \"xaxis\": {\"ticklen\": 4, \"title\": {\"text\": \"Rule of Law Index\"}, \"zeroline\": false}, \"yaxis\": {\"ticklen\": 4, \"title\": {\"text\": \"Freedom of Religion Index\"}, \"zeroline\": false}},                        {\"responsive\": true}                    ).then(function(){\n",
       "                            \n",
       "var gd = document.getElementById('4319d019-a013-4237-a6f7-03baf33b2f95');\n",
       "var x = new MutationObserver(function (mutations, observer) {{\n",
       "        var display = window.getComputedStyle(gd).display;\n",
       "        if (!display || display === 'none') {{\n",
       "            console.log([gd, 'removed!']);\n",
       "            Plotly.purge(gd);\n",
       "            observer.disconnect();\n",
       "        }}\n",
       "}});\n",
       "\n",
       "// Listen for the removal of the full notebook cells\n",
       "var notebookContainer = gd.closest('#notebook-container');\n",
       "if (notebookContainer) {{\n",
       "    x.observe(notebookContainer, {childList: true});\n",
       "}}\n",
       "\n",
       "// Listen for the clearing of the current output cell\n",
       "var outputEl = gd.closest('.output');\n",
       "if (outputEl) {{\n",
       "    x.observe(outputEl, {childList: true});\n",
       "}}\n",
       "\n",
       "                        })                };                });            </script>        </div>"
      ]
     },
     "metadata": {},
     "output_type": "display_data"
    }
   ],
   "source": [
    "colorEU = [float(each) for each in dataEU['pf_ss_women']]\n",
    "sizeEU = [float(each) for each in dataEU['pf_ss_women']]\n",
    "\n",
    "data05 = [\n",
    "    {\n",
    "        'x' : dataEU['pf_rol'],\n",
    "        'y' : dataEU['pf_religion'],\n",
    "        'mode' : 'markers',\n",
    "        'marker' : { 'color': colorEU, 'size' : sizeEU, 'showscale' : True},\n",
    "        'text' : dataEU.countries\n",
    "    } \n",
    "]\n",
    "layout05 = dict(title = 'Relationship Between Security of Women & Rule of Law & Freedom of Religion', \n",
    "                xaxis = dict(title = 'Rule of Law Index', ticklen = 4, zeroline = False),\n",
    "                yaxis = dict(title = 'Freedom of Religion Index', ticklen = 4, zeroline = False))\n",
    "fig = dict(data=data05, layout=layout05)\n",
    "py.iplot(fig)"
   ]
  },
  {
   "cell_type": "code",
   "execution_count": 15,
   "metadata": {},
   "outputs": [],
   "source": [
    "# One can see there is a positive relationship with countries' rule of law, freedom of religion and security of women levels."
   ]
  },
  {
   "cell_type": "code",
   "execution_count": 16,
   "metadata": {},
   "outputs": [
    {
     "data": {
      "application/vnd.plotly.v1+json": {
       "config": {
        "linkText": "Export to plot.ly",
        "plotlyServerURL": "https://plot.ly",
        "showLink": false
       },
       "data": [
        {
         "marker": {
          "color": [
           7.5,
           10,
           10,
           10,
           8.333333332999999,
           10,
           10,
           10,
           10,
           10,
           10,
           10,
           10,
           10,
           8.333333332999999,
           10,
           10,
           10,
           10,
           10,
           10,
           10,
           7.5,
           10,
           8.333333332999999,
           10,
           10,
           10,
           10,
           10,
           10,
           9.166666667000001,
           10,
           10,
           9.166666667000001,
           10,
           9.166666667000001,
           9.166666667000001,
           10
          ],
          "size": 7
         },
         "mode": "markers",
         "type": "scatter3d",
         "x": [
          5.291751647,
          8.171748815,
          5.128924941,
          7.751100945,
          5.470080395,
          4.891372196,
          5.700537868,
          6.327701936,
          7.786692219,
          8.687100828,
          7.801085558,
          8.639248324,
          6.771264767000001,
          8.303209527,
          5.789790663,
          5.439017665,
          7.572814721,
          7.614721658,
          6.503838352000001,
          6.681684163,
          6.79590086,
          7.897751196000001,
          4.994404463,
          6.880670013,
          4.451422898,
          8.524550808999999,
          8.556487979,
          6.382863045,
          7.165608272,
          6.328473866,
          3.995194231,
          4.399686544,
          6.275760683,
          6.450622608,
          7.01186382,
          8.539644459,
          8.249290426,
          4.546373559,
          7.716556989
         ],
         "y": [
          9.192592592999999,
          7.925185185,
          5.153333333,
          8.131481481,
          8.515185185,
          7.1388888889999995,
          8.051481481,
          7.159259259,
          7.764444444,
          7.7022222220000005,
          8.32962963,
          7.901481481,
          7.253703703999999,
          7.697777778,
          7.324074073999999,
          7.284444444,
          8.122222222000001,
          9.082962963,
          8.049259259,
          8.546296296,
          8.472592593,
          9.140740741,
          8.334814815,
          8.44962963,
          6.046296296,
          8.894444444,
          7.407407407000001,
          6.3459259260000005,
          9.425555556,
          7.877407407000001,
          4.596296296,
          8.27037037,
          7.727777777999999,
          9,
          7.996666667,
          8.884814815,
          8.188518519,
          5.857777777999999,
          7.585555556
         ],
         "z": [
          7.5,
          10,
          10,
          10,
          8.333333332999999,
          10,
          10,
          10,
          10,
          10,
          10,
          10,
          10,
          10,
          8.333333332999999,
          10,
          10,
          10,
          10,
          10,
          10,
          10,
          7.5,
          10,
          8.333333332999999,
          10,
          10,
          10,
          10,
          10,
          10,
          9.166666667000001,
          10,
          10,
          9.166666667000001,
          10,
          9.166666667000001,
          9.166666667000001,
          10
         ]
        }
       ],
       "layout": {
        "template": {
         "data": {
          "bar": [
           {
            "error_x": {
             "color": "#2a3f5f"
            },
            "error_y": {
             "color": "#2a3f5f"
            },
            "marker": {
             "line": {
              "color": "#E5ECF6",
              "width": 0.5
             }
            },
            "type": "bar"
           }
          ],
          "barpolar": [
           {
            "marker": {
             "line": {
              "color": "#E5ECF6",
              "width": 0.5
             }
            },
            "type": "barpolar"
           }
          ],
          "carpet": [
           {
            "aaxis": {
             "endlinecolor": "#2a3f5f",
             "gridcolor": "white",
             "linecolor": "white",
             "minorgridcolor": "white",
             "startlinecolor": "#2a3f5f"
            },
            "baxis": {
             "endlinecolor": "#2a3f5f",
             "gridcolor": "white",
             "linecolor": "white",
             "minorgridcolor": "white",
             "startlinecolor": "#2a3f5f"
            },
            "type": "carpet"
           }
          ],
          "choropleth": [
           {
            "colorbar": {
             "outlinewidth": 0,
             "ticks": ""
            },
            "type": "choropleth"
           }
          ],
          "contour": [
           {
            "colorbar": {
             "outlinewidth": 0,
             "ticks": ""
            },
            "colorscale": [
             [
              0,
              "#0d0887"
             ],
             [
              0.1111111111111111,
              "#46039f"
             ],
             [
              0.2222222222222222,
              "#7201a8"
             ],
             [
              0.3333333333333333,
              "#9c179e"
             ],
             [
              0.4444444444444444,
              "#bd3786"
             ],
             [
              0.5555555555555556,
              "#d8576b"
             ],
             [
              0.6666666666666666,
              "#ed7953"
             ],
             [
              0.7777777777777778,
              "#fb9f3a"
             ],
             [
              0.8888888888888888,
              "#fdca26"
             ],
             [
              1,
              "#f0f921"
             ]
            ],
            "type": "contour"
           }
          ],
          "contourcarpet": [
           {
            "colorbar": {
             "outlinewidth": 0,
             "ticks": ""
            },
            "type": "contourcarpet"
           }
          ],
          "heatmap": [
           {
            "colorbar": {
             "outlinewidth": 0,
             "ticks": ""
            },
            "colorscale": [
             [
              0,
              "#0d0887"
             ],
             [
              0.1111111111111111,
              "#46039f"
             ],
             [
              0.2222222222222222,
              "#7201a8"
             ],
             [
              0.3333333333333333,
              "#9c179e"
             ],
             [
              0.4444444444444444,
              "#bd3786"
             ],
             [
              0.5555555555555556,
              "#d8576b"
             ],
             [
              0.6666666666666666,
              "#ed7953"
             ],
             [
              0.7777777777777778,
              "#fb9f3a"
             ],
             [
              0.8888888888888888,
              "#fdca26"
             ],
             [
              1,
              "#f0f921"
             ]
            ],
            "type": "heatmap"
           }
          ],
          "heatmapgl": [
           {
            "colorbar": {
             "outlinewidth": 0,
             "ticks": ""
            },
            "colorscale": [
             [
              0,
              "#0d0887"
             ],
             [
              0.1111111111111111,
              "#46039f"
             ],
             [
              0.2222222222222222,
              "#7201a8"
             ],
             [
              0.3333333333333333,
              "#9c179e"
             ],
             [
              0.4444444444444444,
              "#bd3786"
             ],
             [
              0.5555555555555556,
              "#d8576b"
             ],
             [
              0.6666666666666666,
              "#ed7953"
             ],
             [
              0.7777777777777778,
              "#fb9f3a"
             ],
             [
              0.8888888888888888,
              "#fdca26"
             ],
             [
              1,
              "#f0f921"
             ]
            ],
            "type": "heatmapgl"
           }
          ],
          "histogram": [
           {
            "marker": {
             "colorbar": {
              "outlinewidth": 0,
              "ticks": ""
             }
            },
            "type": "histogram"
           }
          ],
          "histogram2d": [
           {
            "colorbar": {
             "outlinewidth": 0,
             "ticks": ""
            },
            "colorscale": [
             [
              0,
              "#0d0887"
             ],
             [
              0.1111111111111111,
              "#46039f"
             ],
             [
              0.2222222222222222,
              "#7201a8"
             ],
             [
              0.3333333333333333,
              "#9c179e"
             ],
             [
              0.4444444444444444,
              "#bd3786"
             ],
             [
              0.5555555555555556,
              "#d8576b"
             ],
             [
              0.6666666666666666,
              "#ed7953"
             ],
             [
              0.7777777777777778,
              "#fb9f3a"
             ],
             [
              0.8888888888888888,
              "#fdca26"
             ],
             [
              1,
              "#f0f921"
             ]
            ],
            "type": "histogram2d"
           }
          ],
          "histogram2dcontour": [
           {
            "colorbar": {
             "outlinewidth": 0,
             "ticks": ""
            },
            "colorscale": [
             [
              0,
              "#0d0887"
             ],
             [
              0.1111111111111111,
              "#46039f"
             ],
             [
              0.2222222222222222,
              "#7201a8"
             ],
             [
              0.3333333333333333,
              "#9c179e"
             ],
             [
              0.4444444444444444,
              "#bd3786"
             ],
             [
              0.5555555555555556,
              "#d8576b"
             ],
             [
              0.6666666666666666,
              "#ed7953"
             ],
             [
              0.7777777777777778,
              "#fb9f3a"
             ],
             [
              0.8888888888888888,
              "#fdca26"
             ],
             [
              1,
              "#f0f921"
             ]
            ],
            "type": "histogram2dcontour"
           }
          ],
          "mesh3d": [
           {
            "colorbar": {
             "outlinewidth": 0,
             "ticks": ""
            },
            "type": "mesh3d"
           }
          ],
          "parcoords": [
           {
            "line": {
             "colorbar": {
              "outlinewidth": 0,
              "ticks": ""
             }
            },
            "type": "parcoords"
           }
          ],
          "pie": [
           {
            "automargin": true,
            "type": "pie"
           }
          ],
          "scatter": [
           {
            "marker": {
             "colorbar": {
              "outlinewidth": 0,
              "ticks": ""
             }
            },
            "type": "scatter"
           }
          ],
          "scatter3d": [
           {
            "line": {
             "colorbar": {
              "outlinewidth": 0,
              "ticks": ""
             }
            },
            "marker": {
             "colorbar": {
              "outlinewidth": 0,
              "ticks": ""
             }
            },
            "type": "scatter3d"
           }
          ],
          "scattercarpet": [
           {
            "marker": {
             "colorbar": {
              "outlinewidth": 0,
              "ticks": ""
             }
            },
            "type": "scattercarpet"
           }
          ],
          "scattergeo": [
           {
            "marker": {
             "colorbar": {
              "outlinewidth": 0,
              "ticks": ""
             }
            },
            "type": "scattergeo"
           }
          ],
          "scattergl": [
           {
            "marker": {
             "colorbar": {
              "outlinewidth": 0,
              "ticks": ""
             }
            },
            "type": "scattergl"
           }
          ],
          "scattermapbox": [
           {
            "marker": {
             "colorbar": {
              "outlinewidth": 0,
              "ticks": ""
             }
            },
            "type": "scattermapbox"
           }
          ],
          "scatterpolar": [
           {
            "marker": {
             "colorbar": {
              "outlinewidth": 0,
              "ticks": ""
             }
            },
            "type": "scatterpolar"
           }
          ],
          "scatterpolargl": [
           {
            "marker": {
             "colorbar": {
              "outlinewidth": 0,
              "ticks": ""
             }
            },
            "type": "scatterpolargl"
           }
          ],
          "scatterternary": [
           {
            "marker": {
             "colorbar": {
              "outlinewidth": 0,
              "ticks": ""
             }
            },
            "type": "scatterternary"
           }
          ],
          "surface": [
           {
            "colorbar": {
             "outlinewidth": 0,
             "ticks": ""
            },
            "colorscale": [
             [
              0,
              "#0d0887"
             ],
             [
              0.1111111111111111,
              "#46039f"
             ],
             [
              0.2222222222222222,
              "#7201a8"
             ],
             [
              0.3333333333333333,
              "#9c179e"
             ],
             [
              0.4444444444444444,
              "#bd3786"
             ],
             [
              0.5555555555555556,
              "#d8576b"
             ],
             [
              0.6666666666666666,
              "#ed7953"
             ],
             [
              0.7777777777777778,
              "#fb9f3a"
             ],
             [
              0.8888888888888888,
              "#fdca26"
             ],
             [
              1,
              "#f0f921"
             ]
            ],
            "type": "surface"
           }
          ],
          "table": [
           {
            "cells": {
             "fill": {
              "color": "#EBF0F8"
             },
             "line": {
              "color": "white"
             }
            },
            "header": {
             "fill": {
              "color": "#C8D4E3"
             },
             "line": {
              "color": "white"
             }
            },
            "type": "table"
           }
          ]
         },
         "layout": {
          "annotationdefaults": {
           "arrowcolor": "#2a3f5f",
           "arrowhead": 0,
           "arrowwidth": 1
          },
          "autotypenumbers": "strict",
          "coloraxis": {
           "colorbar": {
            "outlinewidth": 0,
            "ticks": ""
           }
          },
          "colorscale": {
           "diverging": [
            [
             0,
             "#8e0152"
            ],
            [
             0.1,
             "#c51b7d"
            ],
            [
             0.2,
             "#de77ae"
            ],
            [
             0.3,
             "#f1b6da"
            ],
            [
             0.4,
             "#fde0ef"
            ],
            [
             0.5,
             "#f7f7f7"
            ],
            [
             0.6,
             "#e6f5d0"
            ],
            [
             0.7,
             "#b8e186"
            ],
            [
             0.8,
             "#7fbc41"
            ],
            [
             0.9,
             "#4d9221"
            ],
            [
             1,
             "#276419"
            ]
           ],
           "sequential": [
            [
             0,
             "#0d0887"
            ],
            [
             0.1111111111111111,
             "#46039f"
            ],
            [
             0.2222222222222222,
             "#7201a8"
            ],
            [
             0.3333333333333333,
             "#9c179e"
            ],
            [
             0.4444444444444444,
             "#bd3786"
            ],
            [
             0.5555555555555556,
             "#d8576b"
            ],
            [
             0.6666666666666666,
             "#ed7953"
            ],
            [
             0.7777777777777778,
             "#fb9f3a"
            ],
            [
             0.8888888888888888,
             "#fdca26"
            ],
            [
             1,
             "#f0f921"
            ]
           ],
           "sequentialminus": [
            [
             0,
             "#0d0887"
            ],
            [
             0.1111111111111111,
             "#46039f"
            ],
            [
             0.2222222222222222,
             "#7201a8"
            ],
            [
             0.3333333333333333,
             "#9c179e"
            ],
            [
             0.4444444444444444,
             "#bd3786"
            ],
            [
             0.5555555555555556,
             "#d8576b"
            ],
            [
             0.6666666666666666,
             "#ed7953"
            ],
            [
             0.7777777777777778,
             "#fb9f3a"
            ],
            [
             0.8888888888888888,
             "#fdca26"
            ],
            [
             1,
             "#f0f921"
            ]
           ]
          },
          "colorway": [
           "#636efa",
           "#EF553B",
           "#00cc96",
           "#ab63fa",
           "#FFA15A",
           "#19d3f3",
           "#FF6692",
           "#B6E880",
           "#FF97FF",
           "#FECB52"
          ],
          "font": {
           "color": "#2a3f5f"
          },
          "geo": {
           "bgcolor": "white",
           "lakecolor": "white",
           "landcolor": "#E5ECF6",
           "showlakes": true,
           "showland": true,
           "subunitcolor": "white"
          },
          "hoverlabel": {
           "align": "left"
          },
          "hovermode": "closest",
          "mapbox": {
           "style": "light"
          },
          "paper_bgcolor": "white",
          "plot_bgcolor": "#E5ECF6",
          "polar": {
           "angularaxis": {
            "gridcolor": "white",
            "linecolor": "white",
            "ticks": ""
           },
           "bgcolor": "#E5ECF6",
           "radialaxis": {
            "gridcolor": "white",
            "linecolor": "white",
            "ticks": ""
           }
          },
          "scene": {
           "xaxis": {
            "backgroundcolor": "#E5ECF6",
            "gridcolor": "white",
            "gridwidth": 2,
            "linecolor": "white",
            "showbackground": true,
            "ticks": "",
            "zerolinecolor": "white"
           },
           "yaxis": {
            "backgroundcolor": "#E5ECF6",
            "gridcolor": "white",
            "gridwidth": 2,
            "linecolor": "white",
            "showbackground": true,
            "ticks": "",
            "zerolinecolor": "white"
           },
           "zaxis": {
            "backgroundcolor": "#E5ECF6",
            "gridcolor": "white",
            "gridwidth": 2,
            "linecolor": "white",
            "showbackground": true,
            "ticks": "",
            "zerolinecolor": "white"
           }
          },
          "shapedefaults": {
           "line": {
            "color": "#2a3f5f"
           }
          },
          "ternary": {
           "aaxis": {
            "gridcolor": "white",
            "linecolor": "white",
            "ticks": ""
           },
           "baxis": {
            "gridcolor": "white",
            "linecolor": "white",
            "ticks": ""
           },
           "bgcolor": "#E5ECF6",
           "caxis": {
            "gridcolor": "white",
            "linecolor": "white",
            "ticks": ""
           }
          },
          "title": {
           "x": 0.05
          },
          "xaxis": {
           "automargin": true,
           "gridcolor": "white",
           "linecolor": "white",
           "ticks": "",
           "title": {
            "standoff": 15
           },
           "zerolinecolor": "white",
           "zerolinewidth": 2
          },
          "yaxis": {
           "automargin": true,
           "gridcolor": "white",
           "linecolor": "white",
           "ticks": "",
           "title": {
            "standoff": 15
           },
           "zerolinecolor": "white",
           "zerolinewidth": 2
          }
         }
        },
        "title": {
         "text": "Relationship Between Security of Women & Rule of Law & Freedom of Religion"
        }
       }
      },
      "text/html": [
       "<div>                            <div id=\"a953771c-59d8-43d9-b846-c23e40e3db87\" class=\"plotly-graph-div\" style=\"height:525px; width:100%;\"></div>            <script type=\"text/javascript\">                require([\"plotly\"], function(Plotly) {                    window.PLOTLYENV=window.PLOTLYENV || {};                                    if (document.getElementById(\"a953771c-59d8-43d9-b846-c23e40e3db87\")) {                    Plotly.newPlot(                        \"a953771c-59d8-43d9-b846-c23e40e3db87\",                        [{\"marker\": {\"color\": [7.5, 10.0, 10.0, 10.0, 8.333333332999999, 10.0, 10.0, 10.0, 10.0, 10.0, 10.0, 10.0, 10.0, 10.0, 8.333333332999999, 10.0, 10.0, 10.0, 10.0, 10.0, 10.0, 10.0, 7.5, 10.0, 8.333333332999999, 10.0, 10.0, 10.0, 10.0, 10.0, 10.0, 9.166666667000001, 10.0, 10.0, 9.166666667000001, 10.0, 9.166666667000001, 9.166666667000001, 10.0], \"size\": 7}, \"mode\": \"markers\", \"type\": \"scatter3d\", \"x\": [5.291751647, 8.171748815, 5.128924941, 7.751100945, 5.470080395, 4.891372196, 5.700537868, 6.327701936, 7.786692219, 8.687100828, 7.801085558, 8.639248324, 6.771264767000001, 8.303209527, 5.789790663, 5.439017665, 7.572814721, 7.614721658, 6.503838352000001, 6.681684163, 6.79590086, 7.897751196000001, 4.994404463, 6.880670013, 4.451422898, 8.524550808999999, 8.556487979, 6.382863045, 7.165608272, 6.328473866, 3.995194231, 4.399686544, 6.275760683, 6.450622608, 7.01186382, 8.539644459, 8.249290426, 4.546373559, 7.716556989], \"y\": [9.192592592999999, 7.925185185, 5.153333333, 8.131481481, 8.515185185, 7.1388888889999995, 8.051481481, 7.159259259, 7.764444444, 7.7022222220000005, 8.32962963, 7.901481481, 7.253703703999999, 7.697777778, 7.324074073999999, 7.284444444, 8.122222222000001, 9.082962963, 8.049259259, 8.546296296, 8.472592593, 9.140740741, 8.334814815, 8.44962963, 6.046296296, 8.894444444, 7.407407407000001, 6.3459259260000005, 9.425555556, 7.877407407000001, 4.596296296, 8.27037037, 7.727777777999999, 9.0, 7.996666667, 8.884814815, 8.188518519, 5.857777777999999, 7.585555556], \"z\": [7.5, 10.0, 10.0, 10.0, 8.333333332999999, 10.0, 10.0, 10.0, 10.0, 10.0, 10.0, 10.0, 10.0, 10.0, 8.333333332999999, 10.0, 10.0, 10.0, 10.0, 10.0, 10.0, 10.0, 7.5, 10.0, 8.333333332999999, 10.0, 10.0, 10.0, 10.0, 10.0, 10.0, 9.166666667000001, 10.0, 10.0, 9.166666667000001, 10.0, 9.166666667000001, 9.166666667000001, 10.0]}],                        {\"template\": {\"data\": {\"bar\": [{\"error_x\": {\"color\": \"#2a3f5f\"}, \"error_y\": {\"color\": \"#2a3f5f\"}, \"marker\": {\"line\": {\"color\": \"#E5ECF6\", \"width\": 0.5}}, \"type\": \"bar\"}], \"barpolar\": [{\"marker\": {\"line\": {\"color\": \"#E5ECF6\", \"width\": 0.5}}, \"type\": \"barpolar\"}], \"carpet\": [{\"aaxis\": {\"endlinecolor\": \"#2a3f5f\", \"gridcolor\": \"white\", \"linecolor\": \"white\", \"minorgridcolor\": \"white\", \"startlinecolor\": \"#2a3f5f\"}, \"baxis\": {\"endlinecolor\": \"#2a3f5f\", \"gridcolor\": \"white\", \"linecolor\": \"white\", \"minorgridcolor\": \"white\", \"startlinecolor\": \"#2a3f5f\"}, \"type\": \"carpet\"}], \"choropleth\": [{\"colorbar\": {\"outlinewidth\": 0, \"ticks\": \"\"}, \"type\": \"choropleth\"}], \"contour\": [{\"colorbar\": {\"outlinewidth\": 0, \"ticks\": \"\"}, \"colorscale\": [[0.0, \"#0d0887\"], [0.1111111111111111, \"#46039f\"], [0.2222222222222222, \"#7201a8\"], [0.3333333333333333, \"#9c179e\"], [0.4444444444444444, \"#bd3786\"], [0.5555555555555556, \"#d8576b\"], [0.6666666666666666, \"#ed7953\"], [0.7777777777777778, \"#fb9f3a\"], [0.8888888888888888, \"#fdca26\"], [1.0, \"#f0f921\"]], \"type\": \"contour\"}], \"contourcarpet\": [{\"colorbar\": {\"outlinewidth\": 0, \"ticks\": \"\"}, \"type\": \"contourcarpet\"}], \"heatmap\": [{\"colorbar\": {\"outlinewidth\": 0, \"ticks\": \"\"}, \"colorscale\": [[0.0, \"#0d0887\"], [0.1111111111111111, \"#46039f\"], [0.2222222222222222, \"#7201a8\"], [0.3333333333333333, \"#9c179e\"], [0.4444444444444444, \"#bd3786\"], [0.5555555555555556, \"#d8576b\"], [0.6666666666666666, \"#ed7953\"], [0.7777777777777778, \"#fb9f3a\"], [0.8888888888888888, \"#fdca26\"], [1.0, \"#f0f921\"]], \"type\": \"heatmap\"}], \"heatmapgl\": [{\"colorbar\": {\"outlinewidth\": 0, \"ticks\": \"\"}, \"colorscale\": [[0.0, \"#0d0887\"], [0.1111111111111111, \"#46039f\"], [0.2222222222222222, \"#7201a8\"], [0.3333333333333333, \"#9c179e\"], [0.4444444444444444, \"#bd3786\"], [0.5555555555555556, \"#d8576b\"], [0.6666666666666666, \"#ed7953\"], [0.7777777777777778, \"#fb9f3a\"], [0.8888888888888888, \"#fdca26\"], [1.0, \"#f0f921\"]], \"type\": \"heatmapgl\"}], \"histogram\": [{\"marker\": {\"colorbar\": {\"outlinewidth\": 0, \"ticks\": \"\"}}, \"type\": \"histogram\"}], \"histogram2d\": [{\"colorbar\": {\"outlinewidth\": 0, \"ticks\": \"\"}, \"colorscale\": [[0.0, \"#0d0887\"], [0.1111111111111111, \"#46039f\"], [0.2222222222222222, \"#7201a8\"], [0.3333333333333333, \"#9c179e\"], [0.4444444444444444, \"#bd3786\"], [0.5555555555555556, \"#d8576b\"], [0.6666666666666666, \"#ed7953\"], [0.7777777777777778, \"#fb9f3a\"], [0.8888888888888888, \"#fdca26\"], [1.0, \"#f0f921\"]], \"type\": \"histogram2d\"}], \"histogram2dcontour\": [{\"colorbar\": {\"outlinewidth\": 0, \"ticks\": \"\"}, \"colorscale\": [[0.0, \"#0d0887\"], [0.1111111111111111, \"#46039f\"], [0.2222222222222222, \"#7201a8\"], [0.3333333333333333, \"#9c179e\"], [0.4444444444444444, \"#bd3786\"], [0.5555555555555556, \"#d8576b\"], [0.6666666666666666, \"#ed7953\"], [0.7777777777777778, \"#fb9f3a\"], [0.8888888888888888, \"#fdca26\"], [1.0, \"#f0f921\"]], \"type\": \"histogram2dcontour\"}], \"mesh3d\": [{\"colorbar\": {\"outlinewidth\": 0, \"ticks\": \"\"}, \"type\": \"mesh3d\"}], \"parcoords\": [{\"line\": {\"colorbar\": {\"outlinewidth\": 0, \"ticks\": \"\"}}, \"type\": \"parcoords\"}], \"pie\": [{\"automargin\": true, \"type\": \"pie\"}], \"scatter\": [{\"marker\": {\"colorbar\": {\"outlinewidth\": 0, \"ticks\": \"\"}}, \"type\": \"scatter\"}], \"scatter3d\": [{\"line\": {\"colorbar\": {\"outlinewidth\": 0, \"ticks\": \"\"}}, \"marker\": {\"colorbar\": {\"outlinewidth\": 0, \"ticks\": \"\"}}, \"type\": \"scatter3d\"}], \"scattercarpet\": [{\"marker\": {\"colorbar\": {\"outlinewidth\": 0, \"ticks\": \"\"}}, \"type\": \"scattercarpet\"}], \"scattergeo\": [{\"marker\": {\"colorbar\": {\"outlinewidth\": 0, \"ticks\": \"\"}}, \"type\": \"scattergeo\"}], \"scattergl\": [{\"marker\": {\"colorbar\": {\"outlinewidth\": 0, \"ticks\": \"\"}}, \"type\": \"scattergl\"}], \"scattermapbox\": [{\"marker\": {\"colorbar\": {\"outlinewidth\": 0, \"ticks\": \"\"}}, \"type\": \"scattermapbox\"}], \"scatterpolar\": [{\"marker\": {\"colorbar\": {\"outlinewidth\": 0, \"ticks\": \"\"}}, \"type\": \"scatterpolar\"}], \"scatterpolargl\": [{\"marker\": {\"colorbar\": {\"outlinewidth\": 0, \"ticks\": \"\"}}, \"type\": \"scatterpolargl\"}], \"scatterternary\": [{\"marker\": {\"colorbar\": {\"outlinewidth\": 0, \"ticks\": \"\"}}, \"type\": \"scatterternary\"}], \"surface\": [{\"colorbar\": {\"outlinewidth\": 0, \"ticks\": \"\"}, \"colorscale\": [[0.0, \"#0d0887\"], [0.1111111111111111, \"#46039f\"], [0.2222222222222222, \"#7201a8\"], [0.3333333333333333, \"#9c179e\"], [0.4444444444444444, \"#bd3786\"], [0.5555555555555556, \"#d8576b\"], [0.6666666666666666, \"#ed7953\"], [0.7777777777777778, \"#fb9f3a\"], [0.8888888888888888, \"#fdca26\"], [1.0, \"#f0f921\"]], \"type\": \"surface\"}], \"table\": [{\"cells\": {\"fill\": {\"color\": \"#EBF0F8\"}, \"line\": {\"color\": \"white\"}}, \"header\": {\"fill\": {\"color\": \"#C8D4E3\"}, \"line\": {\"color\": \"white\"}}, \"type\": \"table\"}]}, \"layout\": {\"annotationdefaults\": {\"arrowcolor\": \"#2a3f5f\", \"arrowhead\": 0, \"arrowwidth\": 1}, \"autotypenumbers\": \"strict\", \"coloraxis\": {\"colorbar\": {\"outlinewidth\": 0, \"ticks\": \"\"}}, \"colorscale\": {\"diverging\": [[0, \"#8e0152\"], [0.1, \"#c51b7d\"], [0.2, \"#de77ae\"], [0.3, \"#f1b6da\"], [0.4, \"#fde0ef\"], [0.5, \"#f7f7f7\"], [0.6, \"#e6f5d0\"], [0.7, \"#b8e186\"], [0.8, \"#7fbc41\"], [0.9, \"#4d9221\"], [1, \"#276419\"]], \"sequential\": [[0.0, \"#0d0887\"], [0.1111111111111111, \"#46039f\"], [0.2222222222222222, \"#7201a8\"], [0.3333333333333333, \"#9c179e\"], [0.4444444444444444, \"#bd3786\"], [0.5555555555555556, \"#d8576b\"], [0.6666666666666666, \"#ed7953\"], [0.7777777777777778, \"#fb9f3a\"], [0.8888888888888888, \"#fdca26\"], [1.0, \"#f0f921\"]], \"sequentialminus\": [[0.0, \"#0d0887\"], [0.1111111111111111, \"#46039f\"], [0.2222222222222222, \"#7201a8\"], [0.3333333333333333, \"#9c179e\"], [0.4444444444444444, \"#bd3786\"], [0.5555555555555556, \"#d8576b\"], [0.6666666666666666, \"#ed7953\"], [0.7777777777777778, \"#fb9f3a\"], [0.8888888888888888, \"#fdca26\"], [1.0, \"#f0f921\"]]}, \"colorway\": [\"#636efa\", \"#EF553B\", \"#00cc96\", \"#ab63fa\", \"#FFA15A\", \"#19d3f3\", \"#FF6692\", \"#B6E880\", \"#FF97FF\", \"#FECB52\"], \"font\": {\"color\": \"#2a3f5f\"}, \"geo\": {\"bgcolor\": \"white\", \"lakecolor\": \"white\", \"landcolor\": \"#E5ECF6\", \"showlakes\": true, \"showland\": true, \"subunitcolor\": \"white\"}, \"hoverlabel\": {\"align\": \"left\"}, \"hovermode\": \"closest\", \"mapbox\": {\"style\": \"light\"}, \"paper_bgcolor\": \"white\", \"plot_bgcolor\": \"#E5ECF6\", \"polar\": {\"angularaxis\": {\"gridcolor\": \"white\", \"linecolor\": \"white\", \"ticks\": \"\"}, \"bgcolor\": \"#E5ECF6\", \"radialaxis\": {\"gridcolor\": \"white\", \"linecolor\": \"white\", \"ticks\": \"\"}}, \"scene\": {\"xaxis\": {\"backgroundcolor\": \"#E5ECF6\", \"gridcolor\": \"white\", \"gridwidth\": 2, \"linecolor\": \"white\", \"showbackground\": true, \"ticks\": \"\", \"zerolinecolor\": \"white\"}, \"yaxis\": {\"backgroundcolor\": \"#E5ECF6\", \"gridcolor\": \"white\", \"gridwidth\": 2, \"linecolor\": \"white\", \"showbackground\": true, \"ticks\": \"\", \"zerolinecolor\": \"white\"}, \"zaxis\": {\"backgroundcolor\": \"#E5ECF6\", \"gridcolor\": \"white\", \"gridwidth\": 2, \"linecolor\": \"white\", \"showbackground\": true, \"ticks\": \"\", \"zerolinecolor\": \"white\"}}, \"shapedefaults\": {\"line\": {\"color\": \"#2a3f5f\"}}, \"ternary\": {\"aaxis\": {\"gridcolor\": \"white\", \"linecolor\": \"white\", \"ticks\": \"\"}, \"baxis\": {\"gridcolor\": \"white\", \"linecolor\": \"white\", \"ticks\": \"\"}, \"bgcolor\": \"#E5ECF6\", \"caxis\": {\"gridcolor\": \"white\", \"linecolor\": \"white\", \"ticks\": \"\"}}, \"title\": {\"x\": 0.05}, \"xaxis\": {\"automargin\": true, \"gridcolor\": \"white\", \"linecolor\": \"white\", \"ticks\": \"\", \"title\": {\"standoff\": 15}, \"zerolinecolor\": \"white\", \"zerolinewidth\": 2}, \"yaxis\": {\"automargin\": true, \"gridcolor\": \"white\", \"linecolor\": \"white\", \"ticks\": \"\", \"title\": {\"standoff\": 15}, \"zerolinecolor\": \"white\", \"zerolinewidth\": 2}}}, \"title\": {\"text\": \"Relationship Between Security of Women & Rule of Law & Freedom of Religion\"}},                        {\"responsive\": true}                    ).then(function(){\n",
       "                            \n",
       "var gd = document.getElementById('a953771c-59d8-43d9-b846-c23e40e3db87');\n",
       "var x = new MutationObserver(function (mutations, observer) {{\n",
       "        var display = window.getComputedStyle(gd).display;\n",
       "        if (!display || display === 'none') {{\n",
       "            console.log([gd, 'removed!']);\n",
       "            Plotly.purge(gd);\n",
       "            observer.disconnect();\n",
       "        }}\n",
       "}});\n",
       "\n",
       "// Listen for the removal of the full notebook cells\n",
       "var notebookContainer = gd.closest('#notebook-container');\n",
       "if (notebookContainer) {{\n",
       "    x.observe(notebookContainer, {childList: true});\n",
       "}}\n",
       "\n",
       "// Listen for the clearing of the current output cell\n",
       "var outputEl = gd.closest('.output');\n",
       "if (outputEl) {{\n",
       "    x.observe(outputEl, {childList: true});\n",
       "}}\n",
       "\n",
       "                        })                };                });            </script>        </div>"
      ]
     },
     "metadata": {},
     "output_type": "display_data"
    }
   ],
   "source": [
    "colorEU = [float(each) for each in dataEU['pf_ss_women']]\n",
    "\n",
    "trace3D = go.Scatter3d(\n",
    "    x = dataEU['pf_rol'],\n",
    "    y = dataEU['pf_religion'],\n",
    "    z = dataEU['pf_ss_women'],\n",
    "    mode = 'markers',\n",
    "    marker = dict(\n",
    "        size = 7,\n",
    "        color=colorEU\n",
    "    )\n",
    ")\n",
    "\n",
    "data06 = [trace3D]\n",
    "layout06 = go.Layout(\n",
    "    title = 'Relationship Between Security of Women & Rule of Law & Freedom of Religion',\n",
    ")\n",
    "fig = go.Figure(data=data06, layout=layout06)\n",
    "py.iplot(fig)"
   ]
  },
  {
   "cell_type": "code",
   "execution_count": 17,
   "metadata": {},
   "outputs": [
    {
     "data": {
      "application/vnd.plotly.v1+json": {
       "config": {
        "linkText": "Export to plot.ly",
        "plotlyServerURL": "https://plot.ly",
        "showLink": false
       },
       "data": [
        {
         "marker": {
          "color": "rgba(150,237,32,0.5)"
         },
         "name": "Security of Women in 2008",
         "opacity": 0.65,
         "text": [
          "Bangladesh",
          "Bhutan",
          "Brunei Darussalam",
          "Cambodia",
          "India",
          "Indonesia",
          "Laos",
          "Malaysia",
          "Myanmar",
          "Nepal",
          "Pakistan",
          "Philippines",
          "Singapore",
          "Sri Lanka",
          "Thailand",
          "Timor-Leste",
          "Vietnam",
          "Bangladesh",
          "Bhutan",
          "Brunei Darussalam",
          "Cambodia",
          "India",
          "Indonesia",
          "Laos",
          "Malaysia",
          "Myanmar",
          "Nepal",
          "Pakistan",
          "Philippines",
          "Singapore",
          "Sri Lanka",
          "Thailand",
          "Timor-Leste",
          "Vietnam",
          "Bangladesh",
          "Bhutan",
          "Brunei Darussalam",
          "Cambodia",
          "India",
          "Indonesia",
          "Laos",
          "Malaysia",
          "Myanmar",
          "Nepal",
          "Pakistan",
          "Philippines",
          "Singapore",
          "Sri Lanka",
          "Thailand",
          "Timor-Leste",
          "Vietnam",
          "Bangladesh",
          "Bhutan",
          "Brunei Darussalam",
          "Cambodia",
          "India",
          "Indonesia",
          "Malaysia",
          "Myanmar",
          "Nepal",
          "Pakistan",
          "Philippines",
          "Singapore",
          "Sri Lanka",
          "Thailand",
          "Timor-Leste",
          "Vietnam",
          "Bangladesh",
          "Brunei Darussalam",
          "Cambodia",
          "India",
          "Indonesia",
          "Malaysia",
          "Myanmar",
          "Nepal",
          "Pakistan",
          "Philippines",
          "Singapore",
          "Sri Lanka",
          "Thailand",
          "Timor-Leste",
          "Vietnam",
          "Bangladesh",
          "Brunei Darussalam",
          "Cambodia",
          "India",
          "Indonesia",
          "Malaysia",
          "Myanmar",
          "Nepal",
          "Pakistan",
          "Philippines",
          "Singapore",
          "Sri Lanka",
          "Thailand",
          "Timor-Leste",
          "Vietnam",
          "Bangladesh",
          "Brunei Darussalam",
          "Cambodia",
          "India",
          "Indonesia",
          "Malaysia",
          "Myanmar",
          "Nepal",
          "Pakistan",
          "Philippines",
          "Singapore",
          "Sri Lanka",
          "Thailand",
          "Timor-Leste",
          "Vietnam",
          "Bangladesh",
          "India",
          "Indonesia",
          "Malaysia",
          "Myanmar",
          "Nepal",
          "Pakistan",
          "Philippines",
          "Singapore",
          "Sri Lanka",
          "Thailand",
          "Vietnam",
          "Albania",
          "Algeria",
          "Angola",
          "Argentina",
          "Armenia",
          "Australia",
          "Austria",
          "Azerbaijan",
          "Bahamas",
          "Bahrain",
          "Bangladesh",
          "Barbados",
          "Belgium",
          "Belize",
          "Benin",
          "Bolivia",
          "Bosnia and Herzegovina",
          "Botswana",
          "Brazil",
          "Bulgaria",
          "Burkina Faso",
          "Burundi",
          "Cameroon",
          "Canada",
          "Central Afr. Rep.",
          "Chad",
          "Chile",
          "China",
          "Colombia",
          "Congo, Dem. R.",
          "Congo, Rep. Of",
          "Costa Rica",
          "Cote d'Ivoire",
          "Croatia",
          "Cyprus",
          "Czech Rep.",
          "Denmark",
          "Dominican Rep.",
          "Ecuador",
          "Egypt",
          "El Salvador",
          "Estonia",
          "Ethiopia",
          "Fiji",
          "Finland",
          "France",
          "Gabon",
          "Georgia",
          "Germany",
          "Ghana",
          "Greece",
          "Guatemala",
          "Guinea-Bissau",
          "Guyana",
          "Haiti",
          "Honduras",
          "Hong Kong",
          "Hungary",
          "Iceland",
          "India",
          "Indonesia",
          "Iran",
          "Ireland",
          "Israel",
          "Italy",
          "Jamaica",
          "Japan",
          "Jordan",
          "Kazakhstan",
          "Kenya",
          "Korea, South",
          "Kuwait",
          "Kyrgyz Republic",
          "Latvia",
          "Lesotho",
          "Lithuania",
          "Luxembourg",
          "Macedonia",
          "Madagascar",
          "Malawi",
          "Malaysia",
          "Mali",
          "Malta",
          "Mauritania",
          "Mauritius",
          "Mexico",
          "Moldova",
          "Mongolia",
          "Montenegro",
          "Morocco",
          "Mozambique",
          "Myanmar",
          "Namibia",
          "Nepal",
          "Netherlands",
          "New Zealand",
          "Nicaragua",
          "Niger",
          "Nigeria",
          "Norway",
          "Oman",
          "Pakistan",
          "Panama",
          "Pap. New Guinea",
          "Paraguay",
          "Peru",
          "Philippines",
          "Poland",
          "Portugal",
          "Romania",
          "Russia",
          "Rwanda",
          "Senegal",
          "Serbia",
          "Sierra Leone",
          "Singapore",
          "Slovak Rep.",
          "Slovenia",
          "South Africa",
          "Spain",
          "Sri Lanka",
          "Sweden",
          "Switzerland",
          "Syria",
          "Taiwan",
          "Tanzania",
          "Thailand",
          "Togo",
          "Trinidad and Tobago",
          "Tunisia",
          "Turkey",
          "Uganda",
          "Ukraine",
          "United Arab Emirates",
          "United Kingdom",
          "United States",
          "Uruguay",
          "Venezuela",
          "Vietnam",
          "Zambia",
          "Zimbabwe"
         ],
         "type": "histogram",
         "x": [
          5.833333333,
          7.5,
          0,
          10,
          6.666666667,
          7.5,
          8.333333332999999,
          6.666666667,
          7.5,
          9.166666667000001,
          5,
          8.333333332999999,
          8.333333332999999,
          8.333333332999999,
          8.333333332999999,
          7.5,
          7.5,
          5.833333333,
          7.5,
          0,
          10,
          6.666666667,
          7.5,
          8.333333332999999,
          6.666666667,
          7.5,
          9.166666667000001,
          5,
          8.333333332999999,
          8.333333332999999,
          8.333333332999999,
          8.333333332999999,
          7.5,
          7.5,
          5.833333333,
          7.5,
          0,
          10,
          6.666666667,
          7.5,
          8.333333332999999,
          6.666666667,
          7.5,
          9.166666667000001,
          5,
          8.333333332999999,
          8.333333332999999,
          8.333333332999999,
          8.333333332999999,
          7.5,
          7.5,
          5.833333333,
          7.5,
          0,
          10,
          6.666666667,
          7.5,
          6.666666667,
          7.5,
          9.166666667000001,
          5,
          8.333333332999999,
          8.333333332999999,
          8.333333332999999,
          8.333333332999999,
          7.5,
          7.5,
          7.5,
          6.333333333,
          10,
          5.833333333,
          8.333333332999999,
          8.333333332999999,
          9.166666667000001,
          9.166666667000001,
          6.666666667,
          10,
          7.5,
          8.333333332999999,
          10,
          7.5,
          8.333333332999999,
          7.5,
          6.333333333,
          10,
          5.833333333,
          8.333333332999999,
          8.333333332999999,
          9.166666667000001,
          9.166666667000001,
          6.666666667,
          10,
          7.5,
          8.333333332999999,
          10,
          7.5,
          8.333333332999999,
          6.666666667,
          6.333333333,
          10,
          5.833333333,
          8,
          8.333333332999999,
          9.166666667000001,
          6.666666667,
          5.666666667,
          10,
          10,
          8.333333332999999,
          10,
          7.5,
          10,
          6.666666667,
          5.833333333,
          8,
          8.333333332999999,
          9.166666667000001,
          6.666666667,
          5.666666667,
          10,
          10,
          8.333333332999999,
          10,
          10,
          8.333333332999999,
          6.666666667,
          7.5,
          10,
          10,
          9.833333332999999,
          9.833333332999999,
          10,
          10,
          6.666666667,
          6.666666667,
          10,
          9.833333332999999,
          10,
          7.766666667000001,
          10,
          10,
          8.333333332999999,
          10,
          10,
          5.766666667000001,
          8.333333332999999,
          7.666666667,
          9.833333332999999,
          7,
          5.466666667,
          10,
          6.666666667,
          10,
          9.833333332999999,
          8,
          10,
          6.833333333,
          10,
          10,
          10,
          9.833333332999999,
          10,
          10,
          3.666666667,
          10,
          10,
          5.666666667,
          10,
          10,
          9.833333332999999,
          6.666666667,
          10,
          9.833333332999999,
          7.666666667,
          10,
          10,
          5,
          10,
          8.333333332999999,
          10,
          9.166666667000001,
          9.833333332999999,
          10,
          5.833333333,
          8,
          7.5,
          10,
          9.833333332999999,
          9.833333332999999,
          10,
          10,
          6.5,
          10,
          7,
          10,
          6.666666667,
          8.333333332999999,
          10,
          5,
          10,
          10,
          8.333333332999999,
          10,
          7.733333332999999,
          8.333333332999999,
          3.5333333330000003,
          10,
          5.966666667,
          10,
          9.833333332999999,
          10,
          9.166666667000001,
          10,
          7.5,
          6.666666667,
          9.166666667000001,
          5.833333333,
          6.666666667,
          9.833333332999999,
          10,
          10,
          7.433333332999999,
          6.8666666670000005,
          9.833333332999999,
          6.333333333,
          5.666666667,
          9.75,
          7.5,
          10,
          9.833333332999999,
          10,
          10,
          10,
          10,
          10,
          8.333333332999999,
          7.4,
          8.333333332999999,
          3.833333333,
          10,
          10,
          10,
          6.666666667,
          9.833333332999999,
          8.333333332999999,
          9.833333332999999,
          9.833333332999999,
          6.666666667,
          6.666666667,
          7.833333333,
          10,
          6.266666667000001,
          7.5,
          7.5,
          9.833333332999999,
          6.5,
          10,
          5.666666667,
          9.833333332999999,
          9.833333332999999,
          10,
          10,
          10,
          6.666666667,
          8.166666667000001
         ]
        },
        {
         "marker": {
          "color": "rgba(80,22,236,0.5)"
         },
         "name": "Security of Women in 2016",
         "opacity": 0.65,
         "type": "histogram",
         "x": [
          7.5,
          5.833333333,
          8.333333332999999,
          10,
          8.333333332999999,
          10,
          10,
          8.333333332999999,
          5.833333333,
          5.833333333,
          10,
          10,
          10,
          7.066666667000001,
          7.5,
          8.333333332999999,
          8.333333332999999,
          7.5,
          8.333333332999999,
          0,
          10,
          5.8,
          6.666666667,
          10,
          7.466666667,
          10,
          7.533333333,
          5.2,
          8.333333332999999,
          5.833333333,
          10,
          8.333333332999999,
          9.166666667000001,
          10,
          6.3,
          10,
          10,
          10,
          10,
          10,
          10,
          2.8,
          10,
          10,
          5.8666666670000005,
          7.5,
          10,
          10,
          8.333333332999999,
          4.133333333,
          7.5,
          10,
          8.2,
          8.333333332999999,
          10,
          5.133333333,
          5.833333333,
          10,
          8.333333332999999,
          8.333333332999999,
          8.333333332999999,
          10,
          10,
          6.666666667,
          7.5,
          5.833333333,
          5.833333333,
          10,
          10,
          10,
          10,
          9.166666667000001,
          5.833333333,
          10,
          6.6,
          9.166666667000001,
          5.833333333,
          8.333333332999999,
          8.333333332999999,
          10,
          6.666666667,
          7.5,
          6.4,
          5.833333333,
          10,
          10,
          7.5,
          8.333333332999999,
          7.5,
          6.666666667,
          4.533333333,
          10,
          3.433333333,
          8.333333332999999,
          8.333333332999999,
          8.333333332999999,
          10,
          6.666666667,
          8.333333332999999,
          7.5,
          8.333333332999999,
          9.166666667000001,
          10,
          10,
          8.333333332999999,
          5.766666667000001,
          4.833333333,
          10,
          5.833333333,
          5,
          10,
          7.5,
          8.333333332999999,
          8.333333332999999,
          8.333333332999999,
          10,
          10,
          5.833333333,
          10,
          10,
          8.333333332999999,
          5,
          7.466666667,
          9.166666667000001,
          5.4,
          8.333333332999999,
          10,
          10,
          9.166666667000001,
          9.166666667000001,
          8.333333332999999,
          3.733333333,
          5,
          7.5,
          10,
          9.166666667000001,
          5.833333333,
          10,
          8.333333332999999,
          5.333333333,
          8.333333332999999,
          7.5,
          8.2,
          8.333333332999999,
          5.833333333,
          10,
          7.466666667,
          9.166666667000001,
          5.833333333,
          10,
          10,
          8.333333332999999,
          10,
          7.5,
          4.566666667,
          7.466666667,
          7.5,
          5.833333333,
          7.5,
          0,
          10,
          6.666666667,
          7.5,
          8.333333332999999,
          6.666666667,
          7.5,
          9.166666667000001,
          5,
          8.333333332999999,
          8.333333332999999,
          8.333333332999999,
          8.333333332999999,
          7.5,
          7.5,
          5.833333333,
          7.5,
          0,
          10,
          6.666666667,
          7.5,
          8.333333332999999,
          6.666666667,
          7.5,
          9.166666667000001,
          5,
          8.333333332999999,
          8.333333332999999,
          8.333333332999999,
          8.333333332999999,
          7.5,
          7.5,
          5.833333333,
          7.5,
          0,
          10,
          6.666666667,
          7.5,
          6.666666667,
          7.5,
          9.166666667000001,
          5,
          8.333333332999999,
          8.333333332999999,
          8.333333332999999,
          8.333333332999999,
          7.5,
          7.5,
          7.5,
          6.333333333,
          10,
          5.833333333,
          8.333333332999999,
          8.333333332999999,
          9.166666667000001,
          9.166666667000001,
          6.666666667,
          10,
          7.5,
          8.333333332999999,
          10,
          7.5,
          8.333333332999999,
          7.5,
          6.333333333,
          10,
          5.833333333,
          8.333333332999999,
          8.333333332999999,
          9.166666667000001,
          9.166666667000001,
          6.666666667,
          10,
          7.5,
          8.333333332999999,
          10,
          7.5,
          8.333333332999999,
          6.666666667,
          6.333333333,
          10,
          5.833333333,
          8,
          8.333333332999999,
          9.166666667000001,
          6.666666667,
          5.666666667,
          10,
          10,
          8.333333332999999,
          10,
          7.5,
          10,
          6.666666667,
          5.833333333,
          8,
          8.333333332999999,
          9.166666667000001,
          6.666666667,
          5.666666667,
          10,
          10,
          8.333333332999999,
          10,
          10,
          6.666666667,
          5.833333333,
          8,
          8.333333332999999,
          9.166666667000001,
          6.666666667,
          5.666666667,
          10,
          10,
          8.333333332999999,
          10,
          10
         ]
        }
       ],
       "layout": {
        "template": {
         "data": {
          "bar": [
           {
            "error_x": {
             "color": "#2a3f5f"
            },
            "error_y": {
             "color": "#2a3f5f"
            },
            "marker": {
             "line": {
              "color": "#E5ECF6",
              "width": 0.5
             }
            },
            "type": "bar"
           }
          ],
          "barpolar": [
           {
            "marker": {
             "line": {
              "color": "#E5ECF6",
              "width": 0.5
             }
            },
            "type": "barpolar"
           }
          ],
          "carpet": [
           {
            "aaxis": {
             "endlinecolor": "#2a3f5f",
             "gridcolor": "white",
             "linecolor": "white",
             "minorgridcolor": "white",
             "startlinecolor": "#2a3f5f"
            },
            "baxis": {
             "endlinecolor": "#2a3f5f",
             "gridcolor": "white",
             "linecolor": "white",
             "minorgridcolor": "white",
             "startlinecolor": "#2a3f5f"
            },
            "type": "carpet"
           }
          ],
          "choropleth": [
           {
            "colorbar": {
             "outlinewidth": 0,
             "ticks": ""
            },
            "type": "choropleth"
           }
          ],
          "contour": [
           {
            "colorbar": {
             "outlinewidth": 0,
             "ticks": ""
            },
            "colorscale": [
             [
              0,
              "#0d0887"
             ],
             [
              0.1111111111111111,
              "#46039f"
             ],
             [
              0.2222222222222222,
              "#7201a8"
             ],
             [
              0.3333333333333333,
              "#9c179e"
             ],
             [
              0.4444444444444444,
              "#bd3786"
             ],
             [
              0.5555555555555556,
              "#d8576b"
             ],
             [
              0.6666666666666666,
              "#ed7953"
             ],
             [
              0.7777777777777778,
              "#fb9f3a"
             ],
             [
              0.8888888888888888,
              "#fdca26"
             ],
             [
              1,
              "#f0f921"
             ]
            ],
            "type": "contour"
           }
          ],
          "contourcarpet": [
           {
            "colorbar": {
             "outlinewidth": 0,
             "ticks": ""
            },
            "type": "contourcarpet"
           }
          ],
          "heatmap": [
           {
            "colorbar": {
             "outlinewidth": 0,
             "ticks": ""
            },
            "colorscale": [
             [
              0,
              "#0d0887"
             ],
             [
              0.1111111111111111,
              "#46039f"
             ],
             [
              0.2222222222222222,
              "#7201a8"
             ],
             [
              0.3333333333333333,
              "#9c179e"
             ],
             [
              0.4444444444444444,
              "#bd3786"
             ],
             [
              0.5555555555555556,
              "#d8576b"
             ],
             [
              0.6666666666666666,
              "#ed7953"
             ],
             [
              0.7777777777777778,
              "#fb9f3a"
             ],
             [
              0.8888888888888888,
              "#fdca26"
             ],
             [
              1,
              "#f0f921"
             ]
            ],
            "type": "heatmap"
           }
          ],
          "heatmapgl": [
           {
            "colorbar": {
             "outlinewidth": 0,
             "ticks": ""
            },
            "colorscale": [
             [
              0,
              "#0d0887"
             ],
             [
              0.1111111111111111,
              "#46039f"
             ],
             [
              0.2222222222222222,
              "#7201a8"
             ],
             [
              0.3333333333333333,
              "#9c179e"
             ],
             [
              0.4444444444444444,
              "#bd3786"
             ],
             [
              0.5555555555555556,
              "#d8576b"
             ],
             [
              0.6666666666666666,
              "#ed7953"
             ],
             [
              0.7777777777777778,
              "#fb9f3a"
             ],
             [
              0.8888888888888888,
              "#fdca26"
             ],
             [
              1,
              "#f0f921"
             ]
            ],
            "type": "heatmapgl"
           }
          ],
          "histogram": [
           {
            "marker": {
             "colorbar": {
              "outlinewidth": 0,
              "ticks": ""
             }
            },
            "type": "histogram"
           }
          ],
          "histogram2d": [
           {
            "colorbar": {
             "outlinewidth": 0,
             "ticks": ""
            },
            "colorscale": [
             [
              0,
              "#0d0887"
             ],
             [
              0.1111111111111111,
              "#46039f"
             ],
             [
              0.2222222222222222,
              "#7201a8"
             ],
             [
              0.3333333333333333,
              "#9c179e"
             ],
             [
              0.4444444444444444,
              "#bd3786"
             ],
             [
              0.5555555555555556,
              "#d8576b"
             ],
             [
              0.6666666666666666,
              "#ed7953"
             ],
             [
              0.7777777777777778,
              "#fb9f3a"
             ],
             [
              0.8888888888888888,
              "#fdca26"
             ],
             [
              1,
              "#f0f921"
             ]
            ],
            "type": "histogram2d"
           }
          ],
          "histogram2dcontour": [
           {
            "colorbar": {
             "outlinewidth": 0,
             "ticks": ""
            },
            "colorscale": [
             [
              0,
              "#0d0887"
             ],
             [
              0.1111111111111111,
              "#46039f"
             ],
             [
              0.2222222222222222,
              "#7201a8"
             ],
             [
              0.3333333333333333,
              "#9c179e"
             ],
             [
              0.4444444444444444,
              "#bd3786"
             ],
             [
              0.5555555555555556,
              "#d8576b"
             ],
             [
              0.6666666666666666,
              "#ed7953"
             ],
             [
              0.7777777777777778,
              "#fb9f3a"
             ],
             [
              0.8888888888888888,
              "#fdca26"
             ],
             [
              1,
              "#f0f921"
             ]
            ],
            "type": "histogram2dcontour"
           }
          ],
          "mesh3d": [
           {
            "colorbar": {
             "outlinewidth": 0,
             "ticks": ""
            },
            "type": "mesh3d"
           }
          ],
          "parcoords": [
           {
            "line": {
             "colorbar": {
              "outlinewidth": 0,
              "ticks": ""
             }
            },
            "type": "parcoords"
           }
          ],
          "pie": [
           {
            "automargin": true,
            "type": "pie"
           }
          ],
          "scatter": [
           {
            "marker": {
             "colorbar": {
              "outlinewidth": 0,
              "ticks": ""
             }
            },
            "type": "scatter"
           }
          ],
          "scatter3d": [
           {
            "line": {
             "colorbar": {
              "outlinewidth": 0,
              "ticks": ""
             }
            },
            "marker": {
             "colorbar": {
              "outlinewidth": 0,
              "ticks": ""
             }
            },
            "type": "scatter3d"
           }
          ],
          "scattercarpet": [
           {
            "marker": {
             "colorbar": {
              "outlinewidth": 0,
              "ticks": ""
             }
            },
            "type": "scattercarpet"
           }
          ],
          "scattergeo": [
           {
            "marker": {
             "colorbar": {
              "outlinewidth": 0,
              "ticks": ""
             }
            },
            "type": "scattergeo"
           }
          ],
          "scattergl": [
           {
            "marker": {
             "colorbar": {
              "outlinewidth": 0,
              "ticks": ""
             }
            },
            "type": "scattergl"
           }
          ],
          "scattermapbox": [
           {
            "marker": {
             "colorbar": {
              "outlinewidth": 0,
              "ticks": ""
             }
            },
            "type": "scattermapbox"
           }
          ],
          "scatterpolar": [
           {
            "marker": {
             "colorbar": {
              "outlinewidth": 0,
              "ticks": ""
             }
            },
            "type": "scatterpolar"
           }
          ],
          "scatterpolargl": [
           {
            "marker": {
             "colorbar": {
              "outlinewidth": 0,
              "ticks": ""
             }
            },
            "type": "scatterpolargl"
           }
          ],
          "scatterternary": [
           {
            "marker": {
             "colorbar": {
              "outlinewidth": 0,
              "ticks": ""
             }
            },
            "type": "scatterternary"
           }
          ],
          "surface": [
           {
            "colorbar": {
             "outlinewidth": 0,
             "ticks": ""
            },
            "colorscale": [
             [
              0,
              "#0d0887"
             ],
             [
              0.1111111111111111,
              "#46039f"
             ],
             [
              0.2222222222222222,
              "#7201a8"
             ],
             [
              0.3333333333333333,
              "#9c179e"
             ],
             [
              0.4444444444444444,
              "#bd3786"
             ],
             [
              0.5555555555555556,
              "#d8576b"
             ],
             [
              0.6666666666666666,
              "#ed7953"
             ],
             [
              0.7777777777777778,
              "#fb9f3a"
             ],
             [
              0.8888888888888888,
              "#fdca26"
             ],
             [
              1,
              "#f0f921"
             ]
            ],
            "type": "surface"
           }
          ],
          "table": [
           {
            "cells": {
             "fill": {
              "color": "#EBF0F8"
             },
             "line": {
              "color": "white"
             }
            },
            "header": {
             "fill": {
              "color": "#C8D4E3"
             },
             "line": {
              "color": "white"
             }
            },
            "type": "table"
           }
          ]
         },
         "layout": {
          "annotationdefaults": {
           "arrowcolor": "#2a3f5f",
           "arrowhead": 0,
           "arrowwidth": 1
          },
          "autotypenumbers": "strict",
          "coloraxis": {
           "colorbar": {
            "outlinewidth": 0,
            "ticks": ""
           }
          },
          "colorscale": {
           "diverging": [
            [
             0,
             "#8e0152"
            ],
            [
             0.1,
             "#c51b7d"
            ],
            [
             0.2,
             "#de77ae"
            ],
            [
             0.3,
             "#f1b6da"
            ],
            [
             0.4,
             "#fde0ef"
            ],
            [
             0.5,
             "#f7f7f7"
            ],
            [
             0.6,
             "#e6f5d0"
            ],
            [
             0.7,
             "#b8e186"
            ],
            [
             0.8,
             "#7fbc41"
            ],
            [
             0.9,
             "#4d9221"
            ],
            [
             1,
             "#276419"
            ]
           ],
           "sequential": [
            [
             0,
             "#0d0887"
            ],
            [
             0.1111111111111111,
             "#46039f"
            ],
            [
             0.2222222222222222,
             "#7201a8"
            ],
            [
             0.3333333333333333,
             "#9c179e"
            ],
            [
             0.4444444444444444,
             "#bd3786"
            ],
            [
             0.5555555555555556,
             "#d8576b"
            ],
            [
             0.6666666666666666,
             "#ed7953"
            ],
            [
             0.7777777777777778,
             "#fb9f3a"
            ],
            [
             0.8888888888888888,
             "#fdca26"
            ],
            [
             1,
             "#f0f921"
            ]
           ],
           "sequentialminus": [
            [
             0,
             "#0d0887"
            ],
            [
             0.1111111111111111,
             "#46039f"
            ],
            [
             0.2222222222222222,
             "#7201a8"
            ],
            [
             0.3333333333333333,
             "#9c179e"
            ],
            [
             0.4444444444444444,
             "#bd3786"
            ],
            [
             0.5555555555555556,
             "#d8576b"
            ],
            [
             0.6666666666666666,
             "#ed7953"
            ],
            [
             0.7777777777777778,
             "#fb9f3a"
            ],
            [
             0.8888888888888888,
             "#fdca26"
            ],
            [
             1,
             "#f0f921"
            ]
           ]
          },
          "colorway": [
           "#636efa",
           "#EF553B",
           "#00cc96",
           "#ab63fa",
           "#FFA15A",
           "#19d3f3",
           "#FF6692",
           "#B6E880",
           "#FF97FF",
           "#FECB52"
          ],
          "font": {
           "color": "#2a3f5f"
          },
          "geo": {
           "bgcolor": "white",
           "lakecolor": "white",
           "landcolor": "#E5ECF6",
           "showlakes": true,
           "showland": true,
           "subunitcolor": "white"
          },
          "hoverlabel": {
           "align": "left"
          },
          "hovermode": "closest",
          "mapbox": {
           "style": "light"
          },
          "paper_bgcolor": "white",
          "plot_bgcolor": "#E5ECF6",
          "polar": {
           "angularaxis": {
            "gridcolor": "white",
            "linecolor": "white",
            "ticks": ""
           },
           "bgcolor": "#E5ECF6",
           "radialaxis": {
            "gridcolor": "white",
            "linecolor": "white",
            "ticks": ""
           }
          },
          "scene": {
           "xaxis": {
            "backgroundcolor": "#E5ECF6",
            "gridcolor": "white",
            "gridwidth": 2,
            "linecolor": "white",
            "showbackground": true,
            "ticks": "",
            "zerolinecolor": "white"
           },
           "yaxis": {
            "backgroundcolor": "#E5ECF6",
            "gridcolor": "white",
            "gridwidth": 2,
            "linecolor": "white",
            "showbackground": true,
            "ticks": "",
            "zerolinecolor": "white"
           },
           "zaxis": {
            "backgroundcolor": "#E5ECF6",
            "gridcolor": "white",
            "gridwidth": 2,
            "linecolor": "white",
            "showbackground": true,
            "ticks": "",
            "zerolinecolor": "white"
           }
          },
          "shapedefaults": {
           "line": {
            "color": "#2a3f5f"
           }
          },
          "ternary": {
           "aaxis": {
            "gridcolor": "white",
            "linecolor": "white",
            "ticks": ""
           },
           "baxis": {
            "gridcolor": "white",
            "linecolor": "white",
            "ticks": ""
           },
           "bgcolor": "#E5ECF6",
           "caxis": {
            "gridcolor": "white",
            "linecolor": "white",
            "ticks": ""
           }
          },
          "title": {
           "x": 0.05
          },
          "xaxis": {
           "automargin": true,
           "gridcolor": "white",
           "linecolor": "white",
           "ticks": "",
           "title": {
            "standoff": 15
           },
           "zerolinecolor": "white",
           "zerolinewidth": 2
          },
          "yaxis": {
           "automargin": true,
           "gridcolor": "white",
           "linecolor": "white",
           "ticks": "",
           "title": {
            "standoff": 15
           },
           "zerolinecolor": "white",
           "zerolinewidth": 2
          }
         }
        },
        "title": {
         "text": "Comparison of Security of Women in the Years 2008 and 2016"
        },
        "xaxis": {
         "title": {
          "text": "Countries"
         }
        }
       }
      },
      "text/html": [
       "<div>                            <div id=\"bfe9171c-cb18-4d85-b684-adb583a568d3\" class=\"plotly-graph-div\" style=\"height:525px; width:100%;\"></div>            <script type=\"text/javascript\">                require([\"plotly\"], function(Plotly) {                    window.PLOTLYENV=window.PLOTLYENV || {};                                    if (document.getElementById(\"bfe9171c-cb18-4d85-b684-adb583a568d3\")) {                    Plotly.newPlot(                        \"bfe9171c-cb18-4d85-b684-adb583a568d3\",                        [{\"marker\": {\"color\": \"rgba(150,237,32,0.5)\"}, \"name\": \"Security of Women in 2008\", \"opacity\": 0.65, \"text\": [\"Bangladesh\", \"Bhutan\", \"Brunei Darussalam\", \"Cambodia\", \"India\", \"Indonesia\", \"Laos\", \"Malaysia\", \"Myanmar\", \"Nepal\", \"Pakistan\", \"Philippines\", \"Singapore\", \"Sri Lanka\", \"Thailand\", \"Timor-Leste\", \"Vietnam\", \"Bangladesh\", \"Bhutan\", \"Brunei Darussalam\", \"Cambodia\", \"India\", \"Indonesia\", \"Laos\", \"Malaysia\", \"Myanmar\", \"Nepal\", \"Pakistan\", \"Philippines\", \"Singapore\", \"Sri Lanka\", \"Thailand\", \"Timor-Leste\", \"Vietnam\", \"Bangladesh\", \"Bhutan\", \"Brunei Darussalam\", \"Cambodia\", \"India\", \"Indonesia\", \"Laos\", \"Malaysia\", \"Myanmar\", \"Nepal\", \"Pakistan\", \"Philippines\", \"Singapore\", \"Sri Lanka\", \"Thailand\", \"Timor-Leste\", \"Vietnam\", \"Bangladesh\", \"Bhutan\", \"Brunei Darussalam\", \"Cambodia\", \"India\", \"Indonesia\", \"Malaysia\", \"Myanmar\", \"Nepal\", \"Pakistan\", \"Philippines\", \"Singapore\", \"Sri Lanka\", \"Thailand\", \"Timor-Leste\", \"Vietnam\", \"Bangladesh\", \"Brunei Darussalam\", \"Cambodia\", \"India\", \"Indonesia\", \"Malaysia\", \"Myanmar\", \"Nepal\", \"Pakistan\", \"Philippines\", \"Singapore\", \"Sri Lanka\", \"Thailand\", \"Timor-Leste\", \"Vietnam\", \"Bangladesh\", \"Brunei Darussalam\", \"Cambodia\", \"India\", \"Indonesia\", \"Malaysia\", \"Myanmar\", \"Nepal\", \"Pakistan\", \"Philippines\", \"Singapore\", \"Sri Lanka\", \"Thailand\", \"Timor-Leste\", \"Vietnam\", \"Bangladesh\", \"Brunei Darussalam\", \"Cambodia\", \"India\", \"Indonesia\", \"Malaysia\", \"Myanmar\", \"Nepal\", \"Pakistan\", \"Philippines\", \"Singapore\", \"Sri Lanka\", \"Thailand\", \"Timor-Leste\", \"Vietnam\", \"Bangladesh\", \"India\", \"Indonesia\", \"Malaysia\", \"Myanmar\", \"Nepal\", \"Pakistan\", \"Philippines\", \"Singapore\", \"Sri Lanka\", \"Thailand\", \"Vietnam\", \"Albania\", \"Algeria\", \"Angola\", \"Argentina\", \"Armenia\", \"Australia\", \"Austria\", \"Azerbaijan\", \"Bahamas\", \"Bahrain\", \"Bangladesh\", \"Barbados\", \"Belgium\", \"Belize\", \"Benin\", \"Bolivia\", \"Bosnia and Herzegovina\", \"Botswana\", \"Brazil\", \"Bulgaria\", \"Burkina Faso\", \"Burundi\", \"Cameroon\", \"Canada\", \"Central Afr. Rep.\", \"Chad\", \"Chile\", \"China\", \"Colombia\", \"Congo, Dem. R.\", \"Congo, Rep. Of\", \"Costa Rica\", \"Cote d'Ivoire\", \"Croatia\", \"Cyprus\", \"Czech Rep.\", \"Denmark\", \"Dominican Rep.\", \"Ecuador\", \"Egypt\", \"El Salvador\", \"Estonia\", \"Ethiopia\", \"Fiji\", \"Finland\", \"France\", \"Gabon\", \"Georgia\", \"Germany\", \"Ghana\", \"Greece\", \"Guatemala\", \"Guinea-Bissau\", \"Guyana\", \"Haiti\", \"Honduras\", \"Hong Kong\", \"Hungary\", \"Iceland\", \"India\", \"Indonesia\", \"Iran\", \"Ireland\", \"Israel\", \"Italy\", \"Jamaica\", \"Japan\", \"Jordan\", \"Kazakhstan\", \"Kenya\", \"Korea, South\", \"Kuwait\", \"Kyrgyz Republic\", \"Latvia\", \"Lesotho\", \"Lithuania\", \"Luxembourg\", \"Macedonia\", \"Madagascar\", \"Malawi\", \"Malaysia\", \"Mali\", \"Malta\", \"Mauritania\", \"Mauritius\", \"Mexico\", \"Moldova\", \"Mongolia\", \"Montenegro\", \"Morocco\", \"Mozambique\", \"Myanmar\", \"Namibia\", \"Nepal\", \"Netherlands\", \"New Zealand\", \"Nicaragua\", \"Niger\", \"Nigeria\", \"Norway\", \"Oman\", \"Pakistan\", \"Panama\", \"Pap. New Guinea\", \"Paraguay\", \"Peru\", \"Philippines\", \"Poland\", \"Portugal\", \"Romania\", \"Russia\", \"Rwanda\", \"Senegal\", \"Serbia\", \"Sierra Leone\", \"Singapore\", \"Slovak Rep.\", \"Slovenia\", \"South Africa\", \"Spain\", \"Sri Lanka\", \"Sweden\", \"Switzerland\", \"Syria\", \"Taiwan\", \"Tanzania\", \"Thailand\", \"Togo\", \"Trinidad and Tobago\", \"Tunisia\", \"Turkey\", \"Uganda\", \"Ukraine\", \"United Arab Emirates\", \"United Kingdom\", \"United States\", \"Uruguay\", \"Venezuela\", \"Vietnam\", \"Zambia\", \"Zimbabwe\"], \"type\": \"histogram\", \"x\": [5.833333333, 7.5, 0.0, 10.0, 6.666666667, 7.5, 8.333333332999999, 6.666666667, 7.5, 9.166666667000001, 5.0, 8.333333332999999, 8.333333332999999, 8.333333332999999, 8.333333332999999, 7.5, 7.5, 5.833333333, 7.5, 0.0, 10.0, 6.666666667, 7.5, 8.333333332999999, 6.666666667, 7.5, 9.166666667000001, 5.0, 8.333333332999999, 8.333333332999999, 8.333333332999999, 8.333333332999999, 7.5, 7.5, 5.833333333, 7.5, 0.0, 10.0, 6.666666667, 7.5, 8.333333332999999, 6.666666667, 7.5, 9.166666667000001, 5.0, 8.333333332999999, 8.333333332999999, 8.333333332999999, 8.333333332999999, 7.5, 7.5, 5.833333333, 7.5, 0.0, 10.0, 6.666666667, 7.5, 6.666666667, 7.5, 9.166666667000001, 5.0, 8.333333332999999, 8.333333332999999, 8.333333332999999, 8.333333332999999, 7.5, 7.5, 7.5, 6.333333333, 10.0, 5.833333333, 8.333333332999999, 8.333333332999999, 9.166666667000001, 9.166666667000001, 6.666666667, 10.0, 7.5, 8.333333332999999, 10.0, 7.5, 8.333333332999999, 7.5, 6.333333333, 10.0, 5.833333333, 8.333333332999999, 8.333333332999999, 9.166666667000001, 9.166666667000001, 6.666666667, 10.0, 7.5, 8.333333332999999, 10.0, 7.5, 8.333333332999999, 6.666666667, 6.333333333, 10.0, 5.833333333, 8.0, 8.333333332999999, 9.166666667000001, 6.666666667, 5.666666667, 10.0, 10.0, 8.333333332999999, 10.0, 7.5, 10.0, 6.666666667, 5.833333333, 8.0, 8.333333332999999, 9.166666667000001, 6.666666667, 5.666666667, 10.0, 10.0, 8.333333332999999, 10.0, 10.0, 8.333333332999999, 6.666666667, 7.5, 10.0, 10.0, 9.833333332999999, 9.833333332999999, 10.0, 10.0, 6.666666667, 6.666666667, 10.0, 9.833333332999999, 10.0, 7.766666667000001, 10.0, 10.0, 8.333333332999999, 10.0, 10.0, 5.766666667000001, 8.333333332999999, 7.666666667, 9.833333332999999, 7.0, 5.466666667, 10.0, 6.666666667, 10.0, 9.833333332999999, 8.0, 10.0, 6.833333333, 10.0, 10.0, 10.0, 9.833333332999999, 10.0, 10.0, 3.666666667, 10.0, 10.0, 5.666666667, 10.0, 10.0, 9.833333332999999, 6.666666667, 10.0, 9.833333332999999, 7.666666667, 10.0, 10.0, 5.0, 10.0, 8.333333332999999, 10.0, 9.166666667000001, 9.833333332999999, 10.0, 5.833333333, 8.0, 7.5, 10.0, 9.833333332999999, 9.833333332999999, 10.0, 10.0, 6.5, 10.0, 7.0, 10.0, 6.666666667, 8.333333332999999, 10.0, 5.0, 10.0, 10.0, 8.333333332999999, 10.0, 7.733333332999999, 8.333333332999999, 3.5333333330000003, 10.0, 5.966666667, 10.0, 9.833333332999999, 10.0, 9.166666667000001, 10.0, 7.5, 6.666666667, 9.166666667000001, 5.833333333, 6.666666667, 9.833333332999999, 10.0, 10.0, 7.433333332999999, 6.8666666670000005, 9.833333332999999, 6.333333333, 5.666666667, 9.75, 7.5, 10.0, 9.833333332999999, 10.0, 10.0, 10.0, 10.0, 10.0, 8.333333332999999, 7.4, 8.333333332999999, 3.833333333, 10.0, 10.0, 10.0, 6.666666667, 9.833333332999999, 8.333333332999999, 9.833333332999999, 9.833333332999999, 6.666666667, 6.666666667, 7.833333333, 10.0, 6.266666667000001, 7.5, 7.5, 9.833333332999999, 6.5, 10.0, 5.666666667, 9.833333332999999, 9.833333332999999, 10.0, 10.0, 10.0, 6.666666667, 8.166666667000001]}, {\"marker\": {\"color\": \"rgba(80,22,236,0.5)\"}, \"name\": \"Security of Women in 2016\", \"opacity\": 0.65, \"type\": \"histogram\", \"x\": [7.5, 5.833333333, 8.333333332999999, 10.0, 8.333333332999999, 10.0, 10.0, 8.333333332999999, 5.833333333, 5.833333333, 10.0, 10.0, 10.0, 7.066666667000001, 7.5, 8.333333332999999, 8.333333332999999, 7.5, 8.333333332999999, 0.0, 10.0, 5.8, 6.666666667, 10.0, 7.466666667, 10.0, 7.533333333, 5.2, 8.333333332999999, 5.833333333, 10.0, 8.333333332999999, 9.166666667000001, 10.0, 6.3, 10.0, 10.0, 10.0, 10.0, 10.0, 10.0, 2.8, 10.0, 10.0, 5.8666666670000005, 7.5, 10.0, 10.0, 8.333333332999999, 4.133333333, 7.5, 10.0, 8.2, 8.333333332999999, 10.0, 5.133333333, 5.833333333, 10.0, 8.333333332999999, 8.333333332999999, 8.333333332999999, 10.0, 10.0, 6.666666667, 7.5, 5.833333333, 5.833333333, 10.0, 10.0, 10.0, 10.0, 9.166666667000001, 5.833333333, 10.0, 6.6, 9.166666667000001, 5.833333333, 8.333333332999999, 8.333333332999999, 10.0, 6.666666667, 7.5, 6.4, 5.833333333, 10.0, 10.0, 7.5, 8.333333332999999, 7.5, 6.666666667, 4.533333333, 10.0, 3.433333333, 8.333333332999999, 8.333333332999999, 8.333333332999999, 10.0, 6.666666667, 8.333333332999999, 7.5, 8.333333332999999, 9.166666667000001, 10.0, 10.0, 8.333333332999999, 5.766666667000001, 4.833333333, 10.0, 5.833333333, 5.0, 10.0, 7.5, 8.333333332999999, 8.333333332999999, 8.333333332999999, 10.0, 10.0, 5.833333333, 10.0, 10.0, 8.333333332999999, 5.0, 7.466666667, 9.166666667000001, 5.4, 8.333333332999999, 10.0, 10.0, 9.166666667000001, 9.166666667000001, 8.333333332999999, 3.733333333, 5.0, 7.5, 10.0, 9.166666667000001, 5.833333333, 10.0, 8.333333332999999, 5.333333333, 8.333333332999999, 7.5, 8.2, 8.333333332999999, 5.833333333, 10.0, 7.466666667, 9.166666667000001, 5.833333333, 10.0, 10.0, 8.333333332999999, 10.0, 7.5, 4.566666667, 7.466666667, 7.5, 5.833333333, 7.5, 0.0, 10.0, 6.666666667, 7.5, 8.333333332999999, 6.666666667, 7.5, 9.166666667000001, 5.0, 8.333333332999999, 8.333333332999999, 8.333333332999999, 8.333333332999999, 7.5, 7.5, 5.833333333, 7.5, 0.0, 10.0, 6.666666667, 7.5, 8.333333332999999, 6.666666667, 7.5, 9.166666667000001, 5.0, 8.333333332999999, 8.333333332999999, 8.333333332999999, 8.333333332999999, 7.5, 7.5, 5.833333333, 7.5, 0.0, 10.0, 6.666666667, 7.5, 6.666666667, 7.5, 9.166666667000001, 5.0, 8.333333332999999, 8.333333332999999, 8.333333332999999, 8.333333332999999, 7.5, 7.5, 7.5, 6.333333333, 10.0, 5.833333333, 8.333333332999999, 8.333333332999999, 9.166666667000001, 9.166666667000001, 6.666666667, 10.0, 7.5, 8.333333332999999, 10.0, 7.5, 8.333333332999999, 7.5, 6.333333333, 10.0, 5.833333333, 8.333333332999999, 8.333333332999999, 9.166666667000001, 9.166666667000001, 6.666666667, 10.0, 7.5, 8.333333332999999, 10.0, 7.5, 8.333333332999999, 6.666666667, 6.333333333, 10.0, 5.833333333, 8.0, 8.333333332999999, 9.166666667000001, 6.666666667, 5.666666667, 10.0, 10.0, 8.333333332999999, 10.0, 7.5, 10.0, 6.666666667, 5.833333333, 8.0, 8.333333332999999, 9.166666667000001, 6.666666667, 5.666666667, 10.0, 10.0, 8.333333332999999, 10.0, 10.0, 6.666666667, 5.833333333, 8.0, 8.333333332999999, 9.166666667000001, 6.666666667, 5.666666667, 10.0, 10.0, 8.333333332999999, 10.0, 10.0]}],                        {\"template\": {\"data\": {\"bar\": [{\"error_x\": {\"color\": \"#2a3f5f\"}, \"error_y\": {\"color\": \"#2a3f5f\"}, \"marker\": {\"line\": {\"color\": \"#E5ECF6\", \"width\": 0.5}}, \"type\": \"bar\"}], \"barpolar\": [{\"marker\": {\"line\": {\"color\": \"#E5ECF6\", \"width\": 0.5}}, \"type\": \"barpolar\"}], \"carpet\": [{\"aaxis\": {\"endlinecolor\": \"#2a3f5f\", \"gridcolor\": \"white\", \"linecolor\": \"white\", \"minorgridcolor\": \"white\", \"startlinecolor\": \"#2a3f5f\"}, \"baxis\": {\"endlinecolor\": \"#2a3f5f\", \"gridcolor\": \"white\", \"linecolor\": \"white\", \"minorgridcolor\": \"white\", \"startlinecolor\": \"#2a3f5f\"}, \"type\": \"carpet\"}], \"choropleth\": [{\"colorbar\": {\"outlinewidth\": 0, \"ticks\": \"\"}, \"type\": \"choropleth\"}], \"contour\": [{\"colorbar\": {\"outlinewidth\": 0, \"ticks\": \"\"}, \"colorscale\": [[0.0, \"#0d0887\"], [0.1111111111111111, \"#46039f\"], [0.2222222222222222, \"#7201a8\"], [0.3333333333333333, \"#9c179e\"], [0.4444444444444444, \"#bd3786\"], [0.5555555555555556, \"#d8576b\"], [0.6666666666666666, \"#ed7953\"], [0.7777777777777778, \"#fb9f3a\"], [0.8888888888888888, \"#fdca26\"], [1.0, \"#f0f921\"]], \"type\": \"contour\"}], \"contourcarpet\": [{\"colorbar\": {\"outlinewidth\": 0, \"ticks\": \"\"}, \"type\": \"contourcarpet\"}], \"heatmap\": [{\"colorbar\": {\"outlinewidth\": 0, \"ticks\": \"\"}, \"colorscale\": [[0.0, \"#0d0887\"], [0.1111111111111111, \"#46039f\"], [0.2222222222222222, \"#7201a8\"], [0.3333333333333333, \"#9c179e\"], [0.4444444444444444, \"#bd3786\"], [0.5555555555555556, \"#d8576b\"], [0.6666666666666666, \"#ed7953\"], [0.7777777777777778, \"#fb9f3a\"], [0.8888888888888888, \"#fdca26\"], [1.0, \"#f0f921\"]], \"type\": \"heatmap\"}], \"heatmapgl\": [{\"colorbar\": {\"outlinewidth\": 0, \"ticks\": \"\"}, \"colorscale\": [[0.0, \"#0d0887\"], [0.1111111111111111, \"#46039f\"], [0.2222222222222222, \"#7201a8\"], [0.3333333333333333, \"#9c179e\"], [0.4444444444444444, \"#bd3786\"], [0.5555555555555556, \"#d8576b\"], [0.6666666666666666, \"#ed7953\"], [0.7777777777777778, \"#fb9f3a\"], [0.8888888888888888, \"#fdca26\"], [1.0, \"#f0f921\"]], \"type\": \"heatmapgl\"}], \"histogram\": [{\"marker\": {\"colorbar\": {\"outlinewidth\": 0, \"ticks\": \"\"}}, \"type\": \"histogram\"}], \"histogram2d\": [{\"colorbar\": {\"outlinewidth\": 0, \"ticks\": \"\"}, \"colorscale\": [[0.0, \"#0d0887\"], [0.1111111111111111, \"#46039f\"], [0.2222222222222222, \"#7201a8\"], [0.3333333333333333, \"#9c179e\"], [0.4444444444444444, \"#bd3786\"], [0.5555555555555556, \"#d8576b\"], [0.6666666666666666, \"#ed7953\"], [0.7777777777777778, \"#fb9f3a\"], [0.8888888888888888, \"#fdca26\"], [1.0, \"#f0f921\"]], \"type\": \"histogram2d\"}], \"histogram2dcontour\": [{\"colorbar\": {\"outlinewidth\": 0, \"ticks\": \"\"}, \"colorscale\": [[0.0, \"#0d0887\"], [0.1111111111111111, \"#46039f\"], [0.2222222222222222, \"#7201a8\"], [0.3333333333333333, \"#9c179e\"], [0.4444444444444444, \"#bd3786\"], [0.5555555555555556, \"#d8576b\"], [0.6666666666666666, \"#ed7953\"], [0.7777777777777778, \"#fb9f3a\"], [0.8888888888888888, \"#fdca26\"], [1.0, \"#f0f921\"]], \"type\": \"histogram2dcontour\"}], \"mesh3d\": [{\"colorbar\": {\"outlinewidth\": 0, \"ticks\": \"\"}, \"type\": \"mesh3d\"}], \"parcoords\": [{\"line\": {\"colorbar\": {\"outlinewidth\": 0, \"ticks\": \"\"}}, \"type\": \"parcoords\"}], \"pie\": [{\"automargin\": true, \"type\": \"pie\"}], \"scatter\": [{\"marker\": {\"colorbar\": {\"outlinewidth\": 0, \"ticks\": \"\"}}, \"type\": \"scatter\"}], \"scatter3d\": [{\"line\": {\"colorbar\": {\"outlinewidth\": 0, \"ticks\": \"\"}}, \"marker\": {\"colorbar\": {\"outlinewidth\": 0, \"ticks\": \"\"}}, \"type\": \"scatter3d\"}], \"scattercarpet\": [{\"marker\": {\"colorbar\": {\"outlinewidth\": 0, \"ticks\": \"\"}}, \"type\": \"scattercarpet\"}], \"scattergeo\": [{\"marker\": {\"colorbar\": {\"outlinewidth\": 0, \"ticks\": \"\"}}, \"type\": \"scattergeo\"}], \"scattergl\": [{\"marker\": {\"colorbar\": {\"outlinewidth\": 0, \"ticks\": \"\"}}, \"type\": \"scattergl\"}], \"scattermapbox\": [{\"marker\": {\"colorbar\": {\"outlinewidth\": 0, \"ticks\": \"\"}}, \"type\": \"scattermapbox\"}], \"scatterpolar\": [{\"marker\": {\"colorbar\": {\"outlinewidth\": 0, \"ticks\": \"\"}}, \"type\": \"scatterpolar\"}], \"scatterpolargl\": [{\"marker\": {\"colorbar\": {\"outlinewidth\": 0, \"ticks\": \"\"}}, \"type\": \"scatterpolargl\"}], \"scatterternary\": [{\"marker\": {\"colorbar\": {\"outlinewidth\": 0, \"ticks\": \"\"}}, \"type\": \"scatterternary\"}], \"surface\": [{\"colorbar\": {\"outlinewidth\": 0, \"ticks\": \"\"}, \"colorscale\": [[0.0, \"#0d0887\"], [0.1111111111111111, \"#46039f\"], [0.2222222222222222, \"#7201a8\"], [0.3333333333333333, \"#9c179e\"], [0.4444444444444444, \"#bd3786\"], [0.5555555555555556, \"#d8576b\"], [0.6666666666666666, \"#ed7953\"], [0.7777777777777778, \"#fb9f3a\"], [0.8888888888888888, \"#fdca26\"], [1.0, \"#f0f921\"]], \"type\": \"surface\"}], \"table\": [{\"cells\": {\"fill\": {\"color\": \"#EBF0F8\"}, \"line\": {\"color\": \"white\"}}, \"header\": {\"fill\": {\"color\": \"#C8D4E3\"}, \"line\": {\"color\": \"white\"}}, \"type\": \"table\"}]}, \"layout\": {\"annotationdefaults\": {\"arrowcolor\": \"#2a3f5f\", \"arrowhead\": 0, \"arrowwidth\": 1}, \"autotypenumbers\": \"strict\", \"coloraxis\": {\"colorbar\": {\"outlinewidth\": 0, \"ticks\": \"\"}}, \"colorscale\": {\"diverging\": [[0, \"#8e0152\"], [0.1, \"#c51b7d\"], [0.2, \"#de77ae\"], [0.3, \"#f1b6da\"], [0.4, \"#fde0ef\"], [0.5, \"#f7f7f7\"], [0.6, \"#e6f5d0\"], [0.7, \"#b8e186\"], [0.8, \"#7fbc41\"], [0.9, \"#4d9221\"], [1, \"#276419\"]], \"sequential\": [[0.0, \"#0d0887\"], [0.1111111111111111, \"#46039f\"], [0.2222222222222222, \"#7201a8\"], [0.3333333333333333, \"#9c179e\"], [0.4444444444444444, \"#bd3786\"], [0.5555555555555556, \"#d8576b\"], [0.6666666666666666, \"#ed7953\"], [0.7777777777777778, \"#fb9f3a\"], [0.8888888888888888, \"#fdca26\"], [1.0, \"#f0f921\"]], \"sequentialminus\": [[0.0, \"#0d0887\"], [0.1111111111111111, \"#46039f\"], [0.2222222222222222, \"#7201a8\"], [0.3333333333333333, \"#9c179e\"], [0.4444444444444444, \"#bd3786\"], [0.5555555555555556, \"#d8576b\"], [0.6666666666666666, \"#ed7953\"], [0.7777777777777778, \"#fb9f3a\"], [0.8888888888888888, \"#fdca26\"], [1.0, \"#f0f921\"]]}, \"colorway\": [\"#636efa\", \"#EF553B\", \"#00cc96\", \"#ab63fa\", \"#FFA15A\", \"#19d3f3\", \"#FF6692\", \"#B6E880\", \"#FF97FF\", \"#FECB52\"], \"font\": {\"color\": \"#2a3f5f\"}, \"geo\": {\"bgcolor\": \"white\", \"lakecolor\": \"white\", \"landcolor\": \"#E5ECF6\", \"showlakes\": true, \"showland\": true, \"subunitcolor\": \"white\"}, \"hoverlabel\": {\"align\": \"left\"}, \"hovermode\": \"closest\", \"mapbox\": {\"style\": \"light\"}, \"paper_bgcolor\": \"white\", \"plot_bgcolor\": \"#E5ECF6\", \"polar\": {\"angularaxis\": {\"gridcolor\": \"white\", \"linecolor\": \"white\", \"ticks\": \"\"}, \"bgcolor\": \"#E5ECF6\", \"radialaxis\": {\"gridcolor\": \"white\", \"linecolor\": \"white\", \"ticks\": \"\"}}, \"scene\": {\"xaxis\": {\"backgroundcolor\": \"#E5ECF6\", \"gridcolor\": \"white\", \"gridwidth\": 2, \"linecolor\": \"white\", \"showbackground\": true, \"ticks\": \"\", \"zerolinecolor\": \"white\"}, \"yaxis\": {\"backgroundcolor\": \"#E5ECF6\", \"gridcolor\": \"white\", \"gridwidth\": 2, \"linecolor\": \"white\", \"showbackground\": true, \"ticks\": \"\", \"zerolinecolor\": \"white\"}, \"zaxis\": {\"backgroundcolor\": \"#E5ECF6\", \"gridcolor\": \"white\", \"gridwidth\": 2, \"linecolor\": \"white\", \"showbackground\": true, \"ticks\": \"\", \"zerolinecolor\": \"white\"}}, \"shapedefaults\": {\"line\": {\"color\": \"#2a3f5f\"}}, \"ternary\": {\"aaxis\": {\"gridcolor\": \"white\", \"linecolor\": \"white\", \"ticks\": \"\"}, \"baxis\": {\"gridcolor\": \"white\", \"linecolor\": \"white\", \"ticks\": \"\"}, \"bgcolor\": \"#E5ECF6\", \"caxis\": {\"gridcolor\": \"white\", \"linecolor\": \"white\", \"ticks\": \"\"}}, \"title\": {\"x\": 0.05}, \"xaxis\": {\"automargin\": true, \"gridcolor\": \"white\", \"linecolor\": \"white\", \"ticks\": \"\", \"title\": {\"standoff\": 15}, \"zerolinecolor\": \"white\", \"zerolinewidth\": 2}, \"yaxis\": {\"automargin\": true, \"gridcolor\": \"white\", \"linecolor\": \"white\", \"ticks\": \"\", \"title\": {\"standoff\": 15}, \"zerolinecolor\": \"white\", \"zerolinewidth\": 2}}}, \"title\": {\"text\": \"Comparison of Security of Women in the Years 2008 and 2016\"}, \"xaxis\": {\"title\": {\"text\": \"Countries\"}}},                        {\"responsive\": true}                    ).then(function(){\n",
       "                            \n",
       "var gd = document.getElementById('bfe9171c-cb18-4d85-b684-adb583a568d3');\n",
       "var x = new MutationObserver(function (mutations, observer) {{\n",
       "        var display = window.getComputedStyle(gd).display;\n",
       "        if (!display || display === 'none') {{\n",
       "            console.log([gd, 'removed!']);\n",
       "            Plotly.purge(gd);\n",
       "            observer.disconnect();\n",
       "        }}\n",
       "}});\n",
       "\n",
       "// Listen for the removal of the full notebook cells\n",
       "var notebookContainer = gd.closest('#notebook-container');\n",
       "if (notebookContainer) {{\n",
       "    x.observe(notebookContainer, {childList: true});\n",
       "}}\n",
       "\n",
       "// Listen for the clearing of the current output cell\n",
       "var outputEl = gd.closest('.output');\n",
       "if (outputEl) {{\n",
       "    x.observe(outputEl, {childList: true});\n",
       "}}\n",
       "\n",
       "                        })                };                });            </script>        </div>"
      ]
     },
     "metadata": {},
     "output_type": "display_data"
    }
   ],
   "source": [
    "# 6. COMPARE THE SECURITY OF WOMEN BETWEEN 2008 AND 2016 IN THE SOUTH ASIAN COUNTRIES\n",
    "# We wanted to show securtiy of women in the South Asian Countries by comparing 2008 and 2016 datas.\n",
    "\n",
    "# Lets visualize the subject above with a histogram:\n",
    "data2008 = data[(data.year == 2008) + (data.region == 'South Asia')]\n",
    "data2008 = data2008.dropna(subset=['pf_ss_women'])\n",
    "data2016 = data[(data.year == 2016) + (data.region == 'South Asia')]\n",
    "data2016 = data2016.dropna(subset=['pf_ss_women'])\n",
    "\n",
    "trace01 = go.Histogram(\n",
    "                        x = data2008['pf_ss_women'],\n",
    "                        opacity = 0.65,\n",
    "                        name = 'Security of Women in 2008',\n",
    "                        marker = dict(color='rgba(150,237,32,0.5)'),\n",
    "                        text= data2008['countries'])\n",
    "trace02 = go.Histogram(\n",
    "                        x = data2016['pf_ss_women'],\n",
    "                        opacity = 0.65,\n",
    "                        name = 'Security of Women in 2016',\n",
    "                        marker = dict(color='rgba(80,22,236,0.5)'))\n",
    "dataHist = [trace01, trace02]\n",
    "layoutHist = go.Layout(\n",
    "                        title = 'Comparison of Security of Women in the Years 2008 and 2016',\n",
    "                        xaxis = dict(title='Countries'))\n",
    "fig = go.Figure(data = dataHist, layout = layoutHist)\n",
    "py.iplot(fig)"
   ]
  },
  {
   "cell_type": "code",
   "execution_count": 18,
   "metadata": {},
   "outputs": [],
   "source": [
    "# From the graph above one can see in women's security decreases in some countries \n",
    "# (Philippines, Sri Lanka, Thailand, Vietnam, Cambodia)."
   ]
  },
  {
   "cell_type": "code",
   "execution_count": 19,
   "metadata": {},
   "outputs": [
    {
     "data": {
      "image/png": "[encoded data removed]",
      "text/plain": [
       "<Figure size 576x576 with 1 Axes>"
      ]
     },
     "metadata": {
      "needs_background": "light"
     },
     "output_type": "display_data"
    }
   ],
   "source": [
    "# 7. SHOWING THE MOST MENTIONED REGIONS IN OUR DATASET (WORDCLOUD LIBRARY EXAMPLE)\n",
    "# In order to see most mentioned regions in our dataset we can use wordcloud library. \n",
    "# In this graphic below I didn't filter the dataset related to women issues.\n",
    "\n",
    "region = data.region\n",
    "plt.subplots(figsize = (8,8))\n",
    "wordcloud = WordCloud(\n",
    "                          background_color='white',\n",
    "                          width=512,\n",
    "                          height=384\n",
    "                         ).generate(\" \".join(region))\n",
    "plt.imshow(wordcloud)\n",
    "plt.axis('off')\n",
    "plt.savefig('graph.png')\n",
    "plt.show()"
   ]
  },
  {
   "cell_type": "code",
   "execution_count": 20,
   "metadata": {},
   "outputs": [],
   "source": [
    "# 8. COMPARE ECONOMIC FREEDOM RANKS OF EASTERN AND WESTERN EUROPEAN COUNTRIES\n",
    "# In this analysis I compared economic freedom ranks of the Western and Eastern European countries.\n",
    "# Even this subject is not directly related to women' problems, economic problems are always the biggest source in a nation.\n",
    "\n",
    "dataEF = data.filter(['year', 'ISO_code', 'countries', 'region', 'ef_score', 'ef_rank', 'hf_score', 'hf_rank'])\n",
    "EastEU = dataEF[dataEF.region == 'Eastern Europe']\n",
    "WestEU = dataEF[dataEF.region == 'Western Europe']"
   ]
  },
  {
   "cell_type": "code",
   "execution_count": 21,
   "metadata": {},
   "outputs": [
    {
     "data": {
      "application/vnd.plotly.v1+json": {
       "config": {
        "linkText": "Export to plot.ly",
        "plotlyServerURL": "https://plot.ly",
        "showLink": false
       },
       "data": [
        {
         "marker": {
          "color": "rgb(78, 54, 23)"
         },
         "name": "Economic Freedom Rank of Western European Countries",
         "type": "box",
         "y": [
          27,
          52,
          16,
          22,
          57,
          20,
          59,
          5,
          54,
          25,
          17,
          18,
          25,
          36,
          30,
          43,
          4,
          9,
          27,
          43,
          16,
          20,
          50,
          24,
          59,
          5,
          55,
          27,
          18,
          17,
          25,
          32,
          34,
          25,
          4,
          7,
          24,
          31,
          13,
          17,
          49,
          26,
          64,
          6,
          61,
          19,
          16,
          21,
          28,
          30,
          42,
          28,
          4,
          10,
          25,
          42,
          18,
          15,
          59,
          21,
          73,
          6,
          61,
          28,
          21,
          27,
          29,
          33,
          45,
          36,
          4,
          8,
          21,
          42,
          24,
          11,
          53,
          19,
          74,
          7,
          58,
          34,
          20,
          27,
          22,
          50,
          42,
          31,
          4,
          9,
          21,
          38,
          14,
          10,
          45,
          18,
          82,
          11,
          55,
          32,
          19,
          24,
          27,
          49,
          35,
          25,
          4,
          9,
          18,
          36,
          13,
          12,
          35,
          19,
          102,
          16,
          57,
          25,
          19,
          28,
          29,
          69,
          43,
          22,
          4,
          8,
          15,
          42,
          15,
          13,
          28,
          18,
          70,
          12,
          65,
          22,
          17,
          27,
          24,
          48,
          43,
          33,
          4,
          5,
          16,
          42,
          10,
          12,
          34,
          29,
          39,
          11,
          62,
          20,
          22,
          24,
          19,
          48,
          37,
          36,
          4,
          8
         ]
        },
        {
         "marker": {
          "color": "rgb(20, 24, 79)"
         },
         "name": "Economic Freedom Rank of Eastern European Countries",
         "type": "box",
         "y": [
          34,
          123,
          98,
          46,
          75,
          18,
          30,
          13,
          108,
          59,
          23,
          13,
          68,
          95,
          72,
          54,
          20,
          87,
          84,
          53,
          71,
          134,
          34,
          null,
          96,
          46,
          73,
          22,
          37,
          10,
          111,
          65,
          18,
          13,
          66,
          102,
          90,
          49,
          21,
          93,
          89,
          61,
          72,
          149,
          38,
          null,
          89,
          48,
          76,
          54,
          40,
          17,
          88,
          49,
          13,
          10,
          62,
          99,
          67,
          45,
          21,
          103,
          96,
          44,
          75,
          133,
          53,
          null,
          100,
          48,
          81,
          70,
          42,
          15,
          82,
          46,
          18,
          13,
          61,
          104,
          68,
          56,
          25,
          98,
          92,
          39,
          89,
          127,
          59,
          null,
          85,
          39,
          75,
          32,
          36,
          17,
          92,
          46,
          24,
          29,
          57,
          96,
          55,
          48,
          32,
          95,
          102,
          38,
          82,
          116,
          52,
          null,
          91,
          40,
          79,
          19,
          50,
          13,
          93,
          38,
          42,
          29,
          67,
          91,
          62,
          52,
          42,
          104,
          97,
          32,
          84,
          125,
          38,
          null,
          92,
          46,
          88,
          14,
          52,
          10,
          82,
          45,
          50,
          29,
          73,
          97,
          41,
          61,
          46,
          99,
          98,
          29,
          81,
          134,
          39,
          null,
          89,
          40,
          79,
          11,
          48,
          14,
          66,
          43,
          38,
          18,
          72,
          84,
          50,
          50,
          26,
          95,
          88,
          29,
          64,
          119,
          47,
          null,
          88,
          55,
          81,
          15,
          48,
          14,
          60,
          52,
          28,
          33,
          70,
          67,
          54,
          66,
          40,
          90,
          89,
          21,
          65,
          121
         ]
        }
       ],
       "layout": {
        "template": {
         "data": {
          "bar": [
           {
            "error_x": {
             "color": "#2a3f5f"
            },
            "error_y": {
             "color": "#2a3f5f"
            },
            "marker": {
             "line": {
              "color": "#E5ECF6",
              "width": 0.5
             }
            },
            "type": "bar"
           }
          ],
          "barpolar": [
           {
            "marker": {
             "line": {
              "color": "#E5ECF6",
              "width": 0.5
             }
            },
            "type": "barpolar"
           }
          ],
          "carpet": [
           {
            "aaxis": {
             "endlinecolor": "#2a3f5f",
             "gridcolor": "white",
             "linecolor": "white",
             "minorgridcolor": "white",
             "startlinecolor": "#2a3f5f"
            },
            "baxis": {
             "endlinecolor": "#2a3f5f",
             "gridcolor": "white",
             "linecolor": "white",
             "minorgridcolor": "white",
             "startlinecolor": "#2a3f5f"
            },
            "type": "carpet"
           }
          ],
          "choropleth": [
           {
            "colorbar": {
             "outlinewidth": 0,
             "ticks": ""
            },
            "type": "choropleth"
           }
          ],
          "contour": [
           {
            "colorbar": {
             "outlinewidth": 0,
             "ticks": ""
            },
            "colorscale": [
             [
              0,
              "#0d0887"
             ],
             [
              0.1111111111111111,
              "#46039f"
             ],
             [
              0.2222222222222222,
              "#7201a8"
             ],
             [
              0.3333333333333333,
              "#9c179e"
             ],
             [
              0.4444444444444444,
              "#bd3786"
             ],
             [
              0.5555555555555556,
              "#d8576b"
             ],
             [
              0.6666666666666666,
              "#ed7953"
             ],
             [
              0.7777777777777778,
              "#fb9f3a"
             ],
             [
              0.8888888888888888,
              "#fdca26"
             ],
             [
              1,
              "#f0f921"
             ]
            ],
            "type": "contour"
           }
          ],
          "contourcarpet": [
           {
            "colorbar": {
             "outlinewidth": 0,
             "ticks": ""
            },
            "type": "contourcarpet"
           }
          ],
          "heatmap": [
           {
            "colorbar": {
             "outlinewidth": 0,
             "ticks": ""
            },
            "colorscale": [
             [
              0,
              "#0d0887"
             ],
             [
              0.1111111111111111,
              "#46039f"
             ],
             [
              0.2222222222222222,
              "#7201a8"
             ],
             [
              0.3333333333333333,
              "#9c179e"
             ],
             [
              0.4444444444444444,
              "#bd3786"
             ],
             [
              0.5555555555555556,
              "#d8576b"
             ],
             [
              0.6666666666666666,
              "#ed7953"
             ],
             [
              0.7777777777777778,
              "#fb9f3a"
             ],
             [
              0.8888888888888888,
              "#fdca26"
             ],
             [
              1,
              "#f0f921"
             ]
            ],
            "type": "heatmap"
           }
          ],
          "heatmapgl": [
           {
            "colorbar": {
             "outlinewidth": 0,
             "ticks": ""
            },
            "colorscale": [
             [
              0,
              "#0d0887"
             ],
             [
              0.1111111111111111,
              "#46039f"
             ],
             [
              0.2222222222222222,
              "#7201a8"
             ],
             [
              0.3333333333333333,
              "#9c179e"
             ],
             [
              0.4444444444444444,
              "#bd3786"
             ],
             [
              0.5555555555555556,
              "#d8576b"
             ],
             [
              0.6666666666666666,
              "#ed7953"
             ],
             [
              0.7777777777777778,
              "#fb9f3a"
             ],
             [
              0.8888888888888888,
              "#fdca26"
             ],
             [
              1,
              "#f0f921"
             ]
            ],
            "type": "heatmapgl"
           }
          ],
          "histogram": [
           {
            "marker": {
             "colorbar": {
              "outlinewidth": 0,
              "ticks": ""
             }
            },
            "type": "histogram"
           }
          ],
          "histogram2d": [
           {
            "colorbar": {
             "outlinewidth": 0,
             "ticks": ""
            },
            "colorscale": [
             [
              0,
              "#0d0887"
             ],
             [
              0.1111111111111111,
              "#46039f"
             ],
             [
              0.2222222222222222,
              "#7201a8"
             ],
             [
              0.3333333333333333,
              "#9c179e"
             ],
             [
              0.4444444444444444,
              "#bd3786"
             ],
             [
              0.5555555555555556,
              "#d8576b"
             ],
             [
              0.6666666666666666,
              "#ed7953"
             ],
             [
              0.7777777777777778,
              "#fb9f3a"
             ],
             [
              0.8888888888888888,
              "#fdca26"
             ],
             [
              1,
              "#f0f921"
             ]
            ],
            "type": "histogram2d"
           }
          ],
          "histogram2dcontour": [
           {
            "colorbar": {
             "outlinewidth": 0,
             "ticks": ""
            },
            "colorscale": [
             [
              0,
              "#0d0887"
             ],
             [
              0.1111111111111111,
              "#46039f"
             ],
             [
              0.2222222222222222,
              "#7201a8"
             ],
             [
              0.3333333333333333,
              "#9c179e"
             ],
             [
              0.4444444444444444,
              "#bd3786"
             ],
             [
              0.5555555555555556,
              "#d8576b"
             ],
             [
              0.6666666666666666,
              "#ed7953"
             ],
             [
              0.7777777777777778,
              "#fb9f3a"
             ],
             [
              0.8888888888888888,
              "#fdca26"
             ],
             [
              1,
              "#f0f921"
             ]
            ],
            "type": "histogram2dcontour"
           }
          ],
          "mesh3d": [
           {
            "colorbar": {
             "outlinewidth": 0,
             "ticks": ""
            },
            "type": "mesh3d"
           }
          ],
          "parcoords": [
           {
            "line": {
             "colorbar": {
              "outlinewidth": 0,
              "ticks": ""
             }
            },
            "type": "parcoords"
           }
          ],
          "pie": [
           {
            "automargin": true,
            "type": "pie"
           }
          ],
          "scatter": [
           {
            "marker": {
             "colorbar": {
              "outlinewidth": 0,
              "ticks": ""
             }
            },
            "type": "scatter"
           }
          ],
          "scatter3d": [
           {
            "line": {
             "colorbar": {
              "outlinewidth": 0,
              "ticks": ""
             }
            },
            "marker": {
             "colorbar": {
              "outlinewidth": 0,
              "ticks": ""
             }
            },
            "type": "scatter3d"
           }
          ],
          "scattercarpet": [
           {
            "marker": {
             "colorbar": {
              "outlinewidth": 0,
              "ticks": ""
             }
            },
            "type": "scattercarpet"
           }
          ],
          "scattergeo": [
           {
            "marker": {
             "colorbar": {
              "outlinewidth": 0,
              "ticks": ""
             }
            },
            "type": "scattergeo"
           }
          ],
          "scattergl": [
           {
            "marker": {
             "colorbar": {
              "outlinewidth": 0,
              "ticks": ""
             }
            },
            "type": "scattergl"
           }
          ],
          "scattermapbox": [
           {
            "marker": {
             "colorbar": {
              "outlinewidth": 0,
              "ticks": ""
             }
            },
            "type": "scattermapbox"
           }
          ],
          "scatterpolar": [
           {
            "marker": {
             "colorbar": {
              "outlinewidth": 0,
              "ticks": ""
             }
            },
            "type": "scatterpolar"
           }
          ],
          "scatterpolargl": [
           {
            "marker": {
             "colorbar": {
              "outlinewidth": 0,
              "ticks": ""
             }
            },
            "type": "scatterpolargl"
           }
          ],
          "scatterternary": [
           {
            "marker": {
             "colorbar": {
              "outlinewidth": 0,
              "ticks": ""
             }
            },
            "type": "scatterternary"
           }
          ],
          "surface": [
           {
            "colorbar": {
             "outlinewidth": 0,
             "ticks": ""
            },
            "colorscale": [
             [
              0,
              "#0d0887"
             ],
             [
              0.1111111111111111,
              "#46039f"
             ],
             [
              0.2222222222222222,
              "#7201a8"
             ],
             [
              0.3333333333333333,
              "#9c179e"
             ],
             [
              0.4444444444444444,
              "#bd3786"
             ],
             [
              0.5555555555555556,
              "#d8576b"
             ],
             [
              0.6666666666666666,
              "#ed7953"
             ],
             [
              0.7777777777777778,
              "#fb9f3a"
             ],
             [
              0.8888888888888888,
              "#fdca26"
             ],
             [
              1,
              "#f0f921"
             ]
            ],
            "type": "surface"
           }
          ],
          "table": [
           {
            "cells": {
             "fill": {
              "color": "#EBF0F8"
             },
             "line": {
              "color": "white"
             }
            },
            "header": {
             "fill": {
              "color": "#C8D4E3"
             },
             "line": {
              "color": "white"
             }
            },
            "type": "table"
           }
          ]
         },
         "layout": {
          "annotationdefaults": {
           "arrowcolor": "#2a3f5f",
           "arrowhead": 0,
           "arrowwidth": 1
          },
          "autotypenumbers": "strict",
          "coloraxis": {
           "colorbar": {
            "outlinewidth": 0,
            "ticks": ""
           }
          },
          "colorscale": {
           "diverging": [
            [
             0,
             "#8e0152"
            ],
            [
             0.1,
             "#c51b7d"
            ],
            [
             0.2,
             "#de77ae"
            ],
            [
             0.3,
             "#f1b6da"
            ],
            [
             0.4,
             "#fde0ef"
            ],
            [
             0.5,
             "#f7f7f7"
            ],
            [
             0.6,
             "#e6f5d0"
            ],
            [
             0.7,
             "#b8e186"
            ],
            [
             0.8,
             "#7fbc41"
            ],
            [
             0.9,
             "#4d9221"
            ],
            [
             1,
             "#276419"
            ]
           ],
           "sequential": [
            [
             0,
             "#0d0887"
            ],
            [
             0.1111111111111111,
             "#46039f"
            ],
            [
             0.2222222222222222,
             "#7201a8"
            ],
            [
             0.3333333333333333,
             "#9c179e"
            ],
            [
             0.4444444444444444,
             "#bd3786"
            ],
            [
             0.5555555555555556,
             "#d8576b"
            ],
            [
             0.6666666666666666,
             "#ed7953"
            ],
            [
             0.7777777777777778,
             "#fb9f3a"
            ],
            [
             0.8888888888888888,
             "#fdca26"
            ],
            [
             1,
             "#f0f921"
            ]
           ],
           "sequentialminus": [
            [
             0,
             "#0d0887"
            ],
            [
             0.1111111111111111,
             "#46039f"
            ],
            [
             0.2222222222222222,
             "#7201a8"
            ],
            [
             0.3333333333333333,
             "#9c179e"
            ],
            [
             0.4444444444444444,
             "#bd3786"
            ],
            [
             0.5555555555555556,
             "#d8576b"
            ],
            [
             0.6666666666666666,
             "#ed7953"
            ],
            [
             0.7777777777777778,
             "#fb9f3a"
            ],
            [
             0.8888888888888888,
             "#fdca26"
            ],
            [
             1,
             "#f0f921"
            ]
           ]
          },
          "colorway": [
           "#636efa",
           "#EF553B",
           "#00cc96",
           "#ab63fa",
           "#FFA15A",
           "#19d3f3",
           "#FF6692",
           "#B6E880",
           "#FF97FF",
           "#FECB52"
          ],
          "font": {
           "color": "#2a3f5f"
          },
          "geo": {
           "bgcolor": "white",
           "lakecolor": "white",
           "landcolor": "#E5ECF6",
           "showlakes": true,
           "showland": true,
           "subunitcolor": "white"
          },
          "hoverlabel": {
           "align": "left"
          },
          "hovermode": "closest",
          "mapbox": {
           "style": "light"
          },
          "paper_bgcolor": "white",
          "plot_bgcolor": "#E5ECF6",
          "polar": {
           "angularaxis": {
            "gridcolor": "white",
            "linecolor": "white",
            "ticks": ""
           },
           "bgcolor": "#E5ECF6",
           "radialaxis": {
            "gridcolor": "white",
            "linecolor": "white",
            "ticks": ""
           }
          },
          "scene": {
           "xaxis": {
            "backgroundcolor": "#E5ECF6",
            "gridcolor": "white",
            "gridwidth": 2,
            "linecolor": "white",
            "showbackground": true,
            "ticks": "",
            "zerolinecolor": "white"
           },
           "yaxis": {
            "backgroundcolor": "#E5ECF6",
            "gridcolor": "white",
            "gridwidth": 2,
            "linecolor": "white",
            "showbackground": true,
            "ticks": "",
            "zerolinecolor": "white"
           },
           "zaxis": {
            "backgroundcolor": "#E5ECF6",
            "gridcolor": "white",
            "gridwidth": 2,
            "linecolor": "white",
            "showbackground": true,
            "ticks": "",
            "zerolinecolor": "white"
           }
          },
          "shapedefaults": {
           "line": {
            "color": "#2a3f5f"
           }
          },
          "ternary": {
           "aaxis": {
            "gridcolor": "white",
            "linecolor": "white",
            "ticks": ""
           },
           "baxis": {
            "gridcolor": "white",
            "linecolor": "white",
            "ticks": ""
           },
           "bgcolor": "#E5ECF6",
           "caxis": {
            "gridcolor": "white",
            "linecolor": "white",
            "ticks": ""
           }
          },
          "title": {
           "x": 0.05
          },
          "xaxis": {
           "automargin": true,
           "gridcolor": "white",
           "linecolor": "white",
           "ticks": "",
           "title": {
            "standoff": 15
           },
           "zerolinecolor": "white",
           "zerolinewidth": 2
          },
          "yaxis": {
           "automargin": true,
           "gridcolor": "white",
           "linecolor": "white",
           "ticks": "",
           "title": {
            "standoff": 15
           },
           "zerolinecolor": "white",
           "zerolinewidth": 2
          }
         }
        }
       }
      },
      "text/html": [
       "<div>                            <div id=\"7ee13237-8ec9-4235-97f2-de359a19309a\" class=\"plotly-graph-div\" style=\"height:525px; width:100%;\"></div>            <script type=\"text/javascript\">                require([\"plotly\"], function(Plotly) {                    window.PLOTLYENV=window.PLOTLYENV || {};                                    if (document.getElementById(\"7ee13237-8ec9-4235-97f2-de359a19309a\")) {                    Plotly.newPlot(                        \"7ee13237-8ec9-4235-97f2-de359a19309a\",                        [{\"marker\": {\"color\": \"rgb(78, 54, 23)\"}, \"name\": \"Economic Freedom Rank of Western European Countries\", \"type\": \"box\", \"y\": [27.0, 52.0, 16.0, 22.0, 57.0, 20.0, 59.0, 5.0, 54.0, 25.0, 17.0, 18.0, 25.0, 36.0, 30.0, 43.0, 4.0, 9.0, 27.0, 43.0, 16.0, 20.0, 50.0, 24.0, 59.0, 5.0, 55.0, 27.0, 18.0, 17.0, 25.0, 32.0, 34.0, 25.0, 4.0, 7.0, 24.0, 31.0, 13.0, 17.0, 49.0, 26.0, 64.0, 6.0, 61.0, 19.0, 16.0, 21.0, 28.0, 30.0, 42.0, 28.0, 4.0, 10.0, 25.0, 42.0, 18.0, 15.0, 59.0, 21.0, 73.0, 6.0, 61.0, 28.0, 21.0, 27.0, 29.0, 33.0, 45.0, 36.0, 4.0, 8.0, 21.0, 42.0, 24.0, 11.0, 53.0, 19.0, 74.0, 7.0, 58.0, 34.0, 20.0, 27.0, 22.0, 50.0, 42.0, 31.0, 4.0, 9.0, 21.0, 38.0, 14.0, 10.0, 45.0, 18.0, 82.0, 11.0, 55.0, 32.0, 19.0, 24.0, 27.0, 49.0, 35.0, 25.0, 4.0, 9.0, 18.0, 36.0, 13.0, 12.0, 35.0, 19.0, 102.0, 16.0, 57.0, 25.0, 19.0, 28.0, 29.0, 69.0, 43.0, 22.0, 4.0, 8.0, 15.0, 42.0, 15.0, 13.0, 28.0, 18.0, 70.0, 12.0, 65.0, 22.0, 17.0, 27.0, 24.0, 48.0, 43.0, 33.0, 4.0, 5.0, 16.0, 42.0, 10.0, 12.0, 34.0, 29.0, 39.0, 11.0, 62.0, 20.0, 22.0, 24.0, 19.0, 48.0, 37.0, 36.0, 4.0, 8.0]}, {\"marker\": {\"color\": \"rgb(20, 24, 79)\"}, \"name\": \"Economic Freedom Rank of Eastern European Countries\", \"type\": \"box\", \"y\": [34.0, 123.0, 98.0, 46.0, 75.0, 18.0, 30.0, 13.0, 108.0, 59.0, 23.0, 13.0, 68.0, 95.0, 72.0, 54.0, 20.0, 87.0, 84.0, 53.0, 71.0, 134.0, 34.0, null, 96.0, 46.0, 73.0, 22.0, 37.0, 10.0, 111.0, 65.0, 18.0, 13.0, 66.0, 102.0, 90.0, 49.0, 21.0, 93.0, 89.0, 61.0, 72.0, 149.0, 38.0, null, 89.0, 48.0, 76.0, 54.0, 40.0, 17.0, 88.0, 49.0, 13.0, 10.0, 62.0, 99.0, 67.0, 45.0, 21.0, 103.0, 96.0, 44.0, 75.0, 133.0, 53.0, null, 100.0, 48.0, 81.0, 70.0, 42.0, 15.0, 82.0, 46.0, 18.0, 13.0, 61.0, 104.0, 68.0, 56.0, 25.0, 98.0, 92.0, 39.0, 89.0, 127.0, 59.0, null, 85.0, 39.0, 75.0, 32.0, 36.0, 17.0, 92.0, 46.0, 24.0, 29.0, 57.0, 96.0, 55.0, 48.0, 32.0, 95.0, 102.0, 38.0, 82.0, 116.0, 52.0, null, 91.0, 40.0, 79.0, 19.0, 50.0, 13.0, 93.0, 38.0, 42.0, 29.0, 67.0, 91.0, 62.0, 52.0, 42.0, 104.0, 97.0, 32.0, 84.0, 125.0, 38.0, null, 92.0, 46.0, 88.0, 14.0, 52.0, 10.0, 82.0, 45.0, 50.0, 29.0, 73.0, 97.0, 41.0, 61.0, 46.0, 99.0, 98.0, 29.0, 81.0, 134.0, 39.0, null, 89.0, 40.0, 79.0, 11.0, 48.0, 14.0, 66.0, 43.0, 38.0, 18.0, 72.0, 84.0, 50.0, 50.0, 26.0, 95.0, 88.0, 29.0, 64.0, 119.0, 47.0, null, 88.0, 55.0, 81.0, 15.0, 48.0, 14.0, 60.0, 52.0, 28.0, 33.0, 70.0, 67.0, 54.0, 66.0, 40.0, 90.0, 89.0, 21.0, 65.0, 121.0]}],                        {\"template\": {\"data\": {\"bar\": [{\"error_x\": {\"color\": \"#2a3f5f\"}, \"error_y\": {\"color\": \"#2a3f5f\"}, \"marker\": {\"line\": {\"color\": \"#E5ECF6\", \"width\": 0.5}}, \"type\": \"bar\"}], \"barpolar\": [{\"marker\": {\"line\": {\"color\": \"#E5ECF6\", \"width\": 0.5}}, \"type\": \"barpolar\"}], \"carpet\": [{\"aaxis\": {\"endlinecolor\": \"#2a3f5f\", \"gridcolor\": \"white\", \"linecolor\": \"white\", \"minorgridcolor\": \"white\", \"startlinecolor\": \"#2a3f5f\"}, \"baxis\": {\"endlinecolor\": \"#2a3f5f\", \"gridcolor\": \"white\", \"linecolor\": \"white\", \"minorgridcolor\": \"white\", \"startlinecolor\": \"#2a3f5f\"}, \"type\": \"carpet\"}], \"choropleth\": [{\"colorbar\": {\"outlinewidth\": 0, \"ticks\": \"\"}, \"type\": \"choropleth\"}], \"contour\": [{\"colorbar\": {\"outlinewidth\": 0, \"ticks\": \"\"}, \"colorscale\": [[0.0, \"#0d0887\"], [0.1111111111111111, \"#46039f\"], [0.2222222222222222, \"#7201a8\"], [0.3333333333333333, \"#9c179e\"], [0.4444444444444444, \"#bd3786\"], [0.5555555555555556, \"#d8576b\"], [0.6666666666666666, \"#ed7953\"], [0.7777777777777778, \"#fb9f3a\"], [0.8888888888888888, \"#fdca26\"], [1.0, \"#f0f921\"]], \"type\": \"contour\"}], \"contourcarpet\": [{\"colorbar\": {\"outlinewidth\": 0, \"ticks\": \"\"}, \"type\": \"contourcarpet\"}], \"heatmap\": [{\"colorbar\": {\"outlinewidth\": 0, \"ticks\": \"\"}, \"colorscale\": [[0.0, \"#0d0887\"], [0.1111111111111111, \"#46039f\"], [0.2222222222222222, \"#7201a8\"], [0.3333333333333333, \"#9c179e\"], [0.4444444444444444, \"#bd3786\"], [0.5555555555555556, \"#d8576b\"], [0.6666666666666666, \"#ed7953\"], [0.7777777777777778, \"#fb9f3a\"], [0.8888888888888888, \"#fdca26\"], [1.0, \"#f0f921\"]], \"type\": \"heatmap\"}], \"heatmapgl\": [{\"colorbar\": {\"outlinewidth\": 0, \"ticks\": \"\"}, \"colorscale\": [[0.0, \"#0d0887\"], [0.1111111111111111, \"#46039f\"], [0.2222222222222222, \"#7201a8\"], [0.3333333333333333, \"#9c179e\"], [0.4444444444444444, \"#bd3786\"], [0.5555555555555556, \"#d8576b\"], [0.6666666666666666, \"#ed7953\"], [0.7777777777777778, \"#fb9f3a\"], [0.8888888888888888, \"#fdca26\"], [1.0, \"#f0f921\"]], \"type\": \"heatmapgl\"}], \"histogram\": [{\"marker\": {\"colorbar\": {\"outlinewidth\": 0, \"ticks\": \"\"}}, \"type\": \"histogram\"}], \"histogram2d\": [{\"colorbar\": {\"outlinewidth\": 0, \"ticks\": \"\"}, \"colorscale\": [[0.0, \"#0d0887\"], [0.1111111111111111, \"#46039f\"], [0.2222222222222222, \"#7201a8\"], [0.3333333333333333, \"#9c179e\"], [0.4444444444444444, \"#bd3786\"], [0.5555555555555556, \"#d8576b\"], [0.6666666666666666, \"#ed7953\"], [0.7777777777777778, \"#fb9f3a\"], [0.8888888888888888, \"#fdca26\"], [1.0, \"#f0f921\"]], \"type\": \"histogram2d\"}], \"histogram2dcontour\": [{\"colorbar\": {\"outlinewidth\": 0, \"ticks\": \"\"}, \"colorscale\": [[0.0, \"#0d0887\"], [0.1111111111111111, \"#46039f\"], [0.2222222222222222, \"#7201a8\"], [0.3333333333333333, \"#9c179e\"], [0.4444444444444444, \"#bd3786\"], [0.5555555555555556, \"#d8576b\"], [0.6666666666666666, \"#ed7953\"], [0.7777777777777778, \"#fb9f3a\"], [0.8888888888888888, \"#fdca26\"], [1.0, \"#f0f921\"]], \"type\": \"histogram2dcontour\"}], \"mesh3d\": [{\"colorbar\": {\"outlinewidth\": 0, \"ticks\": \"\"}, \"type\": \"mesh3d\"}], \"parcoords\": [{\"line\": {\"colorbar\": {\"outlinewidth\": 0, \"ticks\": \"\"}}, \"type\": \"parcoords\"}], \"pie\": [{\"automargin\": true, \"type\": \"pie\"}], \"scatter\": [{\"marker\": {\"colorbar\": {\"outlinewidth\": 0, \"ticks\": \"\"}}, \"type\": \"scatter\"}], \"scatter3d\": [{\"line\": {\"colorbar\": {\"outlinewidth\": 0, \"ticks\": \"\"}}, \"marker\": {\"colorbar\": {\"outlinewidth\": 0, \"ticks\": \"\"}}, \"type\": \"scatter3d\"}], \"scattercarpet\": [{\"marker\": {\"colorbar\": {\"outlinewidth\": 0, \"ticks\": \"\"}}, \"type\": \"scattercarpet\"}], \"scattergeo\": [{\"marker\": {\"colorbar\": {\"outlinewidth\": 0, \"ticks\": \"\"}}, \"type\": \"scattergeo\"}], \"scattergl\": [{\"marker\": {\"colorbar\": {\"outlinewidth\": 0, \"ticks\": \"\"}}, \"type\": \"scattergl\"}], \"scattermapbox\": [{\"marker\": {\"colorbar\": {\"outlinewidth\": 0, \"ticks\": \"\"}}, \"type\": \"scattermapbox\"}], \"scatterpolar\": [{\"marker\": {\"colorbar\": {\"outlinewidth\": 0, \"ticks\": \"\"}}, \"type\": \"scatterpolar\"}], \"scatterpolargl\": [{\"marker\": {\"colorbar\": {\"outlinewidth\": 0, \"ticks\": \"\"}}, \"type\": \"scatterpolargl\"}], \"scatterternary\": [{\"marker\": {\"colorbar\": {\"outlinewidth\": 0, \"ticks\": \"\"}}, \"type\": \"scatterternary\"}], \"surface\": [{\"colorbar\": {\"outlinewidth\": 0, \"ticks\": \"\"}, \"colorscale\": [[0.0, \"#0d0887\"], [0.1111111111111111, \"#46039f\"], [0.2222222222222222, \"#7201a8\"], [0.3333333333333333, \"#9c179e\"], [0.4444444444444444, \"#bd3786\"], [0.5555555555555556, \"#d8576b\"], [0.6666666666666666, \"#ed7953\"], [0.7777777777777778, \"#fb9f3a\"], [0.8888888888888888, \"#fdca26\"], [1.0, \"#f0f921\"]], \"type\": \"surface\"}], \"table\": [{\"cells\": {\"fill\": {\"color\": \"#EBF0F8\"}, \"line\": {\"color\": \"white\"}}, \"header\": {\"fill\": {\"color\": \"#C8D4E3\"}, \"line\": {\"color\": \"white\"}}, \"type\": \"table\"}]}, \"layout\": {\"annotationdefaults\": {\"arrowcolor\": \"#2a3f5f\", \"arrowhead\": 0, \"arrowwidth\": 1}, \"autotypenumbers\": \"strict\", \"coloraxis\": {\"colorbar\": {\"outlinewidth\": 0, \"ticks\": \"\"}}, \"colorscale\": {\"diverging\": [[0, \"#8e0152\"], [0.1, \"#c51b7d\"], [0.2, \"#de77ae\"], [0.3, \"#f1b6da\"], [0.4, \"#fde0ef\"], [0.5, \"#f7f7f7\"], [0.6, \"#e6f5d0\"], [0.7, \"#b8e186\"], [0.8, \"#7fbc41\"], [0.9, \"#4d9221\"], [1, \"#276419\"]], \"sequential\": [[0.0, \"#0d0887\"], [0.1111111111111111, \"#46039f\"], [0.2222222222222222, \"#7201a8\"], [0.3333333333333333, \"#9c179e\"], [0.4444444444444444, \"#bd3786\"], [0.5555555555555556, \"#d8576b\"], [0.6666666666666666, \"#ed7953\"], [0.7777777777777778, \"#fb9f3a\"], [0.8888888888888888, \"#fdca26\"], [1.0, \"#f0f921\"]], \"sequentialminus\": [[0.0, \"#0d0887\"], [0.1111111111111111, \"#46039f\"], [0.2222222222222222, \"#7201a8\"], [0.3333333333333333, \"#9c179e\"], [0.4444444444444444, \"#bd3786\"], [0.5555555555555556, \"#d8576b\"], [0.6666666666666666, \"#ed7953\"], [0.7777777777777778, \"#fb9f3a\"], [0.8888888888888888, \"#fdca26\"], [1.0, \"#f0f921\"]]}, \"colorway\": [\"#636efa\", \"#EF553B\", \"#00cc96\", \"#ab63fa\", \"#FFA15A\", \"#19d3f3\", \"#FF6692\", \"#B6E880\", \"#FF97FF\", \"#FECB52\"], \"font\": {\"color\": \"#2a3f5f\"}, \"geo\": {\"bgcolor\": \"white\", \"lakecolor\": \"white\", \"landcolor\": \"#E5ECF6\", \"showlakes\": true, \"showland\": true, \"subunitcolor\": \"white\"}, \"hoverlabel\": {\"align\": \"left\"}, \"hovermode\": \"closest\", \"mapbox\": {\"style\": \"light\"}, \"paper_bgcolor\": \"white\", \"plot_bgcolor\": \"#E5ECF6\", \"polar\": {\"angularaxis\": {\"gridcolor\": \"white\", \"linecolor\": \"white\", \"ticks\": \"\"}, \"bgcolor\": \"#E5ECF6\", \"radialaxis\": {\"gridcolor\": \"white\", \"linecolor\": \"white\", \"ticks\": \"\"}}, \"scene\": {\"xaxis\": {\"backgroundcolor\": \"#E5ECF6\", \"gridcolor\": \"white\", \"gridwidth\": 2, \"linecolor\": \"white\", \"showbackground\": true, \"ticks\": \"\", \"zerolinecolor\": \"white\"}, \"yaxis\": {\"backgroundcolor\": \"#E5ECF6\", \"gridcolor\": \"white\", \"gridwidth\": 2, \"linecolor\": \"white\", \"showbackground\": true, \"ticks\": \"\", \"zerolinecolor\": \"white\"}, \"zaxis\": {\"backgroundcolor\": \"#E5ECF6\", \"gridcolor\": \"white\", \"gridwidth\": 2, \"linecolor\": \"white\", \"showbackground\": true, \"ticks\": \"\", \"zerolinecolor\": \"white\"}}, \"shapedefaults\": {\"line\": {\"color\": \"#2a3f5f\"}}, \"ternary\": {\"aaxis\": {\"gridcolor\": \"white\", \"linecolor\": \"white\", \"ticks\": \"\"}, \"baxis\": {\"gridcolor\": \"white\", \"linecolor\": \"white\", \"ticks\": \"\"}, \"bgcolor\": \"#E5ECF6\", \"caxis\": {\"gridcolor\": \"white\", \"linecolor\": \"white\", \"ticks\": \"\"}}, \"title\": {\"x\": 0.05}, \"xaxis\": {\"automargin\": true, \"gridcolor\": \"white\", \"linecolor\": \"white\", \"ticks\": \"\", \"title\": {\"standoff\": 15}, \"zerolinecolor\": \"white\", \"zerolinewidth\": 2}, \"yaxis\": {\"automargin\": true, \"gridcolor\": \"white\", \"linecolor\": \"white\", \"ticks\": \"\", \"title\": {\"standoff\": 15}, \"zerolinecolor\": \"white\", \"zerolinewidth\": 2}}}},                        {\"responsive\": true}                    ).then(function(){\n",
       "                            \n",
       "var gd = document.getElementById('7ee13237-8ec9-4235-97f2-de359a19309a');\n",
       "var x = new MutationObserver(function (mutations, observer) {{\n",
       "        var display = window.getComputedStyle(gd).display;\n",
       "        if (!display || display === 'none') {{\n",
       "            console.log([gd, 'removed!']);\n",
       "            Plotly.purge(gd);\n",
       "            observer.disconnect();\n",
       "        }}\n",
       "}});\n",
       "\n",
       "// Listen for the removal of the full notebook cells\n",
       "var notebookContainer = gd.closest('#notebook-container');\n",
       "if (notebookContainer) {{\n",
       "    x.observe(notebookContainer, {childList: true});\n",
       "}}\n",
       "\n",
       "// Listen for the clearing of the current output cell\n",
       "var outputEl = gd.closest('.output');\n",
       "if (outputEl) {{\n",
       "    x.observe(outputEl, {childList: true});\n",
       "}}\n",
       "\n",
       "                        })                };                });            </script>        </div>"
      ]
     },
     "metadata": {},
     "output_type": "display_data"
    }
   ],
   "source": [
    "# Now we can make a graph consist of two traces. \n",
    "# First trace will show us the economic freedom rank of Eastern European Countries and \n",
    "# the second one will show us economic freedom rank of Western European Countries.\n",
    "\n",
    "trace1 = go.Box(\n",
    "                y = WestEU.ef_rank,\n",
    "                name = 'Economic Freedom Rank of Western European Countries',\n",
    "                marker = dict(color= 'rgb(78, 54, 23)')\n",
    "                )\n",
    "trace2 = go.Box(\n",
    "                y = EastEU.ef_rank,\n",
    "                name = 'Economic Freedom Rank of Eastern European Countries',\n",
    "                marker = dict(color = 'rgb(20, 24, 79)')\n",
    "                )\n",
    "efdata = [trace1, trace2]\n",
    "py.iplot(efdata)"
   ]
  },
  {
   "cell_type": "code",
   "execution_count": 22,
   "metadata": {},
   "outputs": [],
   "source": [
    "# One can see economic freedom rank is higher and in a norrower trend in Western European Countries \n",
    "# while the Eastern European Countries there is a broader variaty."
   ]
  },
  {
   "cell_type": "code",
   "execution_count": 23,
   "metadata": {},
   "outputs": [
    {
     "data": {
      "application/vnd.plotly.v1+json": {
       "config": {
        "linkText": "Export to plot.ly",
        "plotlyServerURL": "https://plot.ly",
        "showLink": false
       },
       "data": [
        {
         "marker": {
          "color": "rgb(12, 51, 131)"
         },
         "showlegend": false,
         "type": "box",
         "xaxis": "x",
         "y": [
          10,
          7.5,
          10,
          7.5,
          10,
          7.5,
          10,
          7.5,
          10,
          7.5,
          10,
          7.5,
          10,
          7.5,
          10,
          7.5,
          9.833333332999999,
          8.333333332999999,
          10,
          6.666666667,
          9.833333332999999,
          8.333333332999999,
          10,
          6.666666667,
          9.833333332999999,
          10,
          10,
          7.5,
          9.833333332999999,
          10,
          10,
          7.5,
          9.833333332999999,
          10,
          10,
          7.5
         ],
         "yaxis": "y"
        },
        {
         "marker": {
          "color": [
           1,
           2,
           3,
           4,
           5,
           6,
           7,
           8,
           9,
           10,
           11,
           12,
           13,
           14,
           15,
           16,
           17,
           18,
           19,
           20,
           21,
           22,
           23,
           24,
           25,
           26,
           27,
           28,
           29,
           30,
           31,
           32,
           33,
           34,
           35,
           36
          ],
          "colorscale": [
           [
            0,
            "rgb(12, 51, 131)"
           ],
           [
            1,
            "rgb(217, 30, 30)"
           ]
          ],
          "showscale": true,
          "size": 6
         },
         "mode": "markers",
         "showlegend": false,
         "type": "scatter",
         "x": [
          9.873961805,
          8.86562257,
          9.868614098,
          7.953920500000001,
          9.865921211,
          8.86562257,
          9.868614098,
          7.953920500000001,
          9.854226107,
          8.86562257,
          9.868614098,
          7.953920500000001,
          9.858319676,
          8.878694615,
          9.864232503,
          7.953920500000001,
          9.802475229,
          9.139192742,
          9.877641425,
          7.676142722000001,
          9.797349416,
          9.13690094,
          9.882309406000001,
          7.676142722000001,
          9.805204341,
          9.689904452,
          9.868804302000001,
          7.953920500000001,
          9.783137107,
          9.546148305,
          9.793376419,
          7.953920500000001,
          9.781389454,
          9.731227421,
          9.841059292999999,
          8.120587166
         ],
         "xaxis": "x2",
         "y": [
          10,
          7.5,
          10,
          7.5,
          10,
          7.5,
          10,
          7.5,
          10,
          7.5,
          10,
          7.5,
          10,
          7.5,
          10,
          7.5,
          9.833333332999999,
          8.333333332999999,
          10,
          6.666666667,
          9.833333332999999,
          8.333333332999999,
          10,
          6.666666667,
          9.833333332999999,
          10,
          10,
          7.5,
          9.833333332999999,
          10,
          10,
          7.5,
          9.833333332999999,
          10,
          10,
          7.5
         ],
         "yaxis": "y2"
        },
        {
         "marker": {
          "color": [
           1,
           2,
           3,
           4,
           5,
           6,
           7,
           8,
           9,
           10,
           11,
           12,
           13,
           14,
           15,
           16,
           17,
           18,
           19,
           20,
           21,
           22,
           23,
           24,
           25,
           26,
           27,
           28,
           29,
           30,
           31,
           32,
           33,
           34,
           35,
           36
          ],
          "colorscale": [
           [
            0,
            "rgb(12, 51, 131)"
           ],
           [
            1,
            "rgb(217, 30, 30)"
           ]
          ],
          "showscale": false,
          "size": 6
         },
         "mode": "markers",
         "showlegend": false,
         "type": "scatter",
         "x": [
          10,
          88,
          3,
          122,
          8,
          84,
          3,
          122,
          7,
          100,
          3,
          120,
          9,
          108,
          3,
          77,
          8,
          82,
          3,
          78,
          6,
          68,
          3,
          84,
          5,
          73,
          3,
          76,
          7,
          59,
          3,
          75,
          6,
          45,
          3,
          75
         ],
         "xaxis": "x3",
         "y": [
          10,
          7.5,
          10,
          7.5,
          10,
          7.5,
          10,
          7.5,
          10,
          7.5,
          10,
          7.5,
          10,
          7.5,
          10,
          7.5,
          9.833333332999999,
          8.333333332999999,
          10,
          6.666666667,
          9.833333332999999,
          8.333333332999999,
          10,
          6.666666667,
          9.833333332999999,
          10,
          10,
          7.5,
          9.833333332999999,
          10,
          10,
          7.5,
          9.833333332999999,
          10,
          10,
          7.5
         ],
         "yaxis": "y3"
        },
        {
         "marker": {
          "color": [
           1,
           2,
           3,
           4,
           5,
           6,
           7,
           8,
           9,
           10,
           11,
           12,
           13,
           14,
           15,
           16,
           17,
           18,
           19,
           20,
           21,
           22,
           23,
           24,
           25,
           26,
           27,
           28,
           29,
           30,
           31,
           32,
           33,
           34,
           35,
           36
          ],
          "colorscale": [
           [
            0,
            "rgb(12, 51, 131)"
           ],
           [
            1,
            "rgb(217, 30, 30)"
           ]
          ],
          "showscale": false,
          "size": 6
         },
         "mode": "markers",
         "showlegend": false,
         "type": "scatter",
         "x": [
          10,
          7.5,
          10,
          7.5,
          10,
          7.5,
          10,
          7.5,
          10,
          7.5,
          10,
          7.5,
          10,
          7.5,
          10,
          7.5,
          9.833333332999999,
          8.333333332999999,
          10,
          6.666666667,
          9.833333332999999,
          8.333333332999999,
          10,
          6.666666667,
          9.833333332999999,
          10,
          10,
          7.5,
          9.833333332999999,
          10,
          10,
          7.5,
          9.833333332999999,
          10,
          10,
          7.5
         ],
         "xaxis": "x4",
         "y": [
          9.873961805,
          8.86562257,
          9.868614098,
          7.953920500000001,
          9.865921211,
          8.86562257,
          9.868614098,
          7.953920500000001,
          9.854226107,
          8.86562257,
          9.868614098,
          7.953920500000001,
          9.858319676,
          8.878694615,
          9.864232503,
          7.953920500000001,
          9.802475229,
          9.139192742,
          9.877641425,
          7.676142722000001,
          9.797349416,
          9.13690094,
          9.882309406000001,
          7.676142722000001,
          9.805204341,
          9.689904452,
          9.868804302000001,
          7.953920500000001,
          9.783137107,
          9.546148305,
          9.793376419,
          7.953920500000001,
          9.781389454,
          9.731227421,
          9.841059292999999,
          8.120587166
         ],
         "yaxis": "y4"
        },
        {
         "marker": {
          "color": "rgb(12, 51, 131)"
         },
         "showlegend": false,
         "type": "box",
         "xaxis": "x5",
         "y": [
          9.873961805,
          8.86562257,
          9.868614098,
          7.953920500000001,
          9.865921211,
          8.86562257,
          9.868614098,
          7.953920500000001,
          9.854226107,
          8.86562257,
          9.868614098,
          7.953920500000001,
          9.858319676,
          8.878694615,
          9.864232503,
          7.953920500000001,
          9.802475229,
          9.139192742,
          9.877641425,
          7.676142722000001,
          9.797349416,
          9.13690094,
          9.882309406000001,
          7.676142722000001,
          9.805204341,
          9.689904452,
          9.868804302000001,
          7.953920500000001,
          9.783137107,
          9.546148305,
          9.793376419,
          7.953920500000001,
          9.781389454,
          9.731227421,
          9.841059292999999,
          8.120587166
         ],
         "yaxis": "y5"
        },
        {
         "marker": {
          "color": [
           1,
           2,
           3,
           4,
           5,
           6,
           7,
           8,
           9,
           10,
           11,
           12,
           13,
           14,
           15,
           16,
           17,
           18,
           19,
           20,
           21,
           22,
           23,
           24,
           25,
           26,
           27,
           28,
           29,
           30,
           31,
           32,
           33,
           34,
           35,
           36
          ],
          "colorscale": [
           [
            0,
            "rgb(12, 51, 131)"
           ],
           [
            1,
            "rgb(217, 30, 30)"
           ]
          ],
          "showscale": false,
          "size": 6
         },
         "mode": "markers",
         "showlegend": false,
         "type": "scatter",
         "x": [
          10,
          88,
          3,
          122,
          8,
          84,
          3,
          122,
          7,
          100,
          3,
          120,
          9,
          108,
          3,
          77,
          8,
          82,
          3,
          78,
          6,
          68,
          3,
          84,
          5,
          73,
          3,
          76,
          7,
          59,
          3,
          75,
          6,
          45,
          3,
          75
         ],
         "xaxis": "x6",
         "y": [
          9.873961805,
          8.86562257,
          9.868614098,
          7.953920500000001,
          9.865921211,
          8.86562257,
          9.868614098,
          7.953920500000001,
          9.854226107,
          8.86562257,
          9.868614098,
          7.953920500000001,
          9.858319676,
          8.878694615,
          9.864232503,
          7.953920500000001,
          9.802475229,
          9.139192742,
          9.877641425,
          7.676142722000001,
          9.797349416,
          9.13690094,
          9.882309406000001,
          7.676142722000001,
          9.805204341,
          9.689904452,
          9.868804302000001,
          7.953920500000001,
          9.783137107,
          9.546148305,
          9.793376419,
          7.953920500000001,
          9.781389454,
          9.731227421,
          9.841059292999999,
          8.120587166
         ],
         "yaxis": "y6"
        },
        {
         "marker": {
          "color": [
           1,
           2,
           3,
           4,
           5,
           6,
           7,
           8,
           9,
           10,
           11,
           12,
           13,
           14,
           15,
           16,
           17,
           18,
           19,
           20,
           21,
           22,
           23,
           24,
           25,
           26,
           27,
           28,
           29,
           30,
           31,
           32,
           33,
           34,
           35,
           36
          ],
          "colorscale": [
           [
            0,
            "rgb(12, 51, 131)"
           ],
           [
            1,
            "rgb(217, 30, 30)"
           ]
          ],
          "showscale": false,
          "size": 6
         },
         "mode": "markers",
         "showlegend": false,
         "type": "scatter",
         "x": [
          10,
          7.5,
          10,
          7.5,
          10,
          7.5,
          10,
          7.5,
          10,
          7.5,
          10,
          7.5,
          10,
          7.5,
          10,
          7.5,
          9.833333332999999,
          8.333333332999999,
          10,
          6.666666667,
          9.833333332999999,
          8.333333332999999,
          10,
          6.666666667,
          9.833333332999999,
          10,
          10,
          7.5,
          9.833333332999999,
          10,
          10,
          7.5,
          9.833333332999999,
          10,
          10,
          7.5
         ],
         "xaxis": "x7",
         "y": [
          10,
          88,
          3,
          122,
          8,
          84,
          3,
          122,
          7,
          100,
          3,
          120,
          9,
          108,
          3,
          77,
          8,
          82,
          3,
          78,
          6,
          68,
          3,
          84,
          5,
          73,
          3,
          76,
          7,
          59,
          3,
          75,
          6,
          45,
          3,
          75
         ],
         "yaxis": "y7"
        },
        {
         "marker": {
          "color": [
           1,
           2,
           3,
           4,
           5,
           6,
           7,
           8,
           9,
           10,
           11,
           12,
           13,
           14,
           15,
           16,
           17,
           18,
           19,
           20,
           21,
           22,
           23,
           24,
           25,
           26,
           27,
           28,
           29,
           30,
           31,
           32,
           33,
           34,
           35,
           36
          ],
          "colorscale": [
           [
            0,
            "rgb(12, 51, 131)"
           ],
           [
            1,
            "rgb(217, 30, 30)"
           ]
          ],
          "showscale": false,
          "size": 6
         },
         "mode": "markers",
         "showlegend": false,
         "type": "scatter",
         "x": [
          9.873961805,
          8.86562257,
          9.868614098,
          7.953920500000001,
          9.865921211,
          8.86562257,
          9.868614098,
          7.953920500000001,
          9.854226107,
          8.86562257,
          9.868614098,
          7.953920500000001,
          9.858319676,
          8.878694615,
          9.864232503,
          7.953920500000001,
          9.802475229,
          9.139192742,
          9.877641425,
          7.676142722000001,
          9.797349416,
          9.13690094,
          9.882309406000001,
          7.676142722000001,
          9.805204341,
          9.689904452,
          9.868804302000001,
          7.953920500000001,
          9.783137107,
          9.546148305,
          9.793376419,
          7.953920500000001,
          9.781389454,
          9.731227421,
          9.841059292999999,
          8.120587166
         ],
         "xaxis": "x8",
         "y": [
          10,
          88,
          3,
          122,
          8,
          84,
          3,
          122,
          7,
          100,
          3,
          120,
          9,
          108,
          3,
          77,
          8,
          82,
          3,
          78,
          6,
          68,
          3,
          84,
          5,
          73,
          3,
          76,
          7,
          59,
          3,
          75,
          6,
          45,
          3,
          75
         ],
         "yaxis": "y8"
        },
        {
         "marker": {
          "color": "rgb(12, 51, 131)"
         },
         "showlegend": false,
         "type": "box",
         "xaxis": "x9",
         "y": [
          10,
          88,
          3,
          122,
          8,
          84,
          3,
          122,
          7,
          100,
          3,
          120,
          9,
          108,
          3,
          77,
          8,
          82,
          3,
          78,
          6,
          68,
          3,
          84,
          5,
          73,
          3,
          76,
          7,
          59,
          3,
          75,
          6,
          45,
          3,
          75
         ],
         "yaxis": "y9"
        }
       ],
       "layout": {
        "height": 700,
        "showlegend": true,
        "template": {
         "data": {
          "bar": [
           {
            "error_x": {
             "color": "#2a3f5f"
            },
            "error_y": {
             "color": "#2a3f5f"
            },
            "marker": {
             "line": {
              "color": "#E5ECF6",
              "width": 0.5
             }
            },
            "type": "bar"
           }
          ],
          "barpolar": [
           {
            "marker": {
             "line": {
              "color": "#E5ECF6",
              "width": 0.5
             }
            },
            "type": "barpolar"
           }
          ],
          "carpet": [
           {
            "aaxis": {
             "endlinecolor": "#2a3f5f",
             "gridcolor": "white",
             "linecolor": "white",
             "minorgridcolor": "white",
             "startlinecolor": "#2a3f5f"
            },
            "baxis": {
             "endlinecolor": "#2a3f5f",
             "gridcolor": "white",
             "linecolor": "white",
             "minorgridcolor": "white",
             "startlinecolor": "#2a3f5f"
            },
            "type": "carpet"
           }
          ],
          "choropleth": [
           {
            "colorbar": {
             "outlinewidth": 0,
             "ticks": ""
            },
            "type": "choropleth"
           }
          ],
          "contour": [
           {
            "colorbar": {
             "outlinewidth": 0,
             "ticks": ""
            },
            "colorscale": [
             [
              0,
              "#0d0887"
             ],
             [
              0.1111111111111111,
              "#46039f"
             ],
             [
              0.2222222222222222,
              "#7201a8"
             ],
             [
              0.3333333333333333,
              "#9c179e"
             ],
             [
              0.4444444444444444,
              "#bd3786"
             ],
             [
              0.5555555555555556,
              "#d8576b"
             ],
             [
              0.6666666666666666,
              "#ed7953"
             ],
             [
              0.7777777777777778,
              "#fb9f3a"
             ],
             [
              0.8888888888888888,
              "#fdca26"
             ],
             [
              1,
              "#f0f921"
             ]
            ],
            "type": "contour"
           }
          ],
          "contourcarpet": [
           {
            "colorbar": {
             "outlinewidth": 0,
             "ticks": ""
            },
            "type": "contourcarpet"
           }
          ],
          "heatmap": [
           {
            "colorbar": {
             "outlinewidth": 0,
             "ticks": ""
            },
            "colorscale": [
             [
              0,
              "#0d0887"
             ],
             [
              0.1111111111111111,
              "#46039f"
             ],
             [
              0.2222222222222222,
              "#7201a8"
             ],
             [
              0.3333333333333333,
              "#9c179e"
             ],
             [
              0.4444444444444444,
              "#bd3786"
             ],
             [
              0.5555555555555556,
              "#d8576b"
             ],
             [
              0.6666666666666666,
              "#ed7953"
             ],
             [
              0.7777777777777778,
              "#fb9f3a"
             ],
             [
              0.8888888888888888,
              "#fdca26"
             ],
             [
              1,
              "#f0f921"
             ]
            ],
            "type": "heatmap"
           }
          ],
          "heatmapgl": [
           {
            "colorbar": {
             "outlinewidth": 0,
             "ticks": ""
            },
            "colorscale": [
             [
              0,
              "#0d0887"
             ],
             [
              0.1111111111111111,
              "#46039f"
             ],
             [
              0.2222222222222222,
              "#7201a8"
             ],
             [
              0.3333333333333333,
              "#9c179e"
             ],
             [
              0.4444444444444444,
              "#bd3786"
             ],
             [
              0.5555555555555556,
              "#d8576b"
             ],
             [
              0.6666666666666666,
              "#ed7953"
             ],
             [
              0.7777777777777778,
              "#fb9f3a"
             ],
             [
              0.8888888888888888,
              "#fdca26"
             ],
             [
              1,
              "#f0f921"
             ]
            ],
            "type": "heatmapgl"
           }
          ],
          "histogram": [
           {
            "marker": {
             "colorbar": {
              "outlinewidth": 0,
              "ticks": ""
             }
            },
            "type": "histogram"
           }
          ],
          "histogram2d": [
           {
            "colorbar": {
             "outlinewidth": 0,
             "ticks": ""
            },
            "colorscale": [
             [
              0,
              "#0d0887"
             ],
             [
              0.1111111111111111,
              "#46039f"
             ],
             [
              0.2222222222222222,
              "#7201a8"
             ],
             [
              0.3333333333333333,
              "#9c179e"
             ],
             [
              0.4444444444444444,
              "#bd3786"
             ],
             [
              0.5555555555555556,
              "#d8576b"
             ],
             [
              0.6666666666666666,
              "#ed7953"
             ],
             [
              0.7777777777777778,
              "#fb9f3a"
             ],
             [
              0.8888888888888888,
              "#fdca26"
             ],
             [
              1,
              "#f0f921"
             ]
            ],
            "type": "histogram2d"
           }
          ],
          "histogram2dcontour": [
           {
            "colorbar": {
             "outlinewidth": 0,
             "ticks": ""
            },
            "colorscale": [
             [
              0,
              "#0d0887"
             ],
             [
              0.1111111111111111,
              "#46039f"
             ],
             [
              0.2222222222222222,
              "#7201a8"
             ],
             [
              0.3333333333333333,
              "#9c179e"
             ],
             [
              0.4444444444444444,
              "#bd3786"
             ],
             [
              0.5555555555555556,
              "#d8576b"
             ],
             [
              0.6666666666666666,
              "#ed7953"
             ],
             [
              0.7777777777777778,
              "#fb9f3a"
             ],
             [
              0.8888888888888888,
              "#fdca26"
             ],
             [
              1,
              "#f0f921"
             ]
            ],
            "type": "histogram2dcontour"
           }
          ],
          "mesh3d": [
           {
            "colorbar": {
             "outlinewidth": 0,
             "ticks": ""
            },
            "type": "mesh3d"
           }
          ],
          "parcoords": [
           {
            "line": {
             "colorbar": {
              "outlinewidth": 0,
              "ticks": ""
             }
            },
            "type": "parcoords"
           }
          ],
          "pie": [
           {
            "automargin": true,
            "type": "pie"
           }
          ],
          "scatter": [
           {
            "marker": {
             "colorbar": {
              "outlinewidth": 0,
              "ticks": ""
             }
            },
            "type": "scatter"
           }
          ],
          "scatter3d": [
           {
            "line": {
             "colorbar": {
              "outlinewidth": 0,
              "ticks": ""
             }
            },
            "marker": {
             "colorbar": {
              "outlinewidth": 0,
              "ticks": ""
             }
            },
            "type": "scatter3d"
           }
          ],
          "scattercarpet": [
           {
            "marker": {
             "colorbar": {
              "outlinewidth": 0,
              "ticks": ""
             }
            },
            "type": "scattercarpet"
           }
          ],
          "scattergeo": [
           {
            "marker": {
             "colorbar": {
              "outlinewidth": 0,
              "ticks": ""
             }
            },
            "type": "scattergeo"
           }
          ],
          "scattergl": [
           {
            "marker": {
             "colorbar": {
              "outlinewidth": 0,
              "ticks": ""
             }
            },
            "type": "scattergl"
           }
          ],
          "scattermapbox": [
           {
            "marker": {
             "colorbar": {
              "outlinewidth": 0,
              "ticks": ""
             }
            },
            "type": "scattermapbox"
           }
          ],
          "scatterpolar": [
           {
            "marker": {
             "colorbar": {
              "outlinewidth": 0,
              "ticks": ""
             }
            },
            "type": "scatterpolar"
           }
          ],
          "scatterpolargl": [
           {
            "marker": {
             "colorbar": {
              "outlinewidth": 0,
              "ticks": ""
             }
            },
            "type": "scatterpolargl"
           }
          ],
          "scatterternary": [
           {
            "marker": {
             "colorbar": {
              "outlinewidth": 0,
              "ticks": ""
             }
            },
            "type": "scatterternary"
           }
          ],
          "surface": [
           {
            "colorbar": {
             "outlinewidth": 0,
             "ticks": ""
            },
            "colorscale": [
             [
              0,
              "#0d0887"
             ],
             [
              0.1111111111111111,
              "#46039f"
             ],
             [
              0.2222222222222222,
              "#7201a8"
             ],
             [
              0.3333333333333333,
              "#9c179e"
             ],
             [
              0.4444444444444444,
              "#bd3786"
             ],
             [
              0.5555555555555556,
              "#d8576b"
             ],
             [
              0.6666666666666666,
              "#ed7953"
             ],
             [
              0.7777777777777778,
              "#fb9f3a"
             ],
             [
              0.8888888888888888,
              "#fdca26"
             ],
             [
              1,
              "#f0f921"
             ]
            ],
            "type": "surface"
           }
          ],
          "table": [
           {
            "cells": {
             "fill": {
              "color": "#EBF0F8"
             },
             "line": {
              "color": "white"
             }
            },
            "header": {
             "fill": {
              "color": "#C8D4E3"
             },
             "line": {
              "color": "white"
             }
            },
            "type": "table"
           }
          ]
         },
         "layout": {
          "annotationdefaults": {
           "arrowcolor": "#2a3f5f",
           "arrowhead": 0,
           "arrowwidth": 1
          },
          "autotypenumbers": "strict",
          "coloraxis": {
           "colorbar": {
            "outlinewidth": 0,
            "ticks": ""
           }
          },
          "colorscale": {
           "diverging": [
            [
             0,
             "#8e0152"
            ],
            [
             0.1,
             "#c51b7d"
            ],
            [
             0.2,
             "#de77ae"
            ],
            [
             0.3,
             "#f1b6da"
            ],
            [
             0.4,
             "#fde0ef"
            ],
            [
             0.5,
             "#f7f7f7"
            ],
            [
             0.6,
             "#e6f5d0"
            ],
            [
             0.7,
             "#b8e186"
            ],
            [
             0.8,
             "#7fbc41"
            ],
            [
             0.9,
             "#4d9221"
            ],
            [
             1,
             "#276419"
            ]
           ],
           "sequential": [
            [
             0,
             "#0d0887"
            ],
            [
             0.1111111111111111,
             "#46039f"
            ],
            [
             0.2222222222222222,
             "#7201a8"
            ],
            [
             0.3333333333333333,
             "#9c179e"
            ],
            [
             0.4444444444444444,
             "#bd3786"
            ],
            [
             0.5555555555555556,
             "#d8576b"
            ],
            [
             0.6666666666666666,
             "#ed7953"
            ],
            [
             0.7777777777777778,
             "#fb9f3a"
            ],
            [
             0.8888888888888888,
             "#fdca26"
            ],
            [
             1,
             "#f0f921"
            ]
           ],
           "sequentialminus": [
            [
             0,
             "#0d0887"
            ],
            [
             0.1111111111111111,
             "#46039f"
            ],
            [
             0.2222222222222222,
             "#7201a8"
            ],
            [
             0.3333333333333333,
             "#9c179e"
            ],
            [
             0.4444444444444444,
             "#bd3786"
            ],
            [
             0.5555555555555556,
             "#d8576b"
            ],
            [
             0.6666666666666666,
             "#ed7953"
            ],
            [
             0.7777777777777778,
             "#fb9f3a"
            ],
            [
             0.8888888888888888,
             "#fdca26"
            ],
            [
             1,
             "#f0f921"
            ]
           ]
          },
          "colorway": [
           "#636efa",
           "#EF553B",
           "#00cc96",
           "#ab63fa",
           "#FFA15A",
           "#19d3f3",
           "#FF6692",
           "#B6E880",
           "#FF97FF",
           "#FECB52"
          ],
          "font": {
           "color": "#2a3f5f"
          },
          "geo": {
           "bgcolor": "white",
           "lakecolor": "white",
           "landcolor": "#E5ECF6",
           "showlakes": true,
           "showland": true,
           "subunitcolor": "white"
          },
          "hoverlabel": {
           "align": "left"
          },
          "hovermode": "closest",
          "mapbox": {
           "style": "light"
          },
          "paper_bgcolor": "white",
          "plot_bgcolor": "#E5ECF6",
          "polar": {
           "angularaxis": {
            "gridcolor": "white",
            "linecolor": "white",
            "ticks": ""
           },
           "bgcolor": "#E5ECF6",
           "radialaxis": {
            "gridcolor": "white",
            "linecolor": "white",
            "ticks": ""
           }
          },
          "scene": {
           "xaxis": {
            "backgroundcolor": "#E5ECF6",
            "gridcolor": "white",
            "gridwidth": 2,
            "linecolor": "white",
            "showbackground": true,
            "ticks": "",
            "zerolinecolor": "white"
           },
           "yaxis": {
            "backgroundcolor": "#E5ECF6",
            "gridcolor": "white",
            "gridwidth": 2,
            "linecolor": "white",
            "showbackground": true,
            "ticks": "",
            "zerolinecolor": "white"
           },
           "zaxis": {
            "backgroundcolor": "#E5ECF6",
            "gridcolor": "white",
            "gridwidth": 2,
            "linecolor": "white",
            "showbackground": true,
            "ticks": "",
            "zerolinecolor": "white"
           }
          },
          "shapedefaults": {
           "line": {
            "color": "#2a3f5f"
           }
          },
          "ternary": {
           "aaxis": {
            "gridcolor": "white",
            "linecolor": "white",
            "ticks": ""
           },
           "baxis": {
            "gridcolor": "white",
            "linecolor": "white",
            "ticks": ""
           },
           "bgcolor": "#E5ECF6",
           "caxis": {
            "gridcolor": "white",
            "linecolor": "white",
            "ticks": ""
           }
          },
          "title": {
           "x": 0.05
          },
          "xaxis": {
           "automargin": true,
           "gridcolor": "white",
           "linecolor": "white",
           "ticks": "",
           "title": {
            "standoff": 15
           },
           "zerolinecolor": "white",
           "zerolinewidth": 2
          },
          "yaxis": {
           "automargin": true,
           "gridcolor": "white",
           "linecolor": "white",
           "ticks": "",
           "title": {
            "standoff": 15
           },
           "zerolinecolor": "white",
           "zerolinewidth": 2
          }
         }
        },
        "title": {
         "text": "Scatterplot Matrix"
        },
        "width": 700,
        "xaxis": {
         "anchor": "y",
         "domain": [
          0,
          0.2888888888888889
         ],
         "showticklabels": false
        },
        "xaxis2": {
         "anchor": "y2",
         "domain": [
          0.35555555555555557,
          0.6444444444444445
         ]
        },
        "xaxis3": {
         "anchor": "y3",
         "domain": [
          0.7111111111111111,
          1
         ]
        },
        "xaxis4": {
         "anchor": "y4",
         "domain": [
          0,
          0.2888888888888889
         ]
        },
        "xaxis5": {
         "anchor": "y5",
         "domain": [
          0.35555555555555557,
          0.6444444444444445
         ],
         "showticklabels": false
        },
        "xaxis6": {
         "anchor": "y6",
         "domain": [
          0.7111111111111111,
          1
         ]
        },
        "xaxis7": {
         "anchor": "y7",
         "domain": [
          0,
          0.2888888888888889
         ],
         "title": {
          "text": "pf_ss_women"
         }
        },
        "xaxis8": {
         "anchor": "y8",
         "domain": [
          0.35555555555555557,
          0.6444444444444445
         ],
         "title": {
          "text": "pf_ss"
         }
        },
        "xaxis9": {
         "anchor": "y9",
         "domain": [
          0.7111111111111111,
          1
         ],
         "showticklabels": false,
         "title": {
          "text": "ef_rank"
         }
        },
        "yaxis": {
         "anchor": "x",
         "domain": [
          0.7333333333333333,
          1
         ],
         "title": {
          "text": "pf_ss_women"
         }
        },
        "yaxis2": {
         "anchor": "x2",
         "domain": [
          0.7333333333333333,
          1
         ]
        },
        "yaxis3": {
         "anchor": "x3",
         "domain": [
          0.7333333333333333,
          1
         ]
        },
        "yaxis4": {
         "anchor": "x4",
         "domain": [
          0.36666666666666664,
          0.6333333333333333
         ],
         "title": {
          "text": "pf_ss"
         }
        },
        "yaxis5": {
         "anchor": "x5",
         "domain": [
          0.36666666666666664,
          0.6333333333333333
         ]
        },
        "yaxis6": {
         "anchor": "x6",
         "domain": [
          0.36666666666666664,
          0.6333333333333333
         ]
        },
        "yaxis7": {
         "anchor": "x7",
         "domain": [
          0,
          0.26666666666666666
         ],
         "title": {
          "text": "ef_rank"
         }
        },
        "yaxis8": {
         "anchor": "x8",
         "domain": [
          0,
          0.26666666666666666
         ]
        },
        "yaxis9": {
         "anchor": "x9",
         "domain": [
          0,
          0.26666666666666666
         ]
        }
       }
      },
      "text/html": [
       "<div>                            <div id=\"eddaac97-bfd1-4d2b-b242-966ec558ca25\" class=\"plotly-graph-div\" style=\"height:700px; width:700px;\"></div>            <script type=\"text/javascript\">                require([\"plotly\"], function(Plotly) {                    window.PLOTLYENV=window.PLOTLYENV || {};                                    if (document.getElementById(\"eddaac97-bfd1-4d2b-b242-966ec558ca25\")) {                    Plotly.newPlot(                        \"eddaac97-bfd1-4d2b-b242-966ec558ca25\",                        [{\"marker\": {\"color\": \"rgb(12, 51, 131)\"}, \"showlegend\": false, \"type\": \"box\", \"xaxis\": \"x\", \"y\": [10.0, 7.5, 10.0, 7.5, 10.0, 7.5, 10.0, 7.5, 10.0, 7.5, 10.0, 7.5, 10.0, 7.5, 10.0, 7.5, 9.833333332999999, 8.333333332999999, 10.0, 6.666666667, 9.833333332999999, 8.333333332999999, 10.0, 6.666666667, 9.833333332999999, 10.0, 10.0, 7.5, 9.833333332999999, 10.0, 10.0, 7.5, 9.833333332999999, 10.0, 10.0, 7.5], \"yaxis\": \"y\"}, {\"marker\": {\"color\": [1, 2, 3, 4, 5, 6, 7, 8, 9, 10, 11, 12, 13, 14, 15, 16, 17, 18, 19, 20, 21, 22, 23, 24, 25, 26, 27, 28, 29, 30, 31, 32, 33, 34, 35, 36], \"colorscale\": [[0.0, \"rgb(12, 51, 131)\"], [1.0, \"rgb(217, 30, 30)\"]], \"showscale\": true, \"size\": 6}, \"mode\": \"markers\", \"showlegend\": false, \"type\": \"scatter\", \"x\": [9.873961805, 8.86562257, 9.868614098, 7.953920500000001, 9.865921211, 8.86562257, 9.868614098, 7.953920500000001, 9.854226107, 8.86562257, 9.868614098, 7.953920500000001, 9.858319676, 8.878694615, 9.864232503, 7.953920500000001, 9.802475229, 9.139192742, 9.877641425, 7.676142722000001, 9.797349416, 9.13690094, 9.882309406000001, 7.676142722000001, 9.805204341, 9.689904452, 9.868804302000001, 7.953920500000001, 9.783137107, 9.546148305, 9.793376419, 7.953920500000001, 9.781389454, 9.731227421, 9.841059292999999, 8.120587166], \"xaxis\": \"x2\", \"y\": [10.0, 7.5, 10.0, 7.5, 10.0, 7.5, 10.0, 7.5, 10.0, 7.5, 10.0, 7.5, 10.0, 7.5, 10.0, 7.5, 9.833333332999999, 8.333333332999999, 10.0, 6.666666667, 9.833333332999999, 8.333333332999999, 10.0, 6.666666667, 9.833333332999999, 10.0, 10.0, 7.5, 9.833333332999999, 10.0, 10.0, 7.5, 9.833333332999999, 10.0, 10.0, 7.5], \"yaxis\": \"y2\"}, {\"marker\": {\"color\": [1, 2, 3, 4, 5, 6, 7, 8, 9, 10, 11, 12, 13, 14, 15, 16, 17, 18, 19, 20, 21, 22, 23, 24, 25, 26, 27, 28, 29, 30, 31, 32, 33, 34, 35, 36], \"colorscale\": [[0.0, \"rgb(12, 51, 131)\"], [1.0, \"rgb(217, 30, 30)\"]], \"showscale\": false, \"size\": 6}, \"mode\": \"markers\", \"showlegend\": false, \"type\": \"scatter\", \"x\": [10.0, 88.0, 3.0, 122.0, 8.0, 84.0, 3.0, 122.0, 7.0, 100.0, 3.0, 120.0, 9.0, 108.0, 3.0, 77.0, 8.0, 82.0, 3.0, 78.0, 6.0, 68.0, 3.0, 84.0, 5.0, 73.0, 3.0, 76.0, 7.0, 59.0, 3.0, 75.0, 6.0, 45.0, 3.0, 75.0], \"xaxis\": \"x3\", \"y\": [10.0, 7.5, 10.0, 7.5, 10.0, 7.5, 10.0, 7.5, 10.0, 7.5, 10.0, 7.5, 10.0, 7.5, 10.0, 7.5, 9.833333332999999, 8.333333332999999, 10.0, 6.666666667, 9.833333332999999, 8.333333332999999, 10.0, 6.666666667, 9.833333332999999, 10.0, 10.0, 7.5, 9.833333332999999, 10.0, 10.0, 7.5, 9.833333332999999, 10.0, 10.0, 7.5], \"yaxis\": \"y3\"}, {\"marker\": {\"color\": [1, 2, 3, 4, 5, 6, 7, 8, 9, 10, 11, 12, 13, 14, 15, 16, 17, 18, 19, 20, 21, 22, 23, 24, 25, 26, 27, 28, 29, 30, 31, 32, 33, 34, 35, 36], \"colorscale\": [[0.0, \"rgb(12, 51, 131)\"], [1.0, \"rgb(217, 30, 30)\"]], \"showscale\": false, \"size\": 6}, \"mode\": \"markers\", \"showlegend\": false, \"type\": \"scatter\", \"x\": [10.0, 7.5, 10.0, 7.5, 10.0, 7.5, 10.0, 7.5, 10.0, 7.5, 10.0, 7.5, 10.0, 7.5, 10.0, 7.5, 9.833333332999999, 8.333333332999999, 10.0, 6.666666667, 9.833333332999999, 8.333333332999999, 10.0, 6.666666667, 9.833333332999999, 10.0, 10.0, 7.5, 9.833333332999999, 10.0, 10.0, 7.5, 9.833333332999999, 10.0, 10.0, 7.5], \"xaxis\": \"x4\", \"y\": [9.873961805, 8.86562257, 9.868614098, 7.953920500000001, 9.865921211, 8.86562257, 9.868614098, 7.953920500000001, 9.854226107, 8.86562257, 9.868614098, 7.953920500000001, 9.858319676, 8.878694615, 9.864232503, 7.953920500000001, 9.802475229, 9.139192742, 9.877641425, 7.676142722000001, 9.797349416, 9.13690094, 9.882309406000001, 7.676142722000001, 9.805204341, 9.689904452, 9.868804302000001, 7.953920500000001, 9.783137107, 9.546148305, 9.793376419, 7.953920500000001, 9.781389454, 9.731227421, 9.841059292999999, 8.120587166], \"yaxis\": \"y4\"}, {\"marker\": {\"color\": \"rgb(12, 51, 131)\"}, \"showlegend\": false, \"type\": \"box\", \"xaxis\": \"x5\", \"y\": [9.873961805, 8.86562257, 9.868614098, 7.953920500000001, 9.865921211, 8.86562257, 9.868614098, 7.953920500000001, 9.854226107, 8.86562257, 9.868614098, 7.953920500000001, 9.858319676, 8.878694615, 9.864232503, 7.953920500000001, 9.802475229, 9.139192742, 9.877641425, 7.676142722000001, 9.797349416, 9.13690094, 9.882309406000001, 7.676142722000001, 9.805204341, 9.689904452, 9.868804302000001, 7.953920500000001, 9.783137107, 9.546148305, 9.793376419, 7.953920500000001, 9.781389454, 9.731227421, 9.841059292999999, 8.120587166], \"yaxis\": \"y5\"}, {\"marker\": {\"color\": [1, 2, 3, 4, 5, 6, 7, 8, 9, 10, 11, 12, 13, 14, 15, 16, 17, 18, 19, 20, 21, 22, 23, 24, 25, 26, 27, 28, 29, 30, 31, 32, 33, 34, 35, 36], \"colorscale\": [[0.0, \"rgb(12, 51, 131)\"], [1.0, \"rgb(217, 30, 30)\"]], \"showscale\": false, \"size\": 6}, \"mode\": \"markers\", \"showlegend\": false, \"type\": \"scatter\", \"x\": [10.0, 88.0, 3.0, 122.0, 8.0, 84.0, 3.0, 122.0, 7.0, 100.0, 3.0, 120.0, 9.0, 108.0, 3.0, 77.0, 8.0, 82.0, 3.0, 78.0, 6.0, 68.0, 3.0, 84.0, 5.0, 73.0, 3.0, 76.0, 7.0, 59.0, 3.0, 75.0, 6.0, 45.0, 3.0, 75.0], \"xaxis\": \"x6\", \"y\": [9.873961805, 8.86562257, 9.868614098, 7.953920500000001, 9.865921211, 8.86562257, 9.868614098, 7.953920500000001, 9.854226107, 8.86562257, 9.868614098, 7.953920500000001, 9.858319676, 8.878694615, 9.864232503, 7.953920500000001, 9.802475229, 9.139192742, 9.877641425, 7.676142722000001, 9.797349416, 9.13690094, 9.882309406000001, 7.676142722000001, 9.805204341, 9.689904452, 9.868804302000001, 7.953920500000001, 9.783137107, 9.546148305, 9.793376419, 7.953920500000001, 9.781389454, 9.731227421, 9.841059292999999, 8.120587166], \"yaxis\": \"y6\"}, {\"marker\": {\"color\": [1, 2, 3, 4, 5, 6, 7, 8, 9, 10, 11, 12, 13, 14, 15, 16, 17, 18, 19, 20, 21, 22, 23, 24, 25, 26, 27, 28, 29, 30, 31, 32, 33, 34, 35, 36], \"colorscale\": [[0.0, \"rgb(12, 51, 131)\"], [1.0, \"rgb(217, 30, 30)\"]], \"showscale\": false, \"size\": 6}, \"mode\": \"markers\", \"showlegend\": false, \"type\": \"scatter\", \"x\": [10.0, 7.5, 10.0, 7.5, 10.0, 7.5, 10.0, 7.5, 10.0, 7.5, 10.0, 7.5, 10.0, 7.5, 10.0, 7.5, 9.833333332999999, 8.333333332999999, 10.0, 6.666666667, 9.833333332999999, 8.333333332999999, 10.0, 6.666666667, 9.833333332999999, 10.0, 10.0, 7.5, 9.833333332999999, 10.0, 10.0, 7.5, 9.833333332999999, 10.0, 10.0, 7.5], \"xaxis\": \"x7\", \"y\": [10.0, 88.0, 3.0, 122.0, 8.0, 84.0, 3.0, 122.0, 7.0, 100.0, 3.0, 120.0, 9.0, 108.0, 3.0, 77.0, 8.0, 82.0, 3.0, 78.0, 6.0, 68.0, 3.0, 84.0, 5.0, 73.0, 3.0, 76.0, 7.0, 59.0, 3.0, 75.0, 6.0, 45.0, 3.0, 75.0], \"yaxis\": \"y7\"}, {\"marker\": {\"color\": [1, 2, 3, 4, 5, 6, 7, 8, 9, 10, 11, 12, 13, 14, 15, 16, 17, 18, 19, 20, 21, 22, 23, 24, 25, 26, 27, 28, 29, 30, 31, 32, 33, 34, 35, 36], \"colorscale\": [[0.0, \"rgb(12, 51, 131)\"], [1.0, \"rgb(217, 30, 30)\"]], \"showscale\": false, \"size\": 6}, \"mode\": \"markers\", \"showlegend\": false, \"type\": \"scatter\", \"x\": [9.873961805, 8.86562257, 9.868614098, 7.953920500000001, 9.865921211, 8.86562257, 9.868614098, 7.953920500000001, 9.854226107, 8.86562257, 9.868614098, 7.953920500000001, 9.858319676, 8.878694615, 9.864232503, 7.953920500000001, 9.802475229, 9.139192742, 9.877641425, 7.676142722000001, 9.797349416, 9.13690094, 9.882309406000001, 7.676142722000001, 9.805204341, 9.689904452, 9.868804302000001, 7.953920500000001, 9.783137107, 9.546148305, 9.793376419, 7.953920500000001, 9.781389454, 9.731227421, 9.841059292999999, 8.120587166], \"xaxis\": \"x8\", \"y\": [10.0, 88.0, 3.0, 122.0, 8.0, 84.0, 3.0, 122.0, 7.0, 100.0, 3.0, 120.0, 9.0, 108.0, 3.0, 77.0, 8.0, 82.0, 3.0, 78.0, 6.0, 68.0, 3.0, 84.0, 5.0, 73.0, 3.0, 76.0, 7.0, 59.0, 3.0, 75.0, 6.0, 45.0, 3.0, 75.0], \"yaxis\": \"y8\"}, {\"marker\": {\"color\": \"rgb(12, 51, 131)\"}, \"showlegend\": false, \"type\": \"box\", \"xaxis\": \"x9\", \"y\": [10.0, 88.0, 3.0, 122.0, 8.0, 84.0, 3.0, 122.0, 7.0, 100.0, 3.0, 120.0, 9.0, 108.0, 3.0, 77.0, 8.0, 82.0, 3.0, 78.0, 6.0, 68.0, 3.0, 84.0, 5.0, 73.0, 3.0, 76.0, 7.0, 59.0, 3.0, 75.0, 6.0, 45.0, 3.0, 75.0], \"yaxis\": \"y9\"}],                        {\"height\": 700, \"showlegend\": true, \"template\": {\"data\": {\"bar\": [{\"error_x\": {\"color\": \"#2a3f5f\"}, \"error_y\": {\"color\": \"#2a3f5f\"}, \"marker\": {\"line\": {\"color\": \"#E5ECF6\", \"width\": 0.5}}, \"type\": \"bar\"}], \"barpolar\": [{\"marker\": {\"line\": {\"color\": \"#E5ECF6\", \"width\": 0.5}}, \"type\": \"barpolar\"}], \"carpet\": [{\"aaxis\": {\"endlinecolor\": \"#2a3f5f\", \"gridcolor\": \"white\", \"linecolor\": \"white\", \"minorgridcolor\": \"white\", \"startlinecolor\": \"#2a3f5f\"}, \"baxis\": {\"endlinecolor\": \"#2a3f5f\", \"gridcolor\": \"white\", \"linecolor\": \"white\", \"minorgridcolor\": \"white\", \"startlinecolor\": \"#2a3f5f\"}, \"type\": \"carpet\"}], \"choropleth\": [{\"colorbar\": {\"outlinewidth\": 0, \"ticks\": \"\"}, \"type\": \"choropleth\"}], \"contour\": [{\"colorbar\": {\"outlinewidth\": 0, \"ticks\": \"\"}, \"colorscale\": [[0.0, \"#0d0887\"], [0.1111111111111111, \"#46039f\"], [0.2222222222222222, \"#7201a8\"], [0.3333333333333333, \"#9c179e\"], [0.4444444444444444, \"#bd3786\"], [0.5555555555555556, \"#d8576b\"], [0.6666666666666666, \"#ed7953\"], [0.7777777777777778, \"#fb9f3a\"], [0.8888888888888888, \"#fdca26\"], [1.0, \"#f0f921\"]], \"type\": \"contour\"}], \"contourcarpet\": [{\"colorbar\": {\"outlinewidth\": 0, \"ticks\": \"\"}, \"type\": \"contourcarpet\"}], \"heatmap\": [{\"colorbar\": {\"outlinewidth\": 0, \"ticks\": \"\"}, \"colorscale\": [[0.0, \"#0d0887\"], [0.1111111111111111, \"#46039f\"], [0.2222222222222222, \"#7201a8\"], [0.3333333333333333, \"#9c179e\"], [0.4444444444444444, \"#bd3786\"], [0.5555555555555556, \"#d8576b\"], [0.6666666666666666, \"#ed7953\"], [0.7777777777777778, \"#fb9f3a\"], [0.8888888888888888, \"#fdca26\"], [1.0, \"#f0f921\"]], \"type\": \"heatmap\"}], \"heatmapgl\": [{\"colorbar\": {\"outlinewidth\": 0, \"ticks\": \"\"}, \"colorscale\": [[0.0, \"#0d0887\"], [0.1111111111111111, \"#46039f\"], [0.2222222222222222, \"#7201a8\"], [0.3333333333333333, \"#9c179e\"], [0.4444444444444444, \"#bd3786\"], [0.5555555555555556, \"#d8576b\"], [0.6666666666666666, \"#ed7953\"], [0.7777777777777778, \"#fb9f3a\"], [0.8888888888888888, \"#fdca26\"], [1.0, \"#f0f921\"]], \"type\": \"heatmapgl\"}], \"histogram\": [{\"marker\": {\"colorbar\": {\"outlinewidth\": 0, \"ticks\": \"\"}}, \"type\": \"histogram\"}], \"histogram2d\": [{\"colorbar\": {\"outlinewidth\": 0, \"ticks\": \"\"}, \"colorscale\": [[0.0, \"#0d0887\"], [0.1111111111111111, \"#46039f\"], [0.2222222222222222, \"#7201a8\"], [0.3333333333333333, \"#9c179e\"], [0.4444444444444444, \"#bd3786\"], [0.5555555555555556, \"#d8576b\"], [0.6666666666666666, \"#ed7953\"], [0.7777777777777778, \"#fb9f3a\"], [0.8888888888888888, \"#fdca26\"], [1.0, \"#f0f921\"]], \"type\": \"histogram2d\"}], \"histogram2dcontour\": [{\"colorbar\": {\"outlinewidth\": 0, \"ticks\": \"\"}, \"colorscale\": [[0.0, \"#0d0887\"], [0.1111111111111111, \"#46039f\"], [0.2222222222222222, \"#7201a8\"], [0.3333333333333333, \"#9c179e\"], [0.4444444444444444, \"#bd3786\"], [0.5555555555555556, \"#d8576b\"], [0.6666666666666666, \"#ed7953\"], [0.7777777777777778, \"#fb9f3a\"], [0.8888888888888888, \"#fdca26\"], [1.0, \"#f0f921\"]], \"type\": \"histogram2dcontour\"}], \"mesh3d\": [{\"colorbar\": {\"outlinewidth\": 0, \"ticks\": \"\"}, \"type\": \"mesh3d\"}], \"parcoords\": [{\"line\": {\"colorbar\": {\"outlinewidth\": 0, \"ticks\": \"\"}}, \"type\": \"parcoords\"}], \"pie\": [{\"automargin\": true, \"type\": \"pie\"}], \"scatter\": [{\"marker\": {\"colorbar\": {\"outlinewidth\": 0, \"ticks\": \"\"}}, \"type\": \"scatter\"}], \"scatter3d\": [{\"line\": {\"colorbar\": {\"outlinewidth\": 0, \"ticks\": \"\"}}, \"marker\": {\"colorbar\": {\"outlinewidth\": 0, \"ticks\": \"\"}}, \"type\": \"scatter3d\"}], \"scattercarpet\": [{\"marker\": {\"colorbar\": {\"outlinewidth\": 0, \"ticks\": \"\"}}, \"type\": \"scattercarpet\"}], \"scattergeo\": [{\"marker\": {\"colorbar\": {\"outlinewidth\": 0, \"ticks\": \"\"}}, \"type\": \"scattergeo\"}], \"scattergl\": [{\"marker\": {\"colorbar\": {\"outlinewidth\": 0, \"ticks\": \"\"}}, \"type\": \"scattergl\"}], \"scattermapbox\": [{\"marker\": {\"colorbar\": {\"outlinewidth\": 0, \"ticks\": \"\"}}, \"type\": \"scattermapbox\"}], \"scatterpolar\": [{\"marker\": {\"colorbar\": {\"outlinewidth\": 0, \"ticks\": \"\"}}, \"type\": \"scatterpolar\"}], \"scatterpolargl\": [{\"marker\": {\"colorbar\": {\"outlinewidth\": 0, \"ticks\": \"\"}}, \"type\": \"scatterpolargl\"}], \"scatterternary\": [{\"marker\": {\"colorbar\": {\"outlinewidth\": 0, \"ticks\": \"\"}}, \"type\": \"scatterternary\"}], \"surface\": [{\"colorbar\": {\"outlinewidth\": 0, \"ticks\": \"\"}, \"colorscale\": [[0.0, \"#0d0887\"], [0.1111111111111111, \"#46039f\"], [0.2222222222222222, \"#7201a8\"], [0.3333333333333333, \"#9c179e\"], [0.4444444444444444, \"#bd3786\"], [0.5555555555555556, \"#d8576b\"], [0.6666666666666666, \"#ed7953\"], [0.7777777777777778, \"#fb9f3a\"], [0.8888888888888888, \"#fdca26\"], [1.0, \"#f0f921\"]], \"type\": \"surface\"}], \"table\": [{\"cells\": {\"fill\": {\"color\": \"#EBF0F8\"}, \"line\": {\"color\": \"white\"}}, \"header\": {\"fill\": {\"color\": \"#C8D4E3\"}, \"line\": {\"color\": \"white\"}}, \"type\": \"table\"}]}, \"layout\": {\"annotationdefaults\": {\"arrowcolor\": \"#2a3f5f\", \"arrowhead\": 0, \"arrowwidth\": 1}, \"autotypenumbers\": \"strict\", \"coloraxis\": {\"colorbar\": {\"outlinewidth\": 0, \"ticks\": \"\"}}, \"colorscale\": {\"diverging\": [[0, \"#8e0152\"], [0.1, \"#c51b7d\"], [0.2, \"#de77ae\"], [0.3, \"#f1b6da\"], [0.4, \"#fde0ef\"], [0.5, \"#f7f7f7\"], [0.6, \"#e6f5d0\"], [0.7, \"#b8e186\"], [0.8, \"#7fbc41\"], [0.9, \"#4d9221\"], [1, \"#276419\"]], \"sequential\": [[0.0, \"#0d0887\"], [0.1111111111111111, \"#46039f\"], [0.2222222222222222, \"#7201a8\"], [0.3333333333333333, \"#9c179e\"], [0.4444444444444444, \"#bd3786\"], [0.5555555555555556, \"#d8576b\"], [0.6666666666666666, \"#ed7953\"], [0.7777777777777778, \"#fb9f3a\"], [0.8888888888888888, \"#fdca26\"], [1.0, \"#f0f921\"]], \"sequentialminus\": [[0.0, \"#0d0887\"], [0.1111111111111111, \"#46039f\"], [0.2222222222222222, \"#7201a8\"], [0.3333333333333333, \"#9c179e\"], [0.4444444444444444, \"#bd3786\"], [0.5555555555555556, \"#d8576b\"], [0.6666666666666666, \"#ed7953\"], [0.7777777777777778, \"#fb9f3a\"], [0.8888888888888888, \"#fdca26\"], [1.0, \"#f0f921\"]]}, \"colorway\": [\"#636efa\", \"#EF553B\", \"#00cc96\", \"#ab63fa\", \"#FFA15A\", \"#19d3f3\", \"#FF6692\", \"#B6E880\", \"#FF97FF\", \"#FECB52\"], \"font\": {\"color\": \"#2a3f5f\"}, \"geo\": {\"bgcolor\": \"white\", \"lakecolor\": \"white\", \"landcolor\": \"#E5ECF6\", \"showlakes\": true, \"showland\": true, \"subunitcolor\": \"white\"}, \"hoverlabel\": {\"align\": \"left\"}, \"hovermode\": \"closest\", \"mapbox\": {\"style\": \"light\"}, \"paper_bgcolor\": \"white\", \"plot_bgcolor\": \"#E5ECF6\", \"polar\": {\"angularaxis\": {\"gridcolor\": \"white\", \"linecolor\": \"white\", \"ticks\": \"\"}, \"bgcolor\": \"#E5ECF6\", \"radialaxis\": {\"gridcolor\": \"white\", \"linecolor\": \"white\", \"ticks\": \"\"}}, \"scene\": {\"xaxis\": {\"backgroundcolor\": \"#E5ECF6\", \"gridcolor\": \"white\", \"gridwidth\": 2, \"linecolor\": \"white\", \"showbackground\": true, \"ticks\": \"\", \"zerolinecolor\": \"white\"}, \"yaxis\": {\"backgroundcolor\": \"#E5ECF6\", \"gridcolor\": \"white\", \"gridwidth\": 2, \"linecolor\": \"white\", \"showbackground\": true, \"ticks\": \"\", \"zerolinecolor\": \"white\"}, \"zaxis\": {\"backgroundcolor\": \"#E5ECF6\", \"gridcolor\": \"white\", \"gridwidth\": 2, \"linecolor\": \"white\", \"showbackground\": true, \"ticks\": \"\", \"zerolinecolor\": \"white\"}}, \"shapedefaults\": {\"line\": {\"color\": \"#2a3f5f\"}}, \"ternary\": {\"aaxis\": {\"gridcolor\": \"white\", \"linecolor\": \"white\", \"ticks\": \"\"}, \"baxis\": {\"gridcolor\": \"white\", \"linecolor\": \"white\", \"ticks\": \"\"}, \"bgcolor\": \"#E5ECF6\", \"caxis\": {\"gridcolor\": \"white\", \"linecolor\": \"white\", \"ticks\": \"\"}}, \"title\": {\"x\": 0.05}, \"xaxis\": {\"automargin\": true, \"gridcolor\": \"white\", \"linecolor\": \"white\", \"ticks\": \"\", \"title\": {\"standoff\": 15}, \"zerolinecolor\": \"white\", \"zerolinewidth\": 2}, \"yaxis\": {\"automargin\": true, \"gridcolor\": \"white\", \"linecolor\": \"white\", \"ticks\": \"\", \"title\": {\"standoff\": 15}, \"zerolinecolor\": \"white\", \"zerolinewidth\": 2}}}, \"title\": {\"text\": \"Scatterplot Matrix\"}, \"width\": 700, \"xaxis\": {\"anchor\": \"y\", \"domain\": [0.0, 0.2888888888888889], \"showticklabels\": false}, \"xaxis2\": {\"anchor\": \"y2\", \"domain\": [0.35555555555555557, 0.6444444444444445]}, \"xaxis3\": {\"anchor\": \"y3\", \"domain\": [0.7111111111111111, 1.0]}, \"xaxis4\": {\"anchor\": \"y4\", \"domain\": [0.0, 0.2888888888888889]}, \"xaxis5\": {\"anchor\": \"y5\", \"domain\": [0.35555555555555557, 0.6444444444444445], \"showticklabels\": false}, \"xaxis6\": {\"anchor\": \"y6\", \"domain\": [0.7111111111111111, 1.0]}, \"xaxis7\": {\"anchor\": \"y7\", \"domain\": [0.0, 0.2888888888888889], \"title\": {\"text\": \"pf_ss_women\"}}, \"xaxis8\": {\"anchor\": \"y8\", \"domain\": [0.35555555555555557, 0.6444444444444445], \"title\": {\"text\": \"pf_ss\"}}, \"xaxis9\": {\"anchor\": \"y9\", \"domain\": [0.7111111111111111, 1.0], \"showticklabels\": false, \"title\": {\"text\": \"ef_rank\"}}, \"yaxis\": {\"anchor\": \"x\", \"domain\": [0.7333333333333333, 1.0], \"title\": {\"text\": \"pf_ss_women\"}}, \"yaxis2\": {\"anchor\": \"x2\", \"domain\": [0.7333333333333333, 1.0]}, \"yaxis3\": {\"anchor\": \"x3\", \"domain\": [0.7333333333333333, 1.0]}, \"yaxis4\": {\"anchor\": \"x4\", \"domain\": [0.36666666666666664, 0.6333333333333333], \"title\": {\"text\": \"pf_ss\"}}, \"yaxis5\": {\"anchor\": \"x5\", \"domain\": [0.36666666666666664, 0.6333333333333333]}, \"yaxis6\": {\"anchor\": \"x6\", \"domain\": [0.36666666666666664, 0.6333333333333333]}, \"yaxis7\": {\"anchor\": \"x7\", \"domain\": [0.0, 0.26666666666666666], \"title\": {\"text\": \"ef_rank\"}}, \"yaxis8\": {\"anchor\": \"x8\", \"domain\": [0.0, 0.26666666666666666]}, \"yaxis9\": {\"anchor\": \"x9\", \"domain\": [0.0, 0.26666666666666666]}},                        {\"responsive\": true}                    ).then(function(){\n",
       "                            \n",
       "var gd = document.getElementById('eddaac97-bfd1-4d2b-b242-966ec558ca25');\n",
       "var x = new MutationObserver(function (mutations, observer) {{\n",
       "        var display = window.getComputedStyle(gd).display;\n",
       "        if (!display || display === 'none') {{\n",
       "            console.log([gd, 'removed!']);\n",
       "            Plotly.purge(gd);\n",
       "            observer.disconnect();\n",
       "        }}\n",
       "}});\n",
       "\n",
       "// Listen for the removal of the full notebook cells\n",
       "var notebookContainer = gd.closest('#notebook-container');\n",
       "if (notebookContainer) {{\n",
       "    x.observe(notebookContainer, {childList: true});\n",
       "}}\n",
       "\n",
       "// Listen for the clearing of the current output cell\n",
       "var outputEl = gd.closest('.output');\n",
       "if (outputEl) {{\n",
       "    x.observe(outputEl, {childList: true});\n",
       "}}\n",
       "\n",
       "                        })                };                });            </script>        </div>"
      ]
     },
     "metadata": {},
     "output_type": "display_data"
    }
   ],
   "source": [
    "# 9. ANALYSE THE RELATIONSHIP BETWEEN SECURITY OF WOMEN, SECURITY LEVEL OF THE COUNTRY AND ECONOMIC FREEDOM IN OCEANIC COUNTRIES\n",
    "# In this section I filtered the human freedom index data to show only Oceania region's security of women,\n",
    "# security of people and economic freedom rank columns.\n",
    "\n",
    "dataocean = data[data.region == 'Oceania']\n",
    "dataocean = dataocean.filter(['pf_ss_women', 'pf_ss', 'ef_rank'])\n",
    "dataocean['index'] = np.arange(1, len(dataocean)+1)\n",
    "\n",
    "import plotly.figure_factory as ff\n",
    "fig = ff.create_scatterplotmatrix(dataocean, diag='box', index = 'index', colormap='Portland', colormap_type='cat',\n",
    "                                  height=700, width=700)\n",
    "py.iplot(fig)"
   ]
  },
  {
   "cell_type": "code",
   "execution_count": 24,
   "metadata": {},
   "outputs": [],
   "source": [
    "# We can see from the graphic above that \n",
    "# if the ''economic freedom rank'' is low, ''security of women'' and ''security of human'' levels are low as well."
   ]
  },
  {
   "cell_type": "code",
   "execution_count": 25,
   "metadata": {},
   "outputs": [
    {
     "data": {
      "text/html": [
       "<div>\n",
       "<style scoped>\n",
       "    .dataframe tbody tr th:only-of-type {\n",
       "        vertical-align: middle;\n",
       "    }\n",
       "\n",
       "    .dataframe tbody tr th {\n",
       "        vertical-align: top;\n",
       "    }\n",
       "\n",
       "    .dataframe thead th {\n",
       "        text-align: right;\n",
       "    }\n",
       "</style>\n",
       "<table border=\"1\" class=\"dataframe\">\n",
       "  <thead>\n",
       "    <tr style=\"text-align: right;\">\n",
       "      <th></th>\n",
       "      <th>year</th>\n",
       "      <th>countries</th>\n",
       "      <th>pf_ss_women</th>\n",
       "    </tr>\n",
       "  </thead>\n",
       "  <tbody>\n",
       "    <tr>\n",
       "      <td>157</td>\n",
       "      <td>2016</td>\n",
       "      <td>Venezuela</td>\n",
       "      <td>10.000000</td>\n",
       "    </tr>\n",
       "    <tr>\n",
       "      <td>158</td>\n",
       "      <td>2016</td>\n",
       "      <td>Vietnam</td>\n",
       "      <td>7.500000</td>\n",
       "    </tr>\n",
       "    <tr>\n",
       "      <td>159</td>\n",
       "      <td>2016</td>\n",
       "      <td>Yemen, Rep.</td>\n",
       "      <td>4.566667</td>\n",
       "    </tr>\n",
       "    <tr>\n",
       "      <td>160</td>\n",
       "      <td>2016</td>\n",
       "      <td>Zambia</td>\n",
       "      <td>7.466667</td>\n",
       "    </tr>\n",
       "    <tr>\n",
       "      <td>161</td>\n",
       "      <td>2016</td>\n",
       "      <td>Zimbabwe</td>\n",
       "      <td>7.500000</td>\n",
       "    </tr>\n",
       "  </tbody>\n",
       "</table>\n",
       "</div>"
      ],
      "text/plain": [
       "     year    countries  pf_ss_women\n",
       "157  2016    Venezuela    10.000000\n",
       "158  2016      Vietnam     7.500000\n",
       "159  2016  Yemen, Rep.     4.566667\n",
       "160  2016       Zambia     7.466667\n",
       "161  2016     Zimbabwe     7.500000"
      ]
     },
     "execution_count": 25,
     "metadata": {},
     "output_type": "execute_result"
    }
   ],
   "source": [
    "# 10. SECURTIY OF WOMEN'S WORLD WIDE DISTRIBUTION IN 2016\n",
    "# To conclude my analysis I compared world countries according to their women's security level in a world map.\n",
    "\n",
    "dataset = data[data.year == 2016]\n",
    "dataset = dataset.loc[:, ['year', 'countries', 'pf_ss_women']]\n",
    "dataset.tail()"
   ]
  },
  {
   "cell_type": "code",
   "execution_count": 26,
   "metadata": {},
   "outputs": [
    {
     "data": {
      "application/vnd.plotly.v1+json": {
       "config": {
        "linkText": "Export to plot.ly",
        "plotlyServerURL": "https://plot.ly",
        "showLink": false
       },
       "data": [
        {
         "autocolorscale": false,
         "colorbar": {
          "autotick": false,
          "tickprefix": "",
          "title": "Security of Women"
         },
         "colorscale": [
          [
           0,
           "rgb(5, 10, 172)"
          ],
          [
           2,
           "rgb(40, 60, 190)"
          ],
          [
           4,
           "rgb(70, 100, 245)"
          ],
          [
           6,
           "rgb(90, 120, 245)"
          ],
          [
           8,
           "rgb(106, 137, 247)"
          ],
          [
           10,
           "rgb(220, 220, 220)"
          ]
         ],
         "locationmode": "country names",
         "locations": [
          "Albania",
          "Algeria",
          "Angola",
          "Argentina",
          "Armenia",
          "Australia",
          "Austria",
          "Azerbaijan",
          "Bahamas",
          "Bahrain",
          "Bangladesh",
          "Barbados",
          "Belarus",
          "Belgium",
          "Belize",
          "Benin",
          "Bhutan",
          "Bolivia",
          "Bosnia and Herzegovina",
          "Botswana",
          "Brazil",
          "Brunei Darussalam",
          "Bulgaria",
          "Burkina Faso",
          "Burundi",
          "Cambodia",
          "Cameroon",
          "Canada",
          "Cape Verde",
          "Central Afr. Rep.",
          "Chad",
          "Chile",
          "China",
          "Colombia",
          "Congo, Dem. R.",
          "Congo, Rep. Of",
          "Costa Rica",
          "Cote d'Ivoire",
          "Croatia",
          "Cyprus",
          "Czech Rep.",
          "Denmark",
          "Dominican Rep.",
          "Ecuador",
          "Egypt",
          "El Salvador",
          "Estonia",
          "Ethiopia",
          "Fiji",
          "Finland",
          "France",
          "Gabon",
          "Gambia, The",
          "Georgia",
          "Germany",
          "Ghana",
          "Greece",
          "Guatemala",
          "Guinea",
          "Guinea-Bissau",
          "Guyana",
          "Haiti",
          "Honduras",
          "Hong Kong",
          "Hungary",
          "Iceland",
          "India",
          "Indonesia",
          "Iran",
          "Iraq",
          "Ireland",
          "Israel",
          "Italy",
          "Jamaica",
          "Japan",
          "Jordan",
          "Kazakhstan",
          "Kenya",
          "Korea, South",
          "Kuwait",
          "Kyrgyz Republic",
          "Laos",
          "Latvia",
          "Lebanon",
          "Lesotho",
          "Liberia",
          "Libya",
          "Lithuania",
          "Luxembourg",
          "Macedonia",
          "Madagascar",
          "Malawi",
          "Malaysia",
          "Mali",
          "Malta",
          "Mauritania",
          "Mauritius",
          "Mexico",
          "Moldova",
          "Mongolia",
          "Montenegro",
          "Morocco",
          "Mozambique",
          "Myanmar",
          "Namibia",
          "Nepal",
          "Netherlands",
          "New Zealand",
          "Nicaragua",
          "Niger",
          "Nigeria",
          "Norway",
          "Oman",
          "Pakistan",
          "Panama",
          "Pap. New Guinea",
          "Paraguay",
          "Peru",
          "Philippines",
          "Poland",
          "Portugal",
          "Qatar",
          "Romania",
          "Russia",
          "Rwanda",
          "Saudi Arabia",
          "Senegal",
          "Serbia",
          "Seychelles",
          "Sierra Leone",
          "Singapore",
          "Slovak Rep.",
          "Slovenia",
          "South Africa",
          "Spain",
          "Sri Lanka",
          "Sudan",
          "Suriname",
          "Swaziland",
          "Sweden",
          "Switzerland",
          "Syria",
          "Taiwan",
          "Tajikistan",
          "Tanzania",
          "Thailand",
          "Timor-Leste",
          "Togo",
          "Trinidad and Tobago",
          "Tunisia",
          "Turkey",
          "Uganda",
          "Ukraine",
          "United Arab Emirates",
          "United Kingdom",
          "United States",
          "Uruguay",
          "Venezuela",
          "Vietnam",
          "Yemen, Rep.",
          "Zambia",
          "Zimbabwe"
         ],
         "marker": {
          "line": {
           "color": "rgb(150,150,150)",
           "width": 0.5
          }
         },
         "reversescale": true,
         "text": [
          "Albania",
          "Algeria",
          "Angola",
          "Argentina",
          "Armenia",
          "Australia",
          "Austria",
          "Azerbaijan",
          "Bahamas",
          "Bahrain",
          "Bangladesh",
          "Barbados",
          "Belarus",
          "Belgium",
          "Belize",
          "Benin",
          "Bhutan",
          "Bolivia",
          "Bosnia and Herzegovina",
          "Botswana",
          "Brazil",
          "Brunei Darussalam",
          "Bulgaria",
          "Burkina Faso",
          "Burundi",
          "Cambodia",
          "Cameroon",
          "Canada",
          "Cape Verde",
          "Central Afr. Rep.",
          "Chad",
          "Chile",
          "China",
          "Colombia",
          "Congo, Dem. R.",
          "Congo, Rep. Of",
          "Costa Rica",
          "Cote d'Ivoire",
          "Croatia",
          "Cyprus",
          "Czech Rep.",
          "Denmark",
          "Dominican Rep.",
          "Ecuador",
          "Egypt",
          "El Salvador",
          "Estonia",
          "Ethiopia",
          "Fiji",
          "Finland",
          "France",
          "Gabon",
          "Gambia, The",
          "Georgia",
          "Germany",
          "Ghana",
          "Greece",
          "Guatemala",
          "Guinea",
          "Guinea-Bissau",
          "Guyana",
          "Haiti",
          "Honduras",
          "Hong Kong",
          "Hungary",
          "Iceland",
          "India",
          "Indonesia",
          "Iran",
          "Iraq",
          "Ireland",
          "Israel",
          "Italy",
          "Jamaica",
          "Japan",
          "Jordan",
          "Kazakhstan",
          "Kenya",
          "Korea, South",
          "Kuwait",
          "Kyrgyz Republic",
          "Laos",
          "Latvia",
          "Lebanon",
          "Lesotho",
          "Liberia",
          "Libya",
          "Lithuania",
          "Luxembourg",
          "Macedonia",
          "Madagascar",
          "Malawi",
          "Malaysia",
          "Mali",
          "Malta",
          "Mauritania",
          "Mauritius",
          "Mexico",
          "Moldova",
          "Mongolia",
          "Montenegro",
          "Morocco",
          "Mozambique",
          "Myanmar",
          "Namibia",
          "Nepal",
          "Netherlands",
          "New Zealand",
          "Nicaragua",
          "Niger",
          "Nigeria",
          "Norway",
          "Oman",
          "Pakistan",
          "Panama",
          "Pap. New Guinea",
          "Paraguay",
          "Peru",
          "Philippines",
          "Poland",
          "Portugal",
          "Qatar",
          "Romania",
          "Russia",
          "Rwanda",
          "Saudi Arabia",
          "Senegal",
          "Serbia",
          "Seychelles",
          "Sierra Leone",
          "Singapore",
          "Slovak Rep.",
          "Slovenia",
          "South Africa",
          "Spain",
          "Sri Lanka",
          "Sudan",
          "Suriname",
          "Swaziland",
          "Sweden",
          "Switzerland",
          "Syria",
          "Taiwan",
          "Tajikistan",
          "Tanzania",
          "Thailand",
          "Timor-Leste",
          "Togo",
          "Trinidad and Tobago",
          "Tunisia",
          "Turkey",
          "Uganda",
          "Ukraine",
          "United Arab Emirates",
          "United Kingdom",
          "United States",
          "Uruguay",
          "Venezuela",
          "Vietnam",
          "Yemen, Rep.",
          "Zambia",
          "Zimbabwe"
         ],
         "type": "choropleth",
         "z": [
          7.5,
          5.833333333,
          8.333333332999999,
          10,
          8.333333332999999,
          10,
          10,
          8.333333332999999,
          null,
          5.833333333,
          5.833333333,
          null,
          10,
          10,
          10,
          7.066666667000001,
          7.5,
          8.333333332999999,
          8.333333332999999,
          7.5,
          8.333333332999999,
          0,
          10,
          5.8,
          6.666666667,
          10,
          7.466666667,
          10,
          null,
          7.533333333,
          5.2,
          8.333333332999999,
          5.833333333,
          10,
          8.333333332999999,
          9.166666667000001,
          10,
          6.3,
          10,
          10,
          10,
          10,
          10,
          10,
          2.8,
          10,
          10,
          5.8666666670000005,
          7.5,
          10,
          10,
          8.333333332999999,
          4.133333333,
          7.5,
          10,
          8.2,
          8.333333332999999,
          10,
          5.133333333,
          5.833333333,
          10,
          8.333333332999999,
          8.333333332999999,
          8.333333332999999,
          10,
          10,
          6.666666667,
          7.5,
          5.833333333,
          5.833333333,
          10,
          10,
          10,
          10,
          9.166666667000001,
          5.833333333,
          10,
          6.6,
          9.166666667000001,
          5.833333333,
          8.333333332999999,
          8.333333332999999,
          10,
          6.666666667,
          7.5,
          6.4,
          5.833333333,
          10,
          10,
          7.5,
          8.333333332999999,
          7.5,
          6.666666667,
          4.533333333,
          10,
          3.433333333,
          8.333333332999999,
          8.333333332999999,
          8.333333332999999,
          10,
          null,
          6.666666667,
          8.333333332999999,
          7.5,
          8.333333332999999,
          9.166666667000001,
          10,
          10,
          8.333333332999999,
          5.766666667000001,
          4.833333333,
          10,
          5.833333333,
          5,
          10,
          7.5,
          8.333333332999999,
          8.333333332999999,
          8.333333332999999,
          10,
          10,
          5.833333333,
          10,
          10,
          8.333333332999999,
          5,
          7.466666667,
          9.166666667000001,
          null,
          5.4,
          8.333333332999999,
          10,
          10,
          9.166666667000001,
          9.166666667000001,
          8.333333332999999,
          3.733333333,
          5,
          7.5,
          10,
          9.166666667000001,
          5.833333333,
          10,
          8.333333332999999,
          5.333333333,
          8.333333332999999,
          7.5,
          8.2,
          8.333333332999999,
          5.833333333,
          10,
          7.466666667,
          9.166666667000001,
          5.833333333,
          10,
          10,
          8.333333332999999,
          10,
          7.5,
          4.566666667,
          7.466666667,
          7.5
         ]
        }
       ],
       "layout": {
        "geo": {
         "projection": {
          "type": "Mercator"
         },
         "showcoastlines": true,
         "showframe": false
        },
        "title": "Securtiy of Women in 2016"
       }
      },
      "text/html": [
       "<div>                            <div id=\"6ad5978f-bb04-475c-a97c-7740dc0d675f\" class=\"plotly-graph-div\" style=\"height:525px; width:100%;\"></div>            <script type=\"text/javascript\">                require([\"plotly\"], function(Plotly) {                    window.PLOTLYENV=window.PLOTLYENV || {};                                    if (document.getElementById(\"6ad5978f-bb04-475c-a97c-7740dc0d675f\")) {                    Plotly.newPlot(                        \"6ad5978f-bb04-475c-a97c-7740dc0d675f\",                        [{\"autocolorscale\": false, \"colorbar\": {\"autotick\": false, \"tickprefix\": \"\", \"title\": \"Security of Women\"}, \"colorscale\": [[0, \"rgb(5, 10, 172)\"], [2, \"rgb(40, 60, 190)\"], [4, \"rgb(70, 100, 245)\"], [6, \"rgb(90, 120, 245)\"], [8, \"rgb(106, 137, 247)\"], [10, \"rgb(220, 220, 220)\"]], \"locationmode\": \"country names\", \"locations\": [\"Albania\", \"Algeria\", \"Angola\", \"Argentina\", \"Armenia\", \"Australia\", \"Austria\", \"Azerbaijan\", \"Bahamas\", \"Bahrain\", \"Bangladesh\", \"Barbados\", \"Belarus\", \"Belgium\", \"Belize\", \"Benin\", \"Bhutan\", \"Bolivia\", \"Bosnia and Herzegovina\", \"Botswana\", \"Brazil\", \"Brunei Darussalam\", \"Bulgaria\", \"Burkina Faso\", \"Burundi\", \"Cambodia\", \"Cameroon\", \"Canada\", \"Cape Verde\", \"Central Afr. Rep.\", \"Chad\", \"Chile\", \"China\", \"Colombia\", \"Congo, Dem. R.\", \"Congo, Rep. Of\", \"Costa Rica\", \"Cote d'Ivoire\", \"Croatia\", \"Cyprus\", \"Czech Rep.\", \"Denmark\", \"Dominican Rep.\", \"Ecuador\", \"Egypt\", \"El Salvador\", \"Estonia\", \"Ethiopia\", \"Fiji\", \"Finland\", \"France\", \"Gabon\", \"Gambia, The\", \"Georgia\", \"Germany\", \"Ghana\", \"Greece\", \"Guatemala\", \"Guinea\", \"Guinea-Bissau\", \"Guyana\", \"Haiti\", \"Honduras\", \"Hong Kong\", \"Hungary\", \"Iceland\", \"India\", \"Indonesia\", \"Iran\", \"Iraq\", \"Ireland\", \"Israel\", \"Italy\", \"Jamaica\", \"Japan\", \"Jordan\", \"Kazakhstan\", \"Kenya\", \"Korea, South\", \"Kuwait\", \"Kyrgyz Republic\", \"Laos\", \"Latvia\", \"Lebanon\", \"Lesotho\", \"Liberia\", \"Libya\", \"Lithuania\", \"Luxembourg\", \"Macedonia\", \"Madagascar\", \"Malawi\", \"Malaysia\", \"Mali\", \"Malta\", \"Mauritania\", \"Mauritius\", \"Mexico\", \"Moldova\", \"Mongolia\", \"Montenegro\", \"Morocco\", \"Mozambique\", \"Myanmar\", \"Namibia\", \"Nepal\", \"Netherlands\", \"New Zealand\", \"Nicaragua\", \"Niger\", \"Nigeria\", \"Norway\", \"Oman\", \"Pakistan\", \"Panama\", \"Pap. New Guinea\", \"Paraguay\", \"Peru\", \"Philippines\", \"Poland\", \"Portugal\", \"Qatar\", \"Romania\", \"Russia\", \"Rwanda\", \"Saudi Arabia\", \"Senegal\", \"Serbia\", \"Seychelles\", \"Sierra Leone\", \"Singapore\", \"Slovak Rep.\", \"Slovenia\", \"South Africa\", \"Spain\", \"Sri Lanka\", \"Sudan\", \"Suriname\", \"Swaziland\", \"Sweden\", \"Switzerland\", \"Syria\", \"Taiwan\", \"Tajikistan\", \"Tanzania\", \"Thailand\", \"Timor-Leste\", \"Togo\", \"Trinidad and Tobago\", \"Tunisia\", \"Turkey\", \"Uganda\", \"Ukraine\", \"United Arab Emirates\", \"United Kingdom\", \"United States\", \"Uruguay\", \"Venezuela\", \"Vietnam\", \"Yemen, Rep.\", \"Zambia\", \"Zimbabwe\"], \"marker\": {\"line\": {\"color\": \"rgb(150,150,150)\", \"width\": 0.5}}, \"reversescale\": true, \"text\": [\"Albania\", \"Algeria\", \"Angola\", \"Argentina\", \"Armenia\", \"Australia\", \"Austria\", \"Azerbaijan\", \"Bahamas\", \"Bahrain\", \"Bangladesh\", \"Barbados\", \"Belarus\", \"Belgium\", \"Belize\", \"Benin\", \"Bhutan\", \"Bolivia\", \"Bosnia and Herzegovina\", \"Botswana\", \"Brazil\", \"Brunei Darussalam\", \"Bulgaria\", \"Burkina Faso\", \"Burundi\", \"Cambodia\", \"Cameroon\", \"Canada\", \"Cape Verde\", \"Central Afr. Rep.\", \"Chad\", \"Chile\", \"China\", \"Colombia\", \"Congo, Dem. R.\", \"Congo, Rep. Of\", \"Costa Rica\", \"Cote d'Ivoire\", \"Croatia\", \"Cyprus\", \"Czech Rep.\", \"Denmark\", \"Dominican Rep.\", \"Ecuador\", \"Egypt\", \"El Salvador\", \"Estonia\", \"Ethiopia\", \"Fiji\", \"Finland\", \"France\", \"Gabon\", \"Gambia, The\", \"Georgia\", \"Germany\", \"Ghana\", \"Greece\", \"Guatemala\", \"Guinea\", \"Guinea-Bissau\", \"Guyana\", \"Haiti\", \"Honduras\", \"Hong Kong\", \"Hungary\", \"Iceland\", \"India\", \"Indonesia\", \"Iran\", \"Iraq\", \"Ireland\", \"Israel\", \"Italy\", \"Jamaica\", \"Japan\", \"Jordan\", \"Kazakhstan\", \"Kenya\", \"Korea, South\", \"Kuwait\", \"Kyrgyz Republic\", \"Laos\", \"Latvia\", \"Lebanon\", \"Lesotho\", \"Liberia\", \"Libya\", \"Lithuania\", \"Luxembourg\", \"Macedonia\", \"Madagascar\", \"Malawi\", \"Malaysia\", \"Mali\", \"Malta\", \"Mauritania\", \"Mauritius\", \"Mexico\", \"Moldova\", \"Mongolia\", \"Montenegro\", \"Morocco\", \"Mozambique\", \"Myanmar\", \"Namibia\", \"Nepal\", \"Netherlands\", \"New Zealand\", \"Nicaragua\", \"Niger\", \"Nigeria\", \"Norway\", \"Oman\", \"Pakistan\", \"Panama\", \"Pap. New Guinea\", \"Paraguay\", \"Peru\", \"Philippines\", \"Poland\", \"Portugal\", \"Qatar\", \"Romania\", \"Russia\", \"Rwanda\", \"Saudi Arabia\", \"Senegal\", \"Serbia\", \"Seychelles\", \"Sierra Leone\", \"Singapore\", \"Slovak Rep.\", \"Slovenia\", \"South Africa\", \"Spain\", \"Sri Lanka\", \"Sudan\", \"Suriname\", \"Swaziland\", \"Sweden\", \"Switzerland\", \"Syria\", \"Taiwan\", \"Tajikistan\", \"Tanzania\", \"Thailand\", \"Timor-Leste\", \"Togo\", \"Trinidad and Tobago\", \"Tunisia\", \"Turkey\", \"Uganda\", \"Ukraine\", \"United Arab Emirates\", \"United Kingdom\", \"United States\", \"Uruguay\", \"Venezuela\", \"Vietnam\", \"Yemen, Rep.\", \"Zambia\", \"Zimbabwe\"], \"type\": \"choropleth\", \"z\": [7.5, 5.833333333, 8.333333332999999, 10.0, 8.333333332999999, 10.0, 10.0, 8.333333332999999, null, 5.833333333, 5.833333333, null, 10.0, 10.0, 10.0, 7.066666667000001, 7.5, 8.333333332999999, 8.333333332999999, 7.5, 8.333333332999999, 0.0, 10.0, 5.8, 6.666666667, 10.0, 7.466666667, 10.0, null, 7.533333333, 5.2, 8.333333332999999, 5.833333333, 10.0, 8.333333332999999, 9.166666667000001, 10.0, 6.3, 10.0, 10.0, 10.0, 10.0, 10.0, 10.0, 2.8, 10.0, 10.0, 5.8666666670000005, 7.5, 10.0, 10.0, 8.333333332999999, 4.133333333, 7.5, 10.0, 8.2, 8.333333332999999, 10.0, 5.133333333, 5.833333333, 10.0, 8.333333332999999, 8.333333332999999, 8.333333332999999, 10.0, 10.0, 6.666666667, 7.5, 5.833333333, 5.833333333, 10.0, 10.0, 10.0, 10.0, 9.166666667000001, 5.833333333, 10.0, 6.6, 9.166666667000001, 5.833333333, 8.333333332999999, 8.333333332999999, 10.0, 6.666666667, 7.5, 6.4, 5.833333333, 10.0, 10.0, 7.5, 8.333333332999999, 7.5, 6.666666667, 4.533333333, 10.0, 3.433333333, 8.333333332999999, 8.333333332999999, 8.333333332999999, 10.0, null, 6.666666667, 8.333333332999999, 7.5, 8.333333332999999, 9.166666667000001, 10.0, 10.0, 8.333333332999999, 5.766666667000001, 4.833333333, 10.0, 5.833333333, 5.0, 10.0, 7.5, 8.333333332999999, 8.333333332999999, 8.333333332999999, 10.0, 10.0, 5.833333333, 10.0, 10.0, 8.333333332999999, 5.0, 7.466666667, 9.166666667000001, null, 5.4, 8.333333332999999, 10.0, 10.0, 9.166666667000001, 9.166666667000001, 8.333333332999999, 3.733333333, 5.0, 7.5, 10.0, 9.166666667000001, 5.833333333, 10.0, 8.333333332999999, 5.333333333, 8.333333332999999, 7.5, 8.2, 8.333333332999999, 5.833333333, 10.0, 7.466666667, 9.166666667000001, 5.833333333, 10.0, 10.0, 8.333333332999999, 10.0, 7.5, 4.566666667, 7.466666667, 7.5]}],                        {\"geo\": {\"projection\": {\"type\": \"Mercator\"}, \"showcoastlines\": true, \"showframe\": false}, \"title\": \"Securtiy of Women in 2016\"},                        {\"responsive\": true}                    ).then(function(){\n",
       "                            \n",
       "var gd = document.getElementById('6ad5978f-bb04-475c-a97c-7740dc0d675f');\n",
       "var x = new MutationObserver(function (mutations, observer) {{\n",
       "        var display = window.getComputedStyle(gd).display;\n",
       "        if (!display || display === 'none') {{\n",
       "            console.log([gd, 'removed!']);\n",
       "            Plotly.purge(gd);\n",
       "            observer.disconnect();\n",
       "        }}\n",
       "}});\n",
       "\n",
       "// Listen for the removal of the full notebook cells\n",
       "var notebookContainer = gd.closest('#notebook-container');\n",
       "if (notebookContainer) {{\n",
       "    x.observe(notebookContainer, {childList: true});\n",
       "}}\n",
       "\n",
       "// Listen for the clearing of the current output cell\n",
       "var outputEl = gd.closest('.output');\n",
       "if (outputEl) {{\n",
       "    x.observe(outputEl, {childList: true});\n",
       "}}\n",
       "\n",
       "                        })                };                });            </script>        </div>"
      ]
     },
     "metadata": {},
     "output_type": "display_data"
    }
   ],
   "source": [
    "ssw = [dict(\n",
    "    type = 'choropleth',\n",
    "    locations = dataset['countries'],\n",
    "    locationmode = 'country names',\n",
    "    z = dataset['pf_ss_women'],\n",
    "    text = dataset['countries'],\n",
    "    colorscale = [[0,\"rgb(5, 10, 172)\"],[2,\"rgb(40, 60, 190)\"],[4,\"rgb(70, 100, 245)\"],\\\n",
    "            [6,\"rgb(90, 120, 245)\"],[8,\"rgb(106, 137, 247)\"],[10,\"rgb(220, 220, 220)\"]],\n",
    "    autocolorscale = False,\n",
    "    reversescale = True,\n",
    "    marker = dict(line = dict(color = 'rgb(150,150,150)',width = 0.5 )),\n",
    "    colorbar = dict(autotick=False, tickprefix= '', title='Security of Women'),\n",
    ")]\n",
    "\n",
    "layout = dict(\n",
    "    title = 'Securtiy of Women in 2016',\n",
    "    geo = dict(showframe=False, showcoastlines=True, projection=dict(type='Mercator'))\n",
    ")\n",
    "\n",
    "fig = dict(data=ssw, layout=layout)\n",
    "py.iplot( fig, validate=False, filename='security-of-women')"
   ]
  },
  {
   "cell_type": "code",
   "execution_count": null,
   "metadata": {},
   "outputs": [],
   "source": []
  }
 ],
 "metadata": {
  "kernelspec": {
   "display_name": "Python 3",
   "language": "python",
   "name": "python3"
  },
  "language_info": {
   "codemirror_mode": {
    "name": "ipython",
    "version": 3
   },
   "file_extension": ".py",
   "mimetype": "text/x-python",
   "name": "python",
   "nbconvert_exporter": "python",
   "pygments_lexer": "ipython3",
   "version": "3.7.4"
  }
 },
 "nbformat": 4,
 "nbformat_minor": 2
}
